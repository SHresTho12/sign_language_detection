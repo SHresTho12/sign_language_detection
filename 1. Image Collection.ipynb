{
 "cells": [
  {
   "cell_type": "markdown",
   "metadata": {},
   "source": [
    "# 1. Import Dependencies"
   ]
  },
  {
   "cell_type": "code",
   "execution_count": 2,
   "metadata": {},
   "outputs": [
    {
     "name": "stdout",
     "output_type": "stream",
     "text": [
      "Collecting opencv-python\n",
      "  Downloading opencv_python-4.6.0.66-cp36-abi3-macosx_10_15_x86_64.whl (46.4 MB)\n",
      "\u001b[2K     \u001b[38;2;114;156;31m━━━━━━━━━━━━━━━━━━━━━━━━━━━━━━━━━━━━━━━━\u001b[0m \u001b[32m46.4/46.4 MB\u001b[0m \u001b[31m5.9 MB/s\u001b[0m eta \u001b[36m0:00:00\u001b[0mm eta \u001b[36m0:00:01\u001b[0m[36m0:00:01\u001b[0m\n",
      "\u001b[?25hCollecting numpy>=1.19.3\n",
      "  Downloading numpy-1.23.4-cp39-cp39-macosx_10_9_x86_64.whl (18.1 MB)\n",
      "\u001b[2K     \u001b[38;2;114;156;31m━━━━━━━━━━━━━━━━━━━━━━━━━━━━━━━━━━━━━━━━\u001b[0m \u001b[32m18.1/18.1 MB\u001b[0m \u001b[31m4.5 MB/s\u001b[0m eta \u001b[36m0:00:00\u001b[0mm eta \u001b[36m0:00:01\u001b[0m0:01\u001b[0m:01\u001b[0m\n",
      "\u001b[?25hInstalling collected packages: numpy, opencv-python\n",
      "Successfully installed numpy-1.23.4 opencv-python-4.6.0.66\n"
     ]
    }
   ],
   "source": [
    "!pip install opencv-python"
   ]
  },
  {
   "cell_type": "code",
   "execution_count": 1,
   "metadata": {},
   "outputs": [],
   "source": [
    "# Import opencv\n",
    "import cv2 \n",
    "\n",
    "# Import uuid\n",
    "import uuid\n",
    "\n",
    "# Import Operating System\n",
    "import os\n",
    "\n",
    "# Import time\n",
    "import time"
   ]
  },
  {
   "cell_type": "markdown",
   "metadata": {},
   "source": [
    "# 2. Define Images to Collect"
   ]
  },
  {
   "cell_type": "code",
   "execution_count": 2,
   "metadata": {},
   "outputs": [],
   "source": [
    "labels = ['thumbsup', 'thumbsdown', 'thankyou', 'livelong','0','1','2','3','4','5','6']\n",
    "number_imgs = 10"
   ]
  },
  {
   "cell_type": "markdown",
   "metadata": {},
   "source": [
    "# 3. Setup Folders "
   ]
  },
  {
   "cell_type": "code",
   "execution_count": 3,
   "metadata": {},
   "outputs": [],
   "source": [
    "IMAGES_PATH = os.path.join('Tensorflow', 'workspace', 'images', 'collectedimages')"
   ]
  },
  {
   "cell_type": "code",
   "execution_count": 4,
   "metadata": {},
   "outputs": [
    {
     "data": {
      "text/plain": [
       "'posix'"
      ]
     },
     "execution_count": 4,
     "metadata": {},
     "output_type": "execute_result"
    }
   ],
   "source": [
    "os.name"
   ]
  },
  {
   "cell_type": "code",
   "execution_count": 14,
   "metadata": {},
   "outputs": [],
   "source": [
    "if not os.path.exists(IMAGES_PATH):\n",
    "    if os.name == 'posix':\n",
    "        !mkdir -p {IMAGES_PATH}\n",
    "    if os.name == 'nt':\n",
    "         !mkdir {IMAGES_PATH}\n",
    "for label in labels:\n",
    "    path = os.path.join(IMAGES_PATH, label)\n",
    "    if not os.path.exists(path):\n",
    "        !mkdir {path}"
   ]
  },
  {
   "cell_type": "code",
   "execution_count": null,
   "metadata": {},
   "outputs": [],
   "source": []
  },
  {
   "cell_type": "markdown",
   "metadata": {},
   "source": [
    "# 4. Capture Images"
   ]
  },
  {
   "cell_type": "code",
   "execution_count": 16,
   "metadata": {},
   "outputs": [
    {
     "name": "stdout",
     "output_type": "stream",
     "text": [
      "Collecting images for thumbsup\n",
      "Collecting image 0\n",
      "Collecting image 1\n",
      "Collecting image 2\n",
      "Collecting image 3\n",
      "Collecting image 4\n",
      "Collecting image 5\n",
      "Collecting image 6\n",
      "Collecting image 7\n",
      "Collecting image 8\n",
      "Collecting image 9\n",
      "Collecting images for thumbsdown\n",
      "Collecting image 0\n",
      "Collecting image 1\n",
      "Collecting image 2\n",
      "Collecting image 3\n",
      "Collecting image 4\n",
      "Collecting image 5\n",
      "Collecting image 6\n",
      "Collecting image 7\n",
      "Collecting image 8\n",
      "Collecting image 9\n",
      "Collecting images for thankyou\n",
      "Collecting image 0\n",
      "Collecting image 1\n",
      "Collecting image 2\n",
      "Collecting image 3\n",
      "Collecting image 4\n",
      "Collecting image 5\n",
      "Collecting image 6\n",
      "Collecting image 7\n",
      "Collecting image 8\n",
      "Collecting image 9\n",
      "Collecting images for livelong\n",
      "Collecting image 0\n",
      "Collecting image 1\n",
      "Collecting image 2\n",
      "Collecting image 3\n",
      "Collecting image 4\n",
      "Collecting image 5\n",
      "Collecting image 6\n",
      "Collecting image 7\n",
      "Collecting image 8\n",
      "Collecting image 9\n",
      "Collecting images for 0\n",
      "Collecting image 0\n",
      "Collecting image 1\n",
      "Collecting image 2\n",
      "Collecting image 3\n",
      "Collecting image 4\n",
      "Collecting image 5\n",
      "Collecting image 6\n",
      "Collecting image 7\n",
      "Collecting image 8\n",
      "Collecting image 9\n",
      "Collecting images for 1\n",
      "Collecting image 0\n",
      "Collecting image 1\n",
      "Collecting image 2\n",
      "Collecting image 3\n",
      "Collecting image 4\n",
      "Collecting image 5\n",
      "Collecting image 6\n",
      "Collecting image 7\n",
      "Collecting image 8\n",
      "Collecting image 9\n",
      "Collecting images for 2\n",
      "Collecting image 0\n",
      "Collecting image 1\n",
      "Collecting image 2\n",
      "Collecting image 3\n",
      "Collecting image 4\n",
      "Collecting image 5\n",
      "Collecting image 6\n",
      "Collecting image 7\n",
      "Collecting image 8\n",
      "Collecting image 9\n",
      "Collecting images for 3\n",
      "Collecting image 0\n",
      "Collecting image 1\n",
      "Collecting image 2\n",
      "Collecting image 3\n",
      "Collecting image 4\n",
      "Collecting image 5\n",
      "Collecting image 6\n",
      "Collecting image 7\n",
      "Collecting image 8\n",
      "Collecting image 9\n",
      "Collecting images for 4\n",
      "Collecting image 0\n",
      "Collecting image 1\n",
      "Collecting image 2\n",
      "Collecting image 3\n",
      "Collecting image 4\n",
      "Collecting image 5\n",
      "Collecting image 6\n",
      "Collecting image 7\n",
      "Collecting image 8\n",
      "Collecting image 9\n",
      "Collecting images for 5\n",
      "Collecting image 0\n",
      "Collecting image 1\n",
      "Collecting image 2\n",
      "Collecting image 3\n",
      "Collecting image 4\n",
      "Collecting image 5\n",
      "Collecting image 6\n",
      "Collecting image 7\n",
      "Collecting image 8\n",
      "Collecting image 9\n",
      "Collecting images for 6\n",
      "Collecting image 0\n",
      "Collecting image 1\n",
      "Collecting image 2\n",
      "Collecting image 3\n",
      "Collecting image 4\n",
      "Collecting image 5\n",
      "Collecting image 6\n",
      "Collecting image 7\n",
      "Collecting image 8\n",
      "Collecting image 9\n"
     ]
    }
   ],
   "source": [
    "for label in labels:\n",
    "    cap = cv2.VideoCapture(0)\n",
    "    print('Collecting images for {}'.format(label))\n",
    "    time.sleep(5)\n",
    "    for imgnum in range(number_imgs):\n",
    "        print('Collecting image {}'.format(imgnum))\n",
    "        ret, frame = cap.read()\n",
    "        imgname = os.path.join(IMAGES_PATH,label,label+'.'+'{}.jpg'.format(str(uuid.uuid1())))\n",
    "        cv2.imwrite(imgname, frame)\n",
    "        cv2.imshow('frame', frame)\n",
    "        time.sleep(2)\n",
    "\n",
    "        if cv2.waitKey(1) & 0xFF == ord('q'):\n",
    "            break\n",
    "cap.release()\n",
    "cv2.destroyAllWindows()"
   ]
  },
  {
   "cell_type": "markdown",
   "metadata": {},
   "source": [
    "# 5. Image Labelling"
   ]
  },
  {
   "cell_type": "code",
   "execution_count": 17,
   "metadata": {},
   "outputs": [
    {
     "name": "stdout",
     "output_type": "stream",
     "text": [
      "Collecting pyqt5\n",
      "  Using cached PyQt5-5.15.7-cp37-abi3-macosx_10_13_x86_64.whl (7.0 MB)\n",
      "Requirement already satisfied: lxml in /Users/shrestho12/opt/anaconda3/lib/python3.9/site-packages (4.8.0)\n",
      "Collecting lxml\n",
      "  Using cached lxml-4.9.1-cp39-cp39-macosx_10_15_x86_64.whl (4.6 MB)\n",
      "Collecting PyQt5-sip<13,>=12.11\n",
      "  Using cached PyQt5_sip-12.11.0-cp39-cp39-macosx_10_9_universal2.whl (142 kB)\n",
      "Collecting PyQt5-Qt5>=5.15.0\n",
      "  Using cached PyQt5_Qt5-5.15.2-py3-none-macosx_10_13_intel.whl (40.5 MB)\n",
      "Installing collected packages: PyQt5-Qt5, PyQt5-sip, lxml, pyqt5\n",
      "  Attempting uninstall: lxml\n",
      "    Found existing installation: lxml 4.8.0\n",
      "    Uninstalling lxml-4.8.0:\n",
      "      Successfully uninstalled lxml-4.8.0\n",
      "\u001b[31mERROR: pip's dependency resolver does not currently take into account all the packages that are installed. This behaviour is the source of the following dependency conflicts.\n",
      "spyder 5.1.5 requires pyqtwebengine<5.13, which is not installed.\n",
      "spyder 5.1.5 requires pyqt5<5.13, but you have pyqt5 5.15.7 which is incompatible.\u001b[0m\u001b[31m\n",
      "\u001b[0mSuccessfully installed PyQt5-Qt5-5.15.2 PyQt5-sip-12.11.0 lxml-4.9.1 pyqt5-5.15.7\n"
     ]
    }
   ],
   "source": [
    "!pip install --upgrade pyqt5 lxml"
   ]
  },
  {
   "cell_type": "code",
   "execution_count": 20,
   "metadata": {},
   "outputs": [],
   "source": [
    "LABELIMG_PATH = os.path.join('Tensorflow', 'labelimg')"
   ]
  },
  {
   "cell_type": "code",
   "execution_count": 21,
   "metadata": {},
   "outputs": [],
   "source": [
    "if not os.path.exists(LABELIMG_PATH):\n",
    "    !mkdir {LABELIMG_PATH}\n",
    "    !git clone https://github.com/tzutalin/labelImg {LABELIMG_PATH}"
   ]
  },
  {
   "cell_type": "code",
   "execution_count": 22,
   "metadata": {},
   "outputs": [
    {
     "name": "stdout",
     "output_type": "stream",
     "text": [
      "pyrcc5 -o libs/resources.py resources.qrc\r\n"
     ]
    }
   ],
   "source": [
    "if os.name == 'posix':\n",
    "    !cd {LABELIMG_PATH} && make qt5py3\n",
    "if os.name =='nt':\n",
    "    !cd {LABELIMG_PATH} && pyrcc5 -o libs/resources.py resources.qrc"
   ]
  },
  {
   "cell_type": "code",
   "execution_count": null,
   "metadata": {},
   "outputs": [
    {
     "name": "stdout",
     "output_type": "stream",
     "text": [
      "Cancel creation.\n",
      "Image:/Volumes/Study/University/Semester 5/ML LAB/Project/sign_language_detection/Tensorflow/workspace/images/collectedimages/livelong/livelong.4b1250da-674e-11ed-aac5-acde48001122.jpg -> Annotation:/Volumes/Study/University/Semester 5/ML LAB/Project/sign_language_detection/Tensorflow/workspace/images/collectedimages/livelong/livelong.4b1250da-674e-11ed-aac5-acde48001122.xml\n",
      "Image:/Volumes/Study/University/Semester 5/ML LAB/Project/sign_language_detection/Tensorflow/workspace/images/collectedimages/livelong/livelong.4b1250da-674e-11ed-aac5-acde48001122.jpg -> Annotation:/Volumes/Study/University/Semester 5/ML LAB/Project/sign_language_detection/Tensorflow/workspace/images/collectedimages/livelong/livelong.4b1250da-674e-11ed-aac5-acde48001122.xml\n",
      "Image:/Volumes/Study/University/Semester 5/ML LAB/Project/sign_language_detection/Tensorflow/workspace/images/collectedimages/livelong/livelong.4b1250da-674e-11ed-aac5-acde48001122.jpg -> Annotation:/Volumes/Study/University/Semester 5/ML LAB/Project/sign_language_detection/Tensorflow/workspace/images/collectedimages/livelong/livelong.4b1250da-674e-11ed-aac5-acde48001122.xml\n",
      "Image:/Volumes/Study/University/Semester 5/ML LAB/Project/sign_language_detection/Tensorflow/workspace/images/collectedimages/livelong/livelong.4c4d8e1a-674e-11ed-aac5-acde48001122.jpg -> Annotation:/Volumes/Study/University/Semester 5/ML LAB/Project/sign_language_detection/Tensorflow/workspace/images/collectedimages/livelong/livelong.4c4d8e1a-674e-11ed-aac5-acde48001122.xml\n",
      "Image:/Volumes/Study/University/Semester 5/ML LAB/Project/sign_language_detection/Tensorflow/workspace/images/collectedimages/livelong/livelong.4d881642-674e-11ed-aac5-acde48001122.jpg -> Annotation:/Volumes/Study/University/Semester 5/ML LAB/Project/sign_language_detection/Tensorflow/workspace/images/collectedimages/livelong/livelong.4d881642-674e-11ed-aac5-acde48001122.xml\n",
      "Cancel creation.\n",
      "Image:/Volumes/Study/University/Semester 5/ML LAB/Project/sign_language_detection/Tensorflow/workspace/images/collectedimages/livelong/livelong.4ec35170-674e-11ed-aac5-acde48001122.jpg -> Annotation:/Volumes/Study/University/Semester 5/ML LAB/Project/sign_language_detection/Tensorflow/workspace/images/collectedimages/livelong/livelong.4ec35170-674e-11ed-aac5-acde48001122.xml\n",
      "Image:/Volumes/Study/University/Semester 5/ML LAB/Project/sign_language_detection/Tensorflow/workspace/images/collectedimages/livelong/livelong.4ffeb5c0-674e-11ed-aac5-acde48001122.jpg -> Annotation:/Volumes/Study/University/Semester 5/ML LAB/Project/sign_language_detection/Tensorflow/workspace/images/collectedimages/livelong/livelong.4ffeb5c0-674e-11ed-aac5-acde48001122.xml\n",
      "Cancel creation.\n",
      "Image:/Volumes/Study/University/Semester 5/ML LAB/Project/sign_language_detection/Tensorflow/workspace/images/collectedimages/livelong/livelong.49d6e9a6-674e-11ed-aac5-acde48001122.jpg -> Annotation:/Volumes/Study/University/Semester 5/ML LAB/Project/sign_language_detection/Tensorflow/workspace/images/collectedimages/livelong/livelong.49d6e9a6-674e-11ed-aac5-acde48001122.xml\n",
      "Image:/Volumes/Study/University/Semester 5/ML LAB/Project/sign_language_detection/Tensorflow/workspace/images/collectedimages/livelong/livelong.489b983e-674e-11ed-aac5-acde48001122.jpg -> Annotation:/Volumes/Study/University/Semester 5/ML LAB/Project/sign_language_detection/Tensorflow/workspace/images/collectedimages/livelong/livelong.489b983e-674e-11ed-aac5-acde48001122.xml\n",
      "Image:/Volumes/Study/University/Semester 5/ML LAB/Project/sign_language_detection/Tensorflow/workspace/images/collectedimages/livelong/livelong.47606198-674e-11ed-aac5-acde48001122.jpg -> Annotation:/Volumes/Study/University/Semester 5/ML LAB/Project/sign_language_detection/Tensorflow/workspace/images/collectedimages/livelong/livelong.47606198-674e-11ed-aac5-acde48001122.xml\n",
      "Image:/Volumes/Study/University/Semester 5/ML LAB/Project/sign_language_detection/Tensorflow/workspace/images/collectedimages/thankyou/thankyou.3a7cbeae-674e-11ed-aac5-acde48001122.jpg -> Annotation:/Volumes/Study/University/Semester 5/ML LAB/Project/sign_language_detection/Tensorflow/workspace/images/collectedimages/thankyou/thankyou.3a7cbeae-674e-11ed-aac5-acde48001122.xml\n",
      "Image:/Volumes/Study/University/Semester 5/ML LAB/Project/sign_language_detection/Tensorflow/workspace/images/collectedimages/thankyou/thankyou.3bb7d97a-674e-11ed-aac5-acde48001122.jpg -> Annotation:/Volumes/Study/University/Semester 5/ML LAB/Project/sign_language_detection/Tensorflow/workspace/images/collectedimages/thankyou/thankyou.3bb7d97a-674e-11ed-aac5-acde48001122.xml\n",
      "Image:/Volumes/Study/University/Semester 5/ML LAB/Project/sign_language_detection/Tensorflow/workspace/images/collectedimages/thankyou/thankyou.3cf2f3ec-674e-11ed-aac5-acde48001122.jpg -> Annotation:/Volumes/Study/University/Semester 5/ML LAB/Project/sign_language_detection/Tensorflow/workspace/images/collectedimages/thankyou/thankyou.3cf2f3ec-674e-11ed-aac5-acde48001122.xml\n",
      "Image:/Volumes/Study/University/Semester 5/ML LAB/Project/sign_language_detection/Tensorflow/workspace/images/collectedimages/thankyou/thankyou.3bb7d97a-674e-11ed-aac5-acde48001122.jpg -> Annotation:/Volumes/Study/University/Semester 5/ML LAB/Project/sign_language_detection/Tensorflow/workspace/images/collectedimages/thankyou/thankyou.3bb7d97a-674e-11ed-aac5-acde48001122.xml\n",
      "Image:/Volumes/Study/University/Semester 5/ML LAB/Project/sign_language_detection/Tensorflow/workspace/images/collectedimages/thankyou/thankyou.3a7cbeae-674e-11ed-aac5-acde48001122.jpg -> Annotation:/Volumes/Study/University/Semester 5/ML LAB/Project/sign_language_detection/Tensorflow/workspace/images/collectedimages/thankyou/thankyou.3a7cbeae-674e-11ed-aac5-acde48001122.xml\n",
      "Image:/Volumes/Study/University/Semester 5/ML LAB/Project/sign_language_detection/Tensorflow/workspace/images/collectedimages/thankyou/thankyou.3cf2f3ec-674e-11ed-aac5-acde48001122.jpg -> Annotation:/Volumes/Study/University/Semester 5/ML LAB/Project/sign_language_detection/Tensorflow/workspace/images/collectedimages/thankyou/thankyou.3cf2f3ec-674e-11ed-aac5-acde48001122.xml\n",
      "Cancel creation.\n",
      "Image:/Volumes/Study/University/Semester 5/ML LAB/Project/sign_language_detection/Tensorflow/workspace/images/collectedimages/thankyou/thankyou.3e2ec862-674e-11ed-aac5-acde48001122.jpg -> Annotation:/Volumes/Study/University/Semester 5/ML LAB/Project/sign_language_detection/Tensorflow/workspace/images/collectedimages/thankyou/thankyou.3e2ec862-674e-11ed-aac5-acde48001122.xml\n",
      "Image:/Volumes/Study/University/Semester 5/ML LAB/Project/sign_language_detection/Tensorflow/workspace/images/collectedimages/thankyou/thankyou.3f69851e-674e-11ed-aac5-acde48001122.jpg -> Annotation:/Volumes/Study/University/Semester 5/ML LAB/Project/sign_language_detection/Tensorflow/workspace/images/collectedimages/thankyou/thankyou.3f69851e-674e-11ed-aac5-acde48001122.xml\n",
      "Image:/Volumes/Study/University/Semester 5/ML LAB/Project/sign_language_detection/Tensorflow/workspace/images/collectedimages/thankyou/thankyou.36cbbfbc-674e-11ed-aac5-acde48001122.jpg -> Annotation:/Volumes/Study/University/Semester 5/ML LAB/Project/sign_language_detection/Tensorflow/workspace/images/collectedimages/thankyou/thankyou.36cbbfbc-674e-11ed-aac5-acde48001122.xml\n",
      "Image:/Volumes/Study/University/Semester 5/ML LAB/Project/sign_language_detection/Tensorflow/workspace/images/collectedimages/thankyou/thankyou.40a500e8-674e-11ed-aac5-acde48001122.jpg -> Annotation:/Volumes/Study/University/Semester 5/ML LAB/Project/sign_language_detection/Tensorflow/workspace/images/collectedimages/thankyou/thankyou.40a500e8-674e-11ed-aac5-acde48001122.xml\n",
      "Image:/Volumes/Study/University/Semester 5/ML LAB/Project/sign_language_detection/Tensorflow/workspace/images/collectedimages/thankyou/thankyou.3806f568-674e-11ed-aac5-acde48001122.jpg -> Annotation:/Volumes/Study/University/Semester 5/ML LAB/Project/sign_language_detection/Tensorflow/workspace/images/collectedimages/thankyou/thankyou.3806f568-674e-11ed-aac5-acde48001122.xml\n",
      "Image:/Volumes/Study/University/Semester 5/ML LAB/Project/sign_language_detection/Tensorflow/workspace/images/collectedimages/thankyou/thankyou.3941c43a-674e-11ed-aac5-acde48001122.jpg -> Annotation:/Volumes/Study/University/Semester 5/ML LAB/Project/sign_language_detection/Tensorflow/workspace/images/collectedimages/thankyou/thankyou.3941c43a-674e-11ed-aac5-acde48001122.xml\n"
     ]
    },
    {
     "name": "stdout",
     "output_type": "stream",
     "text": [
      "Image:/Volumes/Study/University/Semester 5/ML LAB/Project/sign_language_detection/Tensorflow/workspace/images/collectedimages/thankyou/thankyou.35906058-674e-11ed-aac5-acde48001122.jpg -> Annotation:/Volumes/Study/University/Semester 5/ML LAB/Project/sign_language_detection/Tensorflow/workspace/images/collectedimages/thankyou/thankyou.35906058-674e-11ed-aac5-acde48001122.xml\n",
      "Image:/Volumes/Study/University/Semester 5/ML LAB/Project/sign_language_detection/Tensorflow/workspace/images/collectedimages/thumbsdown/thumbsdown.2b22cc0a-674e-11ed-aac5-acde48001122.jpg -> Annotation:/Volumes/Study/University/Semester 5/ML LAB/Project/sign_language_detection/Tensorflow/workspace/images/collectedimages/thumbsdown/thumbsdown.2b22cc0a-674e-11ed-aac5-acde48001122.xml\n",
      "Image:/Volumes/Study/University/Semester 5/ML LAB/Project/sign_language_detection/Tensorflow/workspace/images/collectedimages/thumbsdown/thumbsdown.2c5dfbf8-674e-11ed-aac5-acde48001122.jpg -> Annotation:/Volumes/Study/University/Semester 5/ML LAB/Project/sign_language_detection/Tensorflow/workspace/images/collectedimages/thumbsdown/thumbsdown.2c5dfbf8-674e-11ed-aac5-acde48001122.xml\n",
      "Image:/Volumes/Study/University/Semester 5/ML LAB/Project/sign_language_detection/Tensorflow/workspace/images/collectedimages/thumbsdown/thumbsdown.2d9879b2-674e-11ed-aac5-acde48001122.jpg -> Annotation:/Volumes/Study/University/Semester 5/ML LAB/Project/sign_language_detection/Tensorflow/workspace/images/collectedimages/thumbsdown/thumbsdown.2d9879b2-674e-11ed-aac5-acde48001122.xml\n",
      "Image:/Volumes/Study/University/Semester 5/ML LAB/Project/sign_language_detection/Tensorflow/workspace/images/collectedimages/thumbsdown/thumbsdown.2ed41598-674e-11ed-aac5-acde48001122.jpg -> Annotation:/Volumes/Study/University/Semester 5/ML LAB/Project/sign_language_detection/Tensorflow/workspace/images/collectedimages/thumbsdown/thumbsdown.2ed41598-674e-11ed-aac5-acde48001122.xml\n",
      "Image:/Volumes/Study/University/Semester 5/ML LAB/Project/sign_language_detection/Tensorflow/workspace/images/collectedimages/thumbsdown/thumbsdown.28abfac8-674e-11ed-aac5-acde48001122.jpg -> Annotation:/Volumes/Study/University/Semester 5/ML LAB/Project/sign_language_detection/Tensorflow/workspace/images/collectedimages/thumbsdown/thumbsdown.28abfac8-674e-11ed-aac5-acde48001122.xml\n",
      "Image:/Volumes/Study/University/Semester 5/ML LAB/Project/sign_language_detection/Tensorflow/workspace/images/collectedimages/thumbsdown/thumbsdown.29e7eece-674e-11ed-aac5-acde48001122.jpg -> Annotation:/Volumes/Study/University/Semester 5/ML LAB/Project/sign_language_detection/Tensorflow/workspace/images/collectedimages/thumbsdown/thumbsdown.29e7eece-674e-11ed-aac5-acde48001122.xml\n",
      "Image:/Volumes/Study/University/Semester 5/ML LAB/Project/sign_language_detection/Tensorflow/workspace/images/collectedimages/thumbsdown/thumbsdown.263675ca-674e-11ed-aac5-acde48001122.jpg -> Annotation:/Volumes/Study/University/Semester 5/ML LAB/Project/sign_language_detection/Tensorflow/workspace/images/collectedimages/thumbsdown/thumbsdown.263675ca-674e-11ed-aac5-acde48001122.xml\n",
      "Cancel creation.\n",
      "Image:/Volumes/Study/University/Semester 5/ML LAB/Project/sign_language_detection/Tensorflow/workspace/images/collectedimages/thumbsdown/thumbsdown.27711670-674e-11ed-aac5-acde48001122.jpg -> Annotation:/Volumes/Study/University/Semester 5/ML LAB/Project/sign_language_detection/Tensorflow/workspace/images/collectedimages/thumbsdown/thumbsdown.27711670-674e-11ed-aac5-acde48001122.xml\n",
      "Image:/Volumes/Study/University/Semester 5/ML LAB/Project/sign_language_detection/Tensorflow/workspace/images/collectedimages/thumbsup/thumbsup.1a8846d6-674e-11ed-aac5-acde48001122.jpg -> Annotation:/Volumes/Study/University/Semester 5/ML LAB/Project/sign_language_detection/Tensorflow/workspace/images/collectedimages/thumbsup/thumbsup.1a8846d6-674e-11ed-aac5-acde48001122.xml\n",
      "Image:/Volumes/Study/University/Semester 5/ML LAB/Project/sign_language_detection/Tensorflow/workspace/images/collectedimages/thumbsup/thumbsup.1bc33a74-674e-11ed-aac5-acde48001122.jpg -> Annotation:/Volumes/Study/University/Semester 5/ML LAB/Project/sign_language_detection/Tensorflow/workspace/images/collectedimages/thumbsup/thumbsup.1bc33a74-674e-11ed-aac5-acde48001122.xml\n",
      "Image:/Volumes/Study/University/Semester 5/ML LAB/Project/sign_language_detection/Tensorflow/workspace/images/collectedimages/thumbsup/thumbsup.1cff17c8-674e-11ed-aac5-acde48001122.jpg -> Annotation:/Volumes/Study/University/Semester 5/ML LAB/Project/sign_language_detection/Tensorflow/workspace/images/collectedimages/thumbsup/thumbsup.1cff17c8-674e-11ed-aac5-acde48001122.xml\n",
      "Image:/Volumes/Study/University/Semester 5/ML LAB/Project/sign_language_detection/Tensorflow/workspace/images/collectedimages/thumbsup/thumbsup.1f74fefa-674e-11ed-aac5-acde48001122.jpg -> Annotation:/Volumes/Study/University/Semester 5/ML LAB/Project/sign_language_detection/Tensorflow/workspace/images/collectedimages/thumbsup/thumbsup.1f74fefa-674e-11ed-aac5-acde48001122.xml\n",
      "Image:/Volumes/Study/University/Semester 5/ML LAB/Project/sign_language_detection/Tensorflow/workspace/images/collectedimages/thumbsup/thumbsup.16be0996-674e-11ed-aac5-acde48001122.jpg -> Annotation:/Volumes/Study/University/Semester 5/ML LAB/Project/sign_language_detection/Tensorflow/workspace/images/collectedimages/thumbsup/thumbsup.16be0996-674e-11ed-aac5-acde48001122.xml\n",
      "Image:/Volumes/Study/University/Semester 5/ML LAB/Project/sign_language_detection/Tensorflow/workspace/images/collectedimages/thumbsup/thumbsup.20b07b78-674e-11ed-aac5-acde48001122.jpg -> Annotation:/Volumes/Study/University/Semester 5/ML LAB/Project/sign_language_detection/Tensorflow/workspace/images/collectedimages/thumbsup/thumbsup.20b07b78-674e-11ed-aac5-acde48001122.xml\n",
      "Image:/Volumes/Study/University/Semester 5/ML LAB/Project/sign_language_detection/Tensorflow/workspace/images/collectedimages/thumbsup/thumbsup.21ec06ce-674e-11ed-aac5-acde48001122.jpg -> Annotation:/Volumes/Study/University/Semester 5/ML LAB/Project/sign_language_detection/Tensorflow/workspace/images/collectedimages/thumbsup/thumbsup.21ec06ce-674e-11ed-aac5-acde48001122.xml\n",
      "Image:/Volumes/Study/University/Semester 5/ML LAB/Project/sign_language_detection/Tensorflow/workspace/images/collectedimages/thumbsup/thumbsup.194d031a-674e-11ed-aac5-acde48001122.jpg -> Annotation:/Volumes/Study/University/Semester 5/ML LAB/Project/sign_language_detection/Tensorflow/workspace/images/collectedimages/thumbsup/thumbsup.194d031a-674e-11ed-aac5-acde48001122.xml\n",
      "Image:/Volumes/Study/University/Semester 5/ML LAB/Project/sign_language_detection/Tensorflow/workspace/images/collectedimages/thumbsup/thumbsup.181267b0-674e-11ed-aac5-acde48001122.jpg -> Annotation:/Volumes/Study/University/Semester 5/ML LAB/Project/sign_language_detection/Tensorflow/workspace/images/collectedimages/thumbsup/thumbsup.181267b0-674e-11ed-aac5-acde48001122.xml\n",
      "Image:/Volumes/Study/University/Semester 5/ML LAB/Project/sign_language_detection/Tensorflow/workspace/images/collectedimages/0/0.5a763fa0-674e-11ed-aac5-acde48001122.jpg -> Annotation:/Volumes/Study/University/Semester 5/ML LAB/Project/sign_language_detection/Tensorflow/workspace/images/collectedimages/0/0.5a763fa0-674e-11ed-aac5-acde48001122.xml\n",
      "Image:/Volumes/Study/University/Semester 5/ML LAB/Project/sign_language_detection/Tensorflow/workspace/images/collectedimages/0/0.5bb16430-674e-11ed-aac5-acde48001122.jpg -> Annotation:/Volumes/Study/University/Semester 5/ML LAB/Project/sign_language_detection/Tensorflow/workspace/images/collectedimages/0/0.5bb16430-674e-11ed-aac5-acde48001122.xml\n",
      "Image:/Volumes/Study/University/Semester 5/ML LAB/Project/sign_language_detection/Tensorflow/workspace/images/collectedimages/0/0.5cecd2b2-674e-11ed-aac5-acde48001122.jpg -> Annotation:/Volumes/Study/University/Semester 5/ML LAB/Project/sign_language_detection/Tensorflow/workspace/images/collectedimages/0/0.5cecd2b2-674e-11ed-aac5-acde48001122.xml\n",
      "Image:/Volumes/Study/University/Semester 5/ML LAB/Project/sign_language_detection/Tensorflow/workspace/images/collectedimages/0/0.5e27aa3a-674e-11ed-aac5-acde48001122.jpg -> Annotation:/Volumes/Study/University/Semester 5/ML LAB/Project/sign_language_detection/Tensorflow/workspace/images/collectedimages/0/0.5e27aa3a-674e-11ed-aac5-acde48001122.xml\n"
     ]
    },
    {
     "name": "stdout",
     "output_type": "stream",
     "text": [
      "Image:/Volumes/Study/University/Semester 5/ML LAB/Project/sign_language_detection/Tensorflow/workspace/images/collectedimages/0/0.5f629cc0-674e-11ed-aac5-acde48001122.jpg -> Annotation:/Volumes/Study/University/Semester 5/ML LAB/Project/sign_language_detection/Tensorflow/workspace/images/collectedimages/0/0.5f629cc0-674e-11ed-aac5-acde48001122.xml\n",
      "Image:/Volumes/Study/University/Semester 5/ML LAB/Project/sign_language_detection/Tensorflow/workspace/images/collectedimages/0/0.56c196a2-674e-11ed-aac5-acde48001122.jpg -> Annotation:/Volumes/Study/University/Semester 5/ML LAB/Project/sign_language_detection/Tensorflow/workspace/images/collectedimages/0/0.56c196a2-674e-11ed-aac5-acde48001122.xml\n",
      "Image:/Volumes/Study/University/Semester 5/ML LAB/Project/sign_language_detection/Tensorflow/workspace/images/collectedimages/0/0.593aae64-674e-11ed-aac5-acde48001122.jpg -> Annotation:/Volumes/Study/University/Semester 5/ML LAB/Project/sign_language_detection/Tensorflow/workspace/images/collectedimages/0/0.593aae64-674e-11ed-aac5-acde48001122.xml\n",
      "Image:/Volumes/Study/University/Semester 5/ML LAB/Project/sign_language_detection/Tensorflow/workspace/images/collectedimages/0/0.5584b90e-674e-11ed-aac5-acde48001122.jpg -> Annotation:/Volumes/Study/University/Semester 5/ML LAB/Project/sign_language_detection/Tensorflow/workspace/images/collectedimages/0/0.5584b90e-674e-11ed-aac5-acde48001122.xml\n",
      "Image:/Volumes/Study/University/Semester 5/ML LAB/Project/sign_language_detection/Tensorflow/workspace/images/collectedimages/0/0.54490ab8-674e-11ed-aac5-acde48001122.jpg -> Annotation:/Volumes/Study/University/Semester 5/ML LAB/Project/sign_language_detection/Tensorflow/workspace/images/collectedimages/0/0.54490ab8-674e-11ed-aac5-acde48001122.xml\n",
      "Image:/Volumes/Study/University/Semester 5/ML LAB/Project/sign_language_detection/Tensorflow/workspace/images/collectedimages/0/0.58001002-674e-11ed-aac5-acde48001122.jpg -> Annotation:/Volumes/Study/University/Semester 5/ML LAB/Project/sign_language_detection/Tensorflow/workspace/images/collectedimages/0/0.58001002-674e-11ed-aac5-acde48001122.xml\n",
      "Image:/Volumes/Study/University/Semester 5/ML LAB/Project/sign_language_detection/Tensorflow/workspace/images/collectedimages/1/1.6b062a7e-674e-11ed-aac5-acde48001122.jpg -> Annotation:/Volumes/Study/University/Semester 5/ML LAB/Project/sign_language_detection/Tensorflow/workspace/images/collectedimages/1/1.6b062a7e-674e-11ed-aac5-acde48001122.xml\n",
      "Image:/Volumes/Study/University/Semester 5/ML LAB/Project/sign_language_detection/Tensorflow/workspace/images/collectedimages/1/1.6c41ef36-674e-11ed-aac5-acde48001122.jpg -> Annotation:/Volumes/Study/University/Semester 5/ML LAB/Project/sign_language_detection/Tensorflow/workspace/images/collectedimages/1/1.6c41ef36-674e-11ed-aac5-acde48001122.xml\n",
      "Image:/Volumes/Study/University/Semester 5/ML LAB/Project/sign_language_detection/Tensorflow/workspace/images/collectedimages/1/1.6d7c4bbc-674e-11ed-aac5-acde48001122.jpg -> Annotation:/Volumes/Study/University/Semester 5/ML LAB/Project/sign_language_detection/Tensorflow/workspace/images/collectedimages/1/1.6d7c4bbc-674e-11ed-aac5-acde48001122.xml\n",
      "Image:/Volumes/Study/University/Semester 5/ML LAB/Project/sign_language_detection/Tensorflow/workspace/images/collectedimages/1/1.6eb820aa-674e-11ed-aac5-acde48001122.jpg -> Annotation:/Volumes/Study/University/Semester 5/ML LAB/Project/sign_language_detection/Tensorflow/workspace/images/collectedimages/1/1.6eb820aa-674e-11ed-aac5-acde48001122.xml\n",
      "Image:/Volumes/Study/University/Semester 5/ML LAB/Project/sign_language_detection/Tensorflow/workspace/images/collectedimages/1/1.63a4792a-674e-11ed-aac5-acde48001122.jpg -> Annotation:/Volumes/Study/University/Semester 5/ML LAB/Project/sign_language_detection/Tensorflow/workspace/images/collectedimages/1/1.63a4792a-674e-11ed-aac5-acde48001122.xml\n",
      "Image:/Volumes/Study/University/Semester 5/ML LAB/Project/sign_language_detection/Tensorflow/workspace/images/collectedimages/1/1.64dd94b6-674e-11ed-aac5-acde48001122.jpg -> Annotation:/Volumes/Study/University/Semester 5/ML LAB/Project/sign_language_detection/Tensorflow/workspace/images/collectedimages/1/1.64dd94b6-674e-11ed-aac5-acde48001122.xml\n",
      "Image:/Volumes/Study/University/Semester 5/ML LAB/Project/sign_language_detection/Tensorflow/workspace/images/collectedimages/1/1.69cb328a-674e-11ed-aac5-acde48001122.jpg -> Annotation:/Volumes/Study/University/Semester 5/ML LAB/Project/sign_language_detection/Tensorflow/workspace/images/collectedimages/1/1.69cb328a-674e-11ed-aac5-acde48001122.xml\n",
      "Image:/Volumes/Study/University/Semester 5/ML LAB/Project/sign_language_detection/Tensorflow/workspace/images/collectedimages/1/1.688f8ace-674e-11ed-aac5-acde48001122.jpg -> Annotation:/Volumes/Study/University/Semester 5/ML LAB/Project/sign_language_detection/Tensorflow/workspace/images/collectedimages/1/1.688f8ace-674e-11ed-aac5-acde48001122.xml\n",
      "Image:/Volumes/Study/University/Semester 5/ML LAB/Project/sign_language_detection/Tensorflow/workspace/images/collectedimages/1/1.6619affe-674e-11ed-aac5-acde48001122.jpg -> Annotation:/Volumes/Study/University/Semester 5/ML LAB/Project/sign_language_detection/Tensorflow/workspace/images/collectedimages/1/1.6619affe-674e-11ed-aac5-acde48001122.xml\n",
      "Image:/Volumes/Study/University/Semester 5/ML LAB/Project/sign_language_detection/Tensorflow/workspace/images/collectedimages/1/1.6754f77a-674e-11ed-aac5-acde48001122.jpg -> Annotation:/Volumes/Study/University/Semester 5/ML LAB/Project/sign_language_detection/Tensorflow/workspace/images/collectedimages/1/1.6754f77a-674e-11ed-aac5-acde48001122.xml\n",
      "Image:/Volumes/Study/University/Semester 5/ML LAB/Project/sign_language_detection/Tensorflow/workspace/images/collectedimages/2/2.7a65b00c-674e-11ed-aac5-acde48001122.jpg -> Annotation:/Volumes/Study/University/Semester 5/ML LAB/Project/sign_language_detection/Tensorflow/workspace/images/collectedimages/2/2.7a65b00c-674e-11ed-aac5-acde48001122.xml\n",
      "Image:/Volumes/Study/University/Semester 5/ML LAB/Project/sign_language_detection/Tensorflow/workspace/images/collectedimages/2/2.7ba0b82c-674e-11ed-aac5-acde48001122.jpg -> Annotation:/Volumes/Study/University/Semester 5/ML LAB/Project/sign_language_detection/Tensorflow/workspace/images/collectedimages/2/2.7ba0b82c-674e-11ed-aac5-acde48001122.xml\n",
      "Image:/Volumes/Study/University/Semester 5/ML LAB/Project/sign_language_detection/Tensorflow/workspace/images/collectedimages/2/2.7cdbaba2-674e-11ed-aac5-acde48001122.jpg -> Annotation:/Volumes/Study/University/Semester 5/ML LAB/Project/sign_language_detection/Tensorflow/workspace/images/collectedimages/2/2.7cdbaba2-674e-11ed-aac5-acde48001122.xml\n",
      "Image:/Volumes/Study/University/Semester 5/ML LAB/Project/sign_language_detection/Tensorflow/workspace/images/collectedimages/2/2.7e173ef0-674e-11ed-aac5-acde48001122.jpg -> Annotation:/Volumes/Study/University/Semester 5/ML LAB/Project/sign_language_detection/Tensorflow/workspace/images/collectedimages/2/2.7e173ef0-674e-11ed-aac5-acde48001122.xml\n",
      "Image:/Volumes/Study/University/Semester 5/ML LAB/Project/sign_language_detection/Tensorflow/workspace/images/collectedimages/2/2.76b324f8-674e-11ed-aac5-acde48001122.jpg -> Annotation:/Volumes/Study/University/Semester 5/ML LAB/Project/sign_language_detection/Tensorflow/workspace/images/collectedimages/2/2.76b324f8-674e-11ed-aac5-acde48001122.xml\n",
      "Image:/Volumes/Study/University/Semester 5/ML LAB/Project/sign_language_detection/Tensorflow/workspace/images/collectedimages/2/2.77eecd9a-674e-11ed-aac5-acde48001122.jpg -> Annotation:/Volumes/Study/University/Semester 5/ML LAB/Project/sign_language_detection/Tensorflow/workspace/images/collectedimages/2/2.77eecd9a-674e-11ed-aac5-acde48001122.xml\n",
      "Image:/Volumes/Study/University/Semester 5/ML LAB/Project/sign_language_detection/Tensorflow/workspace/images/collectedimages/2/2.743d4776-674e-11ed-aac5-acde48001122.jpg -> Annotation:/Volumes/Study/University/Semester 5/ML LAB/Project/sign_language_detection/Tensorflow/workspace/images/collectedimages/2/2.743d4776-674e-11ed-aac5-acde48001122.xml\n",
      "Image:/Volumes/Study/University/Semester 5/ML LAB/Project/sign_language_detection/Tensorflow/workspace/images/collectedimages/2/2.792a3f0a-674e-11ed-aac5-acde48001122.jpg -> Annotation:/Volumes/Study/University/Semester 5/ML LAB/Project/sign_language_detection/Tensorflow/workspace/images/collectedimages/2/2.792a3f0a-674e-11ed-aac5-acde48001122.xml\n"
     ]
    },
    {
     "name": "stdout",
     "output_type": "stream",
     "text": [
      "Image:/Volumes/Study/University/Semester 5/ML LAB/Project/sign_language_detection/Tensorflow/workspace/images/collectedimages/2/2.7578d9f2-674e-11ed-aac5-acde48001122.jpg -> Annotation:/Volumes/Study/University/Semester 5/ML LAB/Project/sign_language_detection/Tensorflow/workspace/images/collectedimages/2/2.7578d9f2-674e-11ed-aac5-acde48001122.xml\n",
      "Image:/Volumes/Study/University/Semester 5/ML LAB/Project/sign_language_detection/Tensorflow/workspace/images/collectedimages/2/2.73023cae-674e-11ed-aac5-acde48001122.jpg -> Annotation:/Volumes/Study/University/Semester 5/ML LAB/Project/sign_language_detection/Tensorflow/workspace/images/collectedimages/2/2.73023cae-674e-11ed-aac5-acde48001122.xml\n",
      "Image:/Volumes/Study/University/Semester 5/ML LAB/Project/sign_language_detection/Tensorflow/workspace/images/collectedimages/3/3.8c3a9cfc-674e-11ed-aac5-acde48001122.jpg -> Annotation:/Volumes/Study/University/Semester 5/ML LAB/Project/sign_language_detection/Tensorflow/workspace/images/collectedimages/3/3.8c3a9cfc-674e-11ed-aac5-acde48001122.xml\n",
      "Image:/Volumes/Study/University/Semester 5/ML LAB/Project/sign_language_detection/Tensorflow/workspace/images/collectedimages/3/3.8d75faa8-674e-11ed-aac5-acde48001122.jpg -> Annotation:/Volumes/Study/University/Semester 5/ML LAB/Project/sign_language_detection/Tensorflow/workspace/images/collectedimages/3/3.8d75faa8-674e-11ed-aac5-acde48001122.xml\n",
      "Image:/Volumes/Study/University/Semester 5/ML LAB/Project/sign_language_detection/Tensorflow/workspace/images/collectedimages/3/3.84d7c43a-674e-11ed-aac5-acde48001122.jpg -> Annotation:/Volumes/Study/University/Semester 5/ML LAB/Project/sign_language_detection/Tensorflow/workspace/images/collectedimages/3/3.84d7c43a-674e-11ed-aac5-acde48001122.xml\n",
      "Image:/Volumes/Study/University/Semester 5/ML LAB/Project/sign_language_detection/Tensorflow/workspace/images/collectedimages/3/3.89c4696c-674e-11ed-aac5-acde48001122.jpg -> Annotation:/Volumes/Study/University/Semester 5/ML LAB/Project/sign_language_detection/Tensorflow/workspace/images/collectedimages/3/3.89c4696c-674e-11ed-aac5-acde48001122.xml\n",
      "Image:/Volumes/Study/University/Semester 5/ML LAB/Project/sign_language_detection/Tensorflow/workspace/images/collectedimages/3/3.839c311e-674e-11ed-aac5-acde48001122.jpg -> Annotation:/Volumes/Study/University/Semester 5/ML LAB/Project/sign_language_detection/Tensorflow/workspace/images/collectedimages/3/3.839c311e-674e-11ed-aac5-acde48001122.xml\n",
      "Image:/Volumes/Study/University/Semester 5/ML LAB/Project/sign_language_detection/Tensorflow/workspace/images/collectedimages/3/3.874dedac-674e-11ed-aac5-acde48001122.jpg -> Annotation:/Volumes/Study/University/Semester 5/ML LAB/Project/sign_language_detection/Tensorflow/workspace/images/collectedimages/3/3.874dedac-674e-11ed-aac5-acde48001122.xml\n",
      "Image:/Volumes/Study/University/Semester 5/ML LAB/Project/sign_language_detection/Tensorflow/workspace/images/collectedimages/3/3.8612e118-674e-11ed-aac5-acde48001122.jpg -> Annotation:/Volumes/Study/University/Semester 5/ML LAB/Project/sign_language_detection/Tensorflow/workspace/images/collectedimages/3/3.8612e118-674e-11ed-aac5-acde48001122.xml\n",
      "Image:/Volumes/Study/University/Semester 5/ML LAB/Project/sign_language_detection/Tensorflow/workspace/images/collectedimages/3/3.82616d14-674e-11ed-aac5-acde48001122.jpg -> Annotation:/Volumes/Study/University/Semester 5/ML LAB/Project/sign_language_detection/Tensorflow/workspace/images/collectedimages/3/3.82616d14-674e-11ed-aac5-acde48001122.xml\n",
      "Image:/Volumes/Study/University/Semester 5/ML LAB/Project/sign_language_detection/Tensorflow/workspace/images/collectedimages/3/3.8889225e-674e-11ed-aac5-acde48001122.jpg -> Annotation:/Volumes/Study/University/Semester 5/ML LAB/Project/sign_language_detection/Tensorflow/workspace/images/collectedimages/3/3.8889225e-674e-11ed-aac5-acde48001122.xml\n",
      "Image:/Volumes/Study/University/Semester 5/ML LAB/Project/sign_language_detection/Tensorflow/workspace/images/collectedimages/4/4.9a540652-674e-11ed-aac5-acde48001122.jpg -> Annotation:/Volumes/Study/University/Semester 5/ML LAB/Project/sign_language_detection/Tensorflow/workspace/images/collectedimages/4/4.9a540652-674e-11ed-aac5-acde48001122.xml\n",
      "Image:/Volumes/Study/University/Semester 5/ML LAB/Project/sign_language_detection/Tensorflow/workspace/images/collectedimages/4/4.9b8fbd7c-674e-11ed-aac5-acde48001122.jpg -> Annotation:/Volumes/Study/University/Semester 5/ML LAB/Project/sign_language_detection/Tensorflow/workspace/images/collectedimages/4/4.9b8fbd7c-674e-11ed-aac5-acde48001122.xml\n",
      "Image:/Volumes/Study/University/Semester 5/ML LAB/Project/sign_language_detection/Tensorflow/workspace/images/collectedimages/4/4.9ccadc1c-674e-11ed-aac5-acde48001122.jpg -> Annotation:/Volumes/Study/University/Semester 5/ML LAB/Project/sign_language_detection/Tensorflow/workspace/images/collectedimages/4/4.9ccadc1c-674e-11ed-aac5-acde48001122.xml\n",
      "Image:/Volumes/Study/University/Semester 5/ML LAB/Project/sign_language_detection/Tensorflow/workspace/images/collectedimages/4/4.91b6ab12-674e-11ed-aac5-acde48001122.jpg -> Annotation:/Volumes/Study/University/Semester 5/ML LAB/Project/sign_language_detection/Tensorflow/workspace/images/collectedimages/4/4.91b6ab12-674e-11ed-aac5-acde48001122.xml\n",
      "Image:/Volumes/Study/University/Semester 5/ML LAB/Project/sign_language_detection/Tensorflow/workspace/images/collectedimages/4/4.92f27a06-674e-11ed-aac5-acde48001122.jpg -> Annotation:/Volumes/Study/University/Semester 5/ML LAB/Project/sign_language_detection/Tensorflow/workspace/images/collectedimages/4/4.92f27a06-674e-11ed-aac5-acde48001122.xml\n",
      "Image:/Volumes/Study/University/Semester 5/ML LAB/Project/sign_language_detection/Tensorflow/workspace/images/collectedimages/4/4.97de4b12-674e-11ed-aac5-acde48001122.jpg -> Annotation:/Volumes/Study/University/Semester 5/ML LAB/Project/sign_language_detection/Tensorflow/workspace/images/collectedimages/4/4.97de4b12-674e-11ed-aac5-acde48001122.xml\n",
      "Image:/Volumes/Study/University/Semester 5/ML LAB/Project/sign_language_detection/Tensorflow/workspace/images/collectedimages/4/4.942c2624-674e-11ed-aac5-acde48001122.jpg -> Annotation:/Volumes/Study/University/Semester 5/ML LAB/Project/sign_language_detection/Tensorflow/workspace/images/collectedimages/4/4.942c2624-674e-11ed-aac5-acde48001122.xml\n",
      "Image:/Volumes/Study/University/Semester 5/ML LAB/Project/sign_language_detection/Tensorflow/workspace/images/collectedimages/4/4.991903c8-674e-11ed-aac5-acde48001122.jpg -> Annotation:/Volumes/Study/University/Semester 5/ML LAB/Project/sign_language_detection/Tensorflow/workspace/images/collectedimages/4/4.991903c8-674e-11ed-aac5-acde48001122.xml\n",
      "Image:/Volumes/Study/University/Semester 5/ML LAB/Project/sign_language_detection/Tensorflow/workspace/images/collectedimages/4/4.95681160-674e-11ed-aac5-acde48001122.jpg -> Annotation:/Volumes/Study/University/Semester 5/ML LAB/Project/sign_language_detection/Tensorflow/workspace/images/collectedimages/4/4.95681160-674e-11ed-aac5-acde48001122.xml\n",
      "Image:/Volumes/Study/University/Semester 5/ML LAB/Project/sign_language_detection/Tensorflow/workspace/images/collectedimages/5/5.a4c7132c-674e-11ed-aac5-acde48001122.jpg -> Annotation:/Volumes/Study/University/Semester 5/ML LAB/Project/sign_language_detection/Tensorflow/workspace/images/collectedimages/5/5.a4c7132c-674e-11ed-aac5-acde48001122.xml\n",
      "Image:/Volumes/Study/University/Semester 5/ML LAB/Project/sign_language_detection/Tensorflow/workspace/images/collectedimages/5/5.a38b757a-674e-11ed-aac5-acde48001122.jpg -> Annotation:/Volumes/Study/University/Semester 5/ML LAB/Project/sign_language_detection/Tensorflow/workspace/images/collectedimages/5/5.a38b757a-674e-11ed-aac5-acde48001122.xml\n",
      "Image:/Volumes/Study/University/Semester 5/ML LAB/Project/sign_language_detection/Tensorflow/workspace/images/collectedimages/5/5.a1156c42-674e-11ed-aac5-acde48001122.jpg -> Annotation:/Volumes/Study/University/Semester 5/ML LAB/Project/sign_language_detection/Tensorflow/workspace/images/collectedimages/5/5.a1156c42-674e-11ed-aac5-acde48001122.xml\n",
      "Image:/Volumes/Study/University/Semester 5/ML LAB/Project/sign_language_detection/Tensorflow/workspace/images/collectedimages/5/5.a2501990-674e-11ed-aac5-acde48001122.jpg -> Annotation:/Volumes/Study/University/Semester 5/ML LAB/Project/sign_language_detection/Tensorflow/workspace/images/collectedimages/5/5.a2501990-674e-11ed-aac5-acde48001122.xml\n"
     ]
    },
    {
     "name": "stdout",
     "output_type": "stream",
     "text": [
      "Cancel creation.\n",
      "Image:/Volumes/Study/University/Semester 5/ML LAB/Project/sign_language_detection/Tensorflow/workspace/images/collectedimages/5/5.a6034094-674e-11ed-aac5-acde48001122.jpg -> Annotation:/Volumes/Study/University/Semester 5/ML LAB/Project/sign_language_detection/Tensorflow/workspace/images/collectedimages/5/5.a6034094-674e-11ed-aac5-acde48001122.xml\n",
      "Image:/Volumes/Study/University/Semester 5/ML LAB/Project/sign_language_detection/Tensorflow/workspace/images/collectedimages/6/6.b1a604f4-674e-11ed-aac5-acde48001122.jpg -> Annotation:/Volumes/Study/University/Semester 5/ML LAB/Project/sign_language_detection/Tensorflow/workspace/images/collectedimages/6/6.b1a604f4-674e-11ed-aac5-acde48001122.xml\n",
      "Image:/Volumes/Study/University/Semester 5/ML LAB/Project/sign_language_detection/Tensorflow/workspace/images/collectedimages/6/6.b2e138ac-674e-11ed-aac5-acde48001122.jpg -> Annotation:/Volumes/Study/University/Semester 5/ML LAB/Project/sign_language_detection/Tensorflow/workspace/images/collectedimages/6/6.b2e138ac-674e-11ed-aac5-acde48001122.xml\n",
      "Image:/Volumes/Study/University/Semester 5/ML LAB/Project/sign_language_detection/Tensorflow/workspace/images/collectedimages/6/6.b06b2b46-674e-11ed-aac5-acde48001122.jpg -> Annotation:/Volumes/Study/University/Semester 5/ML LAB/Project/sign_language_detection/Tensorflow/workspace/images/collectedimages/6/6.b06b2b46-674e-11ed-aac5-acde48001122.xml\n",
      "Image:/Volumes/Study/University/Semester 5/ML LAB/Project/sign_language_detection/Tensorflow/workspace/images/collectedimages/6/6.b7cdd6fe-674e-11ed-aac5-acde48001122.jpg -> Annotation:/Volumes/Study/University/Semester 5/ML LAB/Project/sign_language_detection/Tensorflow/workspace/images/collectedimages/6/6.b7cdd6fe-674e-11ed-aac5-acde48001122.xml\n",
      "Image:/Volumes/Study/University/Semester 5/ML LAB/Project/sign_language_detection/Tensorflow/workspace/images/collectedimages/6/6.b41c1d5e-674e-11ed-aac5-acde48001122.jpg -> Annotation:/Volumes/Study/University/Semester 5/ML LAB/Project/sign_language_detection/Tensorflow/workspace/images/collectedimages/6/6.b41c1d5e-674e-11ed-aac5-acde48001122.xml\n",
      "Image:/Volumes/Study/University/Semester 5/ML LAB/Project/sign_language_detection/Tensorflow/workspace/images/collectedimages/6/6.b6928c58-674e-11ed-aac5-acde48001122.jpg -> Annotation:/Volumes/Study/University/Semester 5/ML LAB/Project/sign_language_detection/Tensorflow/workspace/images/collectedimages/6/6.b6928c58-674e-11ed-aac5-acde48001122.xml\n",
      "Image:/Volumes/Study/University/Semester 5/ML LAB/Project/sign_language_detection/Tensorflow/workspace/images/collectedimages/6/6.b9088aa0-674e-11ed-aac5-acde48001122.jpg -> Annotation:/Volumes/Study/University/Semester 5/ML LAB/Project/sign_language_detection/Tensorflow/workspace/images/collectedimages/6/6.b9088aa0-674e-11ed-aac5-acde48001122.xml\n",
      "Image:/Volumes/Study/University/Semester 5/ML LAB/Project/sign_language_detection/Tensorflow/workspace/images/collectedimages/6/6.b55730fa-674e-11ed-aac5-acde48001122.jpg -> Annotation:/Volumes/Study/University/Semester 5/ML LAB/Project/sign_language_detection/Tensorflow/workspace/images/collectedimages/6/6.b55730fa-674e-11ed-aac5-acde48001122.xml\n",
      "Image:/Volumes/Study/University/Semester 5/ML LAB/Project/sign_language_detection/Tensorflow/workspace/images/collectedimages/6/6.ba4393f6-674e-11ed-aac5-acde48001122.jpg -> Annotation:/Volumes/Study/University/Semester 5/ML LAB/Project/sign_language_detection/Tensorflow/workspace/images/collectedimages/6/6.ba4393f6-674e-11ed-aac5-acde48001122.xml\n",
      "Image:/Volumes/Study/University/Semester 5/ML LAB/Project/sign_language_detection/Tensorflow/workspace/images/collectedimages/6/6.bb7ec920-674e-11ed-aac5-acde48001122.jpg -> Annotation:/Volumes/Study/University/Semester 5/ML LAB/Project/sign_language_detection/Tensorflow/workspace/images/collectedimages/6/6.bb7ec920-674e-11ed-aac5-acde48001122.xml\n"
     ]
    }
   ],
   "source": [
    "!cd {LABELIMG_PATH} && python labelImg.py"
   ]
  },
  {
   "cell_type": "markdown",
   "metadata": {},
   "source": [
    "# 6. Move them into a Training and Testing Partition"
   ]
  },
  {
   "cell_type": "markdown",
   "metadata": {},
   "source": [
    " 7. Compress them for Colab Training"
   ]
  },
  {
   "cell_type": "code",
   "execution_count": 44,
   "metadata": {},
   "outputs": [],
   "source": [
    "TRAIN_PATH = os.path.join('Tensorflow', 'workspace', 'images', 'train')\n",
    "TEST_PATH = os.path.join('Tensorflow', 'workspace', 'images', 'test')\n",
    "ARCHIVE_PATH = os.path.join('Tensorflow', 'workspace', 'images', 'archive.tar.gz')"
   ]
  },
  {
   "cell_type": "code",
   "execution_count": 21,
   "metadata": {},
   "outputs": [],
   "source": [
    "!tar -czf {ARCHIVE_PATH} {TRAIN_PATH} {TEST_PATH}"
   ]
  },
  {
   "cell_type": "code",
   "execution_count": null,
   "metadata": {},
   "outputs": [],
   "source": []
  }
 ],
 "metadata": {
  "kernelspec": {
   "display_name": "mlproject",
   "language": "python",
   "name": "mlproject"
  },
  "language_info": {
   "codemirror_mode": {
    "name": "ipython",
    "version": 3
   },
   "file_extension": ".py",
   "mimetype": "text/x-python",
   "name": "python",
   "nbconvert_exporter": "python",
   "pygments_lexer": "ipython3",
   "version": "3.9.12"
  }
 },
 "nbformat": 4,
 "nbformat_minor": 2
}
