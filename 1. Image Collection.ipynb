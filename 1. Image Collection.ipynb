{
 "cells": [
  {
   "cell_type": "markdown",
   "metadata": {},
   "source": [
    "# 1. Import Dependencies"
   ]
  },
  {
   "cell_type": "code",
   "execution_count": 2,
   "metadata": {},
   "outputs": [
    {
     "name": "stdout",
     "output_type": "stream",
     "text": [
      "Collecting opencv-python\n",
      "  Downloading opencv_python-4.6.0.66-cp36-abi3-macosx_10_15_x86_64.whl (46.4 MB)\n",
      "\u001b[2K     \u001b[38;2;114;156;31m━━━━━━━━━━━━━━━━━━━━━━━━━━━━━━━━━━━━━━━━\u001b[0m \u001b[32m46.4/46.4 MB\u001b[0m \u001b[31m5.9 MB/s\u001b[0m eta \u001b[36m0:00:00\u001b[0mm eta \u001b[36m0:00:01\u001b[0m[36m0:00:01\u001b[0m\n",
      "\u001b[?25hCollecting numpy>=1.19.3\n",
      "  Downloading numpy-1.23.4-cp39-cp39-macosx_10_9_x86_64.whl (18.1 MB)\n",
      "\u001b[2K     \u001b[38;2;114;156;31m━━━━━━━━━━━━━━━━━━━━━━━━━━━━━━━━━━━━━━━━\u001b[0m \u001b[32m18.1/18.1 MB\u001b[0m \u001b[31m4.5 MB/s\u001b[0m eta \u001b[36m0:00:00\u001b[0mm eta \u001b[36m0:00:01\u001b[0m0:01\u001b[0m:01\u001b[0m\n",
      "\u001b[?25hInstalling collected packages: numpy, opencv-python\n",
      "Successfully installed numpy-1.23.4 opencv-python-4.6.0.66\n"
     ]
    }
   ],
   "source": [
    "!pip install opencv-python"
   ]
  },
  {
   "cell_type": "code",
   "execution_count": 13,
   "metadata": {},
   "outputs": [],
   "source": [
    "# Import opencv\n",
    "import cv2 \n",
    "\n",
    "# Import uuid\n",
    "import uuid\n",
    "\n",
    "# Import Operating System\n",
    "import os\n",
    "\n",
    "# Import time\n",
    "import time"
   ]
  },
  {
   "cell_type": "markdown",
   "metadata": {},
   "source": [
    "# 2. Define Images to Collect"
   ]
  },
  {
   "cell_type": "code",
   "execution_count": 14,
   "metadata": {},
   "outputs": [],
   "source": [
    "labels = ['thumbsup', 'thumbsdown', 'thankyou', 'livelong','0','1','2','3','4','5','6']\n",
    "number_imgs = 10"
   ]
  },
  {
   "cell_type": "markdown",
   "metadata": {},
   "source": [
    "# 3. Setup Folders "
   ]
  },
  {
   "cell_type": "code",
   "execution_count": 15,
   "metadata": {},
   "outputs": [],
   "source": [
    "IMAGES_PATH = os.path.join('Tensorflow', 'workspace', 'images', 'collectedimages')"
   ]
  },
  {
   "cell_type": "code",
   "execution_count": 16,
   "metadata": {},
   "outputs": [
    {
     "data": {
      "text/plain": [
       "'posix'"
      ]
     },
     "execution_count": 16,
     "metadata": {},
     "output_type": "execute_result"
    }
   ],
   "source": [
    "os.name"
   ]
  },
  {
   "cell_type": "code",
   "execution_count": 17,
   "metadata": {},
   "outputs": [],
   "source": [
    "if not os.path.exists(IMAGES_PATH):\n",
    "    if os.name == 'posix':\n",
    "        !mkdir -p {IMAGES_PATH}\n",
    "    if os.name == 'nt':\n",
    "         !mkdir {IMAGES_PATH}\n",
    "for label in labels:\n",
    "    path = os.path.join(IMAGES_PATH, label)\n",
    "    if not os.path.exists(path):\n",
    "        !mkdir {path}"
   ]
  },
  {
   "cell_type": "code",
   "execution_count": null,
   "metadata": {},
   "outputs": [],
   "source": []
  },
  {
   "cell_type": "markdown",
   "metadata": {},
   "source": [
    "# 4. Capture Images"
   ]
  },
  {
   "cell_type": "code",
   "execution_count": 18,
   "metadata": {},
   "outputs": [
    {
     "name": "stdout",
     "output_type": "stream",
     "text": [
      "Collecting images for thumbsup\n",
      "Collecting image 0\n",
      "Collecting image 1\n",
      "Collecting image 2\n",
      "Collecting image 3\n",
      "Collecting image 4\n",
      "Collecting image 5\n",
      "Collecting image 6\n",
      "Collecting image 7\n",
      "Collecting image 8\n",
      "Collecting image 9\n",
      "Collecting images for thumbsdown\n",
      "Collecting image 0\n",
      "Collecting image 1\n",
      "Collecting image 2\n",
      "Collecting image 3\n",
      "Collecting image 4\n",
      "Collecting image 5\n",
      "Collecting image 6\n",
      "Collecting image 7\n",
      "Collecting image 8\n",
      "Collecting image 9\n",
      "Collecting images for thankyou\n",
      "Collecting image 0\n",
      "Collecting image 1\n",
      "Collecting image 2\n",
      "Collecting image 3\n",
      "Collecting image 4\n",
      "Collecting image 5\n",
      "Collecting image 6\n",
      "Collecting image 7\n",
      "Collecting image 8\n",
      "Collecting image 9\n",
      "Collecting images for livelong\n",
      "Collecting image 0\n",
      "Collecting image 1\n",
      "Collecting image 2\n",
      "Collecting image 3\n",
      "Collecting image 4\n",
      "Collecting image 5\n",
      "Collecting image 6\n",
      "Collecting image 7\n",
      "Collecting image 8\n",
      "Collecting image 9\n",
      "Collecting images for 0\n",
      "Collecting image 0\n",
      "Collecting image 1\n",
      "Collecting image 2\n",
      "Collecting image 3\n",
      "Collecting image 4\n",
      "Collecting image 5\n",
      "Collecting image 6\n",
      "Collecting image 7\n",
      "Collecting image 8\n",
      "Collecting image 9\n",
      "Collecting images for 1\n",
      "Collecting image 0\n",
      "Collecting image 1\n",
      "Collecting image 2\n",
      "Collecting image 3\n",
      "Collecting image 4\n",
      "Collecting image 5\n",
      "Collecting image 6\n",
      "Collecting image 7\n",
      "Collecting image 8\n",
      "Collecting image 9\n",
      "Collecting images for 2\n",
      "Collecting image 0\n",
      "Collecting image 1\n",
      "Collecting image 2\n",
      "Collecting image 3\n",
      "Collecting image 4\n",
      "Collecting image 5\n",
      "Collecting image 6\n",
      "Collecting image 7\n",
      "Collecting image 8\n",
      "Collecting image 9\n",
      "Collecting images for 3\n",
      "Collecting image 0\n",
      "Collecting image 1\n",
      "Collecting image 2\n",
      "Collecting image 3\n",
      "Collecting image 4\n",
      "Collecting image 5\n",
      "Collecting image 6\n",
      "Collecting image 7\n",
      "Collecting image 8\n",
      "Collecting image 9\n",
      "Collecting images for 4\n",
      "Collecting image 0\n",
      "Collecting image 1\n",
      "Collecting image 2\n",
      "Collecting image 3\n",
      "Collecting image 4\n",
      "Collecting image 5\n",
      "Collecting image 6\n",
      "Collecting image 7\n",
      "Collecting image 8\n",
      "Collecting image 9\n",
      "Collecting images for 5\n",
      "Collecting image 0\n",
      "Collecting image 1\n",
      "Collecting image 2\n",
      "Collecting image 3\n",
      "Collecting image 4\n",
      "Collecting image 5\n",
      "Collecting image 6\n",
      "Collecting image 7\n",
      "Collecting image 8\n",
      "Collecting image 9\n",
      "Collecting images for 6\n",
      "Collecting image 0\n",
      "Collecting image 1\n",
      "Collecting image 2\n",
      "Collecting image 3\n",
      "Collecting image 4\n",
      "Collecting image 5\n",
      "Collecting image 6\n",
      "Collecting image 7\n",
      "Collecting image 8\n",
      "Collecting image 9\n"
     ]
    }
   ],
   "source": [
    "for label in labels:\n",
    "    cap = cv2.VideoCapture(0)\n",
    "    print('Collecting images for {}'.format(label))\n",
    "    time.sleep(5)\n",
    "    for imgnum in range(number_imgs):\n",
    "        print('Collecting image {}'.format(imgnum))\n",
    "        ret, frame = cap.read()\n",
    "        imgname = os.path.join(IMAGES_PATH,label,label+'.'+'{}.jpg'.format(str(uuid.uuid1())))\n",
    "        cv2.imwrite(imgname, frame)\n",
    "        cv2.imshow('frame', frame)\n",
    "        time.sleep(2)\n",
    "\n",
    "        if cv2.waitKey(1) & 0xFF == ord('q'):\n",
    "            break\n",
    "cap.release()\n",
    "cv2.destroyAllWindows()"
   ]
  },
  {
   "cell_type": "markdown",
   "metadata": {},
   "source": [
    "# 5. Image Labelling"
   ]
  },
  {
   "cell_type": "code",
   "execution_count": 8,
   "metadata": {},
   "outputs": [
    {
     "name": "stdout",
     "output_type": "stream",
     "text": [
      "Requirement already satisfied: pyqt5 in /Volumes/Study/University/Semester 5/ML LAB/Project/sign_language_detection/mlproject/lib/python3.9/site-packages (5.15.7)\n",
      "Requirement already satisfied: lxml in /Volumes/Study/University/Semester 5/ML LAB/Project/sign_language_detection/mlproject/lib/python3.9/site-packages (4.9.1)\n",
      "Collecting lxml\n",
      "  Downloading lxml-4.9.2-cp39-cp39-macosx_10_15_x86_64.whl (4.8 MB)\n",
      "\u001b[2K     \u001b[90m━━━━━━━━━━━━━━━━━━━━━━━━━━━━━━━━━━━━━━━━\u001b[0m \u001b[32m4.8/4.8 MB\u001b[0m \u001b[31m1.7 MB/s\u001b[0m eta \u001b[36m0:00:00\u001b[0m00:01\u001b[0m00:01\u001b[0m\n",
      "\u001b[?25hRequirement already satisfied: PyQt5-sip<13,>=12.11 in /Volumes/Study/University/Semester 5/ML LAB/Project/sign_language_detection/mlproject/lib/python3.9/site-packages (from pyqt5) (12.11.0)\n",
      "Requirement already satisfied: PyQt5-Qt5>=5.15.0 in /Volumes/Study/University/Semester 5/ML LAB/Project/sign_language_detection/mlproject/lib/python3.9/site-packages (from pyqt5) (5.15.2)\n",
      "Installing collected packages: lxml\n",
      "  Attempting uninstall: lxml\n",
      "    Found existing installation: lxml 4.9.1\n",
      "    Uninstalling lxml-4.9.1:\n",
      "      Successfully uninstalled lxml-4.9.1\n",
      "Successfully installed lxml-4.9.2\n"
     ]
    }
   ],
   "source": [
    "!pip install --upgrade pyqt5 lxml"
   ]
  },
  {
   "cell_type": "code",
   "execution_count": 22,
   "metadata": {},
   "outputs": [],
   "source": [
    "LABELIMG_PATH = os.path.join('Tensorflow', 'labelimg')"
   ]
  },
  {
   "cell_type": "code",
   "execution_count": 23,
   "metadata": {},
   "outputs": [],
   "source": [
    "if not os.path.exists(LABELIMG_PATH):\n",
    "    !mkdir {LABELIMG_PATH}\n",
    "    !git clone https://github.com/tzutalin/labelImg {LABELIMG_PATH}"
   ]
  },
  {
   "cell_type": "code",
   "execution_count": 24,
   "metadata": {},
   "outputs": [
    {
     "name": "stdout",
     "output_type": "stream",
     "text": [
      "pyrcc5 -o libs/resources.py resources.qrc\r\n"
     ]
    }
   ],
   "source": [
    "if os.name == 'posix':\n",
    "    !cd {LABELIMG_PATH} && make qt5py3\n",
    "if os.name =='nt':\n",
    "    !cd {LABELIMG_PATH} && pyrcc5 -o libs/resources.py resources.qrc"
   ]
  },
  {
   "cell_type": "code",
   "execution_count": 25,
   "metadata": {},
   "outputs": [
    {
     "name": "stdout",
     "output_type": "stream",
     "text": [
      "Image:/Volumes/Study/University/Semester 5/ML LAB/sign_language_detection/Tensorflow/workspace/images/collectedimages/0/0.8b2365a8-835d-11ed-b173-acde48001122.jpg -> Annotation:/Volumes/Study/University/Semester 5/ML LAB/sign_language_detection/Tensorflow/workspace/images/collectedimages/0/0.8b2365a8-835d-11ed-b173-acde48001122.xml\n",
      "Image:/Volumes/Study/University/Semester 5/ML LAB/sign_language_detection/Tensorflow/workspace/images/collectedimages/0/0.83bff1d2-835d-11ed-b173-acde48001122.jpg -> Annotation:/Volumes/Study/University/Semester 5/ML LAB/sign_language_detection/Tensorflow/workspace/images/collectedimages/0/0.83bff1d2-835d-11ed-b173-acde48001122.xml\n",
      "Image:/Volumes/Study/University/Semester 5/ML LAB/sign_language_detection/Tensorflow/workspace/images/collectedimages/0/0.84faeb10-835d-11ed-b173-acde48001122.jpg -> Annotation:/Volumes/Study/University/Semester 5/ML LAB/sign_language_detection/Tensorflow/workspace/images/collectedimages/0/0.84faeb10-835d-11ed-b173-acde48001122.xml\n",
      "Image:/Volumes/Study/University/Semester 5/ML LAB/sign_language_detection/Tensorflow/workspace/images/collectedimages/0/0.88acd19c-835d-11ed-b173-acde48001122.jpg -> Annotation:/Volumes/Study/University/Semester 5/ML LAB/sign_language_detection/Tensorflow/workspace/images/collectedimages/0/0.88acd19c-835d-11ed-b173-acde48001122.xml\n",
      "Image:/Volumes/Study/University/Semester 5/ML LAB/sign_language_detection/Tensorflow/workspace/images/collectedimages/0/0.89e8af04-835d-11ed-b173-acde48001122.jpg -> Annotation:/Volumes/Study/University/Semester 5/ML LAB/sign_language_detection/Tensorflow/workspace/images/collectedimages/0/0.89e8af04-835d-11ed-b173-acde48001122.xml\n",
      "Image:/Volumes/Study/University/Semester 5/ML LAB/sign_language_detection/Tensorflow/workspace/images/collectedimages/0/0.800e09b6-835d-11ed-b173-acde48001122.jpg -> Annotation:/Volumes/Study/University/Semester 5/ML LAB/sign_language_detection/Tensorflow/workspace/images/collectedimages/0/0.800e09b6-835d-11ed-b173-acde48001122.xml\n",
      "Image:/Volumes/Study/University/Semester 5/ML LAB/sign_language_detection/Tensorflow/workspace/images/collectedimages/0/0.814ab126-835d-11ed-b173-acde48001122.jpg -> Annotation:/Volumes/Study/University/Semester 5/ML LAB/sign_language_detection/Tensorflow/workspace/images/collectedimages/0/0.814ab126-835d-11ed-b173-acde48001122.xml\n",
      "Image:/Volumes/Study/University/Semester 5/ML LAB/sign_language_detection/Tensorflow/workspace/images/collectedimages/0/0.8772b0c6-835d-11ed-b173-acde48001122.jpg -> Annotation:/Volumes/Study/University/Semester 5/ML LAB/sign_language_detection/Tensorflow/workspace/images/collectedimages/0/0.8772b0c6-835d-11ed-b173-acde48001122.xml\n",
      "Image:/Volumes/Study/University/Semester 5/ML LAB/sign_language_detection/Tensorflow/workspace/images/collectedimages/0/0.82847cc0-835d-11ed-b173-acde48001122.jpg -> Annotation:/Volumes/Study/University/Semester 5/ML LAB/sign_language_detection/Tensorflow/workspace/images/collectedimages/0/0.82847cc0-835d-11ed-b173-acde48001122.xml\n",
      "Image:/Volumes/Study/University/Semester 5/ML LAB/sign_language_detection/Tensorflow/workspace/images/collectedimages/0/0.86366450-835d-11ed-b173-acde48001122.jpg -> Annotation:/Volumes/Study/University/Semester 5/ML LAB/sign_language_detection/Tensorflow/workspace/images/collectedimages/0/0.86366450-835d-11ed-b173-acde48001122.xml\n",
      "Image:/Volumes/Study/University/Semester 5/ML LAB/sign_language_detection/Tensorflow/workspace/images/collectedimages/1/1.8f6c7aaa-835d-11ed-b173-acde48001122.jpg -> Annotation:/Volumes/Study/University/Semester 5/ML LAB/sign_language_detection/Tensorflow/workspace/images/collectedimages/1/1.8f6c7aaa-835d-11ed-b173-acde48001122.xml\n",
      "Image:/Volumes/Study/University/Semester 5/ML LAB/sign_language_detection/Tensorflow/workspace/images/collectedimages/1/1.9a82aeaa-835d-11ed-b173-acde48001122.jpg -> Annotation:/Volumes/Study/University/Semester 5/ML LAB/sign_language_detection/Tensorflow/workspace/images/collectedimages/1/1.9a82aeaa-835d-11ed-b173-acde48001122.xml\n",
      "Image:/Volumes/Study/University/Semester 5/ML LAB/sign_language_detection/Tensorflow/workspace/images/collectedimages/1/1.90a844bc-835d-11ed-b173-acde48001122.jpg -> Annotation:/Volumes/Study/University/Semester 5/ML LAB/sign_language_detection/Tensorflow/workspace/images/collectedimages/1/1.90a844bc-835d-11ed-b173-acde48001122.xml\n",
      "Image:/Volumes/Study/University/Semester 5/ML LAB/sign_language_detection/Tensorflow/workspace/images/collectedimages/1/1.91e3a376-835d-11ed-b173-acde48001122.jpg -> Annotation:/Volumes/Study/University/Semester 5/ML LAB/sign_language_detection/Tensorflow/workspace/images/collectedimages/1/1.91e3a376-835d-11ed-b173-acde48001122.xml\n",
      "Image:/Volumes/Study/University/Semester 5/ML LAB/sign_language_detection/Tensorflow/workspace/images/collectedimages/1/1.96d101d0-835d-11ed-b173-acde48001122.jpg -> Annotation:/Volumes/Study/University/Semester 5/ML LAB/sign_language_detection/Tensorflow/workspace/images/collectedimages/1/1.96d101d0-835d-11ed-b173-acde48001122.xml\n",
      "Image:/Volumes/Study/University/Semester 5/ML LAB/sign_language_detection/Tensorflow/workspace/images/collectedimages/1/1.931ef9f2-835d-11ed-b173-acde48001122.jpg -> Annotation:/Volumes/Study/University/Semester 5/ML LAB/sign_language_detection/Tensorflow/workspace/images/collectedimages/1/1.931ef9f2-835d-11ed-b173-acde48001122.xml\n",
      "Image:/Volumes/Study/University/Semester 5/ML LAB/sign_language_detection/Tensorflow/workspace/images/collectedimages/1/1.945a5082-835d-11ed-b173-acde48001122.jpg -> Annotation:/Volumes/Study/University/Semester 5/ML LAB/sign_language_detection/Tensorflow/workspace/images/collectedimages/1/1.945a5082-835d-11ed-b173-acde48001122.xml\n",
      "Image:/Volumes/Study/University/Semester 5/ML LAB/sign_language_detection/Tensorflow/workspace/images/collectedimages/1/1.980c0b6c-835d-11ed-b173-acde48001122.jpg -> Annotation:/Volumes/Study/University/Semester 5/ML LAB/sign_language_detection/Tensorflow/workspace/images/collectedimages/1/1.980c0b6c-835d-11ed-b173-acde48001122.xml\n",
      "Image:/Volumes/Study/University/Semester 5/ML LAB/sign_language_detection/Tensorflow/workspace/images/collectedimages/1/1.9946d070-835d-11ed-b173-acde48001122.jpg -> Annotation:/Volumes/Study/University/Semester 5/ML LAB/sign_language_detection/Tensorflow/workspace/images/collectedimages/1/1.9946d070-835d-11ed-b173-acde48001122.xml\n",
      "Image:/Volumes/Study/University/Semester 5/ML LAB/sign_language_detection/Tensorflow/workspace/images/collectedimages/1/1.95961350-835d-11ed-b173-acde48001122.jpg -> Annotation:/Volumes/Study/University/Semester 5/ML LAB/sign_language_detection/Tensorflow/workspace/images/collectedimages/1/1.95961350-835d-11ed-b173-acde48001122.xml\n",
      "Image:/Volumes/Study/University/Semester 5/ML LAB/sign_language_detection/Tensorflow/workspace/images/collectedimages/2/2.9ec7c180-835d-11ed-b173-acde48001122.jpg -> Annotation:/Volumes/Study/University/Semester 5/ML LAB/sign_language_detection/Tensorflow/workspace/images/collectedimages/2/2.9ec7c180-835d-11ed-b173-acde48001122.xml\n",
      "Image:/Volumes/Study/University/Semester 5/ML LAB/sign_language_detection/Tensorflow/workspace/images/collectedimages/2/2.a002ad80-835d-11ed-b173-acde48001122.jpg -> Annotation:/Volumes/Study/University/Semester 5/ML LAB/sign_language_detection/Tensorflow/workspace/images/collectedimages/2/2.a002ad80-835d-11ed-b173-acde48001122.xml\n",
      "Image:/Volumes/Study/University/Semester 5/ML LAB/sign_language_detection/Tensorflow/workspace/images/collectedimages/2/2.a3b4bea0-835d-11ed-b173-acde48001122.jpg -> Annotation:/Volumes/Study/University/Semester 5/ML LAB/sign_language_detection/Tensorflow/workspace/images/collectedimages/2/2.a3b4bea0-835d-11ed-b173-acde48001122.xml\n",
      "Image:/Volumes/Study/University/Semester 5/ML LAB/sign_language_detection/Tensorflow/workspace/images/collectedimages/2/2.a4efdaac-835d-11ed-b173-acde48001122.jpg -> Annotation:/Volumes/Study/University/Semester 5/ML LAB/sign_language_detection/Tensorflow/workspace/images/collectedimages/2/2.a4efdaac-835d-11ed-b173-acde48001122.xml\n",
      "Image:/Volumes/Study/University/Semester 5/ML LAB/sign_language_detection/Tensorflow/workspace/images/collectedimages/2/2.a8a15aa4-835d-11ed-b173-acde48001122.jpg -> Annotation:/Volumes/Study/University/Semester 5/ML LAB/sign_language_detection/Tensorflow/workspace/images/collectedimages/2/2.a8a15aa4-835d-11ed-b173-acde48001122.xml\n"
     ]
    },
    {
     "name": "stdout",
     "output_type": "stream",
     "text": [
      "Image:/Volumes/Study/University/Semester 5/ML LAB/sign_language_detection/Tensorflow/workspace/images/collectedimages/2/2.a9dd7be6-835d-11ed-b173-acde48001122.jpg -> Annotation:/Volumes/Study/University/Semester 5/ML LAB/sign_language_detection/Tensorflow/workspace/images/collectedimages/2/2.a9dd7be6-835d-11ed-b173-acde48001122.xml\n",
      "Cancel creation.\n",
      "Image:/Volumes/Study/University/Semester 5/ML LAB/sign_language_detection/Tensorflow/workspace/images/collectedimages/2/2.a13d42aa-835d-11ed-b173-acde48001122.jpg -> Annotation:/Volumes/Study/University/Semester 5/ML LAB/sign_language_detection/Tensorflow/workspace/images/collectedimages/2/2.a13d42aa-835d-11ed-b173-acde48001122.xml\n",
      "Image:/Volumes/Study/University/Semester 5/ML LAB/sign_language_detection/Tensorflow/workspace/images/collectedimages/2/2.a62aa1fe-835d-11ed-b173-acde48001122.jpg -> Annotation:/Volumes/Study/University/Semester 5/ML LAB/sign_language_detection/Tensorflow/workspace/images/collectedimages/2/2.a62aa1fe-835d-11ed-b173-acde48001122.xml\n",
      "Image:/Volumes/Study/University/Semester 5/ML LAB/sign_language_detection/Tensorflow/workspace/images/collectedimages/2/2.a765a816-835d-11ed-b173-acde48001122.jpg -> Annotation:/Volumes/Study/University/Semester 5/ML LAB/sign_language_detection/Tensorflow/workspace/images/collectedimages/2/2.a765a816-835d-11ed-b173-acde48001122.xml\n",
      "Image:/Volumes/Study/University/Semester 5/ML LAB/sign_language_detection/Tensorflow/workspace/images/collectedimages/2/2.a2791f7c-835d-11ed-b173-acde48001122.jpg -> Annotation:/Volumes/Study/University/Semester 5/ML LAB/sign_language_detection/Tensorflow/workspace/images/collectedimages/2/2.a2791f7c-835d-11ed-b173-acde48001122.xml\n",
      "Image:/Volumes/Study/University/Semester 5/ML LAB/sign_language_detection/Tensorflow/workspace/images/collectedimages/3/3.ae21ad1c-835d-11ed-b173-acde48001122.jpg -> Annotation:/Volumes/Study/University/Semester 5/ML LAB/sign_language_detection/Tensorflow/workspace/images/collectedimages/3/3.ae21ad1c-835d-11ed-b173-acde48001122.xml\n",
      "Image:/Volumes/Study/University/Semester 5/ML LAB/sign_language_detection/Tensorflow/workspace/images/collectedimages/3/3.af5c6686-835d-11ed-b173-acde48001122.jpg -> Annotation:/Volumes/Study/University/Semester 5/ML LAB/sign_language_detection/Tensorflow/workspace/images/collectedimages/3/3.af5c6686-835d-11ed-b173-acde48001122.xml\n",
      "Image:/Volumes/Study/University/Semester 5/ML LAB/sign_language_detection/Tensorflow/workspace/images/collectedimages/3/3.b1d3343a-835d-11ed-b173-acde48001122.jpg -> Annotation:/Volumes/Study/University/Semester 5/ML LAB/sign_language_detection/Tensorflow/workspace/images/collectedimages/3/3.b1d3343a-835d-11ed-b173-acde48001122.xml\n",
      "Image:/Volumes/Study/University/Semester 5/ML LAB/sign_language_detection/Tensorflow/workspace/images/collectedimages/3/3.b6c12024-835d-11ed-b173-acde48001122.jpg -> Annotation:/Volumes/Study/University/Semester 5/ML LAB/sign_language_detection/Tensorflow/workspace/images/collectedimages/3/3.b6c12024-835d-11ed-b173-acde48001122.xml\n",
      "Image:/Volumes/Study/University/Semester 5/ML LAB/sign_language_detection/Tensorflow/workspace/images/collectedimages/3/3.b7ffe8d0-835d-11ed-b173-acde48001122.jpg -> Annotation:/Volumes/Study/University/Semester 5/ML LAB/sign_language_detection/Tensorflow/workspace/images/collectedimages/3/3.b7ffe8d0-835d-11ed-b173-acde48001122.xml\n",
      "Image:/Volumes/Study/University/Semester 5/ML LAB/sign_language_detection/Tensorflow/workspace/images/collectedimages/3/3.b30e384a-835d-11ed-b173-acde48001122.jpg -> Annotation:/Volumes/Study/University/Semester 5/ML LAB/sign_language_detection/Tensorflow/workspace/images/collectedimages/3/3.b30e384a-835d-11ed-b173-acde48001122.xml\n",
      "Image:/Volumes/Study/University/Semester 5/ML LAB/sign_language_detection/Tensorflow/workspace/images/collectedimages/3/3.b93b9c3a-835d-11ed-b173-acde48001122.jpg -> Annotation:/Volumes/Study/University/Semester 5/ML LAB/sign_language_detection/Tensorflow/workspace/images/collectedimages/3/3.b93b9c3a-835d-11ed-b173-acde48001122.xml\n",
      "Image:/Volumes/Study/University/Semester 5/ML LAB/sign_language_detection/Tensorflow/workspace/images/collectedimages/3/3.b584ea4c-835d-11ed-b173-acde48001122.jpg -> Annotation:/Volumes/Study/University/Semester 5/ML LAB/sign_language_detection/Tensorflow/workspace/images/collectedimages/3/3.b584ea4c-835d-11ed-b173-acde48001122.xml\n",
      "Image:/Volumes/Study/University/Semester 5/ML LAB/sign_language_detection/Tensorflow/workspace/images/collectedimages/3/3.b4494cf4-835d-11ed-b173-acde48001122.jpg -> Annotation:/Volumes/Study/University/Semester 5/ML LAB/sign_language_detection/Tensorflow/workspace/images/collectedimages/3/3.b4494cf4-835d-11ed-b173-acde48001122.xml\n",
      "Image:/Volumes/Study/University/Semester 5/ML LAB/sign_language_detection/Tensorflow/workspace/images/collectedimages/3/3.b098669e-835d-11ed-b173-acde48001122.jpg -> Annotation:/Volumes/Study/University/Semester 5/ML LAB/sign_language_detection/Tensorflow/workspace/images/collectedimages/3/3.b098669e-835d-11ed-b173-acde48001122.xml\n",
      "Image:/Volumes/Study/University/Semester 5/ML LAB/sign_language_detection/Tensorflow/workspace/images/collectedimages/4/4.bd859fc0-835d-11ed-b173-acde48001122.jpg -> Annotation:/Volumes/Study/University/Semester 5/ML LAB/sign_language_detection/Tensorflow/workspace/images/collectedimages/4/4.bd859fc0-835d-11ed-b173-acde48001122.xml\n",
      "Image:/Volumes/Study/University/Semester 5/ML LAB/sign_language_detection/Tensorflow/workspace/images/collectedimages/4/4.bec19d94-835d-11ed-b173-acde48001122.jpg -> Annotation:/Volumes/Study/University/Semester 5/ML LAB/sign_language_detection/Tensorflow/workspace/images/collectedimages/4/4.bec19d94-835d-11ed-b173-acde48001122.xml\n",
      "Image:/Volumes/Study/University/Semester 5/ML LAB/sign_language_detection/Tensorflow/workspace/images/collectedimages/4/4.bffbeab6-835d-11ed-b173-acde48001122.jpg -> Annotation:/Volumes/Study/University/Semester 5/ML LAB/sign_language_detection/Tensorflow/workspace/images/collectedimages/4/4.bffbeab6-835d-11ed-b173-acde48001122.xml\n",
      "Image:/Volumes/Study/University/Semester 5/ML LAB/sign_language_detection/Tensorflow/workspace/images/collectedimages/4/4.c3b278be-835d-11ed-b173-acde48001122.jpg -> Annotation:/Volumes/Study/University/Semester 5/ML LAB/sign_language_detection/Tensorflow/workspace/images/collectedimages/4/4.c3b278be-835d-11ed-b173-acde48001122.xml\n",
      "Image:/Volumes/Study/University/Semester 5/ML LAB/sign_language_detection/Tensorflow/workspace/images/collectedimages/4/4.c4ef04cc-835d-11ed-b173-acde48001122.jpg -> Annotation:/Volumes/Study/University/Semester 5/ML LAB/sign_language_detection/Tensorflow/workspace/images/collectedimages/4/4.c4ef04cc-835d-11ed-b173-acde48001122.xml\n",
      "Image:/Volumes/Study/University/Semester 5/ML LAB/sign_language_detection/Tensorflow/workspace/images/collectedimages/4/4.c8a4f036-835d-11ed-b173-acde48001122.jpg -> Annotation:/Volumes/Study/University/Semester 5/ML LAB/sign_language_detection/Tensorflow/workspace/images/collectedimages/4/4.c8a4f036-835d-11ed-b173-acde48001122.xml\n",
      "Image:/Volumes/Study/University/Semester 5/ML LAB/sign_language_detection/Tensorflow/workspace/images/collectedimages/4/4.c62e52de-835d-11ed-b173-acde48001122.jpg -> Annotation:/Volumes/Study/University/Semester 5/ML LAB/sign_language_detection/Tensorflow/workspace/images/collectedimages/4/4.c62e52de-835d-11ed-b173-acde48001122.xml\n",
      "Image:/Volumes/Study/University/Semester 5/ML LAB/sign_language_detection/Tensorflow/workspace/images/collectedimages/4/4.c76a5ed6-835d-11ed-b173-acde48001122.jpg -> Annotation:/Volumes/Study/University/Semester 5/ML LAB/sign_language_detection/Tensorflow/workspace/images/collectedimages/4/4.c76a5ed6-835d-11ed-b173-acde48001122.xml\n",
      "Image:/Volumes/Study/University/Semester 5/ML LAB/sign_language_detection/Tensorflow/workspace/images/collectedimages/4/4.c137b41e-835d-11ed-b173-acde48001122.jpg -> Annotation:/Volumes/Study/University/Semester 5/ML LAB/sign_language_detection/Tensorflow/workspace/images/collectedimages/4/4.c137b41e-835d-11ed-b173-acde48001122.xml\n",
      "Image:/Volumes/Study/University/Semester 5/ML LAB/sign_language_detection/Tensorflow/workspace/images/collectedimages/4/4.c276e156-835d-11ed-b173-acde48001122.jpg -> Annotation:/Volumes/Study/University/Semester 5/ML LAB/sign_language_detection/Tensorflow/workspace/images/collectedimages/4/4.c276e156-835d-11ed-b173-acde48001122.xml\n"
     ]
    },
    {
     "name": "stdout",
     "output_type": "stream",
     "text": [
      "Image:/Volumes/Study/University/Semester 5/ML LAB/sign_language_detection/Tensorflow/workspace/images/collectedimages/5/5.ccee89fe-835d-11ed-b173-acde48001122.jpg -> Annotation:/Volumes/Study/University/Semester 5/ML LAB/sign_language_detection/Tensorflow/workspace/images/collectedimages/5/5.ccee89fe-835d-11ed-b173-acde48001122.xml\n",
      "Image:/Volumes/Study/University/Semester 5/ML LAB/sign_language_detection/Tensorflow/workspace/images/collectedimages/5/5.ce2ae9ac-835d-11ed-b173-acde48001122.jpg -> Annotation:/Volumes/Study/University/Semester 5/ML LAB/sign_language_detection/Tensorflow/workspace/images/collectedimages/5/5.ce2ae9ac-835d-11ed-b173-acde48001122.xml\n",
      "Image:/Volumes/Study/University/Semester 5/ML LAB/sign_language_detection/Tensorflow/workspace/images/collectedimages/5/5.cf65b43c-835d-11ed-b173-acde48001122.jpg -> Annotation:/Volumes/Study/University/Semester 5/ML LAB/sign_language_detection/Tensorflow/workspace/images/collectedimages/5/5.cf65b43c-835d-11ed-b173-acde48001122.xml\n",
      "Image:/Volumes/Study/University/Semester 5/ML LAB/sign_language_detection/Tensorflow/workspace/images/collectedimages/5/5.cf65b43c-835d-11ed-b173-acde48001122.jpg -> Annotation:/Volumes/Study/University/Semester 5/ML LAB/sign_language_detection/Tensorflow/workspace/images/collectedimages/5/5.cf65b43c-835d-11ed-b173-acde48001122.xml\n",
      "Image:/Volumes/Study/University/Semester 5/ML LAB/sign_language_detection/Tensorflow/workspace/images/collectedimages/5/5.d0a0c42c-835d-11ed-b173-acde48001122.jpg -> Annotation:/Volumes/Study/University/Semester 5/ML LAB/sign_language_detection/Tensorflow/workspace/images/collectedimages/5/5.d0a0c42c-835d-11ed-b173-acde48001122.xml\n",
      "Image:/Volumes/Study/University/Semester 5/ML LAB/sign_language_detection/Tensorflow/workspace/images/collectedimages/5/5.d0a0c42c-835d-11ed-b173-acde48001122.jpg -> Annotation:/Volumes/Study/University/Semester 5/ML LAB/sign_language_detection/Tensorflow/workspace/images/collectedimages/5/5.d0a0c42c-835d-11ed-b173-acde48001122.xml\n",
      "Image:/Volumes/Study/University/Semester 5/ML LAB/sign_language_detection/Tensorflow/workspace/images/collectedimages/5/5.d0a0c42c-835d-11ed-b173-acde48001122.jpg -> Annotation:/Volumes/Study/University/Semester 5/ML LAB/sign_language_detection/Tensorflow/workspace/images/collectedimages/5/5.d0a0c42c-835d-11ed-b173-acde48001122.xml\n",
      "Image:/Volumes/Study/University/Semester 5/ML LAB/sign_language_detection/Tensorflow/workspace/images/collectedimages/5/5.d1dbd6ba-835d-11ed-b173-acde48001122.jpg -> Annotation:/Volumes/Study/University/Semester 5/ML LAB/sign_language_detection/Tensorflow/workspace/images/collectedimages/5/5.d1dbd6ba-835d-11ed-b173-acde48001122.xml\n",
      "Image:/Volumes/Study/University/Semester 5/ML LAB/sign_language_detection/Tensorflow/workspace/images/collectedimages/5/5.d0a0c42c-835d-11ed-b173-acde48001122.jpg -> Annotation:/Volumes/Study/University/Semester 5/ML LAB/sign_language_detection/Tensorflow/workspace/images/collectedimages/5/5.d0a0c42c-835d-11ed-b173-acde48001122.xml\n",
      "Image:/Volumes/Study/University/Semester 5/ML LAB/sign_language_detection/Tensorflow/workspace/images/collectedimages/5/5.cf65b43c-835d-11ed-b173-acde48001122.jpg -> Annotation:/Volumes/Study/University/Semester 5/ML LAB/sign_language_detection/Tensorflow/workspace/images/collectedimages/5/5.cf65b43c-835d-11ed-b173-acde48001122.xml\n",
      "Image:/Volumes/Study/University/Semester 5/ML LAB/sign_language_detection/Tensorflow/workspace/images/collectedimages/5/5.cf65b43c-835d-11ed-b173-acde48001122.jpg -> Annotation:/Volumes/Study/University/Semester 5/ML LAB/sign_language_detection/Tensorflow/workspace/images/collectedimages/5/5.cf65b43c-835d-11ed-b173-acde48001122.xml\n",
      "Cancel creation.\n",
      "Image:/Volumes/Study/University/Semester 5/ML LAB/sign_language_detection/Tensorflow/workspace/images/collectedimages/5/5.d6c8b8a0-835d-11ed-b173-acde48001122.jpg -> Annotation:/Volumes/Study/University/Semester 5/ML LAB/sign_language_detection/Tensorflow/workspace/images/collectedimages/5/5.d6c8b8a0-835d-11ed-b173-acde48001122.xml\n",
      "Image:/Volumes/Study/University/Semester 5/ML LAB/sign_language_detection/Tensorflow/workspace/images/collectedimages/5/5.d58dc2b4-835d-11ed-b173-acde48001122.jpg -> Annotation:/Volumes/Study/University/Semester 5/ML LAB/sign_language_detection/Tensorflow/workspace/images/collectedimages/5/5.d58dc2b4-835d-11ed-b173-acde48001122.xml\n",
      "Image:/Volumes/Study/University/Semester 5/ML LAB/sign_language_detection/Tensorflow/workspace/images/collectedimages/5/5.d452dbdc-835d-11ed-b173-acde48001122.jpg -> Annotation:/Volumes/Study/University/Semester 5/ML LAB/sign_language_detection/Tensorflow/workspace/images/collectedimages/5/5.d452dbdc-835d-11ed-b173-acde48001122.xml\n",
      "Image:/Volumes/Study/University/Semester 5/ML LAB/sign_language_detection/Tensorflow/workspace/images/collectedimages/5/5.d803bdfa-835d-11ed-b173-acde48001122.jpg -> Annotation:/Volumes/Study/University/Semester 5/ML LAB/sign_language_detection/Tensorflow/workspace/images/collectedimages/5/5.d803bdfa-835d-11ed-b173-acde48001122.xml\n",
      "Image:/Volumes/Study/University/Semester 5/ML LAB/sign_language_detection/Tensorflow/workspace/images/collectedimages/5/5.d3170df6-835d-11ed-b173-acde48001122.jpg -> Annotation:/Volumes/Study/University/Semester 5/ML LAB/sign_language_detection/Tensorflow/workspace/images/collectedimages/5/5.d3170df6-835d-11ed-b173-acde48001122.xml\n",
      "Image:/Volumes/Study/University/Semester 5/ML LAB/sign_language_detection/Tensorflow/workspace/images/collectedimages/6/6.dc44c170-835d-11ed-b173-acde48001122.jpg -> Annotation:/Volumes/Study/University/Semester 5/ML LAB/sign_language_detection/Tensorflow/workspace/images/collectedimages/6/6.dc44c170-835d-11ed-b173-acde48001122.xml\n",
      "Image:/Volumes/Study/University/Semester 5/ML LAB/sign_language_detection/Tensorflow/workspace/images/collectedimages/6/6.dd8064e0-835d-11ed-b173-acde48001122.jpg -> Annotation:/Volumes/Study/University/Semester 5/ML LAB/sign_language_detection/Tensorflow/workspace/images/collectedimages/6/6.dd8064e0-835d-11ed-b173-acde48001122.xml\n",
      "Image:/Volumes/Study/University/Semester 5/ML LAB/sign_language_detection/Tensorflow/workspace/images/collectedimages/6/6.deba64f0-835d-11ed-b173-acde48001122.jpg -> Annotation:/Volumes/Study/University/Semester 5/ML LAB/sign_language_detection/Tensorflow/workspace/images/collectedimages/6/6.deba64f0-835d-11ed-b173-acde48001122.xml\n",
      "Image:/Volumes/Study/University/Semester 5/ML LAB/sign_language_detection/Tensorflow/workspace/images/collectedimages/6/6.dff61d50-835d-11ed-b173-acde48001122.jpg -> Annotation:/Volumes/Study/University/Semester 5/ML LAB/sign_language_detection/Tensorflow/workspace/images/collectedimages/6/6.dff61d50-835d-11ed-b173-acde48001122.xml\n",
      "Image:/Volumes/Study/University/Semester 5/ML LAB/sign_language_detection/Tensorflow/workspace/images/collectedimages/6/6.e3a6a500-835d-11ed-b173-acde48001122.jpg -> Annotation:/Volumes/Study/University/Semester 5/ML LAB/sign_language_detection/Tensorflow/workspace/images/collectedimages/6/6.e3a6a500-835d-11ed-b173-acde48001122.xml\n",
      "Image:/Volumes/Study/University/Semester 5/ML LAB/sign_language_detection/Tensorflow/workspace/images/collectedimages/6/6.e4e1c792-835d-11ed-b173-acde48001122.jpg -> Annotation:/Volumes/Study/University/Semester 5/ML LAB/sign_language_detection/Tensorflow/workspace/images/collectedimages/6/6.e4e1c792-835d-11ed-b173-acde48001122.xml\n",
      "Image:/Volumes/Study/University/Semester 5/ML LAB/sign_language_detection/Tensorflow/workspace/images/collectedimages/6/6.e26bab68-835d-11ed-b173-acde48001122.jpg -> Annotation:/Volumes/Study/University/Semester 5/ML LAB/sign_language_detection/Tensorflow/workspace/images/collectedimages/6/6.e26bab68-835d-11ed-b173-acde48001122.xml\n",
      "Image:/Volumes/Study/University/Semester 5/ML LAB/sign_language_detection/Tensorflow/workspace/images/collectedimages/6/6.e61cec68-835d-11ed-b173-acde48001122.jpg -> Annotation:/Volumes/Study/University/Semester 5/ML LAB/sign_language_detection/Tensorflow/workspace/images/collectedimages/6/6.e61cec68-835d-11ed-b173-acde48001122.xml\n",
      "Image:/Volumes/Study/University/Semester 5/ML LAB/sign_language_detection/Tensorflow/workspace/images/collectedimages/6/6.e1308dcc-835d-11ed-b173-acde48001122.jpg -> Annotation:/Volumes/Study/University/Semester 5/ML LAB/sign_language_detection/Tensorflow/workspace/images/collectedimages/6/6.e1308dcc-835d-11ed-b173-acde48001122.xml\n"
     ]
    },
    {
     "name": "stdout",
     "output_type": "stream",
     "text": [
      "Image:/Volumes/Study/University/Semester 5/ML LAB/sign_language_detection/Tensorflow/workspace/images/collectedimages/6/6.e754153e-835d-11ed-b173-acde48001122.jpg -> Annotation:/Volumes/Study/University/Semester 5/ML LAB/sign_language_detection/Tensorflow/workspace/images/collectedimages/6/6.e754153e-835d-11ed-b173-acde48001122.xml\n",
      "Image:/Volumes/Study/University/Semester 5/ML LAB/sign_language_detection/Tensorflow/workspace/images/collectedimages/livelong/livelong.7a88f6ea-835d-11ed-b173-acde48001122.jpg -> Annotation:/Volumes/Study/University/Semester 5/ML LAB/sign_language_detection/Tensorflow/workspace/images/collectedimages/livelong/livelong.7a88f6ea-835d-11ed-b173-acde48001122.xml\n",
      "Image:/Volumes/Study/University/Semester 5/ML LAB/sign_language_detection/Tensorflow/workspace/images/collectedimages/livelong/livelong.7bc44794-835d-11ed-b173-acde48001122.jpg -> Annotation:/Volumes/Study/University/Semester 5/ML LAB/sign_language_detection/Tensorflow/workspace/images/collectedimages/livelong/livelong.7bc44794-835d-11ed-b173-acde48001122.xml\n",
      "Image:/Volumes/Study/University/Semester 5/ML LAB/sign_language_detection/Tensorflow/workspace/images/collectedimages/livelong/livelong.70afb528-835d-11ed-b173-acde48001122.jpg -> Annotation:/Volumes/Study/University/Semester 5/ML LAB/sign_language_detection/Tensorflow/workspace/images/collectedimages/livelong/livelong.70afb528-835d-11ed-b173-acde48001122.xml\n",
      "Image:/Volumes/Study/University/Semester 5/ML LAB/sign_language_detection/Tensorflow/workspace/images/collectedimages/livelong/livelong.71eaf9a2-835d-11ed-b173-acde48001122.jpg -> Annotation:/Volumes/Study/University/Semester 5/ML LAB/sign_language_detection/Tensorflow/workspace/images/collectedimages/livelong/livelong.71eaf9a2-835d-11ed-b173-acde48001122.xml\n",
      "Image:/Volumes/Study/University/Semester 5/ML LAB/sign_language_detection/Tensorflow/workspace/images/collectedimages/livelong/livelong.76d7a668-835d-11ed-b173-acde48001122.jpg -> Annotation:/Volumes/Study/University/Semester 5/ML LAB/sign_language_detection/Tensorflow/workspace/images/collectedimages/livelong/livelong.76d7a668-835d-11ed-b173-acde48001122.xml\n",
      "Image:/Volumes/Study/University/Semester 5/ML LAB/sign_language_detection/Tensorflow/workspace/images/collectedimages/livelong/livelong.759c505a-835d-11ed-b173-acde48001122.jpg -> Annotation:/Volumes/Study/University/Semester 5/ML LAB/sign_language_detection/Tensorflow/workspace/images/collectedimages/livelong/livelong.759c505a-835d-11ed-b173-acde48001122.xml\n",
      "Image:/Volumes/Study/University/Semester 5/ML LAB/sign_language_detection/Tensorflow/workspace/images/collectedimages/livelong/livelong.794d8fd4-835d-11ed-b173-acde48001122.jpg -> Annotation:/Volumes/Study/University/Semester 5/ML LAB/sign_language_detection/Tensorflow/workspace/images/collectedimages/livelong/livelong.794d8fd4-835d-11ed-b173-acde48001122.xml\n",
      "Image:/Volumes/Study/University/Semester 5/ML LAB/sign_language_detection/Tensorflow/workspace/images/collectedimages/livelong/livelong.7325c1f8-835d-11ed-b173-acde48001122.jpg -> Annotation:/Volumes/Study/University/Semester 5/ML LAB/sign_language_detection/Tensorflow/workspace/images/collectedimages/livelong/livelong.7325c1f8-835d-11ed-b173-acde48001122.xml\n",
      "Image:/Volumes/Study/University/Semester 5/ML LAB/sign_language_detection/Tensorflow/workspace/images/collectedimages/livelong/livelong.74615cb2-835d-11ed-b173-acde48001122.jpg -> Annotation:/Volumes/Study/University/Semester 5/ML LAB/sign_language_detection/Tensorflow/workspace/images/collectedimages/livelong/livelong.74615cb2-835d-11ed-b173-acde48001122.xml\n",
      "Image:/Volumes/Study/University/Semester 5/ML LAB/sign_language_detection/Tensorflow/workspace/images/collectedimages/thankyou/thankyou.6b2f034c-835d-11ed-b173-acde48001122.jpg -> Annotation:/Volumes/Study/University/Semester 5/ML LAB/sign_language_detection/Tensorflow/workspace/images/collectedimages/thankyou/thankyou.6b2f034c-835d-11ed-b173-acde48001122.xml\n",
      "Image:/Volumes/Study/University/Semester 5/ML LAB/sign_language_detection/Tensorflow/workspace/images/collectedimages/thankyou/thankyou.6c69e510-835d-11ed-b173-acde48001122.jpg -> Annotation:/Volumes/Study/University/Semester 5/ML LAB/sign_language_detection/Tensorflow/workspace/images/collectedimages/thankyou/thankyou.6c69e510-835d-11ed-b173-acde48001122.xml\n",
      "Image:/Volumes/Study/University/Semester 5/ML LAB/sign_language_detection/Tensorflow/workspace/images/collectedimages/thankyou/thankyou.6b2f034c-835d-11ed-b173-acde48001122.jpg -> Annotation:/Volumes/Study/University/Semester 5/ML LAB/sign_language_detection/Tensorflow/workspace/images/collectedimages/thankyou/thankyou.6b2f034c-835d-11ed-b173-acde48001122.xml\n",
      "Cancel creation.\n",
      "Image:/Volumes/Study/University/Semester 5/ML LAB/sign_language_detection/Tensorflow/workspace/images/collectedimages/thankyou/thankyou.63cb818e-835d-11ed-b173-acde48001122.jpg -> Annotation:/Volumes/Study/University/Semester 5/ML LAB/sign_language_detection/Tensorflow/workspace/images/collectedimages/thankyou/thankyou.63cb818e-835d-11ed-b173-acde48001122.xml\n",
      "Image:/Volumes/Study/University/Semester 5/ML LAB/sign_language_detection/Tensorflow/workspace/images/collectedimages/thankyou/thankyou.68b7f826-835d-11ed-b173-acde48001122.jpg -> Annotation:/Volumes/Study/University/Semester 5/ML LAB/sign_language_detection/Tensorflow/workspace/images/collectedimages/thankyou/thankyou.68b7f826-835d-11ed-b173-acde48001122.xml\n",
      "Image:/Volumes/Study/University/Semester 5/ML LAB/sign_language_detection/Tensorflow/workspace/images/collectedimages/thankyou/thankyou.69f39092-835d-11ed-b173-acde48001122.jpg -> Annotation:/Volumes/Study/University/Semester 5/ML LAB/sign_language_detection/Tensorflow/workspace/images/collectedimages/thankyou/thankyou.69f39092-835d-11ed-b173-acde48001122.xml\n",
      "Image:/Volumes/Study/University/Semester 5/ML LAB/sign_language_detection/Tensorflow/workspace/images/collectedimages/thankyou/thankyou.677d49d4-835d-11ed-b173-acde48001122.jpg -> Annotation:/Volumes/Study/University/Semester 5/ML LAB/sign_language_detection/Tensorflow/workspace/images/collectedimages/thankyou/thankyou.677d49d4-835d-11ed-b173-acde48001122.xml\n",
      "Image:/Volumes/Study/University/Semester 5/ML LAB/sign_language_detection/Tensorflow/workspace/images/collectedimages/thankyou/thankyou.6290c2de-835d-11ed-b173-acde48001122.jpg -> Annotation:/Volumes/Study/University/Semester 5/ML LAB/sign_language_detection/Tensorflow/workspace/images/collectedimages/thankyou/thankyou.6290c2de-835d-11ed-b173-acde48001122.xml\n",
      "Image:/Volumes/Study/University/Semester 5/ML LAB/sign_language_detection/Tensorflow/workspace/images/collectedimages/thankyou/thankyou.66426fb8-835d-11ed-b173-acde48001122.jpg -> Annotation:/Volumes/Study/University/Semester 5/ML LAB/sign_language_detection/Tensorflow/workspace/images/collectedimages/thankyou/thankyou.66426fb8-835d-11ed-b173-acde48001122.xml\n",
      "Image:/Volumes/Study/University/Semester 5/ML LAB/sign_language_detection/Tensorflow/workspace/images/collectedimages/thankyou/thankyou.615566a4-835d-11ed-b173-acde48001122.jpg -> Annotation:/Volumes/Study/University/Semester 5/ML LAB/sign_language_detection/Tensorflow/workspace/images/collectedimages/thankyou/thankyou.615566a4-835d-11ed-b173-acde48001122.xml\n",
      "Image:/Volumes/Study/University/Semester 5/ML LAB/sign_language_detection/Tensorflow/workspace/images/collectedimages/thankyou/thankyou.650633c8-835d-11ed-b173-acde48001122.jpg -> Annotation:/Volumes/Study/University/Semester 5/ML LAB/sign_language_detection/Tensorflow/workspace/images/collectedimages/thankyou/thankyou.650633c8-835d-11ed-b173-acde48001122.xml\n",
      "Image:/Volumes/Study/University/Semester 5/ML LAB/sign_language_detection/Tensorflow/workspace/images/collectedimages/thumbsdown/thumbsdown.5a9983fe-835d-11ed-b173-acde48001122.jpg -> Annotation:/Volumes/Study/University/Semester 5/ML LAB/sign_language_detection/Tensorflow/workspace/images/collectedimages/thumbsdown/thumbsdown.5a9983fe-835d-11ed-b173-acde48001122.xml\n",
      "Image:/Volumes/Study/University/Semester 5/ML LAB/sign_language_detection/Tensorflow/workspace/images/collectedimages/thumbsdown/thumbsdown.5bd4920e-835d-11ed-b173-acde48001122.jpg -> Annotation:/Volumes/Study/University/Semester 5/ML LAB/sign_language_detection/Tensorflow/workspace/images/collectedimages/thumbsdown/thumbsdown.5bd4920e-835d-11ed-b173-acde48001122.xml\n"
     ]
    },
    {
     "name": "stdout",
     "output_type": "stream",
     "text": [
      "Image:/Volumes/Study/University/Semester 5/ML LAB/sign_language_detection/Tensorflow/workspace/images/collectedimages/thumbsdown/thumbsdown.5d10df9c-835d-11ed-b173-acde48001122.jpg -> Annotation:/Volumes/Study/University/Semester 5/ML LAB/sign_language_detection/Tensorflow/workspace/images/collectedimages/thumbsdown/thumbsdown.5d10df9c-835d-11ed-b173-acde48001122.xml\n",
      "Image:/Volumes/Study/University/Semester 5/ML LAB/sign_language_detection/Tensorflow/workspace/images/collectedimages/thumbsdown/thumbsdown.51fba402-835d-11ed-b173-acde48001122.jpg -> Annotation:/Volumes/Study/University/Semester 5/ML LAB/sign_language_detection/Tensorflow/workspace/images/collectedimages/thumbsdown/thumbsdown.51fba402-835d-11ed-b173-acde48001122.xml\n",
      "Image:/Volumes/Study/University/Semester 5/ML LAB/sign_language_detection/Tensorflow/workspace/images/collectedimages/thumbsdown/thumbsdown.55ac36e8-835d-11ed-b173-acde48001122.jpg -> Annotation:/Volumes/Study/University/Semester 5/ML LAB/sign_language_detection/Tensorflow/workspace/images/collectedimages/thumbsdown/thumbsdown.55ac36e8-835d-11ed-b173-acde48001122.xml\n",
      "Image:/Volumes/Study/University/Semester 5/ML LAB/sign_language_detection/Tensorflow/workspace/images/collectedimages/thumbsdown/thumbsdown.56e826f2-835d-11ed-b173-acde48001122.jpg -> Annotation:/Volumes/Study/University/Semester 5/ML LAB/sign_language_detection/Tensorflow/workspace/images/collectedimages/thumbsdown/thumbsdown.56e826f2-835d-11ed-b173-acde48001122.xml\n",
      "Image:/Volumes/Study/University/Semester 5/ML LAB/sign_language_detection/Tensorflow/workspace/images/collectedimages/thumbsdown/thumbsdown.595e3fde-835d-11ed-b173-acde48001122.jpg -> Annotation:/Volumes/Study/University/Semester 5/ML LAB/sign_language_detection/Tensorflow/workspace/images/collectedimages/thumbsdown/thumbsdown.595e3fde-835d-11ed-b173-acde48001122.xml\n",
      "Image:/Volumes/Study/University/Semester 5/ML LAB/sign_language_detection/Tensorflow/workspace/images/collectedimages/thumbsdown/thumbsdown.5335d720-835d-11ed-b173-acde48001122.jpg -> Annotation:/Volumes/Study/University/Semester 5/ML LAB/sign_language_detection/Tensorflow/workspace/images/collectedimages/thumbsdown/thumbsdown.5335d720-835d-11ed-b173-acde48001122.xml\n",
      "Image:/Volumes/Study/University/Semester 5/ML LAB/sign_language_detection/Tensorflow/workspace/images/collectedimages/thumbsdown/thumbsdown.5470f124-835d-11ed-b173-acde48001122.jpg -> Annotation:/Volumes/Study/University/Semester 5/ML LAB/sign_language_detection/Tensorflow/workspace/images/collectedimages/thumbsdown/thumbsdown.5470f124-835d-11ed-b173-acde48001122.xml\n",
      "Image:/Volumes/Study/University/Semester 5/ML LAB/sign_language_detection/Tensorflow/workspace/images/collectedimages/thumbsdown/thumbsdown.5822b348-835d-11ed-b173-acde48001122.jpg -> Annotation:/Volumes/Study/University/Semester 5/ML LAB/sign_language_detection/Tensorflow/workspace/images/collectedimages/thumbsdown/thumbsdown.5822b348-835d-11ed-b173-acde48001122.xml\n",
      "Image:/Volumes/Study/University/Semester 5/ML LAB/sign_language_detection/Tensorflow/workspace/images/collectedimages/thumbsup/thumbsup.4a0434e4-835d-11ed-b173-acde48001122.jpg -> Annotation:/Volumes/Study/University/Semester 5/ML LAB/sign_language_detection/Tensorflow/workspace/images/collectedimages/thumbsup/thumbsup.4a0434e4-835d-11ed-b173-acde48001122.xml\n",
      "Image:/Volumes/Study/University/Semester 5/ML LAB/sign_language_detection/Tensorflow/workspace/images/collectedimages/thumbsup/thumbsup.4b4058d8-835d-11ed-b173-acde48001122.jpg -> Annotation:/Volumes/Study/University/Semester 5/ML LAB/sign_language_detection/Tensorflow/workspace/images/collectedimages/thumbsup/thumbsup.4b4058d8-835d-11ed-b173-acde48001122.xml\n",
      "Image:/Volumes/Study/University/Semester 5/ML LAB/sign_language_detection/Tensorflow/workspace/images/collectedimages/thumbsup/thumbsup.4c7a73d2-835d-11ed-b173-acde48001122.jpg -> Annotation:/Volumes/Study/University/Semester 5/ML LAB/sign_language_detection/Tensorflow/workspace/images/collectedimages/thumbsup/thumbsup.4c7a73d2-835d-11ed-b173-acde48001122.xml\n",
      "Image:/Volumes/Study/University/Semester 5/ML LAB/sign_language_detection/Tensorflow/workspace/images/collectedimages/thumbsup/thumbsup.4db5b3d8-835d-11ed-b173-acde48001122.jpg -> Annotation:/Volumes/Study/University/Semester 5/ML LAB/sign_language_detection/Tensorflow/workspace/images/collectedimages/thumbsup/thumbsup.4db5b3d8-835d-11ed-b173-acde48001122.xml\n",
      "Image:/Volumes/Study/University/Semester 5/ML LAB/sign_language_detection/Tensorflow/workspace/images/collectedimages/thumbsup/thumbsup.43dcaeca-835d-11ed-b173-acde48001122.jpg -> Annotation:/Volumes/Study/University/Semester 5/ML LAB/sign_language_detection/Tensorflow/workspace/images/collectedimages/thumbsup/thumbsup.43dcaeca-835d-11ed-b173-acde48001122.xml\n",
      "Image:/Volumes/Study/University/Semester 5/ML LAB/sign_language_detection/Tensorflow/workspace/images/collectedimages/thumbsup/thumbsup.48c9ae1a-835d-11ed-b173-acde48001122.jpg -> Annotation:/Volumes/Study/University/Semester 5/ML LAB/sign_language_detection/Tensorflow/workspace/images/collectedimages/thumbsup/thumbsup.48c9ae1a-835d-11ed-b173-acde48001122.xml\n",
      "Image:/Volumes/Study/University/Semester 5/ML LAB/sign_language_detection/Tensorflow/workspace/images/collectedimages/thumbsup/thumbsup.478df510-835d-11ed-b173-acde48001122.jpg -> Annotation:/Volumes/Study/University/Semester 5/ML LAB/sign_language_detection/Tensorflow/workspace/images/collectedimages/thumbsup/thumbsup.478df510-835d-11ed-b173-acde48001122.xml\n",
      "Image:/Volumes/Study/University/Semester 5/ML LAB/sign_language_detection/Tensorflow/workspace/images/collectedimages/thumbsup/thumbsup.4652b6d6-835d-11ed-b173-acde48001122.jpg -> Annotation:/Volumes/Study/University/Semester 5/ML LAB/sign_language_detection/Tensorflow/workspace/images/collectedimages/thumbsup/thumbsup.4652b6d6-835d-11ed-b173-acde48001122.xml\n",
      "Image:/Volumes/Study/University/Semester 5/ML LAB/sign_language_detection/Tensorflow/workspace/images/collectedimages/thumbsup/thumbsup.42996b48-835d-11ed-b173-acde48001122.jpg -> Annotation:/Volumes/Study/University/Semester 5/ML LAB/sign_language_detection/Tensorflow/workspace/images/collectedimages/thumbsup/thumbsup.42996b48-835d-11ed-b173-acde48001122.xml\n",
      "Image:/Volumes/Study/University/Semester 5/ML LAB/sign_language_detection/Tensorflow/workspace/images/collectedimages/thumbsup/thumbsup.45177f7c-835d-11ed-b173-acde48001122.jpg -> Annotation:/Volumes/Study/University/Semester 5/ML LAB/sign_language_detection/Tensorflow/workspace/images/collectedimages/thumbsup/thumbsup.45177f7c-835d-11ed-b173-acde48001122.xml\n"
     ]
    }
   ],
   "source": [
    "!cd {LABELIMG_PATH} && python labelImg.py"
   ]
  },
  {
   "cell_type": "markdown",
   "metadata": {},
   "source": [
    "# 6. Move them into a Training and Testing Partition"
   ]
  },
  {
   "cell_type": "markdown",
   "metadata": {},
   "source": [
    " 7. Compress them for Colab Training"
   ]
  },
  {
   "cell_type": "code",
   "execution_count": 26,
   "metadata": {},
   "outputs": [],
   "source": [
    "TRAIN_PATH = os.path.join('Tensorflow', 'workspace', 'images', 'train')\n",
    "TEST_PATH = os.path.join('Tensorflow', 'workspace', 'images', 'test')\n",
    "ARCHIVE_PATH = os.path.join('Tensorflow', 'workspace', 'images', 'archive.tar.gz')"
   ]
  },
  {
   "cell_type": "code",
   "execution_count": 28,
   "metadata": {},
   "outputs": [],
   "source": [
    "!tar -czf {ARCHIVE_PATH} {TRAIN_PATH} {TEST_PATH}"
   ]
  },
  {
   "cell_type": "code",
   "execution_count": null,
   "metadata": {},
   "outputs": [],
   "source": []
  }
 ],
 "metadata": {
  "kernelspec": {
   "display_name": "mlproject",
   "language": "python",
   "name": "mlproject"
  },
  "language_info": {
   "codemirror_mode": {
    "name": "ipython",
    "version": 3
   },
   "file_extension": ".py",
   "mimetype": "text/x-python",
   "name": "python",
   "nbconvert_exporter": "python",
   "pygments_lexer": "ipython3",
   "version": "3.9.12"
  }
 },
 "nbformat": 4,
 "nbformat_minor": 2
}
