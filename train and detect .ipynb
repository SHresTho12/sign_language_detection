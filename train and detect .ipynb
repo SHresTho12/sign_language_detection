{
 "cells": [
  {
   "cell_type": "markdown",
   "metadata": {
    "id": "QUANWN3rpfC9"
   },
   "source": [
    "# Setup"
   ]
  },
  {
   "cell_type": "code",
   "execution_count": 1,
   "metadata": {
    "id": "146BB11JpfDA"
   },
   "outputs": [],
   "source": [
    "import os"
   ]
  },
  {
   "cell_type": "code",
   "execution_count": 2,
   "metadata": {
    "id": "42hJEdo_pfDB"
   },
   "outputs": [],
   "source": [
    "CUSTOM_MODEL_NAME = 'my_ssd_mobnet' \n",
    "PRETRAINED_MODEL_NAME = 'ssd_mobilenet_v2_fpnlite_320x320_coco17_tpu-8'\n",
    "PRETRAINED_MODEL_URL = 'http://download.tensorflow.org/models/object_detection/tf2/20200711/ssd_mobilenet_v2_fpnlite_320x320_coco17_tpu-8.tar.gz'\n",
    "TF_RECORD_SCRIPT_NAME = 'generate_tfrecord.py'\n",
    "LABEL_MAP_NAME = 'label_map.pbtxt'"
   ]
  },
  {
   "cell_type": "code",
   "execution_count": 3,
   "metadata": {
    "id": "hbPhYVy_pfDB"
   },
   "outputs": [],
   "source": [
    "paths = {\n",
    "    'WORKSPACE_PATH': os.path.join('Tensorflow', 'workspace'),\n",
    "    'SCRIPTS_PATH': os.path.join('Tensorflow','scripts'),\n",
    "    'APIMODEL_PATH': os.path.join('Tensorflow','models'),\n",
    "    'ANNOTATION_PATH': os.path.join('Tensorflow', 'workspace','annotations'),\n",
    "    'IMAGE_PATH': os.path.join('Tensorflow', 'workspace','images'),\n",
    "    'MODEL_PATH': os.path.join('Tensorflow', 'workspace','models'),\n",
    "    'PRETRAINED_MODEL_PATH': os.path.join('Tensorflow', 'workspace','pre-trained-models'),\n",
    "    'CHECKPOINT_PATH': os.path.join('Tensorflow', 'workspace','models',CUSTOM_MODEL_NAME), \n",
    "    'OUTPUT_PATH': os.path.join('Tensorflow', 'workspace','models',CUSTOM_MODEL_NAME, 'export'), \n",
    "    'TFJS_PATH':os.path.join('Tensorflow', 'workspace','models',CUSTOM_MODEL_NAME, 'tfjsexport'), \n",
    "    'TFLITE_PATH':os.path.join('Tensorflow', 'workspace','models',CUSTOM_MODEL_NAME, 'tfliteexport'), \n",
    "    'PROTOC_PATH':os.path.join('Tensorflow','protoc')\n",
    " }"
   ]
  },
  {
   "cell_type": "code",
   "execution_count": 4,
   "metadata": {
    "id": "LwhWZMI0pfDC"
   },
   "outputs": [],
   "source": [
    "files = {\n",
    "    'PIPELINE_CONFIG':os.path.join('Tensorflow', 'workspace','models', CUSTOM_MODEL_NAME, 'pipeline.config'),\n",
    "    'TF_RECORD_SCRIPT': os.path.join(paths['SCRIPTS_PATH'], TF_RECORD_SCRIPT_NAME), \n",
    "    'LABELMAP': os.path.join(paths['ANNOTATION_PATH'], LABEL_MAP_NAME)\n",
    "}"
   ]
  },
  {
   "cell_type": "code",
   "execution_count": 5,
   "metadata": {
    "id": "HR-TfDGrpfDC"
   },
   "outputs": [],
   "source": [
    "for path in paths.values():\n",
    "    if not os.path.exists(path):\n",
    "        if os.name == 'posix':\n",
    "            !mkdir -p {path}\n",
    "        if os.name == 'nt':\n",
    "            !mkdir {path}"
   ]
  },
  {
   "cell_type": "markdown",
   "metadata": {
    "id": "OLU-rs_ipfDE"
   },
   "source": [
    "# TF Models Pretrained Models from Tensorflow Model Zoo and Install Tensor flow object detection"
   ]
  },
  {
   "cell_type": "code",
   "execution_count": 6,
   "metadata": {},
   "outputs": [],
   "source": [
    "# https://www.tensorflow.org/install/source_windows"
   ]
  },
  {
   "cell_type": "code",
   "execution_count": 7,
   "metadata": {
    "id": "K-Cmz2edpfDE",
    "scrolled": true
   },
   "outputs": [],
   "source": [
    "if os.name=='nt':\n",
    "    !pip install wget\n",
    "    import wget"
   ]
  },
  {
   "cell_type": "code",
   "execution_count": 8,
   "metadata": {
    "id": "iA1DIq5OpfDE"
   },
   "outputs": [],
   "source": [
    "if not os.path.exists(os.path.join(paths['APIMODEL_PATH'], 'research', 'object_detection')):\n",
    "    !git clone https://github.com/tensorflow/models {paths['APIMODEL_PATH']}"
   ]
  },
  {
   "cell_type": "code",
   "execution_count": 9,
   "metadata": {},
   "outputs": [
    {
     "name": "stdout",
     "output_type": "stream",
     "text": [
      "2022-12-15 09:50:16.169655: I tensorflow/core/platform/cpu_feature_guard.cc:193] This TensorFlow binary is optimized with oneAPI Deep Neural Network Library (oneDNN) to use the following CPU instructions in performance-critical operations:  AVX2 FMA\n",
      "To enable them in other operations, rebuild TensorFlow with the appropriate compiler flags.\n",
      "usage: tf_upgrade_v2 [-h] [--infile INPUT_FILE] [--outfile OUTPUT_FILE]\n",
      "                     [--intree INPUT_TREE] [--outtree OUTPUT_TREE]\n",
      "                     [--copyotherfiles COPY_OTHER_FILES] [--inplace]\n",
      "                     [--no_import_rename] [--no_upgrade_compat_v1_import]\n",
      "                     [--reportfile REPORT_FILENAME] [--mode {DEFAULT,SAFETY}]\n",
      "                     [--print_all]\n",
      "\n",
      "Convert a TensorFlow Python file from 1.x to 2.0\n",
      "\n",
      "Simple usage:\n",
      "  tf_upgrade_v2.py --infile foo.py --outfile bar.py\n",
      "  tf_upgrade_v2.py --infile foo.ipynb --outfile bar.ipynb\n",
      "  tf_upgrade_v2.py --intree ~/code/old --outtree ~/code/new\n",
      "\n",
      "optional arguments:\n",
      "  -h, --help            show this help message and exit\n",
      "  --infile INPUT_FILE   If converting a single file, the name of the file to\n",
      "                        convert\n",
      "  --outfile OUTPUT_FILE\n",
      "                        If converting a single file, the output filename.\n",
      "  --intree INPUT_TREE   If converting a whole tree of files, the directory to\n",
      "                        read from (relative or absolute).\n",
      "  --outtree OUTPUT_TREE\n",
      "                        If converting a whole tree of files, the output\n",
      "                        directory (relative or absolute).\n",
      "  --copyotherfiles COPY_OTHER_FILES\n",
      "                        If converting a whole tree of files, whether to copy\n",
      "                        the other files.\n",
      "  --inplace             If converting a set of files, whether to allow the\n",
      "                        conversion to be performed on the input files.\n",
      "  --no_import_rename    Not to rename import to compat.v2 explicitly.\n",
      "  --no_upgrade_compat_v1_import\n",
      "                        If specified, don't upgrade explicit imports of\n",
      "                        `tensorflow.compat.v1 as tf` to the v2 APIs.\n",
      "                        Otherwise, explicit imports of the form\n",
      "                        `tensorflow.compat.v1 as tf` will be upgraded.\n",
      "  --reportfile REPORT_FILENAME\n",
      "                        The name of the file where the report log is\n",
      "                        stored.(default: report.txt)\n",
      "  --mode {DEFAULT,SAFETY}\n",
      "                        Upgrade script mode. Supported modes: DEFAULT: Perform\n",
      "                        only straightforward conversions to upgrade to 2.0. In\n",
      "                        more difficult cases, switch to use compat.v1. SAFETY:\n",
      "                        Keep 1.* code intact and import compat.v1 module.\n",
      "  --print_all           Print full log to stdout instead of just printing\n",
      "                        errors\n"
     ]
    }
   ],
   "source": [
    "!tf_upgrade_v2 -h"
   ]
  },
  {
   "cell_type": "code",
   "execution_count": 9,
   "metadata": {
    "id": "rJjMHbnDs3Tv"
   },
   "outputs": [
    {
     "name": "stdout",
     "output_type": "stream",
     "text": [
      "Running `brew update --auto-update`...\n",
      "^C\n",
      "Processing /Volumes/Study/University/Semester 5/ML LAB/sign_language_detection/Tensorflow/models/research\n",
      "  Preparing metadata (setup.py) ... \u001b[?25ldone\n",
      "\u001b[?25hCollecting avro-python3\n",
      "  Downloading avro-python3-1.10.2.tar.gz (38 kB)\n",
      "  Preparing metadata (setup.py) ... \u001b[?25ldone\n",
      "\u001b[?25hCollecting apache-beam\n",
      "  Downloading apache_beam-2.43.0-cp39-cp39-macosx_10_9_x86_64.whl (5.0 MB)\n",
      "\u001b[2K     \u001b[90m━━━━━━━━━━━━━━━━━━━━━━━━━━━━━━━━━━━━━━━━\u001b[0m \u001b[32m5.0/5.0 MB\u001b[0m \u001b[31m6.8 MB/s\u001b[0m eta \u001b[36m0:00:00\u001b[0m00:01\u001b[0m00:01\u001b[0m\n",
      "\u001b[?25hRequirement already satisfied: pillow in /Volumes/Study/University/Semester 5/ML LAB/Project/sign_language_detection/mlproject/lib/python3.9/site-packages (from object-detection==0.1) (9.3.0)\n",
      "Requirement already satisfied: lxml in /Volumes/Study/University/Semester 5/ML LAB/Project/sign_language_detection/mlproject/lib/python3.9/site-packages (from object-detection==0.1) (4.9.1)\n",
      "Requirement already satisfied: matplotlib in /Volumes/Study/University/Semester 5/ML LAB/Project/sign_language_detection/mlproject/lib/python3.9/site-packages (from object-detection==0.1) (3.6.2)\n",
      "Requirement already satisfied: Cython in /Volumes/Study/University/Semester 5/ML LAB/Project/sign_language_detection/mlproject/lib/python3.9/site-packages (from object-detection==0.1) (0.29.32)\n",
      "Requirement already satisfied: contextlib2 in /Volumes/Study/University/Semester 5/ML LAB/Project/sign_language_detection/mlproject/lib/python3.9/site-packages (from object-detection==0.1) (21.6.0)\n",
      "Requirement already satisfied: tf-slim in /Volumes/Study/University/Semester 5/ML LAB/Project/sign_language_detection/mlproject/lib/python3.9/site-packages (from object-detection==0.1) (1.1.0)\n",
      "Requirement already satisfied: six in /Volumes/Study/University/Semester 5/ML LAB/Project/sign_language_detection/mlproject/lib/python3.9/site-packages (from object-detection==0.1) (1.15.0)\n",
      "Requirement already satisfied: pycocotools in /Volumes/Study/University/Semester 5/ML LAB/Project/sign_language_detection/mlproject/lib/python3.9/site-packages (from object-detection==0.1) (2.0.6)\n",
      "Collecting lvis\n",
      "  Downloading lvis-0.5.3-py3-none-any.whl (14 kB)\n",
      "Requirement already satisfied: scipy in /Volumes/Study/University/Semester 5/ML LAB/Project/sign_language_detection/mlproject/lib/python3.9/site-packages (from object-detection==0.1) (1.9.3)\n",
      "Requirement already satisfied: pandas in /Volumes/Study/University/Semester 5/ML LAB/Project/sign_language_detection/mlproject/lib/python3.9/site-packages (from object-detection==0.1) (1.5.2)\n",
      "Requirement already satisfied: tf-models-official>=2.5.1 in /Volumes/Study/University/Semester 5/ML LAB/Project/sign_language_detection/mlproject/lib/python3.9/site-packages (from object-detection==0.1) (2.11.0)\n",
      "Collecting tensorflow_io\n",
      "  Downloading tensorflow_io-0.28.0-cp39-cp39-macosx_10_14_x86_64.whl (24.6 MB)\n",
      "\u001b[2K     \u001b[90m━━━━━━━━━━━━━━━━━━━━━━━━━━━━━━━━━━━━━━━━\u001b[0m \u001b[32m24.6/24.6 MB\u001b[0m \u001b[31m4.1 MB/s\u001b[0m eta \u001b[36m0:00:00\u001b[0m00:01\u001b[0m00:01\u001b[0m\n",
      "\u001b[?25hRequirement already satisfied: keras in /Volumes/Study/University/Semester 5/ML LAB/Project/sign_language_detection/mlproject/lib/python3.9/site-packages (from object-detection==0.1) (2.11.0)\n",
      "Collecting pyparsing==2.4.7\n",
      "  Downloading pyparsing-2.4.7-py2.py3-none-any.whl (67 kB)\n",
      "\u001b[2K     \u001b[90m━━━━━━━━━━━━━━━━━━━━━━━━━━━━━━━━━━━━━━━━\u001b[0m \u001b[32m67.8/67.8 kB\u001b[0m \u001b[31m1.9 MB/s\u001b[0m eta \u001b[36m0:00:00\u001b[0m\n",
      "\u001b[?25hCollecting sacrebleu<=2.2.0\n",
      "  Downloading sacrebleu-2.2.0-py3-none-any.whl (116 kB)\n",
      "\u001b[2K     \u001b[90m━━━━━━━━━━━━━━━━━━━━━━━━━━━━━━━━━━━━━━━\u001b[0m \u001b[32m116.6/116.6 kB\u001b[0m \u001b[31m2.4 MB/s\u001b[0m eta \u001b[36m0:00:00\u001b[0ma \u001b[36m0:00:01\u001b[0m\n",
      "\u001b[?25hRequirement already satisfied: colorama in /Volumes/Study/University/Semester 5/ML LAB/Project/sign_language_detection/mlproject/lib/python3.9/site-packages (from sacrebleu<=2.2.0->object-detection==0.1) (0.4.6)\n",
      "Requirement already satisfied: numpy>=1.17 in /Volumes/Study/University/Semester 5/ML LAB/Project/sign_language_detection/mlproject/lib/python3.9/site-packages (from sacrebleu<=2.2.0->object-detection==0.1) (1.19.5)\n",
      "Requirement already satisfied: portalocker in /Volumes/Study/University/Semester 5/ML LAB/Project/sign_language_detection/mlproject/lib/python3.9/site-packages (from sacrebleu<=2.2.0->object-detection==0.1) (2.6.0)\n",
      "Requirement already satisfied: tabulate>=0.8.9 in /Volumes/Study/University/Semester 5/ML LAB/Project/sign_language_detection/mlproject/lib/python3.9/site-packages (from sacrebleu<=2.2.0->object-detection==0.1) (0.9.0)\n",
      "Requirement already satisfied: regex in /Volumes/Study/University/Semester 5/ML LAB/Project/sign_language_detection/mlproject/lib/python3.9/site-packages (from sacrebleu<=2.2.0->object-detection==0.1) (2022.10.31)\n",
      "Requirement already satisfied: oauth2client in /Volumes/Study/University/Semester 5/ML LAB/Project/sign_language_detection/mlproject/lib/python3.9/site-packages (from tf-models-official>=2.5.1->object-detection==0.1) (4.1.3)\n",
      "Requirement already satisfied: opencv-python-headless==4.5.2.52 in /Volumes/Study/University/Semester 5/ML LAB/Project/sign_language_detection/mlproject/lib/python3.9/site-packages (from tf-models-official>=2.5.1->object-detection==0.1) (4.5.2.52)\n",
      "Requirement already satisfied: tensorflow-hub>=0.6.0 in /Volumes/Study/University/Semester 5/ML LAB/Project/sign_language_detection/mlproject/lib/python3.9/site-packages (from tf-models-official>=2.5.1->object-detection==0.1) (0.12.0)\n",
      "Collecting tensorflow~=2.11.0\n",
      "  Downloading tensorflow-2.11.0-cp39-cp39-macosx_10_14_x86_64.whl (244.3 MB)\n",
      "\u001b[2K     \u001b[90m━━━━━━━━━━━━━━━━━━━━━━━━━━━━━━━━━━━━━━━\u001b[0m \u001b[32m244.3/244.3 MB\u001b[0m \u001b[31m2.1 MB/s\u001b[0m eta \u001b[36m0:00:00\u001b[0m00:01\u001b[0m00:02\u001b[0m\n",
      "\u001b[?25hRequirement already satisfied: kaggle>=1.3.9 in /Volumes/Study/University/Semester 5/ML LAB/Project/sign_language_detection/mlproject/lib/python3.9/site-packages (from tf-models-official>=2.5.1->object-detection==0.1) (1.5.12)\n",
      "Requirement already satisfied: pyyaml<6.0,>=5.1 in /Volumes/Study/University/Semester 5/ML LAB/Project/sign_language_detection/mlproject/lib/python3.9/site-packages (from tf-models-official>=2.5.1->object-detection==0.1) (5.4.1)\n",
      "Requirement already satisfied: tensorflow-datasets in /Volumes/Study/University/Semester 5/ML LAB/Project/sign_language_detection/mlproject/lib/python3.9/site-packages (from tf-models-official>=2.5.1->object-detection==0.1) (4.7.0)\n",
      "Requirement already satisfied: py-cpuinfo>=3.3.0 in /Volumes/Study/University/Semester 5/ML LAB/Project/sign_language_detection/mlproject/lib/python3.9/site-packages (from tf-models-official>=2.5.1->object-detection==0.1) (9.0.0)\n",
      "Requirement already satisfied: tensorflow-model-optimization>=0.4.1 in /Volumes/Study/University/Semester 5/ML LAB/Project/sign_language_detection/mlproject/lib/python3.9/site-packages (from tf-models-official>=2.5.1->object-detection==0.1) (0.7.3)\n",
      "Requirement already satisfied: sentencepiece in /Volumes/Study/University/Semester 5/ML LAB/Project/sign_language_detection/mlproject/lib/python3.9/site-packages (from tf-models-official>=2.5.1->object-detection==0.1) (0.1.97)\n",
      "Requirement already satisfied: gin-config in /Volumes/Study/University/Semester 5/ML LAB/Project/sign_language_detection/mlproject/lib/python3.9/site-packages (from tf-models-official>=2.5.1->object-detection==0.1) (0.5.0)\n",
      "Requirement already satisfied: tensorflow-addons in /Volumes/Study/University/Semester 5/ML LAB/Project/sign_language_detection/mlproject/lib/python3.9/site-packages (from tf-models-official>=2.5.1->object-detection==0.1) (0.18.0)\n",
      "Requirement already satisfied: immutabledict in /Volumes/Study/University/Semester 5/ML LAB/Project/sign_language_detection/mlproject/lib/python3.9/site-packages (from tf-models-official>=2.5.1->object-detection==0.1) (2.2.3)\n",
      "Requirement already satisfied: psutil>=5.4.3 in /Volumes/Study/University/Semester 5/ML LAB/Project/sign_language_detection/mlproject/lib/python3.9/site-packages (from tf-models-official>=2.5.1->object-detection==0.1) (5.9.4)\n",
      "Collecting numpy>=1.17\n",
      "  Downloading numpy-1.23.5-cp39-cp39-macosx_10_9_x86_64.whl (18.1 MB)\n"
     ]
    },
    {
     "name": "stdout",
     "output_type": "stream",
     "text": [
      "\u001b[2K     \u001b[90m━━━━━━━━━━━━━━━━━━━━━━━━━━━━━━━━━━━━━━━━\u001b[0m \u001b[32m18.1/18.1 MB\u001b[0m \u001b[31m4.3 MB/s\u001b[0m eta \u001b[36m0:00:00\u001b[0m00:01\u001b[0m00:01\u001b[0m\n",
      "\u001b[?25hRequirement already satisfied: seqeval in /Volumes/Study/University/Semester 5/ML LAB/Project/sign_language_detection/mlproject/lib/python3.9/site-packages (from tf-models-official>=2.5.1->object-detection==0.1) (1.2.2)\n",
      "Requirement already satisfied: google-api-python-client>=1.6.7 in /Volumes/Study/University/Semester 5/ML LAB/Project/sign_language_detection/mlproject/lib/python3.9/site-packages (from tf-models-official>=2.5.1->object-detection==0.1) (2.66.0)\n",
      "Requirement already satisfied: tensorflow-text~=2.11.0 in /Volumes/Study/University/Semester 5/ML LAB/Project/sign_language_detection/mlproject/lib/python3.9/site-packages (from tf-models-official>=2.5.1->object-detection==0.1) (2.11.0)\n",
      "Requirement already satisfied: pytz>=2020.1 in /Volumes/Study/University/Semester 5/ML LAB/Project/sign_language_detection/mlproject/lib/python3.9/site-packages (from pandas->object-detection==0.1) (2022.6)\n",
      "Requirement already satisfied: python-dateutil>=2.8.1 in /Volumes/Study/University/Semester 5/ML LAB/Project/sign_language_detection/mlproject/lib/python3.9/site-packages (from pandas->object-detection==0.1) (2.8.2)\n",
      "Requirement already satisfied: absl-py>=0.2.2 in /Volumes/Study/University/Semester 5/ML LAB/Project/sign_language_detection/mlproject/lib/python3.9/site-packages (from tf-slim->object-detection==0.1) (0.15.0)\n",
      "Collecting zstandard<1,>=0.18.0\n",
      "  Downloading zstandard-0.19.0-cp39-cp39-macosx_10_9_x86_64.whl (453 kB)\n",
      "\u001b[2K     \u001b[90m━━━━━━━━━━━━━━━━━━━━━━━━━━━━━━━━━━━━━━━\u001b[0m \u001b[32m453.7/453.7 kB\u001b[0m \u001b[31m4.4 MB/s\u001b[0m eta \u001b[36m0:00:00\u001b[0m00:01\u001b[0m00:01\u001b[0m\n",
      "\u001b[?25hCollecting numpy>=1.17\n",
      "  Downloading numpy-1.22.4-cp39-cp39-macosx_10_15_x86_64.whl (17.7 MB)\n",
      "\u001b[2K     \u001b[90m━━━━━━━━━━━━━━━━━━━━━━━━━━━━━━━━━━━━━━━━\u001b[0m \u001b[32m17.7/17.7 MB\u001b[0m \u001b[31m7.2 MB/s\u001b[0m eta \u001b[36m0:00:00\u001b[0m00:01\u001b[0m00:01\u001b[0m\n",
      "\u001b[?25hCollecting hdfs<3.0.0,>=2.1.0\n",
      "  Downloading hdfs-2.7.0-py3-none-any.whl (34 kB)\n",
      "Collecting fastavro<2,>=0.23.6\n",
      "  Downloading fastavro-1.7.0-cp39-cp39-macosx_10_15_x86_64.whl (529 kB)\n",
      "\u001b[2K     \u001b[90m━━━━━━━━━━━━━━━━━━━━━━━━━━━━━━━━━━━━━━━\u001b[0m \u001b[32m529.4/529.4 kB\u001b[0m \u001b[31m7.4 MB/s\u001b[0m eta \u001b[36m0:00:00\u001b[0ma \u001b[36m0:00:01\u001b[0m\n",
      "\u001b[?25hCollecting fasteners<1.0,>=0.3\n",
      "  Downloading fasteners-0.18-py3-none-any.whl (18 kB)\n",
      "Collecting crcmod<2.0,>=1.7\n",
      "  Downloading crcmod-1.7.tar.gz (89 kB)\n",
      "\u001b[2K     \u001b[90m━━━━━━━━━━━━━━━━━━━━━━━━━━━━━━━━━━━━━━━━\u001b[0m \u001b[32m89.7/89.7 kB\u001b[0m \u001b[31m2.8 MB/s\u001b[0m eta \u001b[36m0:00:00\u001b[0m\n",
      "\u001b[?25h  Preparing metadata (setup.py) ... \u001b[?25ldone\n",
      "\u001b[?25hCollecting objsize<0.6.0,>=0.5.2\n",
      "  Downloading objsize-0.5.2-py3-none-any.whl (8.2 kB)\n",
      "Collecting pydot<2,>=1.2.0\n",
      "  Downloading pydot-1.4.2-py2.py3-none-any.whl (21 kB)\n",
      "Requirement already satisfied: requests<3.0.0,>=2.24.0 in /Volumes/Study/University/Semester 5/ML LAB/Project/sign_language_detection/mlproject/lib/python3.9/site-packages (from apache-beam->object-detection==0.1) (2.28.1)\n",
      "Collecting dill<0.3.2,>=0.3.1.1\n",
      "  Downloading dill-0.3.1.1.tar.gz (151 kB)\n",
      "\u001b[2K     \u001b[90m━━━━━━━━━━━━━━━━━━━━━━━━━━━━━━━━━━━━━━━\u001b[0m \u001b[32m152.0/152.0 kB\u001b[0m \u001b[31m4.4 MB/s\u001b[0m eta \u001b[36m0:00:00\u001b[0m\n",
      "\u001b[?25h  Preparing metadata (setup.py) ... \u001b[?25ldone\n",
      "\u001b[?25hRequirement already satisfied: typing-extensions>=3.7.0 in /Volumes/Study/University/Semester 5/ML LAB/Project/sign_language_detection/mlproject/lib/python3.9/site-packages (from apache-beam->object-detection==0.1) (3.7.4.3)\n",
      "Collecting orjson<4.0\n",
      "  Downloading orjson-3.8.3-cp39-cp39-macosx_10_9_x86_64.macosx_11_0_arm64.macosx_10_9_universal2.whl (493 kB)\n",
      "\u001b[2K     \u001b[90m━━━━━━━━━━━━━━━━━━━━━━━━━━━━━━━━━━━━━━━\u001b[0m \u001b[32m493.6/493.6 kB\u001b[0m \u001b[31m7.5 MB/s\u001b[0m eta \u001b[36m0:00:00\u001b[0ma \u001b[36m0:00:01\u001b[0m\n",
      "\u001b[?25hCollecting pyarrow<10.0.0,>=0.15.1\n",
      "  Downloading pyarrow-9.0.0-cp39-cp39-macosx_10_13_x86_64.whl (24.0 MB)\n",
      "\u001b[2K     \u001b[90m━━━━━━━━━━━━━━━━━━━━━━━━━━━━━━━━━━━━━━━━\u001b[0m \u001b[32m24.0/24.0 MB\u001b[0m \u001b[31m9.2 MB/s\u001b[0m eta \u001b[36m0:00:00\u001b[0m:00:01\u001b[0m0:01\u001b[0mm\n",
      "\u001b[?25hRequirement already satisfied: grpcio!=1.48.0,<2,>=1.33.1 in /Volumes/Study/University/Semester 5/ML LAB/Project/sign_language_detection/mlproject/lib/python3.9/site-packages (from apache-beam->object-detection==0.1) (1.34.1)\n",
      "Collecting httplib2<0.21.0,>=0.8\n",
      "  Downloading httplib2-0.20.4-py3-none-any.whl (96 kB)\n",
      "\u001b[2K     \u001b[90m━━━━━━━━━━━━━━━━━━━━━━━━━━━━━━━━━━━━━━━━\u001b[0m \u001b[32m96.6/96.6 kB\u001b[0m \u001b[31m3.2 MB/s\u001b[0m eta \u001b[36m0:00:00\u001b[0m\n",
      "\u001b[?25hRequirement already satisfied: protobuf<4,>3.12.2 in /Volumes/Study/University/Semester 5/ML LAB/Project/sign_language_detection/mlproject/lib/python3.9/site-packages (from apache-beam->object-detection==0.1) (3.19.6)\n",
      "Collecting proto-plus<2,>=1.7.1\n",
      "  Downloading proto_plus-1.22.1-py3-none-any.whl (47 kB)\n",
      "\u001b[2K     \u001b[90m━━━━━━━━━━━━━━━━━━━━━━━━━━━━━━━━━━━━━━━━\u001b[0m \u001b[32m47.9/47.9 kB\u001b[0m \u001b[31m1.4 MB/s\u001b[0m eta \u001b[36m0:00:00\u001b[0m\n",
      "\u001b[?25hCollecting cloudpickle~=2.2.0\n",
      "  Downloading cloudpickle-2.2.0-py3-none-any.whl (25 kB)\n",
      "Collecting pymongo<4.0.0,>=3.8.0\n",
      "  Downloading pymongo-3.13.0-cp39-cp39-macosx_10_9_universal2.whl (430 kB)\n",
      "\u001b[2K     \u001b[90m━━━━━━━━━━━━━━━━━━━━━━━━━━━━━━━━━━━━━━━\u001b[0m \u001b[32m430.0/430.0 kB\u001b[0m \u001b[31m6.4 MB/s\u001b[0m eta \u001b[36m0:00:00\u001b[0m00:01\u001b[0m\n",
      "\u001b[?25hRequirement already satisfied: opencv-python>=4.1.0.25 in /Volumes/Study/University/Semester 5/ML LAB/Project/sign_language_detection/mlproject/lib/python3.9/site-packages (from lvis->object-detection==0.1) (4.6.0.66)\n",
      "Requirement already satisfied: cycler>=0.10.0 in /Volumes/Study/University/Semester 5/ML LAB/Project/sign_language_detection/mlproject/lib/python3.9/site-packages (from lvis->object-detection==0.1) (0.11.0)\n",
      "Requirement already satisfied: kiwisolver>=1.1.0 in /Volumes/Study/University/Semester 5/ML LAB/Project/sign_language_detection/mlproject/lib/python3.9/site-packages (from lvis->object-detection==0.1) (1.4.4)\n",
      "Requirement already satisfied: fonttools>=4.22.0 in /Volumes/Study/University/Semester 5/ML LAB/Project/sign_language_detection/mlproject/lib/python3.9/site-packages (from matplotlib->object-detection==0.1) (4.38.0)\n",
      "Requirement already satisfied: packaging>=20.0 in /Volumes/Study/University/Semester 5/ML LAB/Project/sign_language_detection/mlproject/lib/python3.9/site-packages (from matplotlib->object-detection==0.1) (21.3)\n",
      "Requirement already satisfied: contourpy>=1.0.1 in /Volumes/Study/University/Semester 5/ML LAB/Project/sign_language_detection/mlproject/lib/python3.9/site-packages (from matplotlib->object-detection==0.1) (1.0.6)\n",
      "Collecting tensorflow-io-gcs-filesystem==0.28.0\n",
      "  Downloading tensorflow_io_gcs_filesystem-0.28.0-cp39-cp39-macosx_10_14_x86_64.whl (1.6 MB)\n",
      "\u001b[2K     \u001b[90m━━━━━━━━━━━━━━━━━━━━━━━━━━━━━━━━━━━━━━━━\u001b[0m \u001b[32m1.6/1.6 MB\u001b[0m \u001b[31m8.0 MB/s\u001b[0m eta \u001b[36m0:00:00\u001b[0m00:01\u001b[0m00:01\u001b[0mm\n",
      "\u001b[?25hRequirement already satisfied: google-auth<3.0.0dev,>=1.19.0 in /Volumes/Study/University/Semester 5/ML LAB/Project/sign_language_detection/mlproject/lib/python3.9/site-packages (from google-api-python-client>=1.6.7->tf-models-official>=2.5.1->object-detection==0.1) (2.14.1)\n",
      "Requirement already satisfied: google-api-core!=2.0.*,!=2.1.*,!=2.2.*,!=2.3.0,<3.0.0dev,>=1.31.5 in /Volumes/Study/University/Semester 5/ML LAB/Project/sign_language_detection/mlproject/lib/python3.9/site-packages (from google-api-python-client>=1.6.7->tf-models-official>=2.5.1->object-detection==0.1) (2.10.2)\n",
      "Requirement already satisfied: google-auth-httplib2>=0.1.0 in /Volumes/Study/University/Semester 5/ML LAB/Project/sign_language_detection/mlproject/lib/python3.9/site-packages (from google-api-python-client>=1.6.7->tf-models-official>=2.5.1->object-detection==0.1) (0.1.0)\n",
      "Requirement already satisfied: uritemplate<5,>=3.0.1 in /Volumes/Study/University/Semester 5/ML LAB/Project/sign_language_detection/mlproject/lib/python3.9/site-packages (from google-api-python-client>=1.6.7->tf-models-official>=2.5.1->object-detection==0.1) (4.1.1)\n",
      "Collecting docopt\n",
      "  Downloading docopt-0.6.2.tar.gz (25 kB)\n",
      "  Preparing metadata (setup.py) ... \u001b[?25ldone\n",
      "\u001b[?25hRequirement already satisfied: urllib3 in /Volumes/Study/University/Semester 5/ML LAB/Project/sign_language_detection/mlproject/lib/python3.9/site-packages (from kaggle>=1.3.9->tf-models-official>=2.5.1->object-detection==0.1) (1.26.12)\n",
      "Requirement already satisfied: python-slugify in /Volumes/Study/University/Semester 5/ML LAB/Project/sign_language_detection/mlproject/lib/python3.9/site-packages (from kaggle>=1.3.9->tf-models-official>=2.5.1->object-detection==0.1) (7.0.0)\n",
      "Requirement already satisfied: tqdm in /Volumes/Study/University/Semester 5/ML LAB/Project/sign_language_detection/mlproject/lib/python3.9/site-packages (from kaggle>=1.3.9->tf-models-official>=2.5.1->object-detection==0.1) (4.64.1)\n",
      "Requirement already satisfied: certifi in /Volumes/Study/University/Semester 5/ML LAB/Project/sign_language_detection/mlproject/lib/python3.9/site-packages (from kaggle>=1.3.9->tf-models-official>=2.5.1->object-detection==0.1) (2022.9.24)\n"
     ]
    },
    {
     "name": "stdout",
     "output_type": "stream",
     "text": [
      "Requirement already satisfied: charset-normalizer<3,>=2 in /Volumes/Study/University/Semester 5/ML LAB/Project/sign_language_detection/mlproject/lib/python3.9/site-packages (from requests<3.0.0,>=2.24.0->apache-beam->object-detection==0.1) (2.1.1)\n",
      "Requirement already satisfied: idna<4,>=2.5 in /Volumes/Study/University/Semester 5/ML LAB/Project/sign_language_detection/mlproject/lib/python3.9/site-packages (from requests<3.0.0,>=2.24.0->apache-beam->object-detection==0.1) (3.4)\n",
      "Requirement already satisfied: google-pasta>=0.1.1 in /Volumes/Study/University/Semester 5/ML LAB/Project/sign_language_detection/mlproject/lib/python3.9/site-packages (from tensorflow~=2.11.0->tf-models-official>=2.5.1->object-detection==0.1) (0.2.0)\n",
      "Requirement already satisfied: setuptools in /Volumes/Study/University/Semester 5/ML LAB/Project/sign_language_detection/mlproject/lib/python3.9/site-packages (from tensorflow~=2.11.0->tf-models-official>=2.5.1->object-detection==0.1) (58.1.0)\n",
      "Requirement already satisfied: wrapt>=1.11.0 in /Volumes/Study/University/Semester 5/ML LAB/Project/sign_language_detection/mlproject/lib/python3.9/site-packages (from tensorflow~=2.11.0->tf-models-official>=2.5.1->object-detection==0.1) (1.12.1)\n",
      "Collecting absl-py>=0.2.2\n",
      "  Downloading absl_py-1.3.0-py3-none-any.whl (124 kB)\n",
      "\u001b[2K     \u001b[90m━━━━━━━━━━━━━━━━━━━━━━━━━━━━━━━━━━━━━━━\u001b[0m \u001b[32m124.6/124.6 kB\u001b[0m \u001b[31m3.5 MB/s\u001b[0m eta \u001b[36m0:00:00\u001b[0m\n",
      "\u001b[?25hRequirement already satisfied: libclang>=13.0.0 in /Volumes/Study/University/Semester 5/ML LAB/Project/sign_language_detection/mlproject/lib/python3.9/site-packages (from tensorflow~=2.11.0->tf-models-official>=2.5.1->object-detection==0.1) (14.0.6)\n",
      "Collecting flatbuffers>=2.0\n",
      "  Downloading flatbuffers-22.12.6-py2.py3-none-any.whl (26 kB)\n",
      "Requirement already satisfied: tensorboard<2.12,>=2.11 in /Volumes/Study/University/Semester 5/ML LAB/Project/sign_language_detection/mlproject/lib/python3.9/site-packages (from tensorflow~=2.11.0->tf-models-official>=2.5.1->object-detection==0.1) (2.11.0)\n",
      "Requirement already satisfied: astunparse>=1.6.0 in /Volumes/Study/University/Semester 5/ML LAB/Project/sign_language_detection/mlproject/lib/python3.9/site-packages (from tensorflow~=2.11.0->tf-models-official>=2.5.1->object-detection==0.1) (1.6.3)\n",
      "Requirement already satisfied: termcolor>=1.1.0 in /Volumes/Study/University/Semester 5/ML LAB/Project/sign_language_detection/mlproject/lib/python3.9/site-packages (from tensorflow~=2.11.0->tf-models-official>=2.5.1->object-detection==0.1) (1.1.0)\n",
      "Collecting tensorflow-estimator<2.12,>=2.11.0\n",
      "  Downloading tensorflow_estimator-2.11.0-py2.py3-none-any.whl (439 kB)\n",
      "\u001b[2K     \u001b[90m━━━━━━━━━━━━━━━━━━━━━━━━━━━━━━━━━━━━━━━\u001b[0m \u001b[32m439.2/439.2 kB\u001b[0m \u001b[31m6.8 MB/s\u001b[0m eta \u001b[36m0:00:00\u001b[0m00:01\u001b[0m\n",
      "\u001b[?25hRequirement already satisfied: gast<=0.4.0,>=0.2.1 in /Volumes/Study/University/Semester 5/ML LAB/Project/sign_language_detection/mlproject/lib/python3.9/site-packages (from tensorflow~=2.11.0->tf-models-official>=2.5.1->object-detection==0.1) (0.4.0)\n",
      "Requirement already satisfied: h5py>=2.9.0 in /Volumes/Study/University/Semester 5/ML LAB/Project/sign_language_detection/mlproject/lib/python3.9/site-packages (from tensorflow~=2.11.0->tf-models-official>=2.5.1->object-detection==0.1) (3.1.0)\n",
      "Requirement already satisfied: opt-einsum>=2.3.2 in /Volumes/Study/University/Semester 5/ML LAB/Project/sign_language_detection/mlproject/lib/python3.9/site-packages (from tensorflow~=2.11.0->tf-models-official>=2.5.1->object-detection==0.1) (3.3.0)\n",
      "Requirement already satisfied: dm-tree~=0.1.1 in /Volumes/Study/University/Semester 5/ML LAB/Project/sign_language_detection/mlproject/lib/python3.9/site-packages (from tensorflow-model-optimization>=0.4.1->tf-models-official>=2.5.1->object-detection==0.1) (0.1.7)\n",
      "Requirement already satisfied: rsa>=3.1.4 in /Volumes/Study/University/Semester 5/ML LAB/Project/sign_language_detection/mlproject/lib/python3.9/site-packages (from oauth2client->tf-models-official>=2.5.1->object-detection==0.1) (4.9)\n",
      "Requirement already satisfied: pyasn1-modules>=0.0.5 in /Volumes/Study/University/Semester 5/ML LAB/Project/sign_language_detection/mlproject/lib/python3.9/site-packages (from oauth2client->tf-models-official>=2.5.1->object-detection==0.1) (0.2.8)\n",
      "Requirement already satisfied: pyasn1>=0.1.7 in /Volumes/Study/University/Semester 5/ML LAB/Project/sign_language_detection/mlproject/lib/python3.9/site-packages (from oauth2client->tf-models-official>=2.5.1->object-detection==0.1) (0.4.8)\n",
      "Requirement already satisfied: scikit-learn>=0.21.3 in /Volumes/Study/University/Semester 5/ML LAB/Project/sign_language_detection/mlproject/lib/python3.9/site-packages (from seqeval->tf-models-official>=2.5.1->object-detection==0.1) (1.1.3)\n",
      "Requirement already satisfied: typeguard>=2.7 in /Volumes/Study/University/Semester 5/ML LAB/Project/sign_language_detection/mlproject/lib/python3.9/site-packages (from tensorflow-addons->tf-models-official>=2.5.1->object-detection==0.1) (2.13.3)\n",
      "Requirement already satisfied: etils[epath] in /Volumes/Study/University/Semester 5/ML LAB/Project/sign_language_detection/mlproject/lib/python3.9/site-packages (from tensorflow-datasets->tf-models-official>=2.5.1->object-detection==0.1) (0.9.0)\n",
      "Requirement already satisfied: tensorflow-metadata in /Volumes/Study/University/Semester 5/ML LAB/Project/sign_language_detection/mlproject/lib/python3.9/site-packages (from tensorflow-datasets->tf-models-official>=2.5.1->object-detection==0.1) (1.11.0)\n",
      "Requirement already satisfied: toml in /Volumes/Study/University/Semester 5/ML LAB/Project/sign_language_detection/mlproject/lib/python3.9/site-packages (from tensorflow-datasets->tf-models-official>=2.5.1->object-detection==0.1) (0.10.2)\n",
      "Requirement already satisfied: promise in /Volumes/Study/University/Semester 5/ML LAB/Project/sign_language_detection/mlproject/lib/python3.9/site-packages (from tensorflow-datasets->tf-models-official>=2.5.1->object-detection==0.1) (2.3)\n",
      "Requirement already satisfied: wheel<1.0,>=0.23.0 in /Volumes/Study/University/Semester 5/ML LAB/Project/sign_language_detection/mlproject/lib/python3.9/site-packages (from astunparse>=1.6.0->tensorflow~=2.11.0->tf-models-official>=2.5.1->object-detection==0.1) (0.38.4)\n",
      "Requirement already satisfied: googleapis-common-protos<2.0dev,>=1.56.2 in /Volumes/Study/University/Semester 5/ML LAB/Project/sign_language_detection/mlproject/lib/python3.9/site-packages (from google-api-core!=2.0.*,!=2.1.*,!=2.2.*,!=2.3.0,<3.0.0dev,>=1.31.5->google-api-python-client>=1.6.7->tf-models-official>=2.5.1->object-detection==0.1) (1.57.0)\n",
      "Requirement already satisfied: cachetools<6.0,>=2.0.0 in /Volumes/Study/University/Semester 5/ML LAB/Project/sign_language_detection/mlproject/lib/python3.9/site-packages (from google-auth<3.0.0dev,>=1.19.0->google-api-python-client>=1.6.7->tf-models-official>=2.5.1->object-detection==0.1) (5.2.0)\n",
      "Requirement already satisfied: threadpoolctl>=2.0.0 in /Volumes/Study/University/Semester 5/ML LAB/Project/sign_language_detection/mlproject/lib/python3.9/site-packages (from scikit-learn>=0.21.3->seqeval->tf-models-official>=2.5.1->object-detection==0.1) (3.1.0)\n",
      "Requirement already satisfied: joblib>=1.0.0 in /Volumes/Study/University/Semester 5/ML LAB/Project/sign_language_detection/mlproject/lib/python3.9/site-packages (from scikit-learn>=0.21.3->seqeval->tf-models-official>=2.5.1->object-detection==0.1) (1.2.0)\n",
      "Requirement already satisfied: werkzeug>=1.0.1 in /Volumes/Study/University/Semester 5/ML LAB/Project/sign_language_detection/mlproject/lib/python3.9/site-packages (from tensorboard<2.12,>=2.11->tensorflow~=2.11.0->tf-models-official>=2.5.1->object-detection==0.1) (2.2.2)\n",
      "Requirement already satisfied: tensorboard-plugin-wit>=1.6.0 in /Volumes/Study/University/Semester 5/ML LAB/Project/sign_language_detection/mlproject/lib/python3.9/site-packages (from tensorboard<2.12,>=2.11->tensorflow~=2.11.0->tf-models-official>=2.5.1->object-detection==0.1) (1.8.1)\n",
      "Requirement already satisfied: google-auth-oauthlib<0.5,>=0.4.1 in /Volumes/Study/University/Semester 5/ML LAB/Project/sign_language_detection/mlproject/lib/python3.9/site-packages (from tensorboard<2.12,>=2.11->tensorflow~=2.11.0->tf-models-official>=2.5.1->object-detection==0.1) (0.4.6)\n",
      "Requirement already satisfied: markdown>=2.6.8 in /Volumes/Study/University/Semester 5/ML LAB/Project/sign_language_detection/mlproject/lib/python3.9/site-packages (from tensorboard<2.12,>=2.11->tensorflow~=2.11.0->tf-models-official>=2.5.1->object-detection==0.1) (3.4.1)\n"
     ]
    },
    {
     "name": "stdout",
     "output_type": "stream",
     "text": [
      "Requirement already satisfied: tensorboard-data-server<0.7.0,>=0.6.0 in /Volumes/Study/University/Semester 5/ML LAB/Project/sign_language_detection/mlproject/lib/python3.9/site-packages (from tensorboard<2.12,>=2.11->tensorflow~=2.11.0->tf-models-official>=2.5.1->object-detection==0.1) (0.6.1)\n",
      "Requirement already satisfied: importlib_resources in /Volumes/Study/University/Semester 5/ML LAB/Project/sign_language_detection/mlproject/lib/python3.9/site-packages (from etils[epath]->tensorflow-datasets->tf-models-official>=2.5.1->object-detection==0.1) (5.10.0)\n",
      "Requirement already satisfied: zipp in /Volumes/Study/University/Semester 5/ML LAB/Project/sign_language_detection/mlproject/lib/python3.9/site-packages (from etils[epath]->tensorflow-datasets->tf-models-official>=2.5.1->object-detection==0.1) (3.10.0)\n",
      "Requirement already satisfied: text-unidecode>=1.3 in /Volumes/Study/University/Semester 5/ML LAB/Project/sign_language_detection/mlproject/lib/python3.9/site-packages (from python-slugify->kaggle>=1.3.9->tf-models-official>=2.5.1->object-detection==0.1) (1.3)\n",
      "Requirement already satisfied: requests-oauthlib>=0.7.0 in /Volumes/Study/University/Semester 5/ML LAB/Project/sign_language_detection/mlproject/lib/python3.9/site-packages (from google-auth-oauthlib<0.5,>=0.4.1->tensorboard<2.12,>=2.11->tensorflow~=2.11.0->tf-models-official>=2.5.1->object-detection==0.1) (1.3.1)\n",
      "Requirement already satisfied: importlib-metadata>=4.4 in /Volumes/Study/University/Semester 5/ML LAB/Project/sign_language_detection/mlproject/lib/python3.9/site-packages (from markdown>=2.6.8->tensorboard<2.12,>=2.11->tensorflow~=2.11.0->tf-models-official>=2.5.1->object-detection==0.1) (5.0.0)\n",
      "Requirement already satisfied: MarkupSafe>=2.1.1 in /Volumes/Study/University/Semester 5/ML LAB/Project/sign_language_detection/mlproject/lib/python3.9/site-packages (from werkzeug>=1.0.1->tensorboard<2.12,>=2.11->tensorflow~=2.11.0->tf-models-official>=2.5.1->object-detection==0.1) (2.1.1)\n",
      "Requirement already satisfied: oauthlib>=3.0.0 in /Volumes/Study/University/Semester 5/ML LAB/Project/sign_language_detection/mlproject/lib/python3.9/site-packages (from requests-oauthlib>=0.7.0->google-auth-oauthlib<0.5,>=0.4.1->tensorboard<2.12,>=2.11->tensorflow~=2.11.0->tf-models-official>=2.5.1->object-detection==0.1) (3.2.2)\n",
      "Building wheels for collected packages: object-detection, avro-python3, crcmod, dill, docopt\n",
      "  Building wheel for object-detection (setup.py) ... \u001b[?25ldone\n",
      "\u001b[?25h  Created wheel for object-detection: filename=object_detection-0.1-py3-none-any.whl size=1662969 sha256=83c8ac7aaa24fb25e052915273a647c2100f37fb0f88f30db8da9ba8d01088d2\n",
      "  Stored in directory: /private/var/folders/m6/c267rt092gl6wlb9f6509r_h0000gn/T/pip-ephem-wheel-cache-stq6r8b1/wheels/9c/fd/d9/70c7515da6063eb79763d37cfdcd00fc93fc79e03f79700794\n",
      "  Building wheel for avro-python3 (setup.py) ... \u001b[?25ldone\n",
      "\u001b[?25h  Created wheel for avro-python3: filename=avro_python3-1.10.2-py3-none-any.whl size=44009 sha256=98d7ceddae106affe913745da662c9ed94c13ddc6ecd86bf7f4b103cd75e359b\n",
      "  Stored in directory: /Users/shrestho12/Library/Caches/pip/wheels/16/66/e8/d7db449cffdf36f9aba1a3813b0dee92d8e0115fd35b1b7316\n",
      "  Building wheel for crcmod (setup.py) ... \u001b[?25ldone\n",
      "\u001b[?25h  Created wheel for crcmod: filename=crcmod-1.7-cp39-cp39-macosx_10_9_x86_64.whl size=22037 sha256=7421943b325ef3ec48d5f9aebe8f2317cfda39cbcb96ca4796a276c904e79cc0\n",
      "  Stored in directory: /Users/shrestho12/Library/Caches/pip/wheels/1a/29/71/b6c38f9489a38c5c7c042785b7bf24c2aaf9fe28338cde5d51\n",
      "  Building wheel for dill (setup.py) ... \u001b[?25ldone\n",
      "\u001b[?25h  Created wheel for dill: filename=dill-0.3.1.1-py3-none-any.whl size=78544 sha256=60563f00d27881328fdcab90f11b8de5dc9f72dd5963b34ce6fb20339ea5046e\n",
      "  Stored in directory: /Users/shrestho12/Library/Caches/pip/wheels/bf/8e/e4/a5b4f8b88c2c2e886583bdb95dec4ae41f2e0e8a5591b25c15\n",
      "  Building wheel for docopt (setup.py) ... \u001b[?25ldone\n",
      "\u001b[?25h  Created wheel for docopt: filename=docopt-0.6.2-py2.py3-none-any.whl size=13723 sha256=a1109bc560f083918f079098d5eba2de058ead4faab11e19c745a9f520eff660\n",
      "  Stored in directory: /Users/shrestho12/Library/Caches/pip/wheels/4e/29/5e/e5f6f558e24e0d70f6808e3e8fdaf2c04ff597233098afc550\n",
      "Successfully built object-detection avro-python3 crcmod dill docopt\n",
      "Installing collected packages: flatbuffers, docopt, crcmod, zstandard, tensorflow-io-gcs-filesystem, tensorflow-estimator, pyparsing, pymongo, proto-plus, orjson, objsize, numpy, fasteners, fastavro, dill, cloudpickle, avro-python3, absl-py, tensorflow_io, sacrebleu, pydot, pyarrow, httplib2, hdfs, apache-beam, lvis, tensorflow, object-detection\n",
      "  Attempting uninstall: flatbuffers\n",
      "    Found existing installation: flatbuffers 1.12\n",
      "    Uninstalling flatbuffers-1.12:\n",
      "      Successfully uninstalled flatbuffers-1.12\n",
      "  Attempting uninstall: tensorflow-io-gcs-filesystem\n",
      "    Found existing installation: tensorflow-io-gcs-filesystem 0.27.0\n",
      "    Uninstalling tensorflow-io-gcs-filesystem-0.27.0:\n",
      "      Successfully uninstalled tensorflow-io-gcs-filesystem-0.27.0\n",
      "  Attempting uninstall: tensorflow-estimator\n",
      "    Found existing installation: tensorflow-estimator 2.5.0\n",
      "    Uninstalling tensorflow-estimator-2.5.0:\n",
      "      Successfully uninstalled tensorflow-estimator-2.5.0\n",
      "  Attempting uninstall: pyparsing\n",
      "    Found existing installation: pyparsing 3.0.9\n",
      "    Uninstalling pyparsing-3.0.9:\n",
      "      Successfully uninstalled pyparsing-3.0.9\n",
      "  Attempting uninstall: numpy\n",
      "    Found existing installation: numpy 1.19.5\n",
      "    Uninstalling numpy-1.19.5:\n",
      "      Successfully uninstalled numpy-1.19.5\n",
      "  Attempting uninstall: dill\n",
      "    Found existing installation: dill 0.3.6\n",
      "    Uninstalling dill-0.3.6:\n",
      "      Successfully uninstalled dill-0.3.6\n",
      "  Attempting uninstall: absl-py\n",
      "    Found existing installation: absl-py 0.15.0\n",
      "    Uninstalling absl-py-0.15.0:\n",
      "      Successfully uninstalled absl-py-0.15.0\n",
      "  Attempting uninstall: sacrebleu\n",
      "    Found existing installation: sacrebleu 2.3.1\n",
      "    Uninstalling sacrebleu-2.3.1:\n",
      "      Successfully uninstalled sacrebleu-2.3.1\n",
      "  Attempting uninstall: httplib2\n",
      "    Found existing installation: httplib2 0.21.0\n",
      "    Uninstalling httplib2-0.21.0:\n",
      "      Successfully uninstalled httplib2-0.21.0\n",
      "  Attempting uninstall: tensorflow\n",
      "    Found existing installation: tensorflow 2.5.0\n",
      "    Uninstalling tensorflow-2.5.0:\n",
      "      Successfully uninstalled tensorflow-2.5.0\n",
      "Successfully installed absl-py-1.3.0 apache-beam-2.43.0 avro-python3-1.10.2 cloudpickle-2.2.0 crcmod-1.7 dill-0.3.1.1 docopt-0.6.2 fastavro-1.7.0 fasteners-0.18 flatbuffers-22.12.6 hdfs-2.7.0 httplib2-0.20.4 lvis-0.5.3 numpy-1.22.4 object-detection-0.1 objsize-0.5.2 orjson-3.8.3 proto-plus-1.22.1 pyarrow-9.0.0 pydot-1.4.2 pymongo-3.13.0 pyparsing-2.4.7 sacrebleu-2.2.0 tensorflow-2.11.0 tensorflow-estimator-2.11.0 tensorflow-io-gcs-filesystem-0.28.0 tensorflow_io-0.28.0 zstandard-0.19.0\n"
     ]
    }
   ],
   "source": [
    "# Install Tensorflow Object Detection \n",
    "if os.name=='posix':  \n",
    "    !brew install protobuf-compiler\n",
    "    !cd Tensorflow/models/research && protoc object_detection/protos/*.proto --python_out=. && cp object_detection/packages/tf2/setup.py . && python -m pip install . \n",
    "    \n",
    "if os.name=='nt':\n",
    "    url=\"https://github.com/protocolbuffers/protobuf/releases/download/v3.15.6/protoc-3.15.6-win64.zip\"\n",
    "    wget.download(url)\n",
    "    !move protoc-3.15.6-win64.zip {paths['PROTOC_PATH']}\n",
    "    !cd {paths['PROTOC_PATH']} && tar -xf protoc-3.15.6-win64.zip\n",
    "    os.environ['PATH'] += os.pathsep + os.path.abspath(os.path.join(paths['PROTOC_PATH'], 'bin'))   \n",
    "    !cd Tensorflow/models/research && protoc object_detection/protos/*.proto --python_out=. && copy object_detection\\\\packages\\\\tf2\\\\setup.py setup.py && python setup.py build && python setup.py install\n",
    "    !cd Tensorflow/models/research/slim && pip install -e . "
   ]
  },
  {
   "cell_type": "code",
   "execution_count": 10,
   "metadata": {},
   "outputs": [
    {
     "name": "stdout",
     "output_type": "stream",
     "text": [
      "2022-12-18 17:18:43.497160: I tensorflow/core/platform/cpu_feature_guard.cc:193] This TensorFlow binary is optimized with oneAPI Deep Neural Network Library (oneDNN) to use the following CPU instructions in performance-critical operations:  AVX2 FMA\n",
      "To enable them in other operations, rebuild TensorFlow with the appropriate compiler flags.\n",
      "Traceback (most recent call last):\n",
      "  File \"/Volumes/Study/University/Semester 5/ML LAB/sign_language_detection/Tensorflow/models/research/object_detection/builders/model_builder_tf2_test.py\", line 21, in <module>\n",
      "    import tensorflow.compat.v1 as tf\n",
      "  File \"/Volumes/Study/University/Semester 5/ML LAB/Project/sign_language_detection/mlproject/lib/python3.9/site-packages/tensorflow/__init__.py\", line 470, in <module>\n",
      "    _keras._load()\n",
      "  File \"/Volumes/Study/University/Semester 5/ML LAB/Project/sign_language_detection/mlproject/lib/python3.9/site-packages/tensorflow/python/util/lazy_loader.py\", line 41, in _load\n",
      "    module = importlib.import_module(self.__name__)\n",
      "  File \"/Users/shrestho12/opt/anaconda3/lib/python3.9/importlib/__init__.py\", line 127, in import_module\n",
      "    return _bootstrap._gcd_import(name[level:], package, level)\n",
      "  File \"/Volumes/Study/University/Semester 5/ML LAB/Project/sign_language_detection/mlproject/lib/python3.9/site-packages/keras/__init__.py\", line 25, in <module>\n",
      "    from keras import models\n",
      "  File \"/Volumes/Study/University/Semester 5/ML LAB/Project/sign_language_detection/mlproject/lib/python3.9/site-packages/keras/models/__init__.py\", line 18, in <module>\n",
      "    from keras.engine.functional import Functional\n",
      "  File \"/Volumes/Study/University/Semester 5/ML LAB/Project/sign_language_detection/mlproject/lib/python3.9/site-packages/keras/engine/functional.py\", line 25, in <module>\n",
      "    from keras.engine import base_layer\n",
      "  File \"/Volumes/Study/University/Semester 5/ML LAB/Project/sign_language_detection/mlproject/lib/python3.9/site-packages/keras/engine/base_layer.py\", line 41, in <module>\n",
      "    from keras.mixed_precision import loss_scale_optimizer\n",
      "  File \"/Volumes/Study/University/Semester 5/ML LAB/Project/sign_language_detection/mlproject/lib/python3.9/site-packages/keras/mixed_precision/loss_scale_optimizer.py\", line 1180, in <module>\n",
      "    mixed_precision._register_wrapper_optimizer_cls(optimizer_v2.OptimizerV2,\n",
      "AttributeError: module 'tensorflow.python.training.experimental.mixed_precision' has no attribute '_register_wrapper_optimizer_cls'\n"
     ]
    }
   ],
   "source": [
    "VERIFICATION_SCRIPT = os.path.join(paths['APIMODEL_PATH'], 'research', 'object_detection', 'builders', 'model_builder_tf2_test.py')\n",
    "# Verify Installation\n",
    "!python {VERIFICATION_SCRIPT}"
   ]
  },
  {
   "cell_type": "code",
   "execution_count": null,
   "metadata": {},
   "outputs": [],
   "source": [
    "#!pip install tf-models-official --upgrade"
   ]
  },
  {
   "cell_type": "code",
   "execution_count": null,
   "metadata": {},
   "outputs": [],
   "source": [
    "#!pip uninstall protobuf matplotlib -y\n",
    "#!pip install protobuf matplotlib==3.2"
   ]
  },
  {
   "cell_type": "code",
   "execution_count": null,
   "metadata": {},
   "outputs": [],
   "source": [
    "#!pip install tensorflow-object-detection-api"
   ]
  },
  {
   "cell_type": "code",
   "execution_count": 11,
   "metadata": {},
   "outputs": [],
   "source": [
    "import object_detection\n"
   ]
  },
  {
   "cell_type": "code",
   "execution_count": 12,
   "metadata": {
    "scrolled": true
   },
   "outputs": [
    {
     "name": "stdout",
     "output_type": "stream",
     "text": [
      "Package                         Version\n",
      "------------------------------- -------------------\n",
      "absl-py                         1.3.0\n",
      "anyio                           3.6.2\n",
      "apache-beam                     2.43.0\n",
      "appnope                         0.1.3\n",
      "argon2-cffi                     21.3.0\n",
      "argon2-cffi-bindings            21.2.0\n",
      "asttokens                       2.1.0\n",
      "astunparse                      1.6.3\n",
      "attrs                           22.1.0\n",
      "avro-python3                    1.10.2\n",
      "backcall                        0.2.0\n",
      "beautifulsoup4                  4.11.1\n",
      "bleach                          5.0.1\n",
      "cachetools                      5.2.0\n",
      "certifi                         2022.9.24\n",
      "cffi                            1.15.1\n",
      "charset-normalizer              2.1.1\n",
      "cloudpickle                     2.2.0\n",
      "colorama                        0.4.6\n",
      "commonmark                      0.9.1\n",
      "contextlib2                     21.6.0\n",
      "contourpy                       1.0.6\n",
      "crcmod                          1.7\n",
      "cycler                          0.11.0\n",
      "Cython                          0.29.32\n",
      "debugpy                         1.6.3\n",
      "decorator                       5.1.1\n",
      "defusedxml                      0.7.1\n",
      "dill                            0.3.1.1\n",
      "dm-tree                         0.1.7\n",
      "docopt                          0.6.2\n",
      "docutils                        0.19\n",
      "entrypoints                     0.4\n",
      "etils                           0.9.0\n",
      "executing                       1.2.0\n",
      "fastavro                        1.7.0\n",
      "fasteners                       0.18\n",
      "fastjsonschema                  2.16.2\n",
      "flatbuffers                     22.12.6\n",
      "fonttools                       4.38.0\n",
      "gast                            0.4.0\n",
      "gin-config                      0.5.0\n",
      "google-api-core                 2.10.2\n",
      "google-api-python-client        2.66.0\n",
      "google-auth                     2.14.1\n",
      "google-auth-httplib2            0.1.0\n",
      "google-auth-oauthlib            0.4.6\n",
      "google-pasta                    0.2.0\n",
      "googleapis-common-protos        1.57.0\n",
      "grpcio                          1.34.1\n",
      "h5py                            3.1.0\n",
      "hdfs                            2.7.0\n",
      "httplib2                        0.20.4\n",
      "idna                            3.4\n",
      "immutabledict                   2.2.3\n",
      "importlib-metadata              5.0.0\n",
      "importlib-resources             5.10.0\n",
      "ipykernel                       6.17.1\n",
      "ipython                         8.6.0\n",
      "ipython-genutils                0.2.0\n",
      "ipywidgets                      8.0.2\n",
      "jaraco.classes                  3.2.3\n",
      "jedi                            0.18.1\n",
      "Jinja2                          3.1.2\n",
      "joblib                          1.2.0\n",
      "jsonschema                      4.17.0\n",
      "jupyter                         1.0.0\n",
      "jupyter_client                  7.4.4\n",
      "jupyter-console                 6.4.4\n",
      "jupyter_core                    5.0.0\n",
      "jupyter-server                  1.23.2\n",
      "jupyterlab-pygments             0.2.2\n",
      "jupyterlab-widgets              3.0.3\n",
      "kaggle                          1.5.12\n",
      "keras                           2.11.0\n",
      "keras-nightly                   2.5.0.dev2021032900\n",
      "Keras-Preprocessing             1.1.2\n",
      "keyring                         23.11.0\n",
      "kiwisolver                      1.4.4\n",
      "libclang                        14.0.6\n",
      "lvis                            0.5.3\n",
      "lxml                            4.9.1\n",
      "Markdown                        3.4.1\n",
      "MarkupSafe                      2.1.1\n",
      "matplotlib                      3.6.2\n",
      "matplotlib-inline               0.1.6\n",
      "mistune                         2.0.4\n",
      "more-itertools                  9.0.0\n",
      "nbclassic                       0.4.8\n",
      "nbclient                        0.7.0\n",
      "nbconvert                       7.2.5\n",
      "nbformat                        5.7.0\n",
      "nest-asyncio                    1.5.6\n",
      "notebook                        6.5.2\n",
      "notebook_shim                   0.2.2\n",
      "numpy                           1.22.4\n",
      "oauth2client                    4.1.3\n",
      "oauthlib                        3.2.2\n",
      "object-detection                0.1\n",
      "objsize                         0.5.2\n",
      "opencv-python                   4.6.0.66\n",
      "opencv-python-headless          4.5.2.52\n",
      "opt-einsum                      3.3.0\n",
      "orjson                          3.8.3\n",
      "packaging                       21.3\n",
      "pandas                          1.5.2\n",
      "pandocfilters                   1.5.0\n",
      "parso                           0.8.3\n",
      "pexpect                         4.8.0\n",
      "pickleshare                     0.7.5\n",
      "Pillow                          9.3.0\n",
      "pip                             22.3.1\n",
      "pkginfo                         1.8.3\n",
      "platformdirs                    2.5.3\n",
      "portalocker                     2.6.0\n",
      "prometheus-client               0.15.0\n",
      "promise                         2.3\n",
      "prompt-toolkit                  3.0.32\n",
      "proto-plus                      1.22.1\n",
      "protobuf                        3.19.6\n",
      "psutil                          5.9.4\n",
      "ptyprocess                      0.7.0\n",
      "pure-eval                       0.2.2\n",
      "py-cpuinfo                      9.0.0\n",
      "pyarrow                         9.0.0\n",
      "pyasn1                          0.4.8\n",
      "pyasn1-modules                  0.2.8\n",
      "pycocotools                     2.0.6\n",
      "pycparser                       2.21\n",
      "pydot                           1.4.2\n",
      "Pygments                        2.13.0\n",
      "pymongo                         3.13.0\n",
      "pyparsing                       2.4.7\n",
      "PyQt5                           5.15.7\n",
      "PyQt5-Qt5                       5.15.2\n",
      "PyQt5-sip                       12.11.0\n",
      "pyrsistent                      0.19.2\n",
      "python-dateutil                 2.8.2\n",
      "python-slugify                  7.0.0\n",
      "pytz                            2022.6\n",
      "PyYAML                          5.4.1\n",
      "pyzmq                           24.0.1\n",
      "qtconsole                       5.4.0\n",
      "QtPy                            2.3.0\n",
      "readme-renderer                 37.3\n",
      "regex                           2022.10.31\n",
      "requests                        2.28.1\n",
      "requests-oauthlib               1.3.1\n",
      "requests-toolbelt               0.10.1\n",
      "rfc3986                         2.0.0\n",
      "rich                            12.6.0\n",
      "rsa                             4.9\n",
      "sacrebleu                       2.2.0\n",
      "scikit-learn                    1.1.3\n",
      "scipy                           1.9.3\n",
      "Send2Trash                      1.8.0\n",
      "sentencepiece                   0.1.97\n",
      "seqeval                         1.2.2\n",
      "setuptools                      58.1.0\n",
      "six                             1.15.0\n",
      "sniffio                         1.3.0\n",
      "soupsieve                       2.3.2.post1\n",
      "stack-data                      0.6.0\n",
      "tabulate                        0.9.0\n",
      "tensorboard                     2.11.0\n",
      "tensorboard-data-server         0.6.1\n",
      "tensorboard-plugin-wit          1.8.1\n",
      "tensorflow                      2.11.0\n",
      "tensorflow-addons               0.18.0\n",
      "tensorflow-datasets             4.7.0\n",
      "tensorflow-estimator            2.11.0\n",
      "tensorflow-hub                  0.12.0\n",
      "tensorflow-io                   0.28.0\n",
      "tensorflow-io-gcs-filesystem    0.28.0\n",
      "tensorflow-metadata             1.11.0\n",
      "tensorflow-model-optimization   0.7.3\n",
      "tensorflow-object-detection-api 0.1.1\n",
      "tensorflow-text                 2.11.0\n",
      "termcolor                       1.1.0\n",
      "terminado                       0.17.0\n",
      "text-unidecode                  1.3\n",
      "tf-models-official              2.11.0\n",
      "tf-slim                         1.1.0\n",
      "threadpoolctl                   3.1.0\n",
      "tinycss2                        1.2.1\n",
      "toml                            0.10.2\n",
      "tornado                         6.2\n",
      "tqdm                            4.64.1\n",
      "traitlets                       5.5.0\n",
      "twine                           4.0.1\n",
      "typeguard                       2.13.3\n",
      "typing-extensions               3.7.4.3\n",
      "uritemplate                     4.1.1\n",
      "urllib3                         1.26.12\n",
      "wcwidth                         0.2.5\n",
      "webencodings                    0.5.1\n",
      "websocket-client                1.4.2\n",
      "Werkzeug                        2.2.2\n",
      "wheel                           0.38.4\n",
      "widgetsnbextension              4.0.3\n",
      "wrapt                           1.12.1\n",
      "zipp                            3.10.0\n",
      "zstandard                       0.19.0\n"
     ]
    }
   ],
   "source": [
    "!pip list"
   ]
  },
  {
   "cell_type": "code",
   "execution_count": 13,
   "metadata": {
    "colab": {
     "base_uri": "https://localhost:8080/"
    },
    "id": "csofht2npfDE",
    "outputId": "ff5471b2-bed2-43f2-959c-327a706527b6"
   },
   "outputs": [
    {
     "name": "stdout",
     "output_type": "stream",
     "text": [
      "--2022-12-18 17:19:42--  http://download.tensorflow.org/models/object_detection/tf2/20200711/ssd_mobilenet_v2_fpnlite_320x320_coco17_tpu-8.tar.gz\n",
      "Resolving download.tensorflow.org (download.tensorflow.org)... 142.250.195.208\n",
      "Connecting to download.tensorflow.org (download.tensorflow.org)|142.250.195.208|:80... connected.\n",
      "HTTP request sent, awaiting response... 200 OK\n",
      "Length: 20515344 (20M) [application/x-tar]\n",
      "Saving to: 'ssd_mobilenet_v2_fpnlite_320x320_coco17_tpu-8.tar.gz'\n",
      "\n",
      "ssd_mobilenet_v2_fp 100%[===================>]  19.56M  7.85MB/s    in 2.5s    \n",
      "\n",
      "2022-12-18 17:19:46 (7.85 MB/s) - 'ssd_mobilenet_v2_fpnlite_320x320_coco17_tpu-8.tar.gz' saved [20515344/20515344]\n",
      "\n",
      "x ssd_mobilenet_v2_fpnlite_320x320_coco17_tpu-8/\n",
      "x ssd_mobilenet_v2_fpnlite_320x320_coco17_tpu-8/checkpoint/\n",
      "x ssd_mobilenet_v2_fpnlite_320x320_coco17_tpu-8/checkpoint/ckpt-0.data-00000-of-00001\n",
      "x ssd_mobilenet_v2_fpnlite_320x320_coco17_tpu-8/checkpoint/checkpoint\n",
      "x ssd_mobilenet_v2_fpnlite_320x320_coco17_tpu-8/checkpoint/ckpt-0.index\n",
      "x ssd_mobilenet_v2_fpnlite_320x320_coco17_tpu-8/pipeline.config\n",
      "x ssd_mobilenet_v2_fpnlite_320x320_coco17_tpu-8/saved_model/\n",
      "x ssd_mobilenet_v2_fpnlite_320x320_coco17_tpu-8/saved_model/saved_model.pb\n",
      "x ssd_mobilenet_v2_fpnlite_320x320_coco17_tpu-8/saved_model/variables/\n",
      "x ssd_mobilenet_v2_fpnlite_320x320_coco17_tpu-8/saved_model/variables/variables.data-00000-of-00001\n",
      "x ssd_mobilenet_v2_fpnlite_320x320_coco17_tpu-8/saved_model/variables/variables.index\n"
     ]
    }
   ],
   "source": [
    "if os.name =='posix':\n",
    "    !wget {PRETRAINED_MODEL_URL}\n",
    "    !mv {PRETRAINED_MODEL_NAME+'.tar.gz'} {paths['PRETRAINED_MODEL_PATH']}\n",
    "    !cd {paths['PRETRAINED_MODEL_PATH']} && tar -zxvf {PRETRAINED_MODEL_NAME+'.tar.gz'}\n",
    "if os.name == 'nt':\n",
    "    wget.download(PRETRAINED_MODEL_URL)\n",
    "    !move {PRETRAINED_MODEL_NAME+'.tar.gz'} {paths['PRETRAINED_MODEL_PATH']}\n",
    "    !cd {paths['PRETRAINED_MODEL_PATH']} && tar -zxvf {PRETRAINED_MODEL_NAME+'.tar.gz'}"
   ]
  },
  {
   "cell_type": "markdown",
   "metadata": {
    "id": "M5KJTnkfpfDC"
   },
   "source": [
    "# Label Map"
   ]
  },
  {
   "cell_type": "code",
   "execution_count": 26,
   "metadata": {
    "id": "p1BVDWo7pfDC"
   },
   "outputs": [],
   "source": [
    "labels = [{'name':'thumbsup', 'id':1}, {'name':'thumbsdown', 'id':2}, {'name':'thankyou', 'id':3}, {'name':'livelong', 'id':4},{'name':'0', 'id':5},{'name':'1', 'id':6},{'name':'2', 'id':7},{'name':'3', 'id':8},{'name':'4', 'id':9},{'name':'5', 'id':10},{'name':'6', 'id':11}]\n",
    "\n",
    "with open(files['LABELMAP'], 'w') as f:\n",
    "    for label in labels:\n",
    "        f.write('item { \\n')\n",
    "        f.write('\\tname:\\'{}\\'\\n'.format(label['name']))\n",
    "        f.write('\\tid:{}\\n'.format(label['id']))\n",
    "        f.write('}\\n')"
   ]
  },
  {
   "cell_type": "markdown",
   "metadata": {
    "id": "C88zyVELpfDC"
   },
   "source": [
    "# 3. Create TF records"
   ]
  },
  {
   "cell_type": "code",
   "execution_count": 14,
   "metadata": {
    "colab": {
     "base_uri": "https://localhost:8080/"
    },
    "id": "kvf5WccwrFGq",
    "outputId": "49902aeb-0bd7-4298-e1a0-5b4a64eb2064"
   },
   "outputs": [],
   "source": [
    "# for COLAB\n",
    "ARCHIVE_FILES = os.path.join(paths['IMAGE_PATH'], 'archive.tar.gz')\n",
    "if os.path.exists(ARCHIVE_FILES):\n",
    "  !tar -zxvf {ARCHIVE_FILES}"
   ]
  },
  {
   "cell_type": "code",
   "execution_count": 15,
   "metadata": {
    "colab": {
     "base_uri": "https://localhost:8080/"
    },
    "id": "KWpb_BVUpfDD",
    "outputId": "56ce2a3f-3933-4ee6-8a9d-d5ec65f7d73c"
   },
   "outputs": [],
   "source": [
    "if not os.path.exists(files['TF_RECORD_SCRIPT']):\n",
    "    !git clone https://github.com/nicknochnack/GenerateTFRecord {paths['SCRIPTS_PATH']}"
   ]
  },
  {
   "cell_type": "code",
   "execution_count": 16,
   "metadata": {},
   "outputs": [
    {
     "name": "stdout",
     "output_type": "stream",
     "text": [
      "Requirement already satisfied: pandas in /Volumes/Study/University/Semester 5/ML LAB/Project/sign_language_detection/mlproject/lib/python3.9/site-packages (1.5.2)\r\n",
      "Requirement already satisfied: numpy>=1.20.3 in /Volumes/Study/University/Semester 5/ML LAB/Project/sign_language_detection/mlproject/lib/python3.9/site-packages (from pandas) (1.22.4)\r\n",
      "Requirement already satisfied: python-dateutil>=2.8.1 in /Volumes/Study/University/Semester 5/ML LAB/Project/sign_language_detection/mlproject/lib/python3.9/site-packages (from pandas) (2.8.2)\r\n",
      "Requirement already satisfied: pytz>=2020.1 in /Volumes/Study/University/Semester 5/ML LAB/Project/sign_language_detection/mlproject/lib/python3.9/site-packages (from pandas) (2022.6)\r\n",
      "Requirement already satisfied: six>=1.5 in /Volumes/Study/University/Semester 5/ML LAB/Project/sign_language_detection/mlproject/lib/python3.9/site-packages (from python-dateutil>=2.8.1->pandas) (1.15.0)\r\n"
     ]
    }
   ],
   "source": [
    "!pip install pandas"
   ]
  },
  {
   "cell_type": "code",
   "execution_count": null,
   "metadata": {
    "colab": {
     "base_uri": "https://localhost:8080/"
    },
    "id": "UPFToGZqpfDD",
    "outputId": "0ebb456f-aadc-4a1f-96e6-fbfec1923e1c"
   },
   "outputs": [],
   "source": [
    "!python {files['TF_RECORD_SCRIPT']} -x {os.path.join(paths['IMAGE_PATH'], 'train')} -l {files['LABELMAP']} -o {os.path.join(paths['ANNOTATION_PATH'], 'train.record')} \n",
    "!python {files['TF_RECORD_SCRIPT']} -x {os.path.join(paths['IMAGE_PATH'], 'test')} -l {files['LABELMAP']} -o {os.path.join(paths['ANNOTATION_PATH'], 'test.record')} "
   ]
  },
  {
   "cell_type": "markdown",
   "metadata": {
    "id": "qT4QU7pLpfDE"
   },
   "source": [
    "# 4. Copy Model Config to Training Folder"
   ]
  },
  {
   "cell_type": "code",
   "execution_count": 17,
   "metadata": {
    "id": "cOjuTFbwpfDF"
   },
   "outputs": [],
   "source": [
    "if os.name =='posix':\n",
    "    !cp {os.path.join(paths['PRETRAINED_MODEL_PATH'], PRETRAINED_MODEL_NAME, 'pipeline.config')} {os.path.join(paths['CHECKPOINT_PATH'])}\n",
    "if os.name == 'nt':\n",
    "    !copy {os.path.join(paths['PRETRAINED_MODEL_PATH'], PRETRAINED_MODEL_NAME, 'pipeline.config')} {os.path.join(paths['CHECKPOINT_PATH'])}"
   ]
  },
  {
   "cell_type": "markdown",
   "metadata": {
    "id": "Ga8gpNslpfDF"
   },
   "source": [
    "# 5. Update Config For Transfer Learning"
   ]
  },
  {
   "cell_type": "code",
   "execution_count": 20,
   "metadata": {},
   "outputs": [
    {
     "name": "stdout",
     "output_type": "stream",
     "text": [
      "Found existing installation: keras 2.11.0\n",
      "Uninstalling keras-2.11.0:\n",
      "  Successfully uninstalled keras-2.11.0\n",
      "Collecting keras\n",
      "  Downloading keras-2.11.0-py2.py3-none-any.whl (1.7 MB)\n",
      "\u001b[2K     \u001b[90m━━━━━━━━━━━━━━━━━━━━━━━━━━━━━━━━━━━━━━━━\u001b[0m \u001b[32m1.7/1.7 MB\u001b[0m \u001b[31m4.7 MB/s\u001b[0m eta \u001b[36m0:00:00\u001b[0m00:01\u001b[0m00:01\u001b[0m\n",
      "\u001b[?25hInstalling collected packages: keras\n",
      "Successfully installed keras-2.11.0\n"
     ]
    }
   ],
   "source": [
    "!pip3 uninstall keras --yes\n",
    "!pip3 install keras --upgrade"
   ]
  },
  {
   "cell_type": "code",
   "execution_count": 21,
   "metadata": {
    "id": "Z9hRrO_ppfDF"
   },
   "outputs": [],
   "source": [
    "import tensorflow as tf\n",
    "from object_detection.utils import config_util\n",
    "from object_detection.protos import pipeline_pb2\n",
    "from google.protobuf import text_format"
   ]
  },
  {
   "cell_type": "code",
   "execution_count": 22,
   "metadata": {
    "id": "c2A0mn4ipfDF"
   },
   "outputs": [],
   "source": [
    "config = config_util.get_configs_from_pipeline_file(files['PIPELINE_CONFIG'])"
   ]
  },
  {
   "cell_type": "code",
   "execution_count": 23,
   "metadata": {
    "colab": {
     "base_uri": "https://localhost:8080/"
    },
    "id": "uQA13-afpfDF",
    "outputId": "907496a4-a39d-4b13-8c2c-e5978ecb1f10"
   },
   "outputs": [
    {
     "data": {
      "text/plain": [
       "{'model': ssd {\n",
       "   num_classes: 90\n",
       "   image_resizer {\n",
       "     fixed_shape_resizer {\n",
       "       height: 320\n",
       "       width: 320\n",
       "     }\n",
       "   }\n",
       "   feature_extractor {\n",
       "     type: \"ssd_mobilenet_v2_fpn_keras\"\n",
       "     depth_multiplier: 1.0\n",
       "     min_depth: 16\n",
       "     conv_hyperparams {\n",
       "       regularizer {\n",
       "         l2_regularizer {\n",
       "           weight: 3.9999998989515007e-05\n",
       "         }\n",
       "       }\n",
       "       initializer {\n",
       "         random_normal_initializer {\n",
       "           mean: 0.0\n",
       "           stddev: 0.009999999776482582\n",
       "         }\n",
       "       }\n",
       "       activation: RELU_6\n",
       "       batch_norm {\n",
       "         decay: 0.996999979019165\n",
       "         scale: true\n",
       "         epsilon: 0.0010000000474974513\n",
       "       }\n",
       "     }\n",
       "     use_depthwise: true\n",
       "     override_base_feature_extractor_hyperparams: true\n",
       "     fpn {\n",
       "       min_level: 3\n",
       "       max_level: 7\n",
       "       additional_layer_depth: 128\n",
       "     }\n",
       "   }\n",
       "   box_coder {\n",
       "     faster_rcnn_box_coder {\n",
       "       y_scale: 10.0\n",
       "       x_scale: 10.0\n",
       "       height_scale: 5.0\n",
       "       width_scale: 5.0\n",
       "     }\n",
       "   }\n",
       "   matcher {\n",
       "     argmax_matcher {\n",
       "       matched_threshold: 0.5\n",
       "       unmatched_threshold: 0.5\n",
       "       ignore_thresholds: false\n",
       "       negatives_lower_than_unmatched: true\n",
       "       force_match_for_each_row: true\n",
       "       use_matmul_gather: true\n",
       "     }\n",
       "   }\n",
       "   similarity_calculator {\n",
       "     iou_similarity {\n",
       "     }\n",
       "   }\n",
       "   box_predictor {\n",
       "     weight_shared_convolutional_box_predictor {\n",
       "       conv_hyperparams {\n",
       "         regularizer {\n",
       "           l2_regularizer {\n",
       "             weight: 3.9999998989515007e-05\n",
       "           }\n",
       "         }\n",
       "         initializer {\n",
       "           random_normal_initializer {\n",
       "             mean: 0.0\n",
       "             stddev: 0.009999999776482582\n",
       "           }\n",
       "         }\n",
       "         activation: RELU_6\n",
       "         batch_norm {\n",
       "           decay: 0.996999979019165\n",
       "           scale: true\n",
       "           epsilon: 0.0010000000474974513\n",
       "         }\n",
       "       }\n",
       "       depth: 128\n",
       "       num_layers_before_predictor: 4\n",
       "       kernel_size: 3\n",
       "       class_prediction_bias_init: -4.599999904632568\n",
       "       share_prediction_tower: true\n",
       "       use_depthwise: true\n",
       "     }\n",
       "   }\n",
       "   anchor_generator {\n",
       "     multiscale_anchor_generator {\n",
       "       min_level: 3\n",
       "       max_level: 7\n",
       "       anchor_scale: 4.0\n",
       "       aspect_ratios: 1.0\n",
       "       aspect_ratios: 2.0\n",
       "       aspect_ratios: 0.5\n",
       "       scales_per_octave: 2\n",
       "     }\n",
       "   }\n",
       "   post_processing {\n",
       "     batch_non_max_suppression {\n",
       "       score_threshold: 9.99999993922529e-09\n",
       "       iou_threshold: 0.6000000238418579\n",
       "       max_detections_per_class: 100\n",
       "       max_total_detections: 100\n",
       "       use_static_shapes: false\n",
       "     }\n",
       "     score_converter: SIGMOID\n",
       "   }\n",
       "   normalize_loss_by_num_matches: true\n",
       "   loss {\n",
       "     localization_loss {\n",
       "       weighted_smooth_l1 {\n",
       "       }\n",
       "     }\n",
       "     classification_loss {\n",
       "       weighted_sigmoid_focal {\n",
       "         gamma: 2.0\n",
       "         alpha: 0.25\n",
       "       }\n",
       "     }\n",
       "     classification_weight: 1.0\n",
       "     localization_weight: 1.0\n",
       "   }\n",
       "   encode_background_as_zeros: true\n",
       "   normalize_loc_loss_by_codesize: true\n",
       "   inplace_batchnorm_update: true\n",
       "   freeze_batchnorm: false\n",
       " },\n",
       " 'train_config': batch_size: 128\n",
       " data_augmentation_options {\n",
       "   random_horizontal_flip {\n",
       "   }\n",
       " }\n",
       " data_augmentation_options {\n",
       "   random_crop_image {\n",
       "     min_object_covered: 0.0\n",
       "     min_aspect_ratio: 0.75\n",
       "     max_aspect_ratio: 3.0\n",
       "     min_area: 0.75\n",
       "     max_area: 1.0\n",
       "     overlap_thresh: 0.0\n",
       "   }\n",
       " }\n",
       " sync_replicas: true\n",
       " optimizer {\n",
       "   momentum_optimizer {\n",
       "     learning_rate {\n",
       "       cosine_decay_learning_rate {\n",
       "         learning_rate_base: 0.07999999821186066\n",
       "         total_steps: 50000\n",
       "         warmup_learning_rate: 0.026666000485420227\n",
       "         warmup_steps: 1000\n",
       "       }\n",
       "     }\n",
       "     momentum_optimizer_value: 0.8999999761581421\n",
       "   }\n",
       "   use_moving_average: false\n",
       " }\n",
       " fine_tune_checkpoint: \"PATH_TO_BE_CONFIGURED\"\n",
       " num_steps: 50000\n",
       " startup_delay_steps: 0.0\n",
       " replicas_to_aggregate: 8\n",
       " max_number_of_boxes: 100\n",
       " unpad_groundtruth_tensors: false\n",
       " fine_tune_checkpoint_type: \"classification\"\n",
       " fine_tune_checkpoint_version: V2,\n",
       " 'train_input_config': label_map_path: \"PATH_TO_BE_CONFIGURED\"\n",
       " tf_record_input_reader {\n",
       "   input_path: \"PATH_TO_BE_CONFIGURED\"\n",
       " },\n",
       " 'eval_config': metrics_set: \"coco_detection_metrics\"\n",
       " use_moving_averages: false,\n",
       " 'eval_input_configs': [label_map_path: \"PATH_TO_BE_CONFIGURED\"\n",
       " shuffle: false\n",
       " num_epochs: 1\n",
       " tf_record_input_reader {\n",
       "   input_path: \"PATH_TO_BE_CONFIGURED\"\n",
       " }\n",
       " ],\n",
       " 'eval_input_config': label_map_path: \"PATH_TO_BE_CONFIGURED\"\n",
       " shuffle: false\n",
       " num_epochs: 1\n",
       " tf_record_input_reader {\n",
       "   input_path: \"PATH_TO_BE_CONFIGURED\"\n",
       " }}"
      ]
     },
     "execution_count": 23,
     "metadata": {},
     "output_type": "execute_result"
    }
   ],
   "source": [
    "config"
   ]
  },
  {
   "cell_type": "code",
   "execution_count": 24,
   "metadata": {
    "id": "9vK5lotDpfDF"
   },
   "outputs": [],
   "source": [
    "pipeline_config = pipeline_pb2.TrainEvalPipelineConfig()\n",
    "with tf.io.gfile.GFile(files['PIPELINE_CONFIG'], \"r\") as f:                                                                                                                                                                                                                     \n",
    "    proto_str = f.read()                                                                                                                                                                                                                                          \n",
    "    text_format.Merge(proto_str, pipeline_config)  "
   ]
  },
  {
   "cell_type": "code",
   "execution_count": 27,
   "metadata": {
    "id": "rP43Ph0JpfDG"
   },
   "outputs": [],
   "source": [
    "pipeline_config.model.ssd.num_classes = len(labels)\n",
    "pipeline_config.train_config.batch_size = 4\n",
    "pipeline_config.train_config.fine_tune_checkpoint = os.path.join(paths['PRETRAINED_MODEL_PATH'], PRETRAINED_MODEL_NAME, 'checkpoint', 'ckpt-0')\n",
    "pipeline_config.train_config.fine_tune_checkpoint_type = \"detection\"\n",
    "pipeline_config.train_input_reader.label_map_path= files['LABELMAP']\n",
    "pipeline_config.train_input_reader.tf_record_input_reader.input_path[:] = [os.path.join(paths['ANNOTATION_PATH'], 'train.record')]\n",
    "pipeline_config.eval_input_reader[0].label_map_path = files['LABELMAP']\n",
    "pipeline_config.eval_input_reader[0].tf_record_input_reader.input_path[:] = [os.path.join(paths['ANNOTATION_PATH'], 'test.record')]"
   ]
  },
  {
   "cell_type": "code",
   "execution_count": 28,
   "metadata": {
    "id": "oJvfgwWqpfDG"
   },
   "outputs": [],
   "source": [
    "config_text = text_format.MessageToString(pipeline_config)                                                                                                                                                                                                        \n",
    "with tf.io.gfile.GFile(files['PIPELINE_CONFIG'], \"wb\") as f:                                                                                                                                                                                                                     \n",
    "    f.write(config_text)   "
   ]
  },
  {
   "cell_type": "markdown",
   "metadata": {
    "id": "Zr3ON7xMpfDG"
   },
   "source": [
    "# 6. Train the model"
   ]
  },
  {
   "cell_type": "code",
   "execution_count": 29,
   "metadata": {
    "id": "B-Y2UQmQpfDG"
   },
   "outputs": [],
   "source": [
    "TRAINING_SCRIPT = os.path.join(paths['APIMODEL_PATH'], 'research', 'object_detection', 'model_main_tf2.py')"
   ]
  },
  {
   "cell_type": "code",
   "execution_count": 30,
   "metadata": {},
   "outputs": [
    {
     "name": "stdout",
     "output_type": "stream",
     "text": [
      "Requirement already satisfied: tf_slim in /Volumes/Study/University/Semester 5/ML LAB/Project/sign_language_detection/mlproject/lib/python3.9/site-packages (1.1.0)\n",
      "Requirement already satisfied: absl-py>=0.2.2 in /Volumes/Study/University/Semester 5/ML LAB/Project/sign_language_detection/mlproject/lib/python3.9/site-packages (from tf_slim) (1.3.0)\n"
     ]
    }
   ],
   "source": [
    "!pip install --upgrade tf_slim"
   ]
  },
  {
   "cell_type": "code",
   "execution_count": 31,
   "metadata": {
    "id": "jMP2XDfQpfDH"
   },
   "outputs": [],
   "source": [
    "command = \"python {} --model_dir={} --pipeline_config_path={} --num_train_steps=2000\".format(TRAINING_SCRIPT, paths['CHECKPOINT_PATH'],files['PIPELINE_CONFIG'])"
   ]
  },
  {
   "cell_type": "code",
   "execution_count": 32,
   "metadata": {
    "colab": {
     "base_uri": "https://localhost:8080/"
    },
    "id": "A4OXXi-ApfDH",
    "outputId": "117a0e83-012b-466e-b7a6-ccaa349ac5ab"
   },
   "outputs": [
    {
     "name": "stdout",
     "output_type": "stream",
     "text": [
      "python Tensorflow/models/research/object_detection/model_main_tf2.py --model_dir=Tensorflow/workspace/models/my_ssd_mobnet --pipeline_config_path=Tensorflow/workspace/models/my_ssd_mobnet/pipeline.config --num_train_steps=2000\n"
     ]
    }
   ],
   "source": [
    "print(command)"
   ]
  },
  {
   "cell_type": "code",
   "execution_count": 33,
   "metadata": {
    "colab": {
     "base_uri": "https://localhost:8080/"
    },
    "id": "i3ZsJR-qpfDH",
    "outputId": "cabec5e1-45e6-4f2f-d9cf-297d9c1d0225"
   },
   "outputs": [
    {
     "name": "stdout",
     "output_type": "stream",
     "text": [
      "2022-12-18 17:22:59.123912: I tensorflow/core/platform/cpu_feature_guard.cc:193] This TensorFlow binary is optimized with oneAPI Deep Neural Network Library (oneDNN) to use the following CPU instructions in performance-critical operations:  AVX2 FMA\n",
      "To enable them in other operations, rebuild TensorFlow with the appropriate compiler flags.\n",
      "/Volumes/Study/University/Semester 5/ML LAB/Project/sign_language_detection/mlproject/lib/python3.9/site-packages/tensorflow_addons/utils/ensure_tf_install.py:53: UserWarning: Tensorflow Addons supports using Python ops for all Tensorflow versions above or equal to 2.8.0 and strictly below 2.11.0 (nightly versions are not supported). \n",
      " The versions of TensorFlow you are currently using is 2.11.0 and is not supported. \n",
      "Some things might work, some things might not.\n",
      "If you were to encounter a bug, do not file an issue.\n",
      "If you want to make sure you're using a tested and supported configuration, either change the TensorFlow version or the TensorFlow Addons's version. \n",
      "You can find the compatibility matrix in TensorFlow Addon's readme:\n",
      "https://github.com/tensorflow/addons\n",
      "  warnings.warn(\n",
      "2022-12-18 17:23:08.486822: I tensorflow/core/platform/cpu_feature_guard.cc:193] This TensorFlow binary is optimized with oneAPI Deep Neural Network Library (oneDNN) to use the following CPU instructions in performance-critical operations:  AVX2 FMA\n",
      "To enable them in other operations, rebuild TensorFlow with the appropriate compiler flags.\n",
      "WARNING:tensorflow:There are non-GPU devices in `tf.distribute.Strategy`, not using nccl allreduce.\n",
      "W1218 17:23:08.489433 4725900800 cross_device_ops.py:1387] There are non-GPU devices in `tf.distribute.Strategy`, not using nccl allreduce.\n",
      "INFO:tensorflow:Using MirroredStrategy with devices ('/job:localhost/replica:0/task:0/device:CPU:0',)\n",
      "I1218 17:23:08.514697 4725900800 mirrored_strategy.py:374] Using MirroredStrategy with devices ('/job:localhost/replica:0/task:0/device:CPU:0',)\n",
      "INFO:tensorflow:Maybe overwriting train_steps: 2000\n",
      "I1218 17:23:08.518559 4725900800 config_util.py:552] Maybe overwriting train_steps: 2000\n",
      "INFO:tensorflow:Maybe overwriting use_bfloat16: False\n",
      "I1218 17:23:08.518671 4725900800 config_util.py:552] Maybe overwriting use_bfloat16: False\n",
      "WARNING:tensorflow:From /Volumes/Study/University/Semester 5/ML LAB/sign_language_detection/Tensorflow/models/research/object_detection/model_lib_v2.py:563: StrategyBase.experimental_distribute_datasets_from_function (from tensorflow.python.distribute.distribute_lib) is deprecated and will be removed in a future version.\n",
      "Instructions for updating:\n",
      "rename to distribute_datasets_from_function\n",
      "W1218 17:23:08.645562 4725900800 deprecation.py:350] From /Volumes/Study/University/Semester 5/ML LAB/sign_language_detection/Tensorflow/models/research/object_detection/model_lib_v2.py:563: StrategyBase.experimental_distribute_datasets_from_function (from tensorflow.python.distribute.distribute_lib) is deprecated and will be removed in a future version.\n",
      "Instructions for updating:\n",
      "rename to distribute_datasets_from_function\n",
      "INFO:tensorflow:Reading unweighted datasets: ['Tensorflow/workspace/annotations/train.record']\n",
      "I1218 17:23:08.657602 4725900800 dataset_builder.py:162] Reading unweighted datasets: ['Tensorflow/workspace/annotations/train.record']\n",
      "INFO:tensorflow:Reading record datasets for input file: ['Tensorflow/workspace/annotations/train.record']\n",
      "I1218 17:23:08.657829 4725900800 dataset_builder.py:79] Reading record datasets for input file: ['Tensorflow/workspace/annotations/train.record']\n",
      "INFO:tensorflow:Number of filenames to read: 1\n",
      "I1218 17:23:08.657904 4725900800 dataset_builder.py:80] Number of filenames to read: 1\n",
      "WARNING:tensorflow:num_readers has been reduced to 1 to match input file shards.\n",
      "W1218 17:23:08.657962 4725900800 dataset_builder.py:86] num_readers has been reduced to 1 to match input file shards.\n",
      "WARNING:tensorflow:From /Volumes/Study/University/Semester 5/ML LAB/Project/sign_language_detection/mlproject/lib/python3.9/site-packages/object_detection/builders/dataset_builder.py:100: parallel_interleave (from tensorflow.python.data.experimental.ops.interleave_ops) is deprecated and will be removed in a future version.\n",
      "Instructions for updating:\n",
      "Use `tf.data.Dataset.interleave(map_func, cycle_length, block_length, num_parallel_calls=tf.data.AUTOTUNE)` instead. If sloppy execution is desired, use `tf.data.Options.deterministic`.\n",
      "W1218 17:23:08.668128 4725900800 deprecation.py:350] From /Volumes/Study/University/Semester 5/ML LAB/Project/sign_language_detection/mlproject/lib/python3.9/site-packages/object_detection/builders/dataset_builder.py:100: parallel_interleave (from tensorflow.python.data.experimental.ops.interleave_ops) is deprecated and will be removed in a future version.\n",
      "Instructions for updating:\n",
      "Use `tf.data.Dataset.interleave(map_func, cycle_length, block_length, num_parallel_calls=tf.data.AUTOTUNE)` instead. If sloppy execution is desired, use `tf.data.Options.deterministic`.\n",
      "WARNING:tensorflow:From /Volumes/Study/University/Semester 5/ML LAB/Project/sign_language_detection/mlproject/lib/python3.9/site-packages/object_detection/builders/dataset_builder.py:235: DatasetV1.map_with_legacy_function (from tensorflow.python.data.ops.dataset_ops) is deprecated and will be removed in a future version.\n",
      "Instructions for updating:\n",
      "Use `tf.data.Dataset.map()\n",
      "W1218 17:23:08.693108 4725900800 deprecation.py:350] From /Volumes/Study/University/Semester 5/ML LAB/Project/sign_language_detection/mlproject/lib/python3.9/site-packages/object_detection/builders/dataset_builder.py:235: DatasetV1.map_with_legacy_function (from tensorflow.python.data.ops.dataset_ops) is deprecated and will be removed in a future version.\n",
      "Instructions for updating:\n",
      "Use `tf.data.Dataset.map()\n",
      "WARNING:tensorflow:From /Volumes/Study/University/Semester 5/ML LAB/Project/sign_language_detection/mlproject/lib/python3.9/site-packages/tensorflow/python/autograph/pyct/static_analysis/liveness.py:83: Analyzer.lamba_check (from tensorflow.python.autograph.pyct.static_analysis.liveness) is deprecated and will be removed after 2023-09-23.\n",
      "Instructions for updating:\n",
      "Lambda fuctions will be no more assumed to be used in the statement where they are used, or at least in the same block. https://github.com/tensorflow/tensorflow/issues/56089\n",
      "W1218 17:23:09.132835 4725900800 deprecation.py:350] From /Volumes/Study/University/Semester 5/ML LAB/Project/sign_language_detection/mlproject/lib/python3.9/site-packages/tensorflow/python/autograph/pyct/static_analysis/liveness.py:83: Analyzer.lamba_check (from tensorflow.python.autograph.pyct.static_analysis.liveness) is deprecated and will be removed after 2023-09-23.\n",
      "Instructions for updating:\n",
      "Lambda fuctions will be no more assumed to be used in the statement where they are used, or at least in the same block. https://github.com/tensorflow/tensorflow/issues/56089\n",
      "WARNING:tensorflow:From /Volumes/Study/University/Semester 5/ML LAB/Project/sign_language_detection/mlproject/lib/python3.9/site-packages/tensorflow/python/util/dispatch.py:1176: sparse_to_dense (from tensorflow.python.ops.sparse_ops) is deprecated and will be removed in a future version.\n",
      "Instructions for updating:\n",
      "Create a `tf.sparse.SparseTensor` and use `tf.sparse.to_dense` instead.\n",
      "W1218 17:23:14.979406 4725900800 deprecation.py:350] From /Volumes/Study/University/Semester 5/ML LAB/Project/sign_language_detection/mlproject/lib/python3.9/site-packages/tensorflow/python/util/dispatch.py:1176: sparse_to_dense (from tensorflow.python.ops.sparse_ops) is deprecated and will be removed in a future version.\n",
      "Instructions for updating:\n",
      "Create a `tf.sparse.SparseTensor` and use `tf.sparse.to_dense` instead.\n",
      "WARNING:tensorflow:From /Volumes/Study/University/Semester 5/ML LAB/Project/sign_language_detection/mlproject/lib/python3.9/site-packages/tensorflow/python/util/dispatch.py:1176: sample_distorted_bounding_box (from tensorflow.python.ops.image_ops_impl) is deprecated and will be removed in a future version.\n",
      "Instructions for updating:\n",
      "`seed2` arg is deprecated.Use sample_distorted_bounding_box_v2 instead.\n",
      "W1218 17:23:17.525520 4725900800 deprecation.py:350] From /Volumes/Study/University/Semester 5/ML LAB/Project/sign_language_detection/mlproject/lib/python3.9/site-packages/tensorflow/python/util/dispatch.py:1176: sample_distorted_bounding_box (from tensorflow.python.ops.image_ops_impl) is deprecated and will be removed in a future version.\n",
      "Instructions for updating:\n",
      "`seed2` arg is deprecated.Use sample_distorted_bounding_box_v2 instead.\n"
     ]
    },
    {
     "name": "stdout",
     "output_type": "stream",
     "text": [
      "WARNING:tensorflow:From /Volumes/Study/University/Semester 5/ML LAB/Project/sign_language_detection/mlproject/lib/python3.9/site-packages/tensorflow/python/util/dispatch.py:1176: to_float (from tensorflow.python.ops.math_ops) is deprecated and will be removed in a future version.\n",
      "Instructions for updating:\n",
      "Use `tf.cast` instead.\n",
      "W1218 17:23:19.053062 4725900800 deprecation.py:350] From /Volumes/Study/University/Semester 5/ML LAB/Project/sign_language_detection/mlproject/lib/python3.9/site-packages/tensorflow/python/util/dispatch.py:1176: to_float (from tensorflow.python.ops.math_ops) is deprecated and will be removed in a future version.\n",
      "Instructions for updating:\n",
      "Use `tf.cast` instead.\n",
      "2022-12-18 17:23:21.567585: W tensorflow/core/framework/dataset.cc:769] Input of GeneratorDatasetOp::Dataset will not be optimized because the dataset does not implement the AsGraphDefInternal() method needed to apply optimizations.\n",
      "/Volumes/Study/University/Semester 5/ML LAB/Project/sign_language_detection/mlproject/lib/python3.9/site-packages/keras/backend.py:451: UserWarning: `tf.keras.backend.set_learning_phase` is deprecated and will be removed after 2020-10-11. To update it, simply pass a True/False value to the `training` argument of the `__call__` method of your layer or model.\n",
      "  warnings.warn(\n",
      "WARNING:tensorflow:From /Volumes/Study/University/Semester 5/ML LAB/Project/sign_language_detection/mlproject/lib/python3.9/site-packages/tensorflow/python/util/deprecation.py:629: calling map_fn_v2 (from tensorflow.python.ops.map_fn) with dtype is deprecated and will be removed in a future version.\n",
      "Instructions for updating:\n",
      "Use fn_output_signature instead\n",
      "W1218 17:23:40.691630 123145361358848 deprecation.py:554] From /Volumes/Study/University/Semester 5/ML LAB/Project/sign_language_detection/mlproject/lib/python3.9/site-packages/tensorflow/python/util/deprecation.py:629: calling map_fn_v2 (from tensorflow.python.ops.map_fn) with dtype is deprecated and will be removed in a future version.\n",
      "Instructions for updating:\n",
      "Use fn_output_signature instead\n",
      "INFO:tensorflow:Step 100 per-step time 1.034s\n",
      "I1218 17:25:23.734560 4725900800 model_lib_v2.py:705] Step 100 per-step time 1.034s\n",
      "INFO:tensorflow:{'Loss/classification_loss': 0.7398951,\n",
      " 'Loss/localization_loss': 0.52079743,\n",
      " 'Loss/regularization_loss': 0.15401459,\n",
      " 'Loss/total_loss': 1.4147072,\n",
      " 'learning_rate': 0.0319994}\n",
      "I1218 17:25:23.734925 4725900800 model_lib_v2.py:708] {'Loss/classification_loss': 0.7398951,\n",
      " 'Loss/localization_loss': 0.52079743,\n",
      " 'Loss/regularization_loss': 0.15401459,\n",
      " 'Loss/total_loss': 1.4147072,\n",
      " 'learning_rate': 0.0319994}\n",
      "INFO:tensorflow:Step 200 per-step time 0.801s\n",
      "I1218 17:26:43.853487 4725900800 model_lib_v2.py:705] Step 200 per-step time 0.801s\n",
      "INFO:tensorflow:{'Loss/classification_loss': 0.45011488,\n",
      " 'Loss/localization_loss': 0.3240839,\n",
      " 'Loss/regularization_loss': 0.1540951,\n",
      " 'Loss/total_loss': 0.9282938,\n",
      " 'learning_rate': 0.0373328}\n",
      "I1218 17:26:43.853736 4725900800 model_lib_v2.py:708] {'Loss/classification_loss': 0.45011488,\n",
      " 'Loss/localization_loss': 0.3240839,\n",
      " 'Loss/regularization_loss': 0.1540951,\n",
      " 'Loss/total_loss': 0.9282938,\n",
      " 'learning_rate': 0.0373328}\n",
      "INFO:tensorflow:Step 300 per-step time 0.772s\n",
      "I1218 17:28:01.093306 4725900800 model_lib_v2.py:705] Step 300 per-step time 0.772s\n",
      "INFO:tensorflow:{'Loss/classification_loss': 0.5291679,\n",
      " 'Loss/localization_loss': 0.22546642,\n",
      " 'Loss/regularization_loss': 0.15412124,\n",
      " 'Loss/total_loss': 0.90875554,\n",
      " 'learning_rate': 0.0426662}\n",
      "I1218 17:28:01.093601 4725900800 model_lib_v2.py:708] {'Loss/classification_loss': 0.5291679,\n",
      " 'Loss/localization_loss': 0.22546642,\n",
      " 'Loss/regularization_loss': 0.15412124,\n",
      " 'Loss/total_loss': 0.90875554,\n",
      " 'learning_rate': 0.0426662}\n",
      "INFO:tensorflow:Step 400 per-step time 0.779s\n",
      "I1218 17:29:19.025756 4725900800 model_lib_v2.py:705] Step 400 per-step time 0.779s\n",
      "INFO:tensorflow:{'Loss/classification_loss': 0.42655048,\n",
      " 'Loss/localization_loss': 0.28270355,\n",
      " 'Loss/regularization_loss': 0.15403618,\n",
      " 'Loss/total_loss': 0.8632902,\n",
      " 'learning_rate': 0.047999598}\n",
      "I1218 17:29:19.026082 4725900800 model_lib_v2.py:708] {'Loss/classification_loss': 0.42655048,\n",
      " 'Loss/localization_loss': 0.28270355,\n",
      " 'Loss/regularization_loss': 0.15403618,\n",
      " 'Loss/total_loss': 0.8632902,\n",
      " 'learning_rate': 0.047999598}\n",
      "INFO:tensorflow:Step 500 per-step time 0.779s\n",
      "I1218 17:30:36.896421 4725900800 model_lib_v2.py:705] Step 500 per-step time 0.779s\n",
      "INFO:tensorflow:{'Loss/classification_loss': 0.46670288,\n",
      " 'Loss/localization_loss': 0.09179534,\n",
      " 'Loss/regularization_loss': 0.15389541,\n",
      " 'Loss/total_loss': 0.71239364,\n",
      " 'learning_rate': 0.053333}\n",
      "I1218 17:30:36.896661 4725900800 model_lib_v2.py:708] {'Loss/classification_loss': 0.46670288,\n",
      " 'Loss/localization_loss': 0.09179534,\n",
      " 'Loss/regularization_loss': 0.15389541,\n",
      " 'Loss/total_loss': 0.71239364,\n",
      " 'learning_rate': 0.053333}\n",
      "INFO:tensorflow:Step 600 per-step time 0.780s\n",
      "I1218 17:31:54.938630 4725900800 model_lib_v2.py:705] Step 600 per-step time 0.780s\n",
      "INFO:tensorflow:{'Loss/classification_loss': 0.4287347,\n",
      " 'Loss/localization_loss': 0.17715678,\n",
      " 'Loss/regularization_loss': 0.15370776,\n",
      " 'Loss/total_loss': 0.7595992,\n",
      " 'learning_rate': 0.0586664}\n",
      "I1218 17:31:54.938871 4725900800 model_lib_v2.py:708] {'Loss/classification_loss': 0.4287347,\n",
      " 'Loss/localization_loss': 0.17715678,\n",
      " 'Loss/regularization_loss': 0.15370776,\n",
      " 'Loss/total_loss': 0.7595992,\n",
      " 'learning_rate': 0.0586664}\n",
      "INFO:tensorflow:Step 700 per-step time 0.785s\n",
      "I1218 17:33:13.492537 4725900800 model_lib_v2.py:705] Step 700 per-step time 0.785s\n",
      "INFO:tensorflow:{'Loss/classification_loss': 0.23608987,\n",
      " 'Loss/localization_loss': 0.10743817,\n",
      " 'Loss/regularization_loss': 0.15367763,\n",
      " 'Loss/total_loss': 0.49720567,\n",
      " 'learning_rate': 0.0639998}\n",
      "I1218 17:33:13.492789 4725900800 model_lib_v2.py:708] {'Loss/classification_loss': 0.23608987,\n",
      " 'Loss/localization_loss': 0.10743817,\n",
      " 'Loss/regularization_loss': 0.15367763,\n",
      " 'Loss/total_loss': 0.49720567,\n",
      " 'learning_rate': 0.0639998}\n",
      "INFO:tensorflow:Step 800 per-step time 0.777s\n",
      "I1218 17:34:31.235828 4725900800 model_lib_v2.py:705] Step 800 per-step time 0.777s\n",
      "INFO:tensorflow:{'Loss/classification_loss': 0.2648505,\n",
      " 'Loss/localization_loss': 0.17614676,\n",
      " 'Loss/regularization_loss': 0.15351239,\n",
      " 'Loss/total_loss': 0.59450966,\n",
      " 'learning_rate': 0.069333196}\n",
      "I1218 17:34:31.236070 4725900800 model_lib_v2.py:708] {'Loss/classification_loss': 0.2648505,\n",
      " 'Loss/localization_loss': 0.17614676,\n",
      " 'Loss/regularization_loss': 0.15351239,\n",
      " 'Loss/total_loss': 0.59450966,\n",
      " 'learning_rate': 0.069333196}\n",
      "INFO:tensorflow:Step 900 per-step time 0.789s\n",
      "I1218 17:35:50.126139 4725900800 model_lib_v2.py:705] Step 900 per-step time 0.789s\n",
      "INFO:tensorflow:{'Loss/classification_loss': 0.29142863,\n",
      " 'Loss/localization_loss': 0.0830562,\n",
      " 'Loss/regularization_loss': 0.1534464,\n",
      " 'Loss/total_loss': 0.5279312,\n",
      " 'learning_rate': 0.074666604}\n",
      "I1218 17:35:50.126379 4725900800 model_lib_v2.py:708] {'Loss/classification_loss': 0.29142863,\n",
      " 'Loss/localization_loss': 0.0830562,\n",
      " 'Loss/regularization_loss': 0.1534464,\n",
      " 'Loss/total_loss': 0.5279312,\n",
      " 'learning_rate': 0.074666604}\n",
      "INFO:tensorflow:Step 1000 per-step time 0.791s\n",
      "I1218 17:37:09.208106 4725900800 model_lib_v2.py:705] Step 1000 per-step time 0.791s\n",
      "INFO:tensorflow:{'Loss/classification_loss': 0.15686636,\n",
      " 'Loss/localization_loss': 0.09167287,\n",
      " 'Loss/regularization_loss': 0.15323906,\n",
      " 'Loss/total_loss': 0.40177828,\n",
      " 'learning_rate': 0.08}\n",
      "I1218 17:37:09.208463 4725900800 model_lib_v2.py:708] {'Loss/classification_loss': 0.15686636,\n",
      " 'Loss/localization_loss': 0.09167287,\n",
      " 'Loss/regularization_loss': 0.15323906,\n",
      " 'Loss/total_loss': 0.40177828,\n",
      " 'learning_rate': 0.08}\n",
      "INFO:tensorflow:Step 1100 per-step time 0.795s\n",
      "I1218 17:38:28.737010 4725900800 model_lib_v2.py:705] Step 1100 per-step time 0.795s\n",
      "INFO:tensorflow:{'Loss/classification_loss': 0.22433743,\n",
      " 'Loss/localization_loss': 0.1512514,\n",
      " 'Loss/regularization_loss': 0.15346453,\n",
      " 'Loss/total_loss': 0.52905333,\n",
      " 'learning_rate': 0.07999918}\n",
      "I1218 17:38:28.737323 4725900800 model_lib_v2.py:708] {'Loss/classification_loss': 0.22433743,\n",
      " 'Loss/localization_loss': 0.1512514,\n",
      " 'Loss/regularization_loss': 0.15346453,\n",
      " 'Loss/total_loss': 0.52905333,\n",
      " 'learning_rate': 0.07999918}\n"
     ]
    },
    {
     "name": "stdout",
     "output_type": "stream",
     "text": [
      "INFO:tensorflow:Step 1200 per-step time 0.780s\n",
      "I1218 17:39:46.773561 4725900800 model_lib_v2.py:705] Step 1200 per-step time 0.780s\n",
      "INFO:tensorflow:{'Loss/classification_loss': 0.19802277,\n",
      " 'Loss/localization_loss': 0.1327343,\n",
      " 'Loss/regularization_loss': 0.15335563,\n",
      " 'Loss/total_loss': 0.48411268,\n",
      " 'learning_rate': 0.079996705}\n",
      "I1218 17:39:46.773795 4725900800 model_lib_v2.py:708] {'Loss/classification_loss': 0.19802277,\n",
      " 'Loss/localization_loss': 0.1327343,\n",
      " 'Loss/regularization_loss': 0.15335563,\n",
      " 'Loss/total_loss': 0.48411268,\n",
      " 'learning_rate': 0.079996705}\n",
      "INFO:tensorflow:Step 1300 per-step time 0.806s\n",
      "I1218 17:41:07.390601 4725900800 model_lib_v2.py:705] Step 1300 per-step time 0.806s\n",
      "INFO:tensorflow:{'Loss/classification_loss': 0.2035978,\n",
      " 'Loss/localization_loss': 0.14250022,\n",
      " 'Loss/regularization_loss': 0.15320662,\n",
      " 'Loss/total_loss': 0.49930465,\n",
      " 'learning_rate': 0.0799926}\n",
      "I1218 17:41:07.390836 4725900800 model_lib_v2.py:708] {'Loss/classification_loss': 0.2035978,\n",
      " 'Loss/localization_loss': 0.14250022,\n",
      " 'Loss/regularization_loss': 0.15320662,\n",
      " 'Loss/total_loss': 0.49930465,\n",
      " 'learning_rate': 0.0799926}\n",
      "INFO:tensorflow:Step 1400 per-step time 0.801s\n",
      "I1218 17:42:27.515419 4725900800 model_lib_v2.py:705] Step 1400 per-step time 0.801s\n",
      "INFO:tensorflow:{'Loss/classification_loss': 0.19500308,\n",
      " 'Loss/localization_loss': 0.13826013,\n",
      " 'Loss/regularization_loss': 0.15284099,\n",
      " 'Loss/total_loss': 0.4861042,\n",
      " 'learning_rate': 0.07998685}\n",
      "I1218 17:42:27.515663 4725900800 model_lib_v2.py:708] {'Loss/classification_loss': 0.19500308,\n",
      " 'Loss/localization_loss': 0.13826013,\n",
      " 'Loss/regularization_loss': 0.15284099,\n",
      " 'Loss/total_loss': 0.4861042,\n",
      " 'learning_rate': 0.07998685}\n",
      "INFO:tensorflow:Step 1500 per-step time 0.786s\n",
      "I1218 17:43:46.122400 4725900800 model_lib_v2.py:705] Step 1500 per-step time 0.786s\n",
      "INFO:tensorflow:{'Loss/classification_loss': 0.18435545,\n",
      " 'Loss/localization_loss': 0.11747297,\n",
      " 'Loss/regularization_loss': 0.15245858,\n",
      " 'Loss/total_loss': 0.454287,\n",
      " 'learning_rate': 0.07997945}\n",
      "I1218 17:43:46.122661 4725900800 model_lib_v2.py:708] {'Loss/classification_loss': 0.18435545,\n",
      " 'Loss/localization_loss': 0.11747297,\n",
      " 'Loss/regularization_loss': 0.15245858,\n",
      " 'Loss/total_loss': 0.454287,\n",
      " 'learning_rate': 0.07997945}\n",
      "INFO:tensorflow:Step 1600 per-step time 0.787s\n",
      "I1218 17:45:04.839984 4725900800 model_lib_v2.py:705] Step 1600 per-step time 0.787s\n",
      "INFO:tensorflow:{'Loss/classification_loss': 0.12653977,\n",
      " 'Loss/localization_loss': 0.122827165,\n",
      " 'Loss/regularization_loss': 0.1522594,\n",
      " 'Loss/total_loss': 0.40162635,\n",
      " 'learning_rate': 0.079970405}\n",
      "I1218 17:45:04.840221 4725900800 model_lib_v2.py:708] {'Loss/classification_loss': 0.12653977,\n",
      " 'Loss/localization_loss': 0.122827165,\n",
      " 'Loss/regularization_loss': 0.1522594,\n",
      " 'Loss/total_loss': 0.40162635,\n",
      " 'learning_rate': 0.079970405}\n",
      "INFO:tensorflow:Step 1700 per-step time 0.791s\n",
      "I1218 17:46:23.893415 4725900800 model_lib_v2.py:705] Step 1700 per-step time 0.791s\n",
      "INFO:tensorflow:{'Loss/classification_loss': 0.23628098,\n",
      " 'Loss/localization_loss': 0.08671102,\n",
      " 'Loss/regularization_loss': 0.15198466,\n",
      " 'Loss/total_loss': 0.47497666,\n",
      " 'learning_rate': 0.07995972}\n",
      "I1218 17:46:23.893675 4725900800 model_lib_v2.py:708] {'Loss/classification_loss': 0.23628098,\n",
      " 'Loss/localization_loss': 0.08671102,\n",
      " 'Loss/regularization_loss': 0.15198466,\n",
      " 'Loss/total_loss': 0.47497666,\n",
      " 'learning_rate': 0.07995972}\n",
      "INFO:tensorflow:Step 1800 per-step time 0.791s\n",
      "I1218 17:47:43.001215 4725900800 model_lib_v2.py:705] Step 1800 per-step time 0.791s\n",
      "INFO:tensorflow:{'Loss/classification_loss': 0.1714165,\n",
      " 'Loss/localization_loss': 0.094301574,\n",
      " 'Loss/regularization_loss': 0.151618,\n",
      " 'Loss/total_loss': 0.4173361,\n",
      " 'learning_rate': 0.0799474}\n",
      "I1218 17:47:43.002905 4725900800 model_lib_v2.py:708] {'Loss/classification_loss': 0.1714165,\n",
      " 'Loss/localization_loss': 0.094301574,\n",
      " 'Loss/regularization_loss': 0.151618,\n",
      " 'Loss/total_loss': 0.4173361,\n",
      " 'learning_rate': 0.0799474}\n",
      "INFO:tensorflow:Step 1900 per-step time 0.785s\n",
      "I1218 17:49:01.536320 4725900800 model_lib_v2.py:705] Step 1900 per-step time 0.785s\n",
      "INFO:tensorflow:{'Loss/classification_loss': 0.17514698,\n",
      " 'Loss/localization_loss': 0.06956959,\n",
      " 'Loss/regularization_loss': 0.15113875,\n",
      " 'Loss/total_loss': 0.3958553,\n",
      " 'learning_rate': 0.07993342}\n",
      "I1218 17:49:01.536556 4725900800 model_lib_v2.py:708] {'Loss/classification_loss': 0.17514698,\n",
      " 'Loss/localization_loss': 0.06956959,\n",
      " 'Loss/regularization_loss': 0.15113875,\n",
      " 'Loss/total_loss': 0.3958553,\n",
      " 'learning_rate': 0.07993342}\n",
      "INFO:tensorflow:Step 2000 per-step time 0.787s\n",
      "I1218 17:50:20.280986 4725900800 model_lib_v2.py:705] Step 2000 per-step time 0.787s\n",
      "INFO:tensorflow:{'Loss/classification_loss': 0.09301553,\n",
      " 'Loss/localization_loss': 0.053909685,\n",
      " 'Loss/regularization_loss': 0.15064296,\n",
      " 'Loss/total_loss': 0.29756817,\n",
      " 'learning_rate': 0.07991781}\n",
      "I1218 17:50:20.281218 4725900800 model_lib_v2.py:708] {'Loss/classification_loss': 0.09301553,\n",
      " 'Loss/localization_loss': 0.053909685,\n",
      " 'Loss/regularization_loss': 0.15064296,\n",
      " 'Loss/total_loss': 0.29756817,\n",
      " 'learning_rate': 0.07991781}\n"
     ]
    }
   ],
   "source": [
    "!{command}\n"
   ]
  },
  {
   "cell_type": "code",
   "execution_count": null,
   "metadata": {},
   "outputs": [],
   "source": [
    "!tf_upgrade_v2 \\\n",
    "--infile mlproject/lib/python3.9/site-packages/object_detection/eval_util.py \\\n",
    "--outfile v2_files/eval_util.py"
   ]
  },
  {
   "cell_type": "code",
   "execution_count": null,
   "metadata": {},
   "outputs": [],
   "source": []
  },
  {
   "cell_type": "code",
   "execution_count": null,
   "metadata": {},
   "outputs": [],
   "source": []
  }
 ],
 "metadata": {
  "accelerator": "GPU",
  "colab": {
   "name": "3. Training and Detection.ipynb",
   "provenance": []
  },
  "kernelspec": {
   "display_name": "mlproject",
   "language": "python",
   "name": "mlproject"
  },
  "language_info": {
   "codemirror_mode": {
    "name": "ipython",
    "version": 3
   },
   "file_extension": ".py",
   "mimetype": "text/x-python",
   "name": "python",
   "nbconvert_exporter": "python",
   "pygments_lexer": "ipython3",
   "version": "3.9.12"
  }
 },
 "nbformat": 4,
 "nbformat_minor": 1
}
