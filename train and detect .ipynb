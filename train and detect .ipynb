{
 "cells": [
  {
   "cell_type": "markdown",
   "metadata": {
    "id": "QUANWN3rpfC9"
   },
   "source": [
    "# Setup"
   ]
  },
  {
   "cell_type": "code",
   "execution_count": 6,
   "metadata": {
    "id": "146BB11JpfDA"
   },
   "outputs": [],
   "source": [
    "import os"
   ]
  },
  {
   "cell_type": "code",
   "execution_count": 7,
   "metadata": {
    "id": "42hJEdo_pfDB"
   },
   "outputs": [],
   "source": [
    "CUSTOM_MODEL_NAME = 'my_ssd_mobnet' \n",
    "PRETRAINED_MODEL_NAME = 'ssd_mobilenet_v2_fpnlite_320x320_coco17_tpu-8'\n",
    "PRETRAINED_MODEL_URL = 'http://download.tensorflow.org/models/object_detection/tf2/20200711/ssd_mobilenet_v2_fpnlite_320x320_coco17_tpu-8.tar.gz'\n",
    "TF_RECORD_SCRIPT_NAME = 'generate_tfrecord.py'\n",
    "LABEL_MAP_NAME = 'label_map.pbtxt'"
   ]
  },
  {
   "cell_type": "code",
   "execution_count": 8,
   "metadata": {
    "id": "hbPhYVy_pfDB"
   },
   "outputs": [],
   "source": [
    "paths = {\n",
    "    'WORKSPACE_PATH': os.path.join('Tensorflow', 'workspace'),\n",
    "    'SCRIPTS_PATH': os.path.join('Tensorflow','scripts'),\n",
    "    'APIMODEL_PATH': os.path.join('Tensorflow','models'),\n",
    "    'ANNOTATION_PATH': os.path.join('Tensorflow', 'workspace','annotations'),\n",
    "    'IMAGE_PATH': os.path.join('Tensorflow', 'workspace','images'),\n",
    "    'MODEL_PATH': os.path.join('Tensorflow', 'workspace','models'),\n",
    "    'PRETRAINED_MODEL_PATH': os.path.join('Tensorflow', 'workspace','pre-trained-models'),\n",
    "    'CHECKPOINT_PATH': os.path.join('Tensorflow', 'workspace','models',CUSTOM_MODEL_NAME), \n",
    "    'OUTPUT_PATH': os.path.join('Tensorflow', 'workspace','models',CUSTOM_MODEL_NAME, 'export'), \n",
    "    'TFJS_PATH':os.path.join('Tensorflow', 'workspace','models',CUSTOM_MODEL_NAME, 'tfjsexport'), \n",
    "    'TFLITE_PATH':os.path.join('Tensorflow', 'workspace','models',CUSTOM_MODEL_NAME, 'tfliteexport'), \n",
    "    'PROTOC_PATH':os.path.join('Tensorflow','protoc')\n",
    " }"
   ]
  },
  {
   "cell_type": "code",
   "execution_count": 9,
   "metadata": {
    "id": "LwhWZMI0pfDC"
   },
   "outputs": [],
   "source": [
    "files = {\n",
    "    'PIPELINE_CONFIG':os.path.join('Tensorflow', 'workspace','models', CUSTOM_MODEL_NAME, 'pipeline.config'),\n",
    "    'TF_RECORD_SCRIPT': os.path.join(paths['SCRIPTS_PATH'], TF_RECORD_SCRIPT_NAME), \n",
    "    'LABELMAP': os.path.join(paths['ANNOTATION_PATH'], LABEL_MAP_NAME)\n",
    "}"
   ]
  },
  {
   "cell_type": "code",
   "execution_count": 10,
   "metadata": {
    "id": "HR-TfDGrpfDC"
   },
   "outputs": [],
   "source": [
    "for path in paths.values():\n",
    "    if not os.path.exists(path):\n",
    "        if os.name == 'posix':\n",
    "            !mkdir -p {path}\n",
    "        if os.name == 'nt':\n",
    "            !mkdir {path}"
   ]
  },
  {
   "cell_type": "markdown",
   "metadata": {
    "id": "OLU-rs_ipfDE"
   },
   "source": [
    "# TF Models Pretrained Models from Tensorflow Model Zoo and Install Tensor flow object detection"
   ]
  },
  {
   "cell_type": "code",
   "execution_count": 11,
   "metadata": {},
   "outputs": [],
   "source": [
    "# https://www.tensorflow.org/install/source_windows"
   ]
  },
  {
   "cell_type": "code",
   "execution_count": 12,
   "metadata": {},
   "outputs": [
    {
     "ename": "NameError",
     "evalue": "name 'tf' is not defined",
     "output_type": "error",
     "traceback": [
      "\u001b[0;31m---------------------------------------------------------------------------\u001b[0m",
      "\u001b[0;31mNameError\u001b[0m                                 Traceback (most recent call last)",
      "Cell \u001b[0;32mIn [12], line 1\u001b[0m\n\u001b[0;32m----> 1\u001b[0m \u001b[38;5;28mprint\u001b[39m(\u001b[43mtf\u001b[49m\u001b[38;5;241m.\u001b[39m__version__)\n",
      "\u001b[0;31mNameError\u001b[0m: name 'tf' is not defined"
     ]
    }
   ],
   "source": [
    "print(tf.__version__)\n"
   ]
  },
  {
   "cell_type": "code",
   "execution_count": 7,
   "metadata": {
    "id": "K-Cmz2edpfDE",
    "scrolled": true
   },
   "outputs": [],
   "source": [
    "if os.name=='nt':\n",
    "    !pip install wget\n",
    "    import wget"
   ]
  },
  {
   "cell_type": "code",
   "execution_count": 8,
   "metadata": {
    "id": "iA1DIq5OpfDE"
   },
   "outputs": [],
   "source": [
    "if not os.path.exists(os.path.join(paths['APIMODEL_PATH'], 'research', 'object_detection')):\n",
    "    !git clone https://github.com/tensorflow/models {paths['APIMODEL_PATH']}"
   ]
  },
  {
   "cell_type": "code",
   "execution_count": 27,
   "metadata": {},
   "outputs": [
    {
     "name": "stdout",
     "output_type": "stream",
     "text": [
      "2022-11-23 23:50:53.147274: I tensorflow/core/platform/cpu_feature_guard.cc:193] This TensorFlow binary is optimized with oneAPI Deep Neural Network Library (oneDNN) to use the following CPU instructions in performance-critical operations:  AVX2 FMA\n",
      "To enable them in other operations, rebuild TensorFlow with the appropriate compiler flags.\n",
      "usage: tf_upgrade_v2 [-h] [--infile INPUT_FILE] [--outfile OUTPUT_FILE]\n",
      "                     [--intree INPUT_TREE] [--outtree OUTPUT_TREE]\n",
      "                     [--copyotherfiles COPY_OTHER_FILES] [--inplace]\n",
      "                     [--no_import_rename] [--no_upgrade_compat_v1_import]\n",
      "                     [--reportfile REPORT_FILENAME] [--mode {DEFAULT,SAFETY}]\n",
      "                     [--print_all]\n",
      "\n",
      "Convert a TensorFlow Python file from 1.x to 2.0\n",
      "\n",
      "Simple usage:\n",
      "  tf_upgrade_v2.py --infile foo.py --outfile bar.py\n",
      "  tf_upgrade_v2.py --infile foo.ipynb --outfile bar.ipynb\n",
      "  tf_upgrade_v2.py --intree ~/code/old --outtree ~/code/new\n",
      "\n",
      "optional arguments:\n",
      "  -h, --help            show this help message and exit\n",
      "  --infile INPUT_FILE   If converting a single file, the name of the file to\n",
      "                        convert\n",
      "  --outfile OUTPUT_FILE\n",
      "                        If converting a single file, the output filename.\n",
      "  --intree INPUT_TREE   If converting a whole tree of files, the directory to\n",
      "                        read from (relative or absolute).\n",
      "  --outtree OUTPUT_TREE\n",
      "                        If converting a whole tree of files, the output\n",
      "                        directory (relative or absolute).\n",
      "  --copyotherfiles COPY_OTHER_FILES\n",
      "                        If converting a whole tree of files, whether to copy\n",
      "                        the other files.\n",
      "  --inplace             If converting a set of files, whether to allow the\n",
      "                        conversion to be performed on the input files.\n",
      "  --no_import_rename    Not to rename import to compat.v2 explicitly.\n",
      "  --no_upgrade_compat_v1_import\n",
      "                        If specified, don't upgrade explicit imports of\n",
      "                        `tensorflow.compat.v1 as tf` to the v2 APIs.\n",
      "                        Otherwise, explicit imports of the form\n",
      "                        `tensorflow.compat.v1 as tf` will be upgraded.\n",
      "  --reportfile REPORT_FILENAME\n",
      "                        The name of the file where the report log is\n",
      "                        stored.(default: report.txt)\n",
      "  --mode {DEFAULT,SAFETY}\n",
      "                        Upgrade script mode. Supported modes: DEFAULT: Perform\n",
      "                        only straightforward conversions to upgrade to 2.0. In\n",
      "                        more difficult cases, switch to use compat.v1. SAFETY:\n",
      "                        Keep 1.* code intact and import compat.v1 module.\n",
      "  --print_all           Print full log to stdout instead of just printing\n",
      "                        errors\n"
     ]
    }
   ],
   "source": [
    "!tf_upgrade_v2 -h"
   ]
  },
  {
   "cell_type": "code",
   "execution_count": 10,
   "metadata": {
    "collapsed": true,
    "id": "rJjMHbnDs3Tv"
   },
   "outputs": [
    {
     "name": "stdout",
     "output_type": "stream",
     "text": [
      "Running `brew update --auto-update`...\n",
      "\u001b[34m==>\u001b[0m \u001b[1mAuto-updated Homebrew!\u001b[0m\n",
      "Updated 1 tap (homebrew/core).\n",
      "\n",
      "You have \u001b[1m12\u001b[0m outdated formulae installed.\n",
      "You can upgrade them with \u001b[1mbrew upgrade\u001b[0m\n",
      "or list them with \u001b[1mbrew outdated\u001b[0m.\n",
      "\n",
      "\u001b[33mWarning:\u001b[0m No available formula with the name \"protobuf-compiler\". Did you mean protobuf-c?\n",
      "\u001b[34m==>\u001b[0m \u001b[1mSearching for similarly named formulae...\u001b[0m\n",
      "This similarly named formula was found:\n",
      "protobuf-c\n",
      "To install it, run:\n",
      "  brew install protobuf-c\n",
      "\u001b[34m==>\u001b[0m \u001b[1mSearching for a previously deleted formula (in the last month)...\u001b[0m\n",
      "\u001b[31mError:\u001b[0m No previously deleted formula found.\n",
      "\u001b[34m==>\u001b[0m \u001b[1mSearching taps on GitHub...\u001b[0m\n",
      "\u001b[31mError:\u001b[0m No formulae found in taps.\n",
      "Processing /Volumes/Study/University/Semester 5/ML LAB/Project/sign_language_detection/Tensorflow/models/research\n",
      "  Preparing metadata (setup.py) ... \u001b[?25ldone\n",
      "\u001b[?25hRequirement already satisfied: avro-python3 in /Users/shrestho12/opt/anaconda3/lib/python3.9/site-packages (from object-detection==0.1) (1.10.2)\n",
      "Requirement already satisfied: apache-beam in /Users/shrestho12/opt/anaconda3/lib/python3.9/site-packages (from object-detection==0.1) (2.43.0)\n",
      "Requirement already satisfied: pillow in /Users/shrestho12/opt/anaconda3/lib/python3.9/site-packages (from object-detection==0.1) (9.0.1)\n",
      "Requirement already satisfied: lxml in /Users/shrestho12/opt/anaconda3/lib/python3.9/site-packages (from object-detection==0.1) (4.9.1)\n",
      "Requirement already satisfied: matplotlib in /Users/shrestho12/opt/anaconda3/lib/python3.9/site-packages (from object-detection==0.1) (3.2.0)\n",
      "Requirement already satisfied: Cython in /Users/shrestho12/opt/anaconda3/lib/python3.9/site-packages (from object-detection==0.1) (0.29.28)\n",
      "Requirement already satisfied: contextlib2 in /Users/shrestho12/opt/anaconda3/lib/python3.9/site-packages (from object-detection==0.1) (21.6.0)\n",
      "Requirement already satisfied: tf-slim in /Users/shrestho12/opt/anaconda3/lib/python3.9/site-packages (from object-detection==0.1) (1.1.0)\n",
      "Requirement already satisfied: six in /Users/shrestho12/opt/anaconda3/lib/python3.9/site-packages (from object-detection==0.1) (1.16.0)\n",
      "Requirement already satisfied: pycocotools in /Users/shrestho12/opt/anaconda3/lib/python3.9/site-packages (from object-detection==0.1) (2.0.6)\n",
      "Requirement already satisfied: lvis in /Users/shrestho12/opt/anaconda3/lib/python3.9/site-packages (from object-detection==0.1) (0.5.3)\n",
      "Requirement already satisfied: scipy in /Users/shrestho12/opt/anaconda3/lib/python3.9/site-packages (from object-detection==0.1) (1.7.3)\n",
      "Requirement already satisfied: pandas in /Users/shrestho12/opt/anaconda3/lib/python3.9/site-packages (from object-detection==0.1) (1.4.2)\n",
      "Requirement already satisfied: tf-models-official>=2.5.1 in /Users/shrestho12/opt/anaconda3/lib/python3.9/site-packages (from object-detection==0.1) (2.10.1)\n",
      "Requirement already satisfied: tensorflow_io in /Users/shrestho12/opt/anaconda3/lib/python3.9/site-packages (from object-detection==0.1) (0.27.0)\n",
      "Requirement already satisfied: keras in /Users/shrestho12/opt/anaconda3/lib/python3.9/site-packages (from object-detection==0.1) (2.10.0)\n",
      "Requirement already satisfied: pyparsing==2.4.7 in /Users/shrestho12/opt/anaconda3/lib/python3.9/site-packages (from object-detection==0.1) (2.4.7)\n",
      "Requirement already satisfied: sacrebleu<=2.2.0 in /Users/shrestho12/opt/anaconda3/lib/python3.9/site-packages (from object-detection==0.1) (2.2.0)\n",
      "Requirement already satisfied: regex in /Users/shrestho12/opt/anaconda3/lib/python3.9/site-packages (from sacrebleu<=2.2.0->object-detection==0.1) (2022.3.15)\n",
      "Requirement already satisfied: colorama in /Users/shrestho12/opt/anaconda3/lib/python3.9/site-packages (from sacrebleu<=2.2.0->object-detection==0.1) (0.4.4)\n",
      "Requirement already satisfied: portalocker in /Users/shrestho12/opt/anaconda3/lib/python3.9/site-packages (from sacrebleu<=2.2.0->object-detection==0.1) (2.6.0)\n",
      "Requirement already satisfied: numpy>=1.17 in /Users/shrestho12/opt/anaconda3/lib/python3.9/site-packages (from sacrebleu<=2.2.0->object-detection==0.1) (1.21.5)\n",
      "Requirement already satisfied: tabulate>=0.8.9 in /Users/shrestho12/opt/anaconda3/lib/python3.9/site-packages (from sacrebleu<=2.2.0->object-detection==0.1) (0.8.9)\n",
      "Requirement already satisfied: seqeval in /Users/shrestho12/opt/anaconda3/lib/python3.9/site-packages (from tf-models-official>=2.5.1->object-detection==0.1) (1.2.2)\n",
      "Requirement already satisfied: tensorflow~=2.10.0 in /Users/shrestho12/opt/anaconda3/lib/python3.9/site-packages (from tf-models-official>=2.5.1->object-detection==0.1) (2.10.1)\n",
      "Requirement already satisfied: tensorflow-addons in /Users/shrestho12/opt/anaconda3/lib/python3.9/site-packages (from tf-models-official>=2.5.1->object-detection==0.1) (0.18.0)\n",
      "Requirement already satisfied: immutabledict in /Users/shrestho12/opt/anaconda3/lib/python3.9/site-packages (from tf-models-official>=2.5.1->object-detection==0.1) (2.2.3)\n",
      "Requirement already satisfied: tensorflow-model-optimization>=0.4.1 in /Users/shrestho12/opt/anaconda3/lib/python3.9/site-packages (from tf-models-official>=2.5.1->object-detection==0.1) (0.7.3)\n",
      "Requirement already satisfied: tensorflow-text~=2.10.0 in /Users/shrestho12/opt/anaconda3/lib/python3.9/site-packages (from tf-models-official>=2.5.1->object-detection==0.1) (2.10.0)\n",
      "Requirement already satisfied: kaggle>=1.3.9 in /Users/shrestho12/opt/anaconda3/lib/python3.9/site-packages (from tf-models-official>=2.5.1->object-detection==0.1) (1.5.12)\n",
      "Requirement already satisfied: google-api-python-client>=1.6.7 in /Users/shrestho12/opt/anaconda3/lib/python3.9/site-packages (from tf-models-official>=2.5.1->object-detection==0.1) (2.66.0)\n",
      "Requirement already satisfied: gin-config in /Users/shrestho12/opt/anaconda3/lib/python3.9/site-packages (from tf-models-official>=2.5.1->object-detection==0.1) (0.5.0)\n",
      "Requirement already satisfied: tensorflow-datasets in /Users/shrestho12/opt/anaconda3/lib/python3.9/site-packages (from tf-models-official>=2.5.1->object-detection==0.1) (4.7.0)\n",
      "Requirement already satisfied: sentencepiece in /Users/shrestho12/opt/anaconda3/lib/python3.9/site-packages (from tf-models-official>=2.5.1->object-detection==0.1) (0.1.97)\n",
      "Requirement already satisfied: psutil>=5.4.3 in /Users/shrestho12/opt/anaconda3/lib/python3.9/site-packages (from tf-models-official>=2.5.1->object-detection==0.1) (5.8.0)\n",
      "Requirement already satisfied: py-cpuinfo>=3.3.0 in /Users/shrestho12/opt/anaconda3/lib/python3.9/site-packages (from tf-models-official>=2.5.1->object-detection==0.1) (9.0.0)\n",
      "Requirement already satisfied: pyyaml<6.0,>=5.1 in /Users/shrestho12/opt/anaconda3/lib/python3.9/site-packages (from tf-models-official>=2.5.1->object-detection==0.1) (5.4.1)\n",
      "Requirement already satisfied: tensorflow-hub>=0.6.0 in /Users/shrestho12/opt/anaconda3/lib/python3.9/site-packages (from tf-models-official>=2.5.1->object-detection==0.1) (0.12.0)\n",
      "Requirement already satisfied: opencv-python-headless in /Users/shrestho12/opt/anaconda3/lib/python3.9/site-packages (from tf-models-official>=2.5.1->object-detection==0.1) (4.6.0.66)\n",
      "Requirement already satisfied: oauth2client in /Users/shrestho12/opt/anaconda3/lib/python3.9/site-packages (from tf-models-official>=2.5.1->object-detection==0.1) (4.1.3)\n",
      "Requirement already satisfied: python-dateutil>=2.8.1 in /Users/shrestho12/opt/anaconda3/lib/python3.9/site-packages (from pandas->object-detection==0.1) (2.8.2)\n",
      "Requirement already satisfied: pytz>=2020.1 in /Users/shrestho12/opt/anaconda3/lib/python3.9/site-packages (from pandas->object-detection==0.1) (2021.3)\n",
      "Requirement already satisfied: absl-py>=0.2.2 in /Users/shrestho12/opt/anaconda3/lib/python3.9/site-packages (from tf-slim->object-detection==0.1) (1.3.0)\n",
      "Requirement already satisfied: orjson<4.0 in /Users/shrestho12/opt/anaconda3/lib/python3.9/site-packages (from apache-beam->object-detection==0.1) (3.8.1)\n",
      "Requirement already satisfied: crcmod<2.0,>=1.7 in /Users/shrestho12/opt/anaconda3/lib/python3.9/site-packages (from apache-beam->object-detection==0.1) (1.7)\n",
      "Requirement already satisfied: fastavro<2,>=0.23.6 in /Users/shrestho12/opt/anaconda3/lib/python3.9/site-packages (from apache-beam->object-detection==0.1) (1.7.0)\n",
      "Requirement already satisfied: zstandard<1,>=0.18.0 in /Users/shrestho12/opt/anaconda3/lib/python3.9/site-packages (from apache-beam->object-detection==0.1) (0.19.0)\n",
      "Requirement already satisfied: fasteners<1.0,>=0.3 in /Users/shrestho12/opt/anaconda3/lib/python3.9/site-packages (from apache-beam->object-detection==0.1) (0.18)\n",
      "Requirement already satisfied: grpcio!=1.48.0,<2,>=1.33.1 in /Users/shrestho12/opt/anaconda3/lib/python3.9/site-packages (from apache-beam->object-detection==0.1) (1.42.0)\n",
      "Requirement already satisfied: protobuf<4,>3.12.2 in /Users/shrestho12/opt/anaconda3/lib/python3.9/site-packages (from apache-beam->object-detection==0.1) (3.19.6)\n",
      "Requirement already satisfied: httplib2<0.21.0,>=0.8 in /Users/shrestho12/opt/anaconda3/lib/python3.9/site-packages (from apache-beam->object-detection==0.1) (0.20.4)\n",
      "Requirement already satisfied: objsize<0.6.0,>=0.5.2 in /Users/shrestho12/opt/anaconda3/lib/python3.9/site-packages (from apache-beam->object-detection==0.1) (0.5.2)\n",
      "Requirement already satisfied: proto-plus<2,>=1.7.1 in /Users/shrestho12/opt/anaconda3/lib/python3.9/site-packages (from apache-beam->object-detection==0.1) (1.22.1)\n",
      "Requirement already satisfied: hdfs<3.0.0,>=2.1.0 in /Users/shrestho12/opt/anaconda3/lib/python3.9/site-packages (from apache-beam->object-detection==0.1) (2.7.0)\n",
      "Requirement already satisfied: pyarrow<10.0.0,>=0.15.1 in /Users/shrestho12/opt/anaconda3/lib/python3.9/site-packages (from apache-beam->object-detection==0.1) (9.0.0)\n",
      "Requirement already satisfied: pymongo<4.0.0,>=3.8.0 in /Users/shrestho12/opt/anaconda3/lib/python3.9/site-packages (from apache-beam->object-detection==0.1) (3.13.0)\n",
      "Requirement already satisfied: dill<0.3.2,>=0.3.1.1 in /Users/shrestho12/opt/anaconda3/lib/python3.9/site-packages (from apache-beam->object-detection==0.1) (0.3.1.1)\n",
      "Requirement already satisfied: cloudpickle~=2.2.0 in /Users/shrestho12/opt/anaconda3/lib/python3.9/site-packages (from apache-beam->object-detection==0.1) (2.2.0)\n",
      "Requirement already satisfied: requests<3.0.0,>=2.24.0 in /Users/shrestho12/opt/anaconda3/lib/python3.9/site-packages (from apache-beam->object-detection==0.1) (2.27.1)\n",
      "Requirement already satisfied: typing-extensions>=3.7.0 in /Users/shrestho12/opt/anaconda3/lib/python3.9/site-packages (from apache-beam->object-detection==0.1) (4.1.1)\n",
      "Requirement already satisfied: pydot<2,>=1.2.0 in /Users/shrestho12/opt/anaconda3/lib/python3.9/site-packages (from apache-beam->object-detection==0.1) (1.4.2)\n"
     ]
    },
    {
     "name": "stdout",
     "output_type": "stream",
     "text": [
      "Requirement already satisfied: opencv-python>=4.1.0.25 in /Users/shrestho12/opt/anaconda3/lib/python3.9/site-packages (from lvis->object-detection==0.1) (4.6.0.66)\n",
      "Requirement already satisfied: kiwisolver>=1.1.0 in /Users/shrestho12/opt/anaconda3/lib/python3.9/site-packages (from lvis->object-detection==0.1) (1.3.2)\n",
      "Requirement already satisfied: cycler>=0.10.0 in /Users/shrestho12/opt/anaconda3/lib/python3.9/site-packages (from lvis->object-detection==0.1) (0.11.0)\n",
      "Requirement already satisfied: tensorflow-io-gcs-filesystem==0.27.0 in /Users/shrestho12/opt/anaconda3/lib/python3.9/site-packages (from tensorflow_io->object-detection==0.1) (0.27.0)\n",
      "Requirement already satisfied: google-api-core!=2.0.*,!=2.1.*,!=2.2.*,!=2.3.0,<3.0.0dev,>=1.31.5 in /Users/shrestho12/opt/anaconda3/lib/python3.9/site-packages (from google-api-python-client>=1.6.7->tf-models-official>=2.5.1->object-detection==0.1) (2.10.2)\n",
      "Requirement already satisfied: google-auth-httplib2>=0.1.0 in /Users/shrestho12/opt/anaconda3/lib/python3.9/site-packages (from google-api-python-client>=1.6.7->tf-models-official>=2.5.1->object-detection==0.1) (0.1.0)\n",
      "Requirement already satisfied: google-auth<3.0.0dev,>=1.19.0 in /Users/shrestho12/opt/anaconda3/lib/python3.9/site-packages (from google-api-python-client>=1.6.7->tf-models-official>=2.5.1->object-detection==0.1) (1.33.0)\n",
      "Requirement already satisfied: uritemplate<5,>=3.0.1 in /Users/shrestho12/opt/anaconda3/lib/python3.9/site-packages (from google-api-python-client>=1.6.7->tf-models-official>=2.5.1->object-detection==0.1) (4.1.1)\n",
      "Requirement already satisfied: docopt in /Users/shrestho12/opt/anaconda3/lib/python3.9/site-packages (from hdfs<3.0.0,>=2.1.0->apache-beam->object-detection==0.1) (0.6.2)\n",
      "Requirement already satisfied: tqdm in /Users/shrestho12/opt/anaconda3/lib/python3.9/site-packages (from kaggle>=1.3.9->tf-models-official>=2.5.1->object-detection==0.1) (4.64.0)\n",
      "Requirement already satisfied: python-slugify in /Users/shrestho12/opt/anaconda3/lib/python3.9/site-packages (from kaggle>=1.3.9->tf-models-official>=2.5.1->object-detection==0.1) (5.0.2)\n",
      "Requirement already satisfied: urllib3 in /Users/shrestho12/opt/anaconda3/lib/python3.9/site-packages (from kaggle>=1.3.9->tf-models-official>=2.5.1->object-detection==0.1) (1.26.9)\n",
      "Requirement already satisfied: certifi in /Users/shrestho12/opt/anaconda3/lib/python3.9/site-packages (from kaggle>=1.3.9->tf-models-official>=2.5.1->object-detection==0.1) (2022.9.24)\n",
      "Requirement already satisfied: charset-normalizer~=2.0.0 in /Users/shrestho12/opt/anaconda3/lib/python3.9/site-packages (from requests<3.0.0,>=2.24.0->apache-beam->object-detection==0.1) (2.0.4)\n",
      "Requirement already satisfied: idna<4,>=2.5 in /Users/shrestho12/opt/anaconda3/lib/python3.9/site-packages (from requests<3.0.0,>=2.24.0->apache-beam->object-detection==0.1) (3.3)\n",
      "Requirement already satisfied: h5py>=2.9.0 in /Users/shrestho12/opt/anaconda3/lib/python3.9/site-packages (from tensorflow~=2.10.0->tf-models-official>=2.5.1->object-detection==0.1) (3.6.0)\n",
      "Requirement already satisfied: packaging in /Users/shrestho12/opt/anaconda3/lib/python3.9/site-packages (from tensorflow~=2.10.0->tf-models-official>=2.5.1->object-detection==0.1) (21.3)\n",
      "Requirement already satisfied: tensorboard<2.11,>=2.10 in /Users/shrestho12/opt/anaconda3/lib/python3.9/site-packages (from tensorflow~=2.10.0->tf-models-official>=2.5.1->object-detection==0.1) (2.10.1)\n",
      "Requirement already satisfied: gast<=0.4.0,>=0.2.1 in /Users/shrestho12/opt/anaconda3/lib/python3.9/site-packages (from tensorflow~=2.10.0->tf-models-official>=2.5.1->object-detection==0.1) (0.4.0)\n",
      "Requirement already satisfied: wrapt>=1.11.0 in /Users/shrestho12/opt/anaconda3/lib/python3.9/site-packages (from tensorflow~=2.10.0->tf-models-official>=2.5.1->object-detection==0.1) (1.12.1)\n",
      "Requirement already satisfied: astunparse>=1.6.0 in /Users/shrestho12/opt/anaconda3/lib/python3.9/site-packages (from tensorflow~=2.10.0->tf-models-official>=2.5.1->object-detection==0.1) (1.6.3)\n",
      "Requirement already satisfied: flatbuffers>=2.0 in /Users/shrestho12/opt/anaconda3/lib/python3.9/site-packages (from tensorflow~=2.10.0->tf-models-official>=2.5.1->object-detection==0.1) (22.10.26)\n",
      "Requirement already satisfied: libclang>=13.0.0 in /Users/shrestho12/opt/anaconda3/lib/python3.9/site-packages (from tensorflow~=2.10.0->tf-models-official>=2.5.1->object-detection==0.1) (14.0.6)\n",
      "Requirement already satisfied: opt-einsum>=2.3.2 in /Users/shrestho12/opt/anaconda3/lib/python3.9/site-packages (from tensorflow~=2.10.0->tf-models-official>=2.5.1->object-detection==0.1) (3.3.0)\n",
      "Requirement already satisfied: keras-preprocessing>=1.1.1 in /Users/shrestho12/opt/anaconda3/lib/python3.9/site-packages (from tensorflow~=2.10.0->tf-models-official>=2.5.1->object-detection==0.1) (1.1.2)\n",
      "Requirement already satisfied: termcolor>=1.1.0 in /Users/shrestho12/opt/anaconda3/lib/python3.9/site-packages (from tensorflow~=2.10.0->tf-models-official>=2.5.1->object-detection==0.1) (2.1.1)\n",
      "Requirement already satisfied: setuptools in /Users/shrestho12/opt/anaconda3/lib/python3.9/site-packages (from tensorflow~=2.10.0->tf-models-official>=2.5.1->object-detection==0.1) (61.2.0)\n",
      "Requirement already satisfied: tensorflow-estimator<2.11,>=2.10.0 in /Users/shrestho12/opt/anaconda3/lib/python3.9/site-packages (from tensorflow~=2.10.0->tf-models-official>=2.5.1->object-detection==0.1) (2.10.0)\n",
      "Requirement already satisfied: google-pasta>=0.1.1 in /Users/shrestho12/opt/anaconda3/lib/python3.9/site-packages (from tensorflow~=2.10.0->tf-models-official>=2.5.1->object-detection==0.1) (0.2.0)\n",
      "Requirement already satisfied: dm-tree~=0.1.1 in /Users/shrestho12/opt/anaconda3/lib/python3.9/site-packages (from tensorflow-model-optimization>=0.4.1->tf-models-official>=2.5.1->object-detection==0.1) (0.1.7)\n",
      "Requirement already satisfied: pyasn1-modules>=0.0.5 in /Users/shrestho12/opt/anaconda3/lib/python3.9/site-packages (from oauth2client->tf-models-official>=2.5.1->object-detection==0.1) (0.2.8)\n",
      "Requirement already satisfied: rsa>=3.1.4 in /Users/shrestho12/opt/anaconda3/lib/python3.9/site-packages (from oauth2client->tf-models-official>=2.5.1->object-detection==0.1) (4.7.2)\n",
      "Requirement already satisfied: pyasn1>=0.1.7 in /Users/shrestho12/opt/anaconda3/lib/python3.9/site-packages (from oauth2client->tf-models-official>=2.5.1->object-detection==0.1) (0.4.8)\n",
      "Requirement already satisfied: scikit-learn>=0.21.3 in /Users/shrestho12/opt/anaconda3/lib/python3.9/site-packages (from seqeval->tf-models-official>=2.5.1->object-detection==0.1) (1.0.2)\n",
      "Requirement already satisfied: typeguard>=2.7 in /Users/shrestho12/opt/anaconda3/lib/python3.9/site-packages (from tensorflow-addons->tf-models-official>=2.5.1->object-detection==0.1) (2.13.3)\n",
      "Requirement already satisfied: promise in /Users/shrestho12/opt/anaconda3/lib/python3.9/site-packages (from tensorflow-datasets->tf-models-official>=2.5.1->object-detection==0.1) (2.3)\n",
      "Requirement already satisfied: toml in /Users/shrestho12/opt/anaconda3/lib/python3.9/site-packages (from tensorflow-datasets->tf-models-official>=2.5.1->object-detection==0.1) (0.10.2)\n",
      "Requirement already satisfied: tensorflow-metadata in /Users/shrestho12/opt/anaconda3/lib/python3.9/site-packages (from tensorflow-datasets->tf-models-official>=2.5.1->object-detection==0.1) (1.11.0)\n",
      "Requirement already satisfied: etils[epath] in /Users/shrestho12/opt/anaconda3/lib/python3.9/site-packages (from tensorflow-datasets->tf-models-official>=2.5.1->object-detection==0.1) (0.9.0)\n",
      "Requirement already satisfied: wheel<1.0,>=0.23.0 in /Users/shrestho12/opt/anaconda3/lib/python3.9/site-packages (from astunparse>=1.6.0->tensorflow~=2.10.0->tf-models-official>=2.5.1->object-detection==0.1) (0.37.1)\n",
      "Requirement already satisfied: googleapis-common-protos<2.0dev,>=1.56.2 in /Users/shrestho12/opt/anaconda3/lib/python3.9/site-packages (from google-api-core!=2.0.*,!=2.1.*,!=2.2.*,!=2.3.0,<3.0.0dev,>=1.31.5->google-api-python-client>=1.6.7->tf-models-official>=2.5.1->object-detection==0.1) (1.57.0)\n",
      "Requirement already satisfied: cachetools<5.0,>=2.0.0 in /Users/shrestho12/opt/anaconda3/lib/python3.9/site-packages (from google-auth<3.0.0dev,>=1.19.0->google-api-python-client>=1.6.7->tf-models-official>=2.5.1->object-detection==0.1) (4.2.2)\n"
     ]
    },
    {
     "name": "stdout",
     "output_type": "stream",
     "text": [
      "Requirement already satisfied: threadpoolctl>=2.0.0 in /Users/shrestho12/opt/anaconda3/lib/python3.9/site-packages (from scikit-learn>=0.21.3->seqeval->tf-models-official>=2.5.1->object-detection==0.1) (2.2.0)\n",
      "Requirement already satisfied: joblib>=0.11 in /Users/shrestho12/opt/anaconda3/lib/python3.9/site-packages (from scikit-learn>=0.21.3->seqeval->tf-models-official>=2.5.1->object-detection==0.1) (1.1.0)\n",
      "Requirement already satisfied: markdown>=2.6.8 in /Users/shrestho12/opt/anaconda3/lib/python3.9/site-packages (from tensorboard<2.11,>=2.10->tensorflow~=2.10.0->tf-models-official>=2.5.1->object-detection==0.1) (3.3.4)\n",
      "Requirement already satisfied: google-auth-oauthlib<0.5,>=0.4.1 in /Users/shrestho12/opt/anaconda3/lib/python3.9/site-packages (from tensorboard<2.11,>=2.10->tensorflow~=2.10.0->tf-models-official>=2.5.1->object-detection==0.1) (0.4.6)\n",
      "Requirement already satisfied: werkzeug>=1.0.1 in /Users/shrestho12/opt/anaconda3/lib/python3.9/site-packages (from tensorboard<2.11,>=2.10->tensorflow~=2.10.0->tf-models-official>=2.5.1->object-detection==0.1) (2.0.3)\n",
      "Requirement already satisfied: tensorboard-data-server<0.7.0,>=0.6.0 in /Users/shrestho12/opt/anaconda3/lib/python3.9/site-packages (from tensorboard<2.11,>=2.10->tensorflow~=2.10.0->tf-models-official>=2.5.1->object-detection==0.1) (0.6.1)\n",
      "Requirement already satisfied: tensorboard-plugin-wit>=1.6.0 in /Users/shrestho12/opt/anaconda3/lib/python3.9/site-packages (from tensorboard<2.11,>=2.10->tensorflow~=2.10.0->tf-models-official>=2.5.1->object-detection==0.1) (1.8.1)\n",
      "Requirement already satisfied: zipp in /Users/shrestho12/opt/anaconda3/lib/python3.9/site-packages (from etils[epath]->tensorflow-datasets->tf-models-official>=2.5.1->object-detection==0.1) (3.7.0)\n",
      "Requirement already satisfied: importlib_resources in /Users/shrestho12/opt/anaconda3/lib/python3.9/site-packages (from etils[epath]->tensorflow-datasets->tf-models-official>=2.5.1->object-detection==0.1) (5.10.0)\n",
      "Requirement already satisfied: text-unidecode>=1.3 in /Users/shrestho12/opt/anaconda3/lib/python3.9/site-packages (from python-slugify->kaggle>=1.3.9->tf-models-official>=2.5.1->object-detection==0.1) (1.3)\n",
      "Requirement already satisfied: requests-oauthlib>=0.7.0 in /Users/shrestho12/opt/anaconda3/lib/python3.9/site-packages (from google-auth-oauthlib<0.5,>=0.4.1->tensorboard<2.11,>=2.10->tensorflow~=2.10.0->tf-models-official>=2.5.1->object-detection==0.1) (1.3.1)\n",
      "Requirement already satisfied: oauthlib>=3.0.0 in /Users/shrestho12/opt/anaconda3/lib/python3.9/site-packages (from requests-oauthlib>=0.7.0->google-auth-oauthlib<0.5,>=0.4.1->tensorboard<2.11,>=2.10->tensorflow~=2.10.0->tf-models-official>=2.5.1->object-detection==0.1) (3.2.2)\n",
      "Building wheels for collected packages: object-detection\n",
      "  Building wheel for object-detection (setup.py) ... \u001b[?25ldone\n",
      "\u001b[?25h  Created wheel for object-detection: filename=object_detection-0.1-py3-none-any.whl size=1662969 sha256=0d17799290a4fe05daea1f5167b977e8813319591b61badb7068203ceb986493\n",
      "  Stored in directory: /private/var/folders/m6/c267rt092gl6wlb9f6509r_h0000gn/T/pip-ephem-wheel-cache-fbp9fpuc/wheels/3e/9d/1e/063aaf83377e272309010e1ea8e701b1a58d11dda04a121069\n",
      "Successfully built object-detection\n",
      "Installing collected packages: object-detection\n",
      "  Attempting uninstall: object-detection\n",
      "    Found existing installation: object-detection 0.1\n",
      "    Uninstalling object-detection-0.1:\n",
      "      Successfully uninstalled object-detection-0.1\n",
      "Successfully installed object-detection-0.1\n"
     ]
    }
   ],
   "source": [
    "# Install Tensorflow Object Detection \n",
    "if os.name=='posix':  \n",
    "    !brew install protobuf-compiler\n",
    "    !cd Tensorflow/models/research && protoc object_detection/protos/*.proto --python_out=. && cp object_detection/packages/tf2/setup.py . && python -m pip install . \n",
    "    \n",
    "if os.name=='nt':\n",
    "    url=\"https://github.com/protocolbuffers/protobuf/releases/download/v3.15.6/protoc-3.15.6-win64.zip\"\n",
    "    wget.download(url)\n",
    "    !move protoc-3.15.6-win64.zip {paths['PROTOC_PATH']}\n",
    "    !cd {paths['PROTOC_PATH']} && tar -xf protoc-3.15.6-win64.zip\n",
    "    os.environ['PATH'] += os.pathsep + os.path.abspath(os.path.join(paths['PROTOC_PATH'], 'bin'))   \n",
    "    !cd Tensorflow/models/research && protoc object_detection/protos/*.proto --python_out=. && copy object_detection\\\\packages\\\\tf2\\\\setup.py setup.py && python setup.py build && python setup.py install\n",
    "    !cd Tensorflow/models/research/slim && pip install -e . "
   ]
  },
  {
   "cell_type": "code",
   "execution_count": 10,
   "metadata": {
    "collapsed": true
   },
   "outputs": [
    {
     "name": "stdout",
     "output_type": "stream",
     "text": [
      "2022-11-21 03:09:31.288432: I tensorflow/core/platform/cpu_feature_guard.cc:193] This TensorFlow binary is optimized with oneAPI Deep Neural Network Library (oneDNN) to use the following CPU instructions in performance-critical operations:  AVX2 FMA\n",
      "To enable them in other operations, rebuild TensorFlow with the appropriate compiler flags.\n",
      "Running tests under Python 3.9.12: /Users/shrestho12/opt/anaconda3/bin/python\n",
      "[ RUN      ] ModelBuilderTF2Test.test_create_center_net_deepmac\n",
      "2022-11-21 03:09:56.384403: I tensorflow/core/platform/cpu_feature_guard.cc:193] This TensorFlow binary is optimized with oneAPI Deep Neural Network Library (oneDNN) to use the following CPU instructions in performance-critical operations:  AVX2 FMA\n",
      "To enable them in other operations, rebuild TensorFlow with the appropriate compiler flags.\n",
      "/Users/shrestho12/opt/anaconda3/lib/python3.9/site-packages/object_detection/builders/model_builder.py:1109: DeprecationWarning: The 'warn' function is deprecated, use 'warning' instead\n",
      "  logging.warn(('Building experimental DeepMAC meta-arch.'\n",
      "W1121 03:09:56.604559 4686046720 model_builder.py:1109] Building experimental DeepMAC meta-arch. Some features may be omitted.\n",
      "INFO:tensorflow:time(__main__.ModelBuilderTF2Test.test_create_center_net_deepmac): 0.45s\n",
      "I1121 03:09:56.833317 4686046720 test_util.py:2460] time(__main__.ModelBuilderTF2Test.test_create_center_net_deepmac): 0.45s\n",
      "[       OK ] ModelBuilderTF2Test.test_create_center_net_deepmac\n",
      "[ RUN      ] ModelBuilderTF2Test.test_create_center_net_model0 (customize_head_params=True)\n",
      "INFO:tensorflow:time(__main__.ModelBuilderTF2Test.test_create_center_net_model0 (customize_head_params=True)): 0.71s\n",
      "I1121 03:09:57.547924 4686046720 test_util.py:2460] time(__main__.ModelBuilderTF2Test.test_create_center_net_model0 (customize_head_params=True)): 0.71s\n",
      "[       OK ] ModelBuilderTF2Test.test_create_center_net_model0 (customize_head_params=True)\n",
      "[ RUN      ] ModelBuilderTF2Test.test_create_center_net_model1 (customize_head_params=False)\n",
      "INFO:tensorflow:time(__main__.ModelBuilderTF2Test.test_create_center_net_model1 (customize_head_params=False)): 0.22s\n",
      "I1121 03:09:57.770745 4686046720 test_util.py:2460] time(__main__.ModelBuilderTF2Test.test_create_center_net_model1 (customize_head_params=False)): 0.22s\n",
      "[       OK ] ModelBuilderTF2Test.test_create_center_net_model1 (customize_head_params=False)\n",
      "[ RUN      ] ModelBuilderTF2Test.test_create_center_net_model_from_keypoints\n",
      "INFO:tensorflow:time(__main__.ModelBuilderTF2Test.test_create_center_net_model_from_keypoints): 0.2s\n",
      "I1121 03:09:57.975991 4686046720 test_util.py:2460] time(__main__.ModelBuilderTF2Test.test_create_center_net_model_from_keypoints): 0.2s\n",
      "[       OK ] ModelBuilderTF2Test.test_create_center_net_model_from_keypoints\n",
      "[ RUN      ] ModelBuilderTF2Test.test_create_center_net_model_mobilenet\n",
      "INFO:tensorflow:time(__main__.ModelBuilderTF2Test.test_create_center_net_model_mobilenet): 1.7s\n",
      "I1121 03:09:59.676313 4686046720 test_util.py:2460] time(__main__.ModelBuilderTF2Test.test_create_center_net_model_mobilenet): 1.7s\n",
      "[       OK ] ModelBuilderTF2Test.test_create_center_net_model_mobilenet\n",
      "[ RUN      ] ModelBuilderTF2Test.test_create_experimental_model\n",
      "INFO:tensorflow:time(__main__.ModelBuilderTF2Test.test_create_experimental_model): 0.0s\n",
      "I1121 03:09:59.680876 4686046720 test_util.py:2460] time(__main__.ModelBuilderTF2Test.test_create_experimental_model): 0.0s\n",
      "[       OK ] ModelBuilderTF2Test.test_create_experimental_model\n",
      "[ RUN      ] ModelBuilderTF2Test.test_create_faster_rcnn_from_config_with_crop_feature0 (True)\n",
      "INFO:tensorflow:time(__main__.ModelBuilderTF2Test.test_create_faster_rcnn_from_config_with_crop_feature0 (True)): 0.03s\n",
      "I1121 03:09:59.708085 4686046720 test_util.py:2460] time(__main__.ModelBuilderTF2Test.test_create_faster_rcnn_from_config_with_crop_feature0 (True)): 0.03s\n",
      "[       OK ] ModelBuilderTF2Test.test_create_faster_rcnn_from_config_with_crop_feature0 (True)\n",
      "[ RUN      ] ModelBuilderTF2Test.test_create_faster_rcnn_from_config_with_crop_feature1 (False)\n",
      "INFO:tensorflow:time(__main__.ModelBuilderTF2Test.test_create_faster_rcnn_from_config_with_crop_feature1 (False)): 0.02s\n",
      "I1121 03:09:59.724583 4686046720 test_util.py:2460] time(__main__.ModelBuilderTF2Test.test_create_faster_rcnn_from_config_with_crop_feature1 (False)): 0.02s\n",
      "[       OK ] ModelBuilderTF2Test.test_create_faster_rcnn_from_config_with_crop_feature1 (False)\n",
      "[ RUN      ] ModelBuilderTF2Test.test_create_faster_rcnn_model_from_config_with_example_miner\n",
      "INFO:tensorflow:time(__main__.ModelBuilderTF2Test.test_create_faster_rcnn_model_from_config_with_example_miner): 0.02s\n",
      "I1121 03:09:59.741488 4686046720 test_util.py:2460] time(__main__.ModelBuilderTF2Test.test_create_faster_rcnn_model_from_config_with_example_miner): 0.02s\n",
      "[       OK ] ModelBuilderTF2Test.test_create_faster_rcnn_model_from_config_with_example_miner\n",
      "[ RUN      ] ModelBuilderTF2Test.test_create_faster_rcnn_models_from_config_faster_rcnn_with_matmul\n",
      "INFO:tensorflow:time(__main__.ModelBuilderTF2Test.test_create_faster_rcnn_models_from_config_faster_rcnn_with_matmul): 0.09s\n",
      "I1121 03:09:59.827064 4686046720 test_util.py:2460] time(__main__.ModelBuilderTF2Test.test_create_faster_rcnn_models_from_config_faster_rcnn_with_matmul): 0.09s\n",
      "[       OK ] ModelBuilderTF2Test.test_create_faster_rcnn_models_from_config_faster_rcnn_with_matmul\n",
      "[ RUN      ] ModelBuilderTF2Test.test_create_faster_rcnn_models_from_config_faster_rcnn_without_matmul\n",
      "INFO:tensorflow:time(__main__.ModelBuilderTF2Test.test_create_faster_rcnn_models_from_config_faster_rcnn_without_matmul): 0.08s\n",
      "I1121 03:09:59.907552 4686046720 test_util.py:2460] time(__main__.ModelBuilderTF2Test.test_create_faster_rcnn_models_from_config_faster_rcnn_without_matmul): 0.08s\n",
      "[       OK ] ModelBuilderTF2Test.test_create_faster_rcnn_models_from_config_faster_rcnn_without_matmul\n",
      "[ RUN      ] ModelBuilderTF2Test.test_create_faster_rcnn_models_from_config_mask_rcnn_with_matmul\n",
      "INFO:tensorflow:time(__main__.ModelBuilderTF2Test.test_create_faster_rcnn_models_from_config_mask_rcnn_with_matmul): 0.22s\n",
      "I1121 03:10:00.128725 4686046720 test_util.py:2460] time(__main__.ModelBuilderTF2Test.test_create_faster_rcnn_models_from_config_mask_rcnn_with_matmul): 0.22s\n",
      "[       OK ] ModelBuilderTF2Test.test_create_faster_rcnn_models_from_config_mask_rcnn_with_matmul\n",
      "[ RUN      ] ModelBuilderTF2Test.test_create_faster_rcnn_models_from_config_mask_rcnn_without_matmul\n",
      "INFO:tensorflow:time(__main__.ModelBuilderTF2Test.test_create_faster_rcnn_models_from_config_mask_rcnn_without_matmul): 0.08s\n",
      "I1121 03:10:00.211488 4686046720 test_util.py:2460] time(__main__.ModelBuilderTF2Test.test_create_faster_rcnn_models_from_config_mask_rcnn_without_matmul): 0.08s\n",
      "[       OK ] ModelBuilderTF2Test.test_create_faster_rcnn_models_from_config_mask_rcnn_without_matmul\n",
      "[ RUN      ] ModelBuilderTF2Test.test_create_rfcn_model_from_config\n",
      "INFO:tensorflow:time(__main__.ModelBuilderTF2Test.test_create_rfcn_model_from_config): 0.08s\n",
      "I1121 03:10:00.294533 4686046720 test_util.py:2460] time(__main__.ModelBuilderTF2Test.test_create_rfcn_model_from_config): 0.08s\n",
      "[       OK ] ModelBuilderTF2Test.test_create_rfcn_model_from_config\n",
      "[ RUN      ] ModelBuilderTF2Test.test_create_ssd_fpn_model_from_config\n",
      "INFO:tensorflow:time(__main__.ModelBuilderTF2Test.test_create_ssd_fpn_model_from_config): 0.02s\n",
      "I1121 03:10:00.318650 4686046720 test_util.py:2460] time(__main__.ModelBuilderTF2Test.test_create_ssd_fpn_model_from_config): 0.02s\n",
      "[       OK ] ModelBuilderTF2Test.test_create_ssd_fpn_model_from_config\n",
      "[ RUN      ] ModelBuilderTF2Test.test_create_ssd_models_from_config\n",
      "I1121 03:10:00.467520 4686046720 ssd_efficientnet_bifpn_feature_extractor.py:150] EfficientDet EfficientNet backbone version: efficientnet-b0\n",
      "I1121 03:10:00.467640 4686046720 ssd_efficientnet_bifpn_feature_extractor.py:152] EfficientDet BiFPN num filters: 64\n",
      "I1121 03:10:00.467692 4686046720 ssd_efficientnet_bifpn_feature_extractor.py:153] EfficientDet BiFPN num iterations: 3\n",
      "I1121 03:10:00.469542 4686046720 efficientnet_model.py:143] round_filter input=32 output=32\n",
      "I1121 03:10:00.491893 4686046720 efficientnet_model.py:143] round_filter input=32 output=32\n",
      "I1121 03:10:00.492004 4686046720 efficientnet_model.py:143] round_filter input=16 output=16\n"
     ]
    },
    {
     "name": "stdout",
     "output_type": "stream",
     "text": [
      "I1121 03:10:00.553055 4686046720 efficientnet_model.py:143] round_filter input=16 output=16\n",
      "I1121 03:10:00.553167 4686046720 efficientnet_model.py:143] round_filter input=24 output=24\n",
      "I1121 03:10:00.705615 4686046720 efficientnet_model.py:143] round_filter input=24 output=24\n",
      "I1121 03:10:00.705732 4686046720 efficientnet_model.py:143] round_filter input=40 output=40\n",
      "I1121 03:10:00.853741 4686046720 efficientnet_model.py:143] round_filter input=40 output=40\n",
      "I1121 03:10:00.853850 4686046720 efficientnet_model.py:143] round_filter input=80 output=80\n",
      "I1121 03:10:01.069924 4686046720 efficientnet_model.py:143] round_filter input=80 output=80\n",
      "I1121 03:10:01.070034 4686046720 efficientnet_model.py:143] round_filter input=112 output=112\n",
      "I1121 03:10:01.290595 4686046720 efficientnet_model.py:143] round_filter input=112 output=112\n",
      "I1121 03:10:01.290715 4686046720 efficientnet_model.py:143] round_filter input=192 output=192\n",
      "I1121 03:10:01.601541 4686046720 efficientnet_model.py:143] round_filter input=192 output=192\n",
      "I1121 03:10:01.601658 4686046720 efficientnet_model.py:143] round_filter input=320 output=320\n",
      "I1121 03:10:01.680528 4686046720 efficientnet_model.py:143] round_filter input=1280 output=1280\n",
      "I1121 03:10:01.725541 4686046720 efficientnet_model.py:453] Building model efficientnet with params ModelConfig(width_coefficient=1.0, depth_coefficient=1.0, resolution=224, dropout_rate=0.2, blocks=(BlockConfig(input_filters=32, output_filters=16, kernel_size=3, num_repeat=1, expand_ratio=1, strides=(1, 1), se_ratio=0.25, id_skip=True, fused_conv=False, conv_type='depthwise'), BlockConfig(input_filters=16, output_filters=24, kernel_size=3, num_repeat=2, expand_ratio=6, strides=(2, 2), se_ratio=0.25, id_skip=True, fused_conv=False, conv_type='depthwise'), BlockConfig(input_filters=24, output_filters=40, kernel_size=5, num_repeat=2, expand_ratio=6, strides=(2, 2), se_ratio=0.25, id_skip=True, fused_conv=False, conv_type='depthwise'), BlockConfig(input_filters=40, output_filters=80, kernel_size=3, num_repeat=3, expand_ratio=6, strides=(2, 2), se_ratio=0.25, id_skip=True, fused_conv=False, conv_type='depthwise'), BlockConfig(input_filters=80, output_filters=112, kernel_size=5, num_repeat=3, expand_ratio=6, strides=(1, 1), se_ratio=0.25, id_skip=True, fused_conv=False, conv_type='depthwise'), BlockConfig(input_filters=112, output_filters=192, kernel_size=5, num_repeat=4, expand_ratio=6, strides=(2, 2), se_ratio=0.25, id_skip=True, fused_conv=False, conv_type='depthwise'), BlockConfig(input_filters=192, output_filters=320, kernel_size=3, num_repeat=1, expand_ratio=6, strides=(1, 1), se_ratio=0.25, id_skip=True, fused_conv=False, conv_type='depthwise')), stem_base_filters=32, top_base_filters=1280, activation='simple_swish', batch_norm='default', bn_momentum=0.99, bn_epsilon=0.001, weight_decay=5e-06, drop_connect_rate=0.2, depth_divisor=8, min_depth=None, use_se=True, input_channels=3, num_classes=1000, model_name='efficientnet', rescale_input=False, data_format='channels_last', dtype='float32')\n",
      "I1121 03:10:01.772688 4686046720 ssd_efficientnet_bifpn_feature_extractor.py:150] EfficientDet EfficientNet backbone version: efficientnet-b1\n",
      "I1121 03:10:01.772800 4686046720 ssd_efficientnet_bifpn_feature_extractor.py:152] EfficientDet BiFPN num filters: 88\n",
      "I1121 03:10:01.772852 4686046720 ssd_efficientnet_bifpn_feature_extractor.py:153] EfficientDet BiFPN num iterations: 4\n",
      "I1121 03:10:01.774211 4686046720 efficientnet_model.py:143] round_filter input=32 output=32\n",
      "I1121 03:10:01.790164 4686046720 efficientnet_model.py:143] round_filter input=32 output=32\n",
      "I1121 03:10:01.790267 4686046720 efficientnet_model.py:143] round_filter input=16 output=16\n",
      "I1121 03:10:01.914352 4686046720 efficientnet_model.py:143] round_filter input=16 output=16\n",
      "I1121 03:10:01.914463 4686046720 efficientnet_model.py:143] round_filter input=24 output=24\n",
      "I1121 03:10:02.119590 4686046720 efficientnet_model.py:143] round_filter input=24 output=24\n",
      "I1121 03:10:02.119702 4686046720 efficientnet_model.py:143] round_filter input=40 output=40\n",
      "I1121 03:10:02.323487 4686046720 efficientnet_model.py:143] round_filter input=40 output=40\n",
      "I1121 03:10:02.323603 4686046720 efficientnet_model.py:143] round_filter input=80 output=80\n",
      "I1121 03:10:02.602532 4686046720 efficientnet_model.py:143] round_filter input=80 output=80\n",
      "I1121 03:10:02.602641 4686046720 efficientnet_model.py:143] round_filter input=112 output=112\n",
      "I1121 03:10:02.885056 4686046720 efficientnet_model.py:143] round_filter input=112 output=112\n",
      "I1121 03:10:02.885166 4686046720 efficientnet_model.py:143] round_filter input=192 output=192\n",
      "I1121 03:10:03.246325 4686046720 efficientnet_model.py:143] round_filter input=192 output=192\n",
      "I1121 03:10:03.246438 4686046720 efficientnet_model.py:143] round_filter input=320 output=320\n",
      "I1121 03:10:03.408399 4686046720 efficientnet_model.py:143] round_filter input=1280 output=1280\n",
      "I1121 03:10:03.441985 4686046720 efficientnet_model.py:453] Building model efficientnet with params ModelConfig(width_coefficient=1.0, depth_coefficient=1.1, resolution=240, dropout_rate=0.2, blocks=(BlockConfig(input_filters=32, output_filters=16, kernel_size=3, num_repeat=1, expand_ratio=1, strides=(1, 1), se_ratio=0.25, id_skip=True, fused_conv=False, conv_type='depthwise'), BlockConfig(input_filters=16, output_filters=24, kernel_size=3, num_repeat=2, expand_ratio=6, strides=(2, 2), se_ratio=0.25, id_skip=True, fused_conv=False, conv_type='depthwise'), BlockConfig(input_filters=24, output_filters=40, kernel_size=5, num_repeat=2, expand_ratio=6, strides=(2, 2), se_ratio=0.25, id_skip=True, fused_conv=False, conv_type='depthwise'), BlockConfig(input_filters=40, output_filters=80, kernel_size=3, num_repeat=3, expand_ratio=6, strides=(2, 2), se_ratio=0.25, id_skip=True, fused_conv=False, conv_type='depthwise'), BlockConfig(input_filters=80, output_filters=112, kernel_size=5, num_repeat=3, expand_ratio=6, strides=(1, 1), se_ratio=0.25, id_skip=True, fused_conv=False, conv_type='depthwise'), BlockConfig(input_filters=112, output_filters=192, kernel_size=5, num_repeat=4, expand_ratio=6, strides=(2, 2), se_ratio=0.25, id_skip=True, fused_conv=False, conv_type='depthwise'), BlockConfig(input_filters=192, output_filters=320, kernel_size=3, num_repeat=1, expand_ratio=6, strides=(1, 1), se_ratio=0.25, id_skip=True, fused_conv=False, conv_type='depthwise')), stem_base_filters=32, top_base_filters=1280, activation='simple_swish', batch_norm='default', bn_momentum=0.99, bn_epsilon=0.001, weight_decay=5e-06, drop_connect_rate=0.2, depth_divisor=8, min_depth=None, use_se=True, input_channels=3, num_classes=1000, model_name='efficientnet', rescale_input=False, data_format='channels_last', dtype='float32')\n",
      "I1121 03:10:03.496725 4686046720 ssd_efficientnet_bifpn_feature_extractor.py:150] EfficientDet EfficientNet backbone version: efficientnet-b2\n",
      "I1121 03:10:03.496840 4686046720 ssd_efficientnet_bifpn_feature_extractor.py:152] EfficientDet BiFPN num filters: 112\n",
      "I1121 03:10:03.496890 4686046720 ssd_efficientnet_bifpn_feature_extractor.py:153] EfficientDet BiFPN num iterations: 5\n",
      "I1121 03:10:03.498232 4686046720 efficientnet_model.py:143] round_filter input=32 output=32\n",
      "I1121 03:10:03.512257 4686046720 efficientnet_model.py:143] round_filter input=32 output=32\n",
      "I1121 03:10:03.512357 4686046720 efficientnet_model.py:143] round_filter input=16 output=16\n",
      "I1121 03:10:03.618120 4686046720 efficientnet_model.py:143] round_filter input=16 output=16\n",
      "I1121 03:10:03.618232 4686046720 efficientnet_model.py:143] round_filter input=24 output=24\n",
      "I1121 03:10:03.822432 4686046720 efficientnet_model.py:143] round_filter input=24 output=24\n",
      "I1121 03:10:03.822563 4686046720 efficientnet_model.py:143] round_filter input=40 output=48\n",
      "I1121 03:10:04.180807 4686046720 efficientnet_model.py:143] round_filter input=40 output=48\n",
      "I1121 03:10:04.180924 4686046720 efficientnet_model.py:143] round_filter input=80 output=88\n",
      "I1121 03:10:04.469072 4686046720 efficientnet_model.py:143] round_filter input=80 output=88\n",
      "I1121 03:10:04.469186 4686046720 efficientnet_model.py:143] round_filter input=112 output=120\n",
      "I1121 03:10:04.762477 4686046720 efficientnet_model.py:143] round_filter input=112 output=120\n",
      "I1121 03:10:04.762595 4686046720 efficientnet_model.py:143] round_filter input=192 output=208\n"
     ]
    },
    {
     "name": "stdout",
     "output_type": "stream",
     "text": [
      "I1121 03:10:05.138906 4686046720 efficientnet_model.py:143] round_filter input=192 output=208\n",
      "I1121 03:10:05.139025 4686046720 efficientnet_model.py:143] round_filter input=320 output=352\n",
      "I1121 03:10:05.310640 4686046720 efficientnet_model.py:143] round_filter input=1280 output=1408\n",
      "I1121 03:10:05.353854 4686046720 efficientnet_model.py:453] Building model efficientnet with params ModelConfig(width_coefficient=1.1, depth_coefficient=1.2, resolution=260, dropout_rate=0.3, blocks=(BlockConfig(input_filters=32, output_filters=16, kernel_size=3, num_repeat=1, expand_ratio=1, strides=(1, 1), se_ratio=0.25, id_skip=True, fused_conv=False, conv_type='depthwise'), BlockConfig(input_filters=16, output_filters=24, kernel_size=3, num_repeat=2, expand_ratio=6, strides=(2, 2), se_ratio=0.25, id_skip=True, fused_conv=False, conv_type='depthwise'), BlockConfig(input_filters=24, output_filters=40, kernel_size=5, num_repeat=2, expand_ratio=6, strides=(2, 2), se_ratio=0.25, id_skip=True, fused_conv=False, conv_type='depthwise'), BlockConfig(input_filters=40, output_filters=80, kernel_size=3, num_repeat=3, expand_ratio=6, strides=(2, 2), se_ratio=0.25, id_skip=True, fused_conv=False, conv_type='depthwise'), BlockConfig(input_filters=80, output_filters=112, kernel_size=5, num_repeat=3, expand_ratio=6, strides=(1, 1), se_ratio=0.25, id_skip=True, fused_conv=False, conv_type='depthwise'), BlockConfig(input_filters=112, output_filters=192, kernel_size=5, num_repeat=4, expand_ratio=6, strides=(2, 2), se_ratio=0.25, id_skip=True, fused_conv=False, conv_type='depthwise'), BlockConfig(input_filters=192, output_filters=320, kernel_size=3, num_repeat=1, expand_ratio=6, strides=(1, 1), se_ratio=0.25, id_skip=True, fused_conv=False, conv_type='depthwise')), stem_base_filters=32, top_base_filters=1280, activation='simple_swish', batch_norm='default', bn_momentum=0.99, bn_epsilon=0.001, weight_decay=5e-06, drop_connect_rate=0.2, depth_divisor=8, min_depth=None, use_se=True, input_channels=3, num_classes=1000, model_name='efficientnet', rescale_input=False, data_format='channels_last', dtype='float32')\n",
      "I1121 03:10:05.408075 4686046720 ssd_efficientnet_bifpn_feature_extractor.py:150] EfficientDet EfficientNet backbone version: efficientnet-b3\n",
      "I1121 03:10:05.408187 4686046720 ssd_efficientnet_bifpn_feature_extractor.py:152] EfficientDet BiFPN num filters: 160\n",
      "I1121 03:10:05.408238 4686046720 ssd_efficientnet_bifpn_feature_extractor.py:153] EfficientDet BiFPN num iterations: 6\n",
      "I1121 03:10:05.409533 4686046720 efficientnet_model.py:143] round_filter input=32 output=40\n",
      "I1121 03:10:05.425101 4686046720 efficientnet_model.py:143] round_filter input=32 output=40\n",
      "I1121 03:10:05.425197 4686046720 efficientnet_model.py:143] round_filter input=16 output=24\n",
      "I1121 03:10:05.542805 4686046720 efficientnet_model.py:143] round_filter input=16 output=24\n",
      "I1121 03:10:05.542917 4686046720 efficientnet_model.py:143] round_filter input=24 output=32\n",
      "I1121 03:10:05.754899 4686046720 efficientnet_model.py:143] round_filter input=24 output=32\n",
      "I1121 03:10:05.755017 4686046720 efficientnet_model.py:143] round_filter input=40 output=48\n",
      "I1121 03:10:05.964375 4686046720 efficientnet_model.py:143] round_filter input=40 output=48\n",
      "I1121 03:10:05.964485 4686046720 efficientnet_model.py:143] round_filter input=80 output=96\n",
      "I1121 03:10:06.324908 4686046720 efficientnet_model.py:143] round_filter input=80 output=96\n",
      "I1121 03:10:06.325018 4686046720 efficientnet_model.py:143] round_filter input=112 output=136\n",
      "I1121 03:10:06.692401 4686046720 efficientnet_model.py:143] round_filter input=112 output=136\n",
      "I1121 03:10:06.692518 4686046720 efficientnet_model.py:143] round_filter input=192 output=232\n",
      "I1121 03:10:07.151478 4686046720 efficientnet_model.py:143] round_filter input=192 output=232\n",
      "I1121 03:10:07.151589 4686046720 efficientnet_model.py:143] round_filter input=320 output=384\n",
      "I1121 03:10:07.388471 4686046720 efficientnet_model.py:143] round_filter input=1280 output=1536\n",
      "I1121 03:10:07.475838 4686046720 efficientnet_model.py:453] Building model efficientnet with params ModelConfig(width_coefficient=1.2, depth_coefficient=1.4, resolution=300, dropout_rate=0.3, blocks=(BlockConfig(input_filters=32, output_filters=16, kernel_size=3, num_repeat=1, expand_ratio=1, strides=(1, 1), se_ratio=0.25, id_skip=True, fused_conv=False, conv_type='depthwise'), BlockConfig(input_filters=16, output_filters=24, kernel_size=3, num_repeat=2, expand_ratio=6, strides=(2, 2), se_ratio=0.25, id_skip=True, fused_conv=False, conv_type='depthwise'), BlockConfig(input_filters=24, output_filters=40, kernel_size=5, num_repeat=2, expand_ratio=6, strides=(2, 2), se_ratio=0.25, id_skip=True, fused_conv=False, conv_type='depthwise'), BlockConfig(input_filters=40, output_filters=80, kernel_size=3, num_repeat=3, expand_ratio=6, strides=(2, 2), se_ratio=0.25, id_skip=True, fused_conv=False, conv_type='depthwise'), BlockConfig(input_filters=80, output_filters=112, kernel_size=5, num_repeat=3, expand_ratio=6, strides=(1, 1), se_ratio=0.25, id_skip=True, fused_conv=False, conv_type='depthwise'), BlockConfig(input_filters=112, output_filters=192, kernel_size=5, num_repeat=4, expand_ratio=6, strides=(2, 2), se_ratio=0.25, id_skip=True, fused_conv=False, conv_type='depthwise'), BlockConfig(input_filters=192, output_filters=320, kernel_size=3, num_repeat=1, expand_ratio=6, strides=(1, 1), se_ratio=0.25, id_skip=True, fused_conv=False, conv_type='depthwise')), stem_base_filters=32, top_base_filters=1280, activation='simple_swish', batch_norm='default', bn_momentum=0.99, bn_epsilon=0.001, weight_decay=5e-06, drop_connect_rate=0.2, depth_divisor=8, min_depth=None, use_se=True, input_channels=3, num_classes=1000, model_name='efficientnet', rescale_input=False, data_format='channels_last', dtype='float32')\n",
      "I1121 03:10:07.537652 4686046720 ssd_efficientnet_bifpn_feature_extractor.py:150] EfficientDet EfficientNet backbone version: efficientnet-b4\n",
      "I1121 03:10:07.537791 4686046720 ssd_efficientnet_bifpn_feature_extractor.py:152] EfficientDet BiFPN num filters: 224\n",
      "I1121 03:10:07.537850 4686046720 ssd_efficientnet_bifpn_feature_extractor.py:153] EfficientDet BiFPN num iterations: 7\n",
      "I1121 03:10:07.539469 4686046720 efficientnet_model.py:143] round_filter input=32 output=48\n",
      "I1121 03:10:07.554147 4686046720 efficientnet_model.py:143] round_filter input=32 output=48\n",
      "I1121 03:10:07.554246 4686046720 efficientnet_model.py:143] round_filter input=16 output=24\n",
      "I1121 03:10:07.665930 4686046720 efficientnet_model.py:143] round_filter input=16 output=24\n",
      "I1121 03:10:07.666037 4686046720 efficientnet_model.py:143] round_filter input=24 output=32\n",
      "I1121 03:10:07.942775 4686046720 efficientnet_model.py:143] round_filter input=24 output=32\n",
      "I1121 03:10:07.942891 4686046720 efficientnet_model.py:143] round_filter input=40 output=56\n",
      "I1121 03:10:08.231570 4686046720 efficientnet_model.py:143] round_filter input=40 output=56\n",
      "I1121 03:10:08.231693 4686046720 efficientnet_model.py:143] round_filter input=80 output=112\n",
      "I1121 03:10:08.660050 4686046720 efficientnet_model.py:143] round_filter input=80 output=112\n",
      "I1121 03:10:08.660166 4686046720 efficientnet_model.py:143] round_filter input=112 output=160\n",
      "I1121 03:10:09.100405 4686046720 efficientnet_model.py:143] round_filter input=112 output=160\n",
      "I1121 03:10:09.100527 4686046720 efficientnet_model.py:143] round_filter input=192 output=272\n",
      "I1121 03:10:09.925447 4686046720 efficientnet_model.py:143] round_filter input=192 output=272\n",
      "I1121 03:10:09.925582 4686046720 efficientnet_model.py:143] round_filter input=320 output=448\n",
      "I1121 03:10:10.103795 4686046720 efficientnet_model.py:143] round_filter input=1280 output=1792\n",
      "I1121 03:10:10.152138 4686046720 efficientnet_model.py:453] Building model efficientnet with params ModelConfig(width_coefficient=1.4, depth_coefficient=1.8, resolution=380, dropout_rate=0.4, blocks=(BlockConfig(input_filters=32, output_filters=16, kernel_size=3, num_repeat=1, expand_ratio=1, strides=(1, 1), se_ratio=0.25, id_skip=True, fused_conv=False, conv_type='depthwise'), BlockConfig(input_filters=16, output_filters=24, kernel_size=3, num_repeat=2, expand_ratio=6, strides=(2, 2), se_ratio=0.25, id_skip=True, fused_conv=False, conv_type='depthwise'), BlockConfig(input_filters=24, output_filters=40, kernel_size=5, num_repeat=2, expand_ratio=6, strides=(2, 2), se_ratio=0.25, id_skip=True, fused_conv=False, conv_type='depthwise'), BlockConfig(input_filters=40, output_filters=80, kernel_size=3, num_repeat=3, expand_ratio=6, strides=(2, 2), se_ratio=0.25, id_skip=True, fused_conv=False, conv_type='depthwise'), BlockConfig(input_filters=80, output_filters=112, kernel_size=5, num_repeat=3, expand_ratio=6, strides=(1, 1), se_ratio=0.25, id_skip=True, fused_conv=False, conv_type='depthwise'), BlockConfig(input_filters=112, output_filters=192, kernel_size=5, num_repeat=4, expand_ratio=6, strides=(2, 2), se_ratio=0.25, id_skip=True, fused_conv=False, conv_type='depthwise'), BlockConfig(input_filters=192, output_filters=320, kernel_size=3, num_repeat=1, expand_ratio=6, strides=(1, 1), se_ratio=0.25, id_skip=True, fused_conv=False, conv_type='depthwise')), stem_base_filters=32, top_base_filters=1280, activation='simple_swish', batch_norm='default', bn_momentum=0.99, bn_epsilon=0.001, weight_decay=5e-06, drop_connect_rate=0.2, depth_divisor=8, min_depth=None, use_se=True, input_channels=3, num_classes=1000, model_name='efficientnet', rescale_input=False, data_format='channels_last', dtype='float32')\n"
     ]
    },
    {
     "name": "stdout",
     "output_type": "stream",
     "text": [
      "I1121 03:10:10.220065 4686046720 ssd_efficientnet_bifpn_feature_extractor.py:150] EfficientDet EfficientNet backbone version: efficientnet-b5\n",
      "I1121 03:10:10.220175 4686046720 ssd_efficientnet_bifpn_feature_extractor.py:152] EfficientDet BiFPN num filters: 288\n",
      "I1121 03:10:10.220222 4686046720 ssd_efficientnet_bifpn_feature_extractor.py:153] EfficientDet BiFPN num iterations: 7\n",
      "I1121 03:10:10.221669 4686046720 efficientnet_model.py:143] round_filter input=32 output=48\n",
      "I1121 03:10:10.236129 4686046720 efficientnet_model.py:143] round_filter input=32 output=48\n",
      "I1121 03:10:10.236229 4686046720 efficientnet_model.py:143] round_filter input=16 output=24\n",
      "I1121 03:10:10.397978 4686046720 efficientnet_model.py:143] round_filter input=16 output=24\n",
      "I1121 03:10:10.398087 4686046720 efficientnet_model.py:143] round_filter input=24 output=40\n",
      "I1121 03:10:10.740417 4686046720 efficientnet_model.py:143] round_filter input=24 output=40\n",
      "I1121 03:10:10.740530 4686046720 efficientnet_model.py:143] round_filter input=40 output=64\n",
      "I1121 03:10:11.097352 4686046720 efficientnet_model.py:143] round_filter input=40 output=64\n",
      "I1121 03:10:11.097468 4686046720 efficientnet_model.py:143] round_filter input=80 output=128\n",
      "I1121 03:10:11.610827 4686046720 efficientnet_model.py:143] round_filter input=80 output=128\n",
      "I1121 03:10:11.610997 4686046720 efficientnet_model.py:143] round_filter input=112 output=176\n",
      "I1121 03:10:12.133725 4686046720 efficientnet_model.py:143] round_filter input=112 output=176\n",
      "I1121 03:10:12.133845 4686046720 efficientnet_model.py:143] round_filter input=192 output=304\n",
      "I1121 03:10:12.863119 4686046720 efficientnet_model.py:143] round_filter input=192 output=304\n",
      "I1121 03:10:12.863237 4686046720 efficientnet_model.py:143] round_filter input=320 output=512\n",
      "I1121 03:10:13.165903 4686046720 efficientnet_model.py:143] round_filter input=1280 output=2048\n",
      "I1121 03:10:13.216658 4686046720 efficientnet_model.py:453] Building model efficientnet with params ModelConfig(width_coefficient=1.6, depth_coefficient=2.2, resolution=456, dropout_rate=0.4, blocks=(BlockConfig(input_filters=32, output_filters=16, kernel_size=3, num_repeat=1, expand_ratio=1, strides=(1, 1), se_ratio=0.25, id_skip=True, fused_conv=False, conv_type='depthwise'), BlockConfig(input_filters=16, output_filters=24, kernel_size=3, num_repeat=2, expand_ratio=6, strides=(2, 2), se_ratio=0.25, id_skip=True, fused_conv=False, conv_type='depthwise'), BlockConfig(input_filters=24, output_filters=40, kernel_size=5, num_repeat=2, expand_ratio=6, strides=(2, 2), se_ratio=0.25, id_skip=True, fused_conv=False, conv_type='depthwise'), BlockConfig(input_filters=40, output_filters=80, kernel_size=3, num_repeat=3, expand_ratio=6, strides=(2, 2), se_ratio=0.25, id_skip=True, fused_conv=False, conv_type='depthwise'), BlockConfig(input_filters=80, output_filters=112, kernel_size=5, num_repeat=3, expand_ratio=6, strides=(1, 1), se_ratio=0.25, id_skip=True, fused_conv=False, conv_type='depthwise'), BlockConfig(input_filters=112, output_filters=192, kernel_size=5, num_repeat=4, expand_ratio=6, strides=(2, 2), se_ratio=0.25, id_skip=True, fused_conv=False, conv_type='depthwise'), BlockConfig(input_filters=192, output_filters=320, kernel_size=3, num_repeat=1, expand_ratio=6, strides=(1, 1), se_ratio=0.25, id_skip=True, fused_conv=False, conv_type='depthwise')), stem_base_filters=32, top_base_filters=1280, activation='simple_swish', batch_norm='default', bn_momentum=0.99, bn_epsilon=0.001, weight_decay=5e-06, drop_connect_rate=0.2, depth_divisor=8, min_depth=None, use_se=True, input_channels=3, num_classes=1000, model_name='efficientnet', rescale_input=False, data_format='channels_last', dtype='float32')\n",
      "I1121 03:10:13.301259 4686046720 ssd_efficientnet_bifpn_feature_extractor.py:150] EfficientDet EfficientNet backbone version: efficientnet-b6\n",
      "I1121 03:10:13.301374 4686046720 ssd_efficientnet_bifpn_feature_extractor.py:152] EfficientDet BiFPN num filters: 384\n",
      "I1121 03:10:13.301424 4686046720 ssd_efficientnet_bifpn_feature_extractor.py:153] EfficientDet BiFPN num iterations: 8\n",
      "I1121 03:10:13.302749 4686046720 efficientnet_model.py:143] round_filter input=32 output=56\n",
      "I1121 03:10:13.318274 4686046720 efficientnet_model.py:143] round_filter input=32 output=56\n",
      "I1121 03:10:13.318373 4686046720 efficientnet_model.py:143] round_filter input=16 output=32\n",
      "I1121 03:10:13.488001 4686046720 efficientnet_model.py:143] round_filter input=16 output=32\n",
      "I1121 03:10:13.488112 4686046720 efficientnet_model.py:143] round_filter input=24 output=40\n",
      "I1121 03:10:13.902778 4686046720 efficientnet_model.py:143] round_filter input=24 output=40\n",
      "I1121 03:10:13.902900 4686046720 efficientnet_model.py:143] round_filter input=40 output=72\n",
      "I1121 03:10:14.335354 4686046720 efficientnet_model.py:143] round_filter input=40 output=72\n",
      "I1121 03:10:14.335469 4686046720 efficientnet_model.py:143] round_filter input=80 output=144\n",
      "I1121 03:10:15.150614 4686046720 efficientnet_model.py:143] round_filter input=80 output=144\n",
      "I1121 03:10:15.150734 4686046720 efficientnet_model.py:143] round_filter input=112 output=200\n",
      "I1121 03:10:15.741424 4686046720 efficientnet_model.py:143] round_filter input=112 output=200\n",
      "I1121 03:10:15.741565 4686046720 efficientnet_model.py:143] round_filter input=192 output=344\n",
      "I1121 03:10:16.651592 4686046720 efficientnet_model.py:143] round_filter input=192 output=344\n",
      "I1121 03:10:16.651715 4686046720 efficientnet_model.py:143] round_filter input=320 output=576\n",
      "I1121 03:10:16.968395 4686046720 efficientnet_model.py:143] round_filter input=1280 output=2304\n",
      "I1121 03:10:17.020961 4686046720 efficientnet_model.py:453] Building model efficientnet with params ModelConfig(width_coefficient=1.8, depth_coefficient=2.6, resolution=528, dropout_rate=0.5, blocks=(BlockConfig(input_filters=32, output_filters=16, kernel_size=3, num_repeat=1, expand_ratio=1, strides=(1, 1), se_ratio=0.25, id_skip=True, fused_conv=False, conv_type='depthwise'), BlockConfig(input_filters=16, output_filters=24, kernel_size=3, num_repeat=2, expand_ratio=6, strides=(2, 2), se_ratio=0.25, id_skip=True, fused_conv=False, conv_type='depthwise'), BlockConfig(input_filters=24, output_filters=40, kernel_size=5, num_repeat=2, expand_ratio=6, strides=(2, 2), se_ratio=0.25, id_skip=True, fused_conv=False, conv_type='depthwise'), BlockConfig(input_filters=40, output_filters=80, kernel_size=3, num_repeat=3, expand_ratio=6, strides=(2, 2), se_ratio=0.25, id_skip=True, fused_conv=False, conv_type='depthwise'), BlockConfig(input_filters=80, output_filters=112, kernel_size=5, num_repeat=3, expand_ratio=6, strides=(1, 1), se_ratio=0.25, id_skip=True, fused_conv=False, conv_type='depthwise'), BlockConfig(input_filters=112, output_filters=192, kernel_size=5, num_repeat=4, expand_ratio=6, strides=(2, 2), se_ratio=0.25, id_skip=True, fused_conv=False, conv_type='depthwise'), BlockConfig(input_filters=192, output_filters=320, kernel_size=3, num_repeat=1, expand_ratio=6, strides=(1, 1), se_ratio=0.25, id_skip=True, fused_conv=False, conv_type='depthwise')), stem_base_filters=32, top_base_filters=1280, activation='simple_swish', batch_norm='default', bn_momentum=0.99, bn_epsilon=0.001, weight_decay=5e-06, drop_connect_rate=0.2, depth_divisor=8, min_depth=None, use_se=True, input_channels=3, num_classes=1000, model_name='efficientnet', rescale_input=False, data_format='channels_last', dtype='float32')\n",
      "I1121 03:10:17.112898 4686046720 ssd_efficientnet_bifpn_feature_extractor.py:150] EfficientDet EfficientNet backbone version: efficientnet-b7\n",
      "I1121 03:10:17.113010 4686046720 ssd_efficientnet_bifpn_feature_extractor.py:152] EfficientDet BiFPN num filters: 384\n",
      "I1121 03:10:17.113061 4686046720 ssd_efficientnet_bifpn_feature_extractor.py:153] EfficientDet BiFPN num iterations: 8\n",
      "I1121 03:10:17.114395 4686046720 efficientnet_model.py:143] round_filter input=32 output=64\n",
      "I1121 03:10:17.129537 4686046720 efficientnet_model.py:143] round_filter input=32 output=64\n",
      "I1121 03:10:17.129636 4686046720 efficientnet_model.py:143] round_filter input=16 output=32\n",
      "I1121 03:10:17.358022 4686046720 efficientnet_model.py:143] round_filter input=16 output=32\n",
      "I1121 03:10:17.358139 4686046720 efficientnet_model.py:143] round_filter input=24 output=48\n"
     ]
    },
    {
     "name": "stdout",
     "output_type": "stream",
     "text": [
      "I1121 03:10:17.848979 4686046720 efficientnet_model.py:143] round_filter input=24 output=48\n",
      "I1121 03:10:17.849103 4686046720 efficientnet_model.py:143] round_filter input=40 output=80\n",
      "I1121 03:10:18.341575 4686046720 efficientnet_model.py:143] round_filter input=40 output=80\n",
      "I1121 03:10:18.341695 4686046720 efficientnet_model.py:143] round_filter input=80 output=160\n",
      "I1121 03:10:19.068972 4686046720 efficientnet_model.py:143] round_filter input=80 output=160\n",
      "I1121 03:10:19.069087 4686046720 efficientnet_model.py:143] round_filter input=112 output=224\n",
      "I1121 03:10:19.836343 4686046720 efficientnet_model.py:143] round_filter input=112 output=224\n",
      "I1121 03:10:19.836462 4686046720 efficientnet_model.py:143] round_filter input=192 output=384\n",
      "I1121 03:10:21.218050 4686046720 efficientnet_model.py:143] round_filter input=192 output=384\n",
      "I1121 03:10:21.218202 4686046720 efficientnet_model.py:143] round_filter input=320 output=640\n",
      "I1121 03:10:21.638929 4686046720 efficientnet_model.py:143] round_filter input=1280 output=2560\n",
      "I1121 03:10:21.700559 4686046720 efficientnet_model.py:453] Building model efficientnet with params ModelConfig(width_coefficient=2.0, depth_coefficient=3.1, resolution=600, dropout_rate=0.5, blocks=(BlockConfig(input_filters=32, output_filters=16, kernel_size=3, num_repeat=1, expand_ratio=1, strides=(1, 1), se_ratio=0.25, id_skip=True, fused_conv=False, conv_type='depthwise'), BlockConfig(input_filters=16, output_filters=24, kernel_size=3, num_repeat=2, expand_ratio=6, strides=(2, 2), se_ratio=0.25, id_skip=True, fused_conv=False, conv_type='depthwise'), BlockConfig(input_filters=24, output_filters=40, kernel_size=5, num_repeat=2, expand_ratio=6, strides=(2, 2), se_ratio=0.25, id_skip=True, fused_conv=False, conv_type='depthwise'), BlockConfig(input_filters=40, output_filters=80, kernel_size=3, num_repeat=3, expand_ratio=6, strides=(2, 2), se_ratio=0.25, id_skip=True, fused_conv=False, conv_type='depthwise'), BlockConfig(input_filters=80, output_filters=112, kernel_size=5, num_repeat=3, expand_ratio=6, strides=(1, 1), se_ratio=0.25, id_skip=True, fused_conv=False, conv_type='depthwise'), BlockConfig(input_filters=112, output_filters=192, kernel_size=5, num_repeat=4, expand_ratio=6, strides=(2, 2), se_ratio=0.25, id_skip=True, fused_conv=False, conv_type='depthwise'), BlockConfig(input_filters=192, output_filters=320, kernel_size=3, num_repeat=1, expand_ratio=6, strides=(1, 1), se_ratio=0.25, id_skip=True, fused_conv=False, conv_type='depthwise')), stem_base_filters=32, top_base_filters=1280, activation='simple_swish', batch_norm='default', bn_momentum=0.99, bn_epsilon=0.001, weight_decay=5e-06, drop_connect_rate=0.2, depth_divisor=8, min_depth=None, use_se=True, input_channels=3, num_classes=1000, model_name='efficientnet', rescale_input=False, data_format='channels_last', dtype='float32')\n",
      "INFO:tensorflow:time(__main__.ModelBuilderTF2Test.test_create_ssd_models_from_config): 21.5s\n",
      "I1121 03:10:21.817062 4686046720 test_util.py:2460] time(__main__.ModelBuilderTF2Test.test_create_ssd_models_from_config): 21.5s\n",
      "[       OK ] ModelBuilderTF2Test.test_create_ssd_models_from_config\n",
      "[ RUN      ] ModelBuilderTF2Test.test_invalid_faster_rcnn_batchnorm_update\n",
      "INFO:tensorflow:time(__main__.ModelBuilderTF2Test.test_invalid_faster_rcnn_batchnorm_update): 0.0s\n",
      "I1121 03:10:21.840818 4686046720 test_util.py:2460] time(__main__.ModelBuilderTF2Test.test_invalid_faster_rcnn_batchnorm_update): 0.0s\n",
      "[       OK ] ModelBuilderTF2Test.test_invalid_faster_rcnn_batchnorm_update\n",
      "[ RUN      ] ModelBuilderTF2Test.test_invalid_first_stage_nms_iou_threshold\n",
      "INFO:tensorflow:time(__main__.ModelBuilderTF2Test.test_invalid_first_stage_nms_iou_threshold): 0.0s\n",
      "I1121 03:10:21.842439 4686046720 test_util.py:2460] time(__main__.ModelBuilderTF2Test.test_invalid_first_stage_nms_iou_threshold): 0.0s\n",
      "[       OK ] ModelBuilderTF2Test.test_invalid_first_stage_nms_iou_threshold\n",
      "[ RUN      ] ModelBuilderTF2Test.test_invalid_model_config_proto\n",
      "INFO:tensorflow:time(__main__.ModelBuilderTF2Test.test_invalid_model_config_proto): 0.0s\n",
      "I1121 03:10:21.842823 4686046720 test_util.py:2460] time(__main__.ModelBuilderTF2Test.test_invalid_model_config_proto): 0.0s\n",
      "[       OK ] ModelBuilderTF2Test.test_invalid_model_config_proto\n",
      "[ RUN      ] ModelBuilderTF2Test.test_invalid_second_stage_batch_size\n",
      "INFO:tensorflow:time(__main__.ModelBuilderTF2Test.test_invalid_second_stage_batch_size): 0.0s\n",
      "I1121 03:10:21.844182 4686046720 test_util.py:2460] time(__main__.ModelBuilderTF2Test.test_invalid_second_stage_batch_size): 0.0s\n",
      "[       OK ] ModelBuilderTF2Test.test_invalid_second_stage_batch_size\n",
      "[ RUN      ] ModelBuilderTF2Test.test_session\n",
      "[  SKIPPED ] ModelBuilderTF2Test.test_session\n",
      "[ RUN      ] ModelBuilderTF2Test.test_unknown_faster_rcnn_feature_extractor\n",
      "INFO:tensorflow:time(__main__.ModelBuilderTF2Test.test_unknown_faster_rcnn_feature_extractor): 0.0s\n",
      "I1121 03:10:21.845391 4686046720 test_util.py:2460] time(__main__.ModelBuilderTF2Test.test_unknown_faster_rcnn_feature_extractor): 0.0s\n",
      "[       OK ] ModelBuilderTF2Test.test_unknown_faster_rcnn_feature_extractor\n",
      "[ RUN      ] ModelBuilderTF2Test.test_unknown_meta_architecture\n",
      "INFO:tensorflow:time(__main__.ModelBuilderTF2Test.test_unknown_meta_architecture): 0.0s\n",
      "I1121 03:10:21.845702 4686046720 test_util.py:2460] time(__main__.ModelBuilderTF2Test.test_unknown_meta_architecture): 0.0s\n",
      "[       OK ] ModelBuilderTF2Test.test_unknown_meta_architecture\n",
      "[ RUN      ] ModelBuilderTF2Test.test_unknown_ssd_feature_extractor\n",
      "INFO:tensorflow:time(__main__.ModelBuilderTF2Test.test_unknown_ssd_feature_extractor): 0.0s\n",
      "I1121 03:10:21.846650 4686046720 test_util.py:2460] time(__main__.ModelBuilderTF2Test.test_unknown_ssd_feature_extractor): 0.0s\n",
      "[       OK ] ModelBuilderTF2Test.test_unknown_ssd_feature_extractor\n",
      "----------------------------------------------------------------------\n",
      "Ran 24 tests in 25.466s\n",
      "\n",
      "OK (skipped=1)\n"
     ]
    }
   ],
   "source": [
    "VERIFICATION_SCRIPT = os.path.join(paths['APIMODEL_PATH'], 'research', 'object_detection', 'builders', 'model_builder_tf2_test.py')\n",
    "# Verify Installation\n",
    "!python {VERIFICATION_SCRIPT}"
   ]
  },
  {
   "cell_type": "code",
   "execution_count": 11,
   "metadata": {
    "collapsed": true
   },
   "outputs": [
    {
     "name": "stdout",
     "output_type": "stream",
     "text": [
      "Requirement already satisfied: tensorflow in /Users/shrestho12/opt/anaconda3/lib/python3.9/site-packages (2.10.1)\n",
      "Collecting tensorflow\n",
      "  Using cached tensorflow-2.11.0-cp39-cp39-macosx_10_14_x86_64.whl (244.3 MB)\n",
      "Requirement already satisfied: absl-py>=1.0.0 in /Users/shrestho12/opt/anaconda3/lib/python3.9/site-packages (from tensorflow) (1.3.0)\n",
      "Requirement already satisfied: numpy>=1.20 in /Users/shrestho12/opt/anaconda3/lib/python3.9/site-packages (from tensorflow) (1.21.5)\n",
      "Requirement already satisfied: typing-extensions>=3.6.6 in /Users/shrestho12/opt/anaconda3/lib/python3.9/site-packages (from tensorflow) (4.1.1)\n",
      "Requirement already satisfied: h5py>=2.9.0 in /Users/shrestho12/opt/anaconda3/lib/python3.9/site-packages (from tensorflow) (3.6.0)\n",
      "Requirement already satisfied: tensorflow-io-gcs-filesystem>=0.23.1 in /Users/shrestho12/opt/anaconda3/lib/python3.9/site-packages (from tensorflow) (0.27.0)\n",
      "Requirement already satisfied: google-pasta>=0.1.1 in /Users/shrestho12/opt/anaconda3/lib/python3.9/site-packages (from tensorflow) (0.2.0)\n",
      "Requirement already satisfied: gast<=0.4.0,>=0.2.1 in /Users/shrestho12/opt/anaconda3/lib/python3.9/site-packages (from tensorflow) (0.4.0)\n",
      "Requirement already satisfied: opt-einsum>=2.3.2 in /Users/shrestho12/opt/anaconda3/lib/python3.9/site-packages (from tensorflow) (3.3.0)\n",
      "Requirement already satisfied: setuptools in /Users/shrestho12/opt/anaconda3/lib/python3.9/site-packages (from tensorflow) (61.2.0)\n",
      "Requirement already satisfied: grpcio<2.0,>=1.24.3 in /Users/shrestho12/opt/anaconda3/lib/python3.9/site-packages (from tensorflow) (1.42.0)\n",
      "Collecting tensorboard<2.12,>=2.11\n",
      "  Using cached tensorboard-2.11.0-py3-none-any.whl (6.0 MB)\n",
      "Requirement already satisfied: libclang>=13.0.0 in /Users/shrestho12/opt/anaconda3/lib/python3.9/site-packages (from tensorflow) (14.0.6)\n",
      "Requirement already satisfied: astunparse>=1.6.0 in /Users/shrestho12/opt/anaconda3/lib/python3.9/site-packages (from tensorflow) (1.6.3)\n",
      "Collecting tensorflow-estimator<2.12,>=2.11.0\n",
      "  Using cached tensorflow_estimator-2.11.0-py2.py3-none-any.whl (439 kB)\n",
      "Requirement already satisfied: six>=1.12.0 in /Users/shrestho12/opt/anaconda3/lib/python3.9/site-packages (from tensorflow) (1.16.0)\n",
      "Requirement already satisfied: flatbuffers>=2.0 in /Users/shrestho12/opt/anaconda3/lib/python3.9/site-packages (from tensorflow) (22.10.26)\n",
      "Requirement already satisfied: protobuf<3.20,>=3.9.2 in /Users/shrestho12/opt/anaconda3/lib/python3.9/site-packages (from tensorflow) (3.19.6)\n",
      "Requirement already satisfied: wrapt>=1.11.0 in /Users/shrestho12/opt/anaconda3/lib/python3.9/site-packages (from tensorflow) (1.12.1)\n",
      "Requirement already satisfied: packaging in /Users/shrestho12/opt/anaconda3/lib/python3.9/site-packages (from tensorflow) (21.3)\n",
      "Collecting keras<2.12,>=2.11.0\n",
      "  Using cached keras-2.11.0-py2.py3-none-any.whl (1.7 MB)\n",
      "Requirement already satisfied: termcolor>=1.1.0 in /Users/shrestho12/opt/anaconda3/lib/python3.9/site-packages (from tensorflow) (2.1.1)\n",
      "Requirement already satisfied: wheel<1.0,>=0.23.0 in /Users/shrestho12/opt/anaconda3/lib/python3.9/site-packages (from astunparse>=1.6.0->tensorflow) (0.37.1)\n",
      "Requirement already satisfied: tensorboard-plugin-wit>=1.6.0 in /Users/shrestho12/opt/anaconda3/lib/python3.9/site-packages (from tensorboard<2.12,>=2.11->tensorflow) (1.8.1)\n",
      "Requirement already satisfied: google-auth-oauthlib<0.5,>=0.4.1 in /Users/shrestho12/opt/anaconda3/lib/python3.9/site-packages (from tensorboard<2.12,>=2.11->tensorflow) (0.4.6)\n",
      "Requirement already satisfied: google-auth<3,>=1.6.3 in /Users/shrestho12/opt/anaconda3/lib/python3.9/site-packages (from tensorboard<2.12,>=2.11->tensorflow) (1.33.0)\n",
      "Requirement already satisfied: tensorboard-data-server<0.7.0,>=0.6.0 in /Users/shrestho12/opt/anaconda3/lib/python3.9/site-packages (from tensorboard<2.12,>=2.11->tensorflow) (0.6.1)\n",
      "Requirement already satisfied: requests<3,>=2.21.0 in /Users/shrestho12/opt/anaconda3/lib/python3.9/site-packages (from tensorboard<2.12,>=2.11->tensorflow) (2.27.1)\n",
      "Requirement already satisfied: markdown>=2.6.8 in /Users/shrestho12/opt/anaconda3/lib/python3.9/site-packages (from tensorboard<2.12,>=2.11->tensorflow) (3.3.4)\n",
      "Requirement already satisfied: werkzeug>=1.0.1 in /Users/shrestho12/opt/anaconda3/lib/python3.9/site-packages (from tensorboard<2.12,>=2.11->tensorflow) (2.0.3)\n",
      "Requirement already satisfied: pyparsing!=3.0.5,>=2.0.2 in /Users/shrestho12/opt/anaconda3/lib/python3.9/site-packages (from packaging->tensorflow) (2.4.7)\n",
      "Requirement already satisfied: cachetools<5.0,>=2.0.0 in /Users/shrestho12/opt/anaconda3/lib/python3.9/site-packages (from google-auth<3,>=1.6.3->tensorboard<2.12,>=2.11->tensorflow) (4.2.2)\n",
      "Requirement already satisfied: pyasn1-modules>=0.2.1 in /Users/shrestho12/opt/anaconda3/lib/python3.9/site-packages (from google-auth<3,>=1.6.3->tensorboard<2.12,>=2.11->tensorflow) (0.2.8)\n",
      "Requirement already satisfied: rsa<5,>=3.1.4 in /Users/shrestho12/opt/anaconda3/lib/python3.9/site-packages (from google-auth<3,>=1.6.3->tensorboard<2.12,>=2.11->tensorflow) (4.7.2)\n",
      "Requirement already satisfied: requests-oauthlib>=0.7.0 in /Users/shrestho12/opt/anaconda3/lib/python3.9/site-packages (from google-auth-oauthlib<0.5,>=0.4.1->tensorboard<2.12,>=2.11->tensorflow) (1.3.1)\n",
      "Requirement already satisfied: urllib3<1.27,>=1.21.1 in /Users/shrestho12/opt/anaconda3/lib/python3.9/site-packages (from requests<3,>=2.21.0->tensorboard<2.12,>=2.11->tensorflow) (1.26.9)\n",
      "Requirement already satisfied: idna<4,>=2.5 in /Users/shrestho12/opt/anaconda3/lib/python3.9/site-packages (from requests<3,>=2.21.0->tensorboard<2.12,>=2.11->tensorflow) (3.3)\n",
      "Requirement already satisfied: certifi>=2017.4.17 in /Users/shrestho12/opt/anaconda3/lib/python3.9/site-packages (from requests<3,>=2.21.0->tensorboard<2.12,>=2.11->tensorflow) (2022.9.24)\n",
      "Requirement already satisfied: charset-normalizer~=2.0.0 in /Users/shrestho12/opt/anaconda3/lib/python3.9/site-packages (from requests<3,>=2.21.0->tensorboard<2.12,>=2.11->tensorflow) (2.0.4)\n",
      "Requirement already satisfied: pyasn1<0.5.0,>=0.4.6 in /Users/shrestho12/opt/anaconda3/lib/python3.9/site-packages (from pyasn1-modules>=0.2.1->google-auth<3,>=1.6.3->tensorboard<2.12,>=2.11->tensorflow) (0.4.8)\n",
      "Requirement already satisfied: oauthlib>=3.0.0 in /Users/shrestho12/opt/anaconda3/lib/python3.9/site-packages (from requests-oauthlib>=0.7.0->google-auth-oauthlib<0.5,>=0.4.1->tensorboard<2.12,>=2.11->tensorflow) (3.2.2)\n",
      "Installing collected packages: tensorflow-estimator, keras, tensorboard, tensorflow\n",
      "  Attempting uninstall: tensorflow-estimator\n",
      "    Found existing installation: tensorflow-estimator 2.10.0\n",
      "    Uninstalling tensorflow-estimator-2.10.0:\n",
      "      Successfully uninstalled tensorflow-estimator-2.10.0\n",
      "  Attempting uninstall: keras\n",
      "    Found existing installation: keras 2.10.0\n",
      "    Uninstalling keras-2.10.0:\n",
      "      Successfully uninstalled keras-2.10.0\n",
      "  Attempting uninstall: tensorboard\n",
      "    Found existing installation: tensorboard 2.10.1\n",
      "    Uninstalling tensorboard-2.10.1:\n",
      "      Successfully uninstalled tensorboard-2.10.1\n",
      "  Attempting uninstall: tensorflow\n",
      "    Found existing installation: tensorflow 2.10.1\n",
      "    Uninstalling tensorflow-2.10.1:\n",
      "      Successfully uninstalled tensorflow-2.10.1\n",
      "\u001b[31mERROR: pip's dependency resolver does not currently take into account all the packages that are installed. This behaviour is the source of the following dependency conflicts.\n",
      "tf-models-official 2.10.1 requires tensorflow~=2.10.0, but you have tensorflow 2.11.0 which is incompatible.\n",
      "tensorflow-text 2.10.0 requires tensorflow<2.11,>=2.10.0; platform_machine != \"arm64\" or platform_system != \"Darwin\", but you have tensorflow 2.11.0 which is incompatible.\u001b[0m\u001b[31m\n",
      "\u001b[0mSuccessfully installed keras-2.11.0 tensorboard-2.11.0 tensorflow-2.11.0 tensorflow-estimator-2.11.0\n"
     ]
    }
   ],
   "source": [
    "!pip install tensorflow --upgrade"
   ]
  },
  {
   "cell_type": "code",
   "execution_count": 2,
   "metadata": {},
   "outputs": [
    {
     "name": "stdout",
     "output_type": "stream",
     "text": [
      "Collecting tf-models-official\n",
      "  Downloading tf_models_official-2.11.0-py2.py3-none-any.whl (2.3 MB)\n",
      "\u001b[2K     \u001b[90m━━━━━━━━━━━━━━━━━━━━━━━━━━━━━━━━━━━━━━━━\u001b[0m \u001b[32m2.3/2.3 MB\u001b[0m \u001b[31m230.0 kB/s\u001b[0m eta \u001b[36m0:00:00\u001b[0m00:01\u001b[0m00:01\u001b[0m\n",
      "\u001b[?25hCollecting tensorflow-model-optimization>=0.4.1\n",
      "  Using cached tensorflow_model_optimization-0.7.3-py2.py3-none-any.whl (238 kB)\n",
      "Collecting kaggle>=1.3.9\n",
      "  Using cached kaggle-1.5.12-py3-none-any.whl\n",
      "Requirement already satisfied: pandas>=0.22.0 in ./mlproject/lib/python3.9/site-packages (from tf-models-official) (1.5.2)\n",
      "Requirement already satisfied: Pillow in ./mlproject/lib/python3.9/site-packages (from tf-models-official) (9.3.0)\n",
      "Collecting google-api-python-client>=1.6.7\n",
      "  Using cached google_api_python_client-2.66.0-py2.py3-none-any.whl (10.5 MB)\n",
      "Requirement already satisfied: matplotlib in ./mlproject/lib/python3.9/site-packages (from tf-models-official) (3.6.2)\n",
      "Requirement already satisfied: numpy>=1.20 in ./mlproject/lib/python3.9/site-packages (from tf-models-official) (1.23.4)\n",
      "Collecting tensorflow-text~=2.11.0\n",
      "  Using cached tensorflow_text-2.11.0-cp39-cp39-macosx_10_9_x86_64.whl (5.6 MB)\n",
      "Collecting scipy>=0.19.1\n",
      "  Downloading scipy-1.9.3-cp39-cp39-macosx_10_9_x86_64.whl (34.3 MB)\n",
      "\u001b[2K     \u001b[90m━━━━━━━━━━━━━━━━━━━━━━━━━━━━━━━━━━━━━━━\u001b[0m \u001b[32m34.3/34.3 MB\u001b[0m \u001b[31m214.3 kB/s\u001b[0m eta \u001b[36m0:00:00\u001b[0m00:01\u001b[0m00:05\u001b[0m\n",
      "\u001b[?25hRequirement already satisfied: tensorflow~=2.11.0 in ./mlproject/lib/python3.9/site-packages (from tf-models-official) (2.11.0)\n",
      "Collecting py-cpuinfo>=3.3.0\n",
      "  Using cached py_cpuinfo-9.0.0-py3-none-any.whl (22 kB)\n",
      "Collecting tensorflow-addons\n",
      "  Using cached tensorflow_addons-0.18.0-cp39-cp39-macosx_10_14_x86_64.whl (12.5 MB)\n",
      "Collecting immutabledict\n",
      "  Using cached immutabledict-2.2.3-py3-none-any.whl (4.0 kB)\n",
      "Requirement already satisfied: six in ./mlproject/lib/python3.9/site-packages (from tf-models-official) (1.16.0)\n",
      "Collecting oauth2client\n",
      "  Using cached oauth2client-4.1.3-py2.py3-none-any.whl (98 kB)\n",
      "Collecting sentencepiece\n",
      "  Using cached sentencepiece-0.1.97-cp39-cp39-macosx_10_9_x86_64.whl (1.2 MB)\n",
      "Requirement already satisfied: Cython in ./mlproject/lib/python3.9/site-packages (from tf-models-official) (0.29.32)\n",
      "Requirement already satisfied: psutil>=5.4.3 in ./mlproject/lib/python3.9/site-packages (from tf-models-official) (5.9.4)\n",
      "Collecting opencv-python-headless==4.5.2.52\n",
      "  Downloading opencv_python_headless-4.5.2.52-cp39-cp39-macosx_10_15_x86_64.whl (43.6 MB)\n",
      "\u001b[2K     \u001b[90m━━━━━━━━━━━━━━━━━━━━━━━━━━━━━━━━━━━━━━━\u001b[0m \u001b[32m43.6/43.6 MB\u001b[0m \u001b[31m318.3 kB/s\u001b[0m eta \u001b[36m0:00:00\u001b[0m00:01\u001b[0m00:04\u001b[0m\n",
      "\u001b[?25hCollecting tf-slim>=1.1.0\n",
      "  Using cached tf_slim-1.1.0-py2.py3-none-any.whl (352 kB)\n",
      "Collecting tensorflow-datasets\n",
      "  Using cached tensorflow_datasets-4.7.0-py3-none-any.whl (4.7 MB)\n",
      "Collecting pycocotools\n",
      "  Using cached pycocotools-2.0.6-cp39-cp39-macosx_10_9_x86_64.whl\n",
      "Collecting tensorflow-hub>=0.6.0\n",
      "  Using cached tensorflow_hub-0.12.0-py2.py3-none-any.whl (108 kB)\n",
      "Collecting seqeval\n",
      "  Using cached seqeval-1.2.2-py3-none-any.whl\n",
      "Collecting sacrebleu\n",
      "  Downloading sacrebleu-2.3.1-py3-none-any.whl (118 kB)\n",
      "\u001b[2K     \u001b[90m━━━━━━━━━━━━━━━━━━━━━━━━━━━━━━━━━━━━━━━\u001b[0m \u001b[32m118.9/118.9 kB\u001b[0m \u001b[31m1.8 MB/s\u001b[0m eta \u001b[36m0:00:00\u001b[0ma \u001b[36m0:00:01\u001b[0m\n",
      "\u001b[?25hCollecting pyyaml<6.0,>=5.1\n",
      "  Using cached PyYAML-5.4.1-cp39-cp39-macosx_10_9_x86_64.whl (259 kB)\n",
      "Collecting gin-config\n",
      "  Using cached gin_config-0.5.0-py3-none-any.whl (61 kB)\n",
      "Requirement already satisfied: google-auth<3.0.0dev,>=1.19.0 in ./mlproject/lib/python3.9/site-packages (from google-api-python-client>=1.6.7->tf-models-official) (2.14.1)\n",
      "Collecting google-auth-httplib2>=0.1.0\n",
      "  Using cached google_auth_httplib2-0.1.0-py2.py3-none-any.whl (9.3 kB)\n",
      "Collecting httplib2<1dev,>=0.15.0\n",
      "  Downloading httplib2-0.21.0-py3-none-any.whl (96 kB)\n",
      "\u001b[2K     \u001b[90m━━━━━━━━━━━━━━━━━━━━━━━━━━━━━━━━━━━━━━━\u001b[0m \u001b[32m96.8/96.8 kB\u001b[0m \u001b[31m367.1 kB/s\u001b[0m eta \u001b[36m0:00:00\u001b[0ma \u001b[36m0:00:01\u001b[0m\n",
      "\u001b[?25hCollecting google-api-core!=2.0.*,!=2.1.*,!=2.2.*,!=2.3.0,<3.0.0dev,>=1.31.5\n",
      "  Using cached google_api_core-2.10.2-py3-none-any.whl (115 kB)\n",
      "Collecting uritemplate<5,>=3.0.1\n",
      "  Using cached uritemplate-4.1.1-py2.py3-none-any.whl (10 kB)\n",
      "Collecting python-slugify\n",
      "  Downloading python_slugify-7.0.0-py2.py3-none-any.whl (9.4 kB)\n",
      "Requirement already satisfied: urllib3 in ./mlproject/lib/python3.9/site-packages (from kaggle>=1.3.9->tf-models-official) (1.26.12)\n",
      "Requirement already satisfied: certifi in ./mlproject/lib/python3.9/site-packages (from kaggle>=1.3.9->tf-models-official) (2022.9.24)\n",
      "Requirement already satisfied: requests in ./mlproject/lib/python3.9/site-packages (from kaggle>=1.3.9->tf-models-official) (2.28.1)\n",
      "Requirement already satisfied: python-dateutil in ./mlproject/lib/python3.9/site-packages (from kaggle>=1.3.9->tf-models-official) (2.8.2)\n",
      "Collecting tqdm\n",
      "  Downloading tqdm-4.64.1-py2.py3-none-any.whl (78 kB)\n",
      "\u001b[2K     \u001b[90m━━━━━━━━━━━━━━━━━━━━━━━━━━━━━━━━━━━━━━━\u001b[0m \u001b[32m78.5/78.5 kB\u001b[0m \u001b[31m268.3 kB/s\u001b[0m eta \u001b[36m0:00:00\u001b[0ma \u001b[36m0:00:01\u001b[0m\n",
      "\u001b[?25hRequirement already satisfied: pytz>=2020.1 in ./mlproject/lib/python3.9/site-packages (from pandas>=0.22.0->tf-models-official) (2022.6)\n",
      "Requirement already satisfied: wrapt>=1.11.0 in ./mlproject/lib/python3.9/site-packages (from tensorflow~=2.11.0->tf-models-official) (1.14.1)\n",
      "Requirement already satisfied: protobuf<3.20,>=3.9.2 in ./mlproject/lib/python3.9/site-packages (from tensorflow~=2.11.0->tf-models-official) (3.19.6)\n",
      "Requirement already satisfied: grpcio<2.0,>=1.24.3 in ./mlproject/lib/python3.9/site-packages (from tensorflow~=2.11.0->tf-models-official) (1.50.0)\n",
      "Requirement already satisfied: libclang>=13.0.0 in ./mlproject/lib/python3.9/site-packages (from tensorflow~=2.11.0->tf-models-official) (14.0.6)\n",
      "Requirement already satisfied: packaging in ./mlproject/lib/python3.9/site-packages (from tensorflow~=2.11.0->tf-models-official) (21.3)\n",
      "Requirement already satisfied: flatbuffers>=2.0 in ./mlproject/lib/python3.9/site-packages (from tensorflow~=2.11.0->tf-models-official) (22.10.26)\n",
      "Requirement already satisfied: keras<2.12,>=2.11.0 in ./mlproject/lib/python3.9/site-packages (from tensorflow~=2.11.0->tf-models-official) (2.11.0)\n",
      "Requirement already satisfied: setuptools in ./mlproject/lib/python3.9/site-packages (from tensorflow~=2.11.0->tf-models-official) (58.1.0)\n",
      "Requirement already satisfied: absl-py>=1.0.0 in ./mlproject/lib/python3.9/site-packages (from tensorflow~=2.11.0->tf-models-official) (1.3.0)\n",
      "Requirement already satisfied: h5py>=2.9.0 in ./mlproject/lib/python3.9/site-packages (from tensorflow~=2.11.0->tf-models-official) (3.7.0)\n",
      "Requirement already satisfied: tensorflow-io-gcs-filesystem>=0.23.1 in ./mlproject/lib/python3.9/site-packages (from tensorflow~=2.11.0->tf-models-official) (0.27.0)\n",
      "Requirement already satisfied: gast<=0.4.0,>=0.2.1 in ./mlproject/lib/python3.9/site-packages (from tensorflow~=2.11.0->tf-models-official) (0.4.0)\n",
      "Requirement already satisfied: astunparse>=1.6.0 in ./mlproject/lib/python3.9/site-packages (from tensorflow~=2.11.0->tf-models-official) (1.6.3)\n",
      "Requirement already satisfied: termcolor>=1.1.0 in ./mlproject/lib/python3.9/site-packages (from tensorflow~=2.11.0->tf-models-official) (2.1.1)\n",
      "Requirement already satisfied: typing-extensions>=3.6.6 in ./mlproject/lib/python3.9/site-packages (from tensorflow~=2.11.0->tf-models-official) (4.4.0)\n",
      "Requirement already satisfied: opt-einsum>=2.3.2 in ./mlproject/lib/python3.9/site-packages (from tensorflow~=2.11.0->tf-models-official) (3.3.0)\n",
      "Requirement already satisfied: tensorflow-estimator<2.12,>=2.11.0 in ./mlproject/lib/python3.9/site-packages (from tensorflow~=2.11.0->tf-models-official) (2.11.0)\n",
      "Requirement already satisfied: tensorboard<2.12,>=2.11 in ./mlproject/lib/python3.9/site-packages (from tensorflow~=2.11.0->tf-models-official) (2.11.0)\n",
      "Requirement already satisfied: google-pasta>=0.1.1 in ./mlproject/lib/python3.9/site-packages (from tensorflow~=2.11.0->tf-models-official) (0.2.0)\n",
      "Collecting dm-tree~=0.1.1\n",
      "  Using cached dm_tree-0.1.7-cp39-cp39-macosx_10_9_x86_64.whl (109 kB)\n",
      "Requirement already satisfied: contourpy>=1.0.1 in ./mlproject/lib/python3.9/site-packages (from matplotlib->tf-models-official) (1.0.6)\n",
      "Requirement already satisfied: pyparsing>=2.2.1 in ./mlproject/lib/python3.9/site-packages (from matplotlib->tf-models-official) (3.0.9)\n"
     ]
    },
    {
     "name": "stdout",
     "output_type": "stream",
     "text": [
      "Requirement already satisfied: cycler>=0.10 in ./mlproject/lib/python3.9/site-packages (from matplotlib->tf-models-official) (0.11.0)\n",
      "Requirement already satisfied: kiwisolver>=1.0.1 in ./mlproject/lib/python3.9/site-packages (from matplotlib->tf-models-official) (1.4.4)\n",
      "Requirement already satisfied: fonttools>=4.22.0 in ./mlproject/lib/python3.9/site-packages (from matplotlib->tf-models-official) (4.38.0)\n",
      "Requirement already satisfied: pyasn1>=0.1.7 in ./mlproject/lib/python3.9/site-packages (from oauth2client->tf-models-official) (0.4.8)\n",
      "Requirement already satisfied: rsa>=3.1.4 in ./mlproject/lib/python3.9/site-packages (from oauth2client->tf-models-official) (4.9)\n",
      "Requirement already satisfied: pyasn1-modules>=0.0.5 in ./mlproject/lib/python3.9/site-packages (from oauth2client->tf-models-official) (0.2.8)\n",
      "Requirement already satisfied: lxml in ./mlproject/lib/python3.9/site-packages (from sacrebleu->tf-models-official) (4.9.1)\n",
      "Collecting regex\n",
      "  Downloading regex-2022.10.31-cp39-cp39-macosx_10_9_x86_64.whl (293 kB)\n",
      "\u001b[2K     \u001b[90m━━━━━━━━━━━━━━━━━━━━━━━━━━━━━━━━━━━━━\u001b[0m \u001b[32m293.9/293.9 kB\u001b[0m \u001b[31m474.9 kB/s\u001b[0m eta \u001b[36m0:00:00\u001b[0m00:01\u001b[0m00:01\u001b[0m\n",
      "\u001b[?25hCollecting tabulate>=0.8.9\n",
      "  Downloading tabulate-0.9.0-py3-none-any.whl (35 kB)\n",
      "Collecting portalocker\n",
      "  Using cached portalocker-2.6.0-py2.py3-none-any.whl (15 kB)\n",
      "Collecting colorama\n",
      "  Downloading colorama-0.4.6-py2.py3-none-any.whl (25 kB)\n",
      "Collecting scikit-learn>=0.21.3\n",
      "  Downloading scikit_learn-1.1.3-cp39-cp39-macosx_10_9_x86_64.whl (8.7 MB)\n",
      "\u001b[2K     \u001b[90m━━━━━━━━━━━━━━━━━━━━━━━━━━━━━━━━━━━━━━━━\u001b[0m \u001b[32m8.7/8.7 MB\u001b[0m \u001b[31m354.2 kB/s\u001b[0m eta \u001b[36m0:00:00\u001b[0m00:01\u001b[0m00:01\u001b[0m\n",
      "\u001b[?25hCollecting typeguard>=2.7\n",
      "  Using cached typeguard-2.13.3-py3-none-any.whl (17 kB)\n",
      "Collecting etils[epath]\n",
      "  Using cached etils-0.9.0-py3-none-any.whl (140 kB)\n",
      "Collecting tensorflow-metadata\n",
      "  Using cached tensorflow_metadata-1.11.0-py3-none-any.whl (52 kB)\n",
      "Collecting dill\n",
      "  Downloading dill-0.3.6-py3-none-any.whl (110 kB)\n",
      "\u001b[2K     \u001b[90m━━━━━━━━━━━━━━━━━━━━━━━━━━━━━━━━━━━━━\u001b[0m \u001b[32m110.5/110.5 kB\u001b[0m \u001b[31m871.5 kB/s\u001b[0m eta \u001b[36m0:00:00\u001b[0ma \u001b[36m0:00:01\u001b[0m\n",
      "\u001b[?25hCollecting toml\n",
      "  Downloading toml-0.10.2-py2.py3-none-any.whl (16 kB)\n",
      "Collecting promise\n",
      "  Using cached promise-2.3-py3-none-any.whl\n",
      "Requirement already satisfied: wheel<1.0,>=0.23.0 in ./mlproject/lib/python3.9/site-packages (from astunparse>=1.6.0->tensorflow~=2.11.0->tf-models-official) (0.38.4)\n",
      "Collecting googleapis-common-protos<2.0dev,>=1.56.2\n",
      "  Using cached googleapis_common_protos-1.57.0-py2.py3-none-any.whl (217 kB)\n",
      "Requirement already satisfied: cachetools<6.0,>=2.0.0 in ./mlproject/lib/python3.9/site-packages (from google-auth<3.0.0dev,>=1.19.0->google-api-python-client>=1.6.7->tf-models-official) (5.2.0)\n",
      "Requirement already satisfied: idna<4,>=2.5 in ./mlproject/lib/python3.9/site-packages (from requests->kaggle>=1.3.9->tf-models-official) (3.4)\n",
      "Requirement already satisfied: charset-normalizer<3,>=2 in ./mlproject/lib/python3.9/site-packages (from requests->kaggle>=1.3.9->tf-models-official) (2.1.1)\n",
      "Collecting joblib>=1.0.0\n",
      "  Downloading joblib-1.2.0-py3-none-any.whl (297 kB)\n",
      "\u001b[2K     \u001b[90m━━━━━━━━━━━━━━━━━━━━━━━━━━━━━━━━━━━━━\u001b[0m \u001b[32m298.0/298.0 kB\u001b[0m \u001b[31m627.0 kB/s\u001b[0m eta \u001b[36m0:00:00\u001b[0m00:01\u001b[0m00:01\u001b[0m\n",
      "\u001b[?25hCollecting threadpoolctl>=2.0.0\n",
      "  Downloading threadpoolctl-3.1.0-py3-none-any.whl (14 kB)\n",
      "Requirement already satisfied: tensorboard-data-server<0.7.0,>=0.6.0 in ./mlproject/lib/python3.9/site-packages (from tensorboard<2.12,>=2.11->tensorflow~=2.11.0->tf-models-official) (0.6.1)\n",
      "Requirement already satisfied: tensorboard-plugin-wit>=1.6.0 in ./mlproject/lib/python3.9/site-packages (from tensorboard<2.12,>=2.11->tensorflow~=2.11.0->tf-models-official) (1.8.1)\n",
      "Requirement already satisfied: werkzeug>=1.0.1 in ./mlproject/lib/python3.9/site-packages (from tensorboard<2.12,>=2.11->tensorflow~=2.11.0->tf-models-official) (2.2.2)\n",
      "Requirement already satisfied: markdown>=2.6.8 in ./mlproject/lib/python3.9/site-packages (from tensorboard<2.12,>=2.11->tensorflow~=2.11.0->tf-models-official) (3.4.1)\n",
      "Requirement already satisfied: google-auth-oauthlib<0.5,>=0.4.1 in ./mlproject/lib/python3.9/site-packages (from tensorboard<2.12,>=2.11->tensorflow~=2.11.0->tf-models-official) (0.4.6)\n",
      "Requirement already satisfied: zipp in ./mlproject/lib/python3.9/site-packages (from etils[epath]->tensorflow-datasets->tf-models-official) (3.10.0)\n",
      "Collecting importlib_resources\n",
      "  Using cached importlib_resources-5.10.0-py3-none-any.whl (34 kB)\n",
      "Collecting text-unidecode>=1.3\n",
      "  Downloading text_unidecode-1.3-py2.py3-none-any.whl (78 kB)\n",
      "\u001b[2K     \u001b[90m━━━━━━━━━━━━━━━━━━━━━━━━━━━━━━━━━━━━━━━━\u001b[0m \u001b[32m78.2/78.2 kB\u001b[0m \u001b[31m1.3 MB/s\u001b[0m eta \u001b[36m0:00:00\u001b[0m-:--:--\u001b[0m\n",
      "\u001b[?25hRequirement already satisfied: requests-oauthlib>=0.7.0 in ./mlproject/lib/python3.9/site-packages (from google-auth-oauthlib<0.5,>=0.4.1->tensorboard<2.12,>=2.11->tensorflow~=2.11.0->tf-models-official) (1.3.1)\n",
      "Requirement already satisfied: importlib-metadata>=4.4 in ./mlproject/lib/python3.9/site-packages (from markdown>=2.6.8->tensorboard<2.12,>=2.11->tensorflow~=2.11.0->tf-models-official) (5.0.0)\n",
      "Requirement already satisfied: MarkupSafe>=2.1.1 in ./mlproject/lib/python3.9/site-packages (from werkzeug>=1.0.1->tensorboard<2.12,>=2.11->tensorflow~=2.11.0->tf-models-official) (2.1.1)\n",
      "Requirement already satisfied: oauthlib>=3.0.0 in ./mlproject/lib/python3.9/site-packages (from requests-oauthlib>=0.7.0->google-auth-oauthlib<0.5,>=0.4.1->tensorboard<2.12,>=2.11->tensorflow~=2.11.0->tf-models-official) (3.2.2)\n",
      "Installing collected packages: text-unidecode, sentencepiece, py-cpuinfo, gin-config, dm-tree, uritemplate, typeguard, tqdm, toml, threadpoolctl, tf-slim, tensorflow-model-optimization, tensorflow-hub, tabulate, scipy, regex, pyyaml, python-slugify, promise, portalocker, opencv-python-headless, joblib, importlib_resources, immutabledict, httplib2, googleapis-common-protos, etils, dill, colorama, tensorflow-metadata, tensorflow-addons, scikit-learn, sacrebleu, oauth2client, kaggle, seqeval, pycocotools, google-auth-httplib2, google-api-core, tensorflow-datasets, google-api-python-client, tensorflow-text, tf-models-official\n",
      "Successfully installed colorama-0.4.6 dill-0.3.6 dm-tree-0.1.7 etils-0.9.0 gin-config-0.5.0 google-api-core-2.10.2 google-api-python-client-2.66.0 google-auth-httplib2-0.1.0 googleapis-common-protos-1.57.0 httplib2-0.21.0 immutabledict-2.2.3 importlib_resources-5.10.0 joblib-1.2.0 kaggle-1.5.12 oauth2client-4.1.3 opencv-python-headless-4.5.2.52 portalocker-2.6.0 promise-2.3 py-cpuinfo-9.0.0 pycocotools-2.0.6 python-slugify-7.0.0 pyyaml-5.4.1 regex-2022.10.31 sacrebleu-2.3.1 scikit-learn-1.1.3 scipy-1.9.3 sentencepiece-0.1.97 seqeval-1.2.2 tabulate-0.9.0 tensorflow-addons-0.18.0 tensorflow-datasets-4.7.0 tensorflow-hub-0.12.0 tensorflow-metadata-1.11.0 tensorflow-model-optimization-0.7.3 tensorflow-text-2.11.0 text-unidecode-1.3 tf-models-official-2.11.0 tf-slim-1.1.0 threadpoolctl-3.1.0 toml-0.10.2 tqdm-4.64.1 typeguard-2.13.3 uritemplate-4.1.1\n"
     ]
    }
   ],
   "source": [
    "!pip install tf-models-official --upgrade"
   ]
  },
  {
   "cell_type": "code",
   "execution_count": 12,
   "metadata": {
    "collapsed": true
   },
   "outputs": [
    {
     "name": "stdout",
     "output_type": "stream",
     "text": [
      "Found existing installation: protobuf 3.19.6\n",
      "Uninstalling protobuf-3.19.6:\n",
      "  Successfully uninstalled protobuf-3.19.6\n",
      "Found existing installation: matplotlib 3.2.0\n",
      "Uninstalling matplotlib-3.2.0:\n",
      "  Successfully uninstalled matplotlib-3.2.0\n",
      "Collecting protobuf\n",
      "  Using cached protobuf-4.21.9-cp37-abi3-macosx_10_9_universal2.whl (483 kB)\n",
      "Collecting matplotlib==3.2\n",
      "  Using cached matplotlib-3.2.0-cp39-cp39-macosx_10_9_x86_64.whl\n",
      "Requirement already satisfied: kiwisolver>=1.0.1 in /Users/shrestho12/opt/anaconda3/lib/python3.9/site-packages (from matplotlib==3.2) (1.3.2)\n",
      "Requirement already satisfied: python-dateutil>=2.1 in /Users/shrestho12/opt/anaconda3/lib/python3.9/site-packages (from matplotlib==3.2) (2.8.2)\n",
      "Requirement already satisfied: cycler>=0.10 in /Users/shrestho12/opt/anaconda3/lib/python3.9/site-packages (from matplotlib==3.2) (0.11.0)\n",
      "Requirement already satisfied: pyparsing!=2.0.4,!=2.1.2,!=2.1.6,>=2.0.1 in /Users/shrestho12/opt/anaconda3/lib/python3.9/site-packages (from matplotlib==3.2) (2.4.7)\n",
      "Requirement already satisfied: numpy>=1.11 in /Users/shrestho12/opt/anaconda3/lib/python3.9/site-packages (from matplotlib==3.2) (1.21.5)\n",
      "Requirement already satisfied: six>=1.5 in /Users/shrestho12/opt/anaconda3/lib/python3.9/site-packages (from python-dateutil>=2.1->matplotlib==3.2) (1.16.0)\n",
      "Installing collected packages: protobuf, matplotlib\n",
      "\u001b[31mERROR: pip's dependency resolver does not currently take into account all the packages that are installed. This behaviour is the source of the following dependency conflicts.\n",
      "tf-models-official 2.10.1 requires tensorflow~=2.10.0, but you have tensorflow 2.11.0 which is incompatible.\n",
      "tensorflow 2.11.0 requires protobuf<3.20,>=3.9.2, but you have protobuf 4.21.9 which is incompatible.\n",
      "tensorflow-text 2.10.0 requires tensorflow<2.11,>=2.10.0; platform_machine != \"arm64\" or platform_system != \"Darwin\", but you have tensorflow 2.11.0 which is incompatible.\n",
      "tensorflow-metadata 1.11.0 requires protobuf<4,>=3.13, but you have protobuf 4.21.9 which is incompatible.\n",
      "tensorboard 2.11.0 requires protobuf<4,>=3.9.2, but you have protobuf 4.21.9 which is incompatible.\n",
      "apache-beam 2.43.0 requires protobuf<4,>3.12.2, but you have protobuf 4.21.9 which is incompatible.\u001b[0m\u001b[31m\n",
      "\u001b[0mSuccessfully installed matplotlib-3.2.0 protobuf-4.21.9\n"
     ]
    }
   ],
   "source": [
    "!pip uninstall protobuf matplotlib -y\n",
    "!pip install protobuf matplotlib==3.2"
   ]
  },
  {
   "cell_type": "code",
   "execution_count": 3,
   "metadata": {},
   "outputs": [
    {
     "name": "stdout",
     "output_type": "stream",
     "text": [
      "Requirement already satisfied: tensorflow-object-detection-api in ./mlproject/lib/python3.9/site-packages (0.1.1)\n",
      "Requirement already satisfied: jupyter in ./mlproject/lib/python3.9/site-packages (from tensorflow-object-detection-api) (1.0.0)\n",
      "Requirement already satisfied: wheel in ./mlproject/lib/python3.9/site-packages (from tensorflow-object-detection-api) (0.38.4)\n",
      "Requirement already satisfied: Pillow>=1.0 in ./mlproject/lib/python3.9/site-packages (from tensorflow-object-detection-api) (9.3.0)\n",
      "Requirement already satisfied: lxml in ./mlproject/lib/python3.9/site-packages (from tensorflow-object-detection-api) (4.9.1)\n",
      "Requirement already satisfied: twine in ./mlproject/lib/python3.9/site-packages (from tensorflow-object-detection-api) (4.0.1)\n",
      "Requirement already satisfied: Matplotlib>=2.1 in ./mlproject/lib/python3.9/site-packages (from tensorflow-object-detection-api) (3.6.2)\n",
      "Requirement already satisfied: contextlib2 in ./mlproject/lib/python3.9/site-packages (from tensorflow-object-detection-api) (21.6.0)\n",
      "Requirement already satisfied: Protobuf in ./mlproject/lib/python3.9/site-packages (from tensorflow-object-detection-api) (3.19.6)\n",
      "Requirement already satisfied: tensorflow in ./mlproject/lib/python3.9/site-packages (from tensorflow-object-detection-api) (2.11.0)\n",
      "Requirement already satisfied: Cython>=0.28.1 in ./mlproject/lib/python3.9/site-packages (from tensorflow-object-detection-api) (0.29.32)\n",
      "Requirement already satisfied: pyparsing>=2.2.1 in ./mlproject/lib/python3.9/site-packages (from Matplotlib>=2.1->tensorflow-object-detection-api) (3.0.9)\n",
      "Requirement already satisfied: packaging>=20.0 in ./mlproject/lib/python3.9/site-packages (from Matplotlib>=2.1->tensorflow-object-detection-api) (21.3)\n",
      "Requirement already satisfied: python-dateutil>=2.7 in ./mlproject/lib/python3.9/site-packages (from Matplotlib>=2.1->tensorflow-object-detection-api) (2.8.2)\n",
      "Requirement already satisfied: contourpy>=1.0.1 in ./mlproject/lib/python3.9/site-packages (from Matplotlib>=2.1->tensorflow-object-detection-api) (1.0.6)\n",
      "Requirement already satisfied: numpy>=1.19 in ./mlproject/lib/python3.9/site-packages (from Matplotlib>=2.1->tensorflow-object-detection-api) (1.23.4)\n",
      "Requirement already satisfied: cycler>=0.10 in ./mlproject/lib/python3.9/site-packages (from Matplotlib>=2.1->tensorflow-object-detection-api) (0.11.0)\n",
      "Requirement already satisfied: fonttools>=4.22.0 in ./mlproject/lib/python3.9/site-packages (from Matplotlib>=2.1->tensorflow-object-detection-api) (4.38.0)\n",
      "Requirement already satisfied: kiwisolver>=1.0.1 in ./mlproject/lib/python3.9/site-packages (from Matplotlib>=2.1->tensorflow-object-detection-api) (1.4.4)\n",
      "Requirement already satisfied: ipywidgets in ./mlproject/lib/python3.9/site-packages (from jupyter->tensorflow-object-detection-api) (8.0.2)\n",
      "Requirement already satisfied: nbconvert in ./mlproject/lib/python3.9/site-packages (from jupyter->tensorflow-object-detection-api) (7.2.5)\n",
      "Requirement already satisfied: notebook in ./mlproject/lib/python3.9/site-packages (from jupyter->tensorflow-object-detection-api) (6.5.2)\n",
      "Requirement already satisfied: qtconsole in ./mlproject/lib/python3.9/site-packages (from jupyter->tensorflow-object-detection-api) (5.4.0)\n",
      "Requirement already satisfied: jupyter-console in ./mlproject/lib/python3.9/site-packages (from jupyter->tensorflow-object-detection-api) (6.4.4)\n",
      "Requirement already satisfied: ipykernel in ./mlproject/lib/python3.9/site-packages (from jupyter->tensorflow-object-detection-api) (6.17.1)\n",
      "Requirement already satisfied: keras<2.12,>=2.11.0 in ./mlproject/lib/python3.9/site-packages (from tensorflow->tensorflow-object-detection-api) (2.11.0)\n",
      "Requirement already satisfied: tensorflow-io-gcs-filesystem>=0.23.1 in ./mlproject/lib/python3.9/site-packages (from tensorflow->tensorflow-object-detection-api) (0.27.0)\n",
      "Requirement already satisfied: absl-py>=1.0.0 in ./mlproject/lib/python3.9/site-packages (from tensorflow->tensorflow-object-detection-api) (1.3.0)\n",
      "Requirement already satisfied: gast<=0.4.0,>=0.2.1 in ./mlproject/lib/python3.9/site-packages (from tensorflow->tensorflow-object-detection-api) (0.4.0)\n",
      "Requirement already satisfied: google-pasta>=0.1.1 in ./mlproject/lib/python3.9/site-packages (from tensorflow->tensorflow-object-detection-api) (0.2.0)\n",
      "Requirement already satisfied: termcolor>=1.1.0 in ./mlproject/lib/python3.9/site-packages (from tensorflow->tensorflow-object-detection-api) (2.1.1)\n",
      "Requirement already satisfied: opt-einsum>=2.3.2 in ./mlproject/lib/python3.9/site-packages (from tensorflow->tensorflow-object-detection-api) (3.3.0)\n",
      "Requirement already satisfied: six>=1.12.0 in ./mlproject/lib/python3.9/site-packages (from tensorflow->tensorflow-object-detection-api) (1.16.0)\n",
      "Requirement already satisfied: h5py>=2.9.0 in ./mlproject/lib/python3.9/site-packages (from tensorflow->tensorflow-object-detection-api) (3.7.0)\n",
      "Requirement already satisfied: tensorflow-estimator<2.12,>=2.11.0 in ./mlproject/lib/python3.9/site-packages (from tensorflow->tensorflow-object-detection-api) (2.11.0)\n",
      "Requirement already satisfied: flatbuffers>=2.0 in ./mlproject/lib/python3.9/site-packages (from tensorflow->tensorflow-object-detection-api) (22.10.26)\n",
      "Requirement already satisfied: wrapt>=1.11.0 in ./mlproject/lib/python3.9/site-packages (from tensorflow->tensorflow-object-detection-api) (1.14.1)\n",
      "Requirement already satisfied: tensorboard<2.12,>=2.11 in ./mlproject/lib/python3.9/site-packages (from tensorflow->tensorflow-object-detection-api) (2.11.0)\n",
      "Requirement already satisfied: libclang>=13.0.0 in ./mlproject/lib/python3.9/site-packages (from tensorflow->tensorflow-object-detection-api) (14.0.6)\n",
      "Requirement already satisfied: grpcio<2.0,>=1.24.3 in ./mlproject/lib/python3.9/site-packages (from tensorflow->tensorflow-object-detection-api) (1.50.0)\n",
      "Requirement already satisfied: setuptools in ./mlproject/lib/python3.9/site-packages (from tensorflow->tensorflow-object-detection-api) (58.1.0)\n",
      "Requirement already satisfied: typing-extensions>=3.6.6 in ./mlproject/lib/python3.9/site-packages (from tensorflow->tensorflow-object-detection-api) (4.4.0)\n",
      "Requirement already satisfied: astunparse>=1.6.0 in ./mlproject/lib/python3.9/site-packages (from tensorflow->tensorflow-object-detection-api) (1.6.3)\n",
      "Requirement already satisfied: urllib3>=1.26.0 in ./mlproject/lib/python3.9/site-packages (from twine->tensorflow-object-detection-api) (1.26.12)\n",
      "Requirement already satisfied: requests-toolbelt!=0.9.0,>=0.8.0 in ./mlproject/lib/python3.9/site-packages (from twine->tensorflow-object-detection-api) (0.10.1)\n",
      "Requirement already satisfied: keyring>=15.1 in ./mlproject/lib/python3.9/site-packages (from twine->tensorflow-object-detection-api) (23.11.0)\n",
      "Requirement already satisfied: rfc3986>=1.4.0 in ./mlproject/lib/python3.9/site-packages (from twine->tensorflow-object-detection-api) (2.0.0)\n",
      "Requirement already satisfied: pkginfo>=1.8.1 in ./mlproject/lib/python3.9/site-packages (from twine->tensorflow-object-detection-api) (1.8.3)\n",
      "Requirement already satisfied: rich>=12.0.0 in ./mlproject/lib/python3.9/site-packages (from twine->tensorflow-object-detection-api) (12.6.0)\n",
      "Requirement already satisfied: readme-renderer>=35.0 in ./mlproject/lib/python3.9/site-packages (from twine->tensorflow-object-detection-api) (37.3)\n",
      "Requirement already satisfied: importlib-metadata>=3.6 in ./mlproject/lib/python3.9/site-packages (from twine->tensorflow-object-detection-api) (5.0.0)\n",
      "Requirement already satisfied: requests>=2.20 in ./mlproject/lib/python3.9/site-packages (from twine->tensorflow-object-detection-api) (2.28.1)\n",
      "Requirement already satisfied: zipp>=0.5 in ./mlproject/lib/python3.9/site-packages (from importlib-metadata>=3.6->twine->tensorflow-object-detection-api) (3.10.0)\n",
      "Requirement already satisfied: jaraco.classes in ./mlproject/lib/python3.9/site-packages (from keyring>=15.1->twine->tensorflow-object-detection-api) (3.2.3)\n",
      "Requirement already satisfied: docutils>=0.13.1 in ./mlproject/lib/python3.9/site-packages (from readme-renderer>=35.0->twine->tensorflow-object-detection-api) (0.19)\n",
      "Requirement already satisfied: Pygments>=2.5.1 in ./mlproject/lib/python3.9/site-packages (from readme-renderer>=35.0->twine->tensorflow-object-detection-api) (2.13.0)\n",
      "Requirement already satisfied: bleach>=2.1.0 in ./mlproject/lib/python3.9/site-packages (from readme-renderer>=35.0->twine->tensorflow-object-detection-api) (5.0.1)\n",
      "Requirement already satisfied: idna<4,>=2.5 in ./mlproject/lib/python3.9/site-packages (from requests>=2.20->twine->tensorflow-object-detection-api) (3.4)\n",
      "Requirement already satisfied: certifi>=2017.4.17 in ./mlproject/lib/python3.9/site-packages (from requests>=2.20->twine->tensorflow-object-detection-api) (2022.9.24)\n",
      "Requirement already satisfied: charset-normalizer<3,>=2 in ./mlproject/lib/python3.9/site-packages (from requests>=2.20->twine->tensorflow-object-detection-api) (2.1.1)\n",
      "Requirement already satisfied: commonmark<0.10.0,>=0.9.0 in ./mlproject/lib/python3.9/site-packages (from rich>=12.0.0->twine->tensorflow-object-detection-api) (0.9.1)\n"
     ]
    },
    {
     "name": "stdout",
     "output_type": "stream",
     "text": [
      "Requirement already satisfied: tensorboard-plugin-wit>=1.6.0 in ./mlproject/lib/python3.9/site-packages (from tensorboard<2.12,>=2.11->tensorflow->tensorflow-object-detection-api) (1.8.1)\n",
      "Requirement already satisfied: google-auth<3,>=1.6.3 in ./mlproject/lib/python3.9/site-packages (from tensorboard<2.12,>=2.11->tensorflow->tensorflow-object-detection-api) (2.14.1)\n",
      "Requirement already satisfied: markdown>=2.6.8 in ./mlproject/lib/python3.9/site-packages (from tensorboard<2.12,>=2.11->tensorflow->tensorflow-object-detection-api) (3.4.1)\n",
      "Requirement already satisfied: tensorboard-data-server<0.7.0,>=0.6.0 in ./mlproject/lib/python3.9/site-packages (from tensorboard<2.12,>=2.11->tensorflow->tensorflow-object-detection-api) (0.6.1)\n",
      "Requirement already satisfied: werkzeug>=1.0.1 in ./mlproject/lib/python3.9/site-packages (from tensorboard<2.12,>=2.11->tensorflow->tensorflow-object-detection-api) (2.2.2)\n",
      "Requirement already satisfied: google-auth-oauthlib<0.5,>=0.4.1 in ./mlproject/lib/python3.9/site-packages (from tensorboard<2.12,>=2.11->tensorflow->tensorflow-object-detection-api) (0.4.6)\n",
      "Requirement already satisfied: debugpy>=1.0 in ./mlproject/lib/python3.9/site-packages (from ipykernel->jupyter->tensorflow-object-detection-api) (1.6.3)\n",
      "Requirement already satisfied: ipython>=7.23.1 in ./mlproject/lib/python3.9/site-packages (from ipykernel->jupyter->tensorflow-object-detection-api) (8.6.0)\n",
      "Requirement already satisfied: nest-asyncio in ./mlproject/lib/python3.9/site-packages (from ipykernel->jupyter->tensorflow-object-detection-api) (1.5.6)\n",
      "Requirement already satisfied: pyzmq>=17 in ./mlproject/lib/python3.9/site-packages (from ipykernel->jupyter->tensorflow-object-detection-api) (24.0.1)\n",
      "Requirement already satisfied: tornado>=6.1 in ./mlproject/lib/python3.9/site-packages (from ipykernel->jupyter->tensorflow-object-detection-api) (6.2)\n",
      "Requirement already satisfied: appnope in ./mlproject/lib/python3.9/site-packages (from ipykernel->jupyter->tensorflow-object-detection-api) (0.1.3)\n",
      "Requirement already satisfied: jupyter-client>=6.1.12 in ./mlproject/lib/python3.9/site-packages (from ipykernel->jupyter->tensorflow-object-detection-api) (7.4.4)\n",
      "Requirement already satisfied: psutil in ./mlproject/lib/python3.9/site-packages (from ipykernel->jupyter->tensorflow-object-detection-api) (5.9.4)\n",
      "Requirement already satisfied: matplotlib-inline>=0.1 in ./mlproject/lib/python3.9/site-packages (from ipykernel->jupyter->tensorflow-object-detection-api) (0.1.6)\n",
      "Requirement already satisfied: traitlets>=5.1.0 in ./mlproject/lib/python3.9/site-packages (from ipykernel->jupyter->tensorflow-object-detection-api) (5.5.0)\n",
      "Requirement already satisfied: jupyterlab-widgets~=3.0 in ./mlproject/lib/python3.9/site-packages (from ipywidgets->jupyter->tensorflow-object-detection-api) (3.0.3)\n",
      "Requirement already satisfied: widgetsnbextension~=4.0 in ./mlproject/lib/python3.9/site-packages (from ipywidgets->jupyter->tensorflow-object-detection-api) (4.0.3)\n",
      "Requirement already satisfied: prompt-toolkit!=3.0.0,!=3.0.1,<3.1.0,>=2.0.0 in ./mlproject/lib/python3.9/site-packages (from jupyter-console->jupyter->tensorflow-object-detection-api) (3.0.32)\n",
      "Requirement already satisfied: tinycss2 in ./mlproject/lib/python3.9/site-packages (from nbconvert->jupyter->tensorflow-object-detection-api) (1.2.1)\n",
      "Requirement already satisfied: jupyter-core>=4.7 in ./mlproject/lib/python3.9/site-packages (from nbconvert->jupyter->tensorflow-object-detection-api) (5.0.0)\n",
      "Requirement already satisfied: nbformat>=5.1 in ./mlproject/lib/python3.9/site-packages (from nbconvert->jupyter->tensorflow-object-detection-api) (5.7.0)\n",
      "Requirement already satisfied: jupyterlab-pygments in ./mlproject/lib/python3.9/site-packages (from nbconvert->jupyter->tensorflow-object-detection-api) (0.2.2)\n",
      "Requirement already satisfied: mistune<3,>=2.0.3 in ./mlproject/lib/python3.9/site-packages (from nbconvert->jupyter->tensorflow-object-detection-api) (2.0.4)\n",
      "Requirement already satisfied: markupsafe>=2.0 in ./mlproject/lib/python3.9/site-packages (from nbconvert->jupyter->tensorflow-object-detection-api) (2.1.1)\n",
      "Requirement already satisfied: defusedxml in ./mlproject/lib/python3.9/site-packages (from nbconvert->jupyter->tensorflow-object-detection-api) (0.7.1)\n",
      "Requirement already satisfied: pandocfilters>=1.4.1 in ./mlproject/lib/python3.9/site-packages (from nbconvert->jupyter->tensorflow-object-detection-api) (1.5.0)\n",
      "Requirement already satisfied: jinja2>=3.0 in ./mlproject/lib/python3.9/site-packages (from nbconvert->jupyter->tensorflow-object-detection-api) (3.1.2)\n",
      "Requirement already satisfied: beautifulsoup4 in ./mlproject/lib/python3.9/site-packages (from nbconvert->jupyter->tensorflow-object-detection-api) (4.11.1)\n",
      "Requirement already satisfied: nbclient>=0.5.0 in ./mlproject/lib/python3.9/site-packages (from nbconvert->jupyter->tensorflow-object-detection-api) (0.7.0)\n",
      "Requirement already satisfied: ipython-genutils in ./mlproject/lib/python3.9/site-packages (from notebook->jupyter->tensorflow-object-detection-api) (0.2.0)\n",
      "Requirement already satisfied: nbclassic>=0.4.7 in ./mlproject/lib/python3.9/site-packages (from notebook->jupyter->tensorflow-object-detection-api) (0.4.8)\n",
      "Requirement already satisfied: prometheus-client in ./mlproject/lib/python3.9/site-packages (from notebook->jupyter->tensorflow-object-detection-api) (0.15.0)\n",
      "Requirement already satisfied: terminado>=0.8.3 in ./mlproject/lib/python3.9/site-packages (from notebook->jupyter->tensorflow-object-detection-api) (0.17.0)\n",
      "Requirement already satisfied: argon2-cffi in ./mlproject/lib/python3.9/site-packages (from notebook->jupyter->tensorflow-object-detection-api) (21.3.0)\n",
      "Requirement already satisfied: Send2Trash>=1.8.0 in ./mlproject/lib/python3.9/site-packages (from notebook->jupyter->tensorflow-object-detection-api) (1.8.0)\n",
      "Requirement already satisfied: qtpy>=2.0.1 in ./mlproject/lib/python3.9/site-packages (from qtconsole->jupyter->tensorflow-object-detection-api) (2.3.0)\n",
      "Requirement already satisfied: webencodings in ./mlproject/lib/python3.9/site-packages (from bleach>=2.1.0->readme-renderer>=35.0->twine->tensorflow-object-detection-api) (0.5.1)\n",
      "Requirement already satisfied: rsa<5,>=3.1.4 in ./mlproject/lib/python3.9/site-packages (from google-auth<3,>=1.6.3->tensorboard<2.12,>=2.11->tensorflow->tensorflow-object-detection-api) (4.9)\n",
      "Requirement already satisfied: cachetools<6.0,>=2.0.0 in ./mlproject/lib/python3.9/site-packages (from google-auth<3,>=1.6.3->tensorboard<2.12,>=2.11->tensorflow->tensorflow-object-detection-api) (5.2.0)\n",
      "Requirement already satisfied: pyasn1-modules>=0.2.1 in ./mlproject/lib/python3.9/site-packages (from google-auth<3,>=1.6.3->tensorboard<2.12,>=2.11->tensorflow->tensorflow-object-detection-api) (0.2.8)\n",
      "Requirement already satisfied: requests-oauthlib>=0.7.0 in ./mlproject/lib/python3.9/site-packages (from google-auth-oauthlib<0.5,>=0.4.1->tensorboard<2.12,>=2.11->tensorflow->tensorflow-object-detection-api) (1.3.1)\n",
      "Requirement already satisfied: pickleshare in ./mlproject/lib/python3.9/site-packages (from ipython>=7.23.1->ipykernel->jupyter->tensorflow-object-detection-api) (0.7.5)\n",
      "Requirement already satisfied: jedi>=0.16 in ./mlproject/lib/python3.9/site-packages (from ipython>=7.23.1->ipykernel->jupyter->tensorflow-object-detection-api) (0.18.1)\n",
      "Requirement already satisfied: decorator in ./mlproject/lib/python3.9/site-packages (from ipython>=7.23.1->ipykernel->jupyter->tensorflow-object-detection-api) (5.1.1)\n",
      "Requirement already satisfied: stack-data in ./mlproject/lib/python3.9/site-packages (from ipython>=7.23.1->ipykernel->jupyter->tensorflow-object-detection-api) (0.6.0)\n",
      "Requirement already satisfied: pexpect>4.3 in ./mlproject/lib/python3.9/site-packages (from ipython>=7.23.1->ipykernel->jupyter->tensorflow-object-detection-api) (4.8.0)\n",
      "Requirement already satisfied: backcall in ./mlproject/lib/python3.9/site-packages (from ipython>=7.23.1->ipykernel->jupyter->tensorflow-object-detection-api) (0.2.0)\n",
      "Requirement already satisfied: entrypoints in ./mlproject/lib/python3.9/site-packages (from jupyter-client>=6.1.12->ipykernel->jupyter->tensorflow-object-detection-api) (0.4)\n",
      "Requirement already satisfied: platformdirs in ./mlproject/lib/python3.9/site-packages (from jupyter-core>=4.7->nbconvert->jupyter->tensorflow-object-detection-api) (2.5.3)\n"
     ]
    },
    {
     "name": "stdout",
     "output_type": "stream",
     "text": [
      "Requirement already satisfied: jupyter-server>=1.8 in ./mlproject/lib/python3.9/site-packages (from nbclassic>=0.4.7->notebook->jupyter->tensorflow-object-detection-api) (1.23.2)\n",
      "Requirement already satisfied: notebook-shim>=0.1.0 in ./mlproject/lib/python3.9/site-packages (from nbclassic>=0.4.7->notebook->jupyter->tensorflow-object-detection-api) (0.2.2)\n",
      "Requirement already satisfied: jsonschema>=2.6 in ./mlproject/lib/python3.9/site-packages (from nbformat>=5.1->nbconvert->jupyter->tensorflow-object-detection-api) (4.17.0)\n",
      "Requirement already satisfied: fastjsonschema in ./mlproject/lib/python3.9/site-packages (from nbformat>=5.1->nbconvert->jupyter->tensorflow-object-detection-api) (2.16.2)\n",
      "Requirement already satisfied: wcwidth in ./mlproject/lib/python3.9/site-packages (from prompt-toolkit!=3.0.0,!=3.0.1,<3.1.0,>=2.0.0->jupyter-console->jupyter->tensorflow-object-detection-api) (0.2.5)\n",
      "Requirement already satisfied: ptyprocess in ./mlproject/lib/python3.9/site-packages (from terminado>=0.8.3->notebook->jupyter->tensorflow-object-detection-api) (0.7.0)\n",
      "Requirement already satisfied: argon2-cffi-bindings in ./mlproject/lib/python3.9/site-packages (from argon2-cffi->notebook->jupyter->tensorflow-object-detection-api) (21.2.0)\n",
      "Requirement already satisfied: soupsieve>1.2 in ./mlproject/lib/python3.9/site-packages (from beautifulsoup4->nbconvert->jupyter->tensorflow-object-detection-api) (2.3.2.post1)\n",
      "Requirement already satisfied: more-itertools in ./mlproject/lib/python3.9/site-packages (from jaraco.classes->keyring>=15.1->twine->tensorflow-object-detection-api) (9.0.0)\n",
      "Requirement already satisfied: parso<0.9.0,>=0.8.0 in ./mlproject/lib/python3.9/site-packages (from jedi>=0.16->ipython>=7.23.1->ipykernel->jupyter->tensorflow-object-detection-api) (0.8.3)\n",
      "Requirement already satisfied: attrs>=17.4.0 in ./mlproject/lib/python3.9/site-packages (from jsonschema>=2.6->nbformat>=5.1->nbconvert->jupyter->tensorflow-object-detection-api) (22.1.0)\n",
      "Requirement already satisfied: pyrsistent!=0.17.0,!=0.17.1,!=0.17.2,>=0.14.0 in ./mlproject/lib/python3.9/site-packages (from jsonschema>=2.6->nbformat>=5.1->nbconvert->jupyter->tensorflow-object-detection-api) (0.19.2)\n",
      "Requirement already satisfied: websocket-client in ./mlproject/lib/python3.9/site-packages (from jupyter-server>=1.8->nbclassic>=0.4.7->notebook->jupyter->tensorflow-object-detection-api) (1.4.2)\n",
      "Requirement already satisfied: anyio<4,>=3.1.0 in ./mlproject/lib/python3.9/site-packages (from jupyter-server>=1.8->nbclassic>=0.4.7->notebook->jupyter->tensorflow-object-detection-api) (3.6.2)\n",
      "Requirement already satisfied: pyasn1<0.5.0,>=0.4.6 in ./mlproject/lib/python3.9/site-packages (from pyasn1-modules>=0.2.1->google-auth<3,>=1.6.3->tensorboard<2.12,>=2.11->tensorflow->tensorflow-object-detection-api) (0.4.8)\n",
      "Requirement already satisfied: oauthlib>=3.0.0 in ./mlproject/lib/python3.9/site-packages (from requests-oauthlib>=0.7.0->google-auth-oauthlib<0.5,>=0.4.1->tensorboard<2.12,>=2.11->tensorflow->tensorflow-object-detection-api) (3.2.2)\n",
      "Requirement already satisfied: cffi>=1.0.1 in ./mlproject/lib/python3.9/site-packages (from argon2-cffi-bindings->argon2-cffi->notebook->jupyter->tensorflow-object-detection-api) (1.15.1)\n",
      "Requirement already satisfied: executing>=1.2.0 in ./mlproject/lib/python3.9/site-packages (from stack-data->ipython>=7.23.1->ipykernel->jupyter->tensorflow-object-detection-api) (1.2.0)\n",
      "Requirement already satisfied: pure-eval in ./mlproject/lib/python3.9/site-packages (from stack-data->ipython>=7.23.1->ipykernel->jupyter->tensorflow-object-detection-api) (0.2.2)\n",
      "Requirement already satisfied: asttokens>=2.1.0 in ./mlproject/lib/python3.9/site-packages (from stack-data->ipython>=7.23.1->ipykernel->jupyter->tensorflow-object-detection-api) (2.1.0)\n",
      "Requirement already satisfied: sniffio>=1.1 in ./mlproject/lib/python3.9/site-packages (from anyio<4,>=3.1.0->jupyter-server>=1.8->nbclassic>=0.4.7->notebook->jupyter->tensorflow-object-detection-api) (1.3.0)\n",
      "Requirement already satisfied: pycparser in ./mlproject/lib/python3.9/site-packages (from cffi>=1.0.1->argon2-cffi-bindings->argon2-cffi->notebook->jupyter->tensorflow-object-detection-api) (2.21)\n"
     ]
    }
   ],
   "source": [
    "!pip install tensorflow-object-detection-api"
   ]
  },
  {
   "cell_type": "code",
   "execution_count": 4,
   "metadata": {},
   "outputs": [],
   "source": [
    "import object_detection\n"
   ]
  },
  {
   "cell_type": "code",
   "execution_count": 12,
   "metadata": {
    "scrolled": true
   },
   "outputs": [
    {
     "name": "stdout",
     "output_type": "stream",
     "text": [
      "Package                         Version\n",
      "------------------------------- -----------\n",
      "absl-py                         1.3.0\n",
      "anyio                           3.6.2\n",
      "appnope                         0.1.3\n",
      "argon2-cffi                     21.3.0\n",
      "argon2-cffi-bindings            21.2.0\n",
      "asttokens                       2.1.0\n",
      "astunparse                      1.6.3\n",
      "attrs                           22.1.0\n",
      "backcall                        0.2.0\n",
      "beautifulsoup4                  4.11.1\n",
      "bleach                          5.0.1\n",
      "cachetools                      5.2.0\n",
      "certifi                         2022.9.24\n",
      "cffi                            1.15.1\n",
      "charset-normalizer              2.1.1\n",
      "commonmark                      0.9.1\n",
      "contextlib2                     21.6.0\n",
      "contourpy                       1.0.6\n",
      "cycler                          0.11.0\n",
      "Cython                          0.29.32\n",
      "debugpy                         1.6.3\n",
      "decorator                       5.1.1\n",
      "defusedxml                      0.7.1\n",
      "docutils                        0.19\n",
      "entrypoints                     0.4\n",
      "executing                       1.2.0\n",
      "fastjsonschema                  2.16.2\n",
      "flatbuffers                     22.10.26\n",
      "fonttools                       4.38.0\n",
      "gast                            0.4.0\n",
      "google-auth                     2.14.1\n",
      "google-auth-oauthlib            0.4.6\n",
      "google-pasta                    0.2.0\n",
      "grpcio                          1.50.0\n",
      "h5py                            3.7.0\n",
      "idna                            3.4\n",
      "importlib-metadata              5.0.0\n",
      "ipykernel                       6.17.1\n",
      "ipython                         8.6.0\n",
      "ipython-genutils                0.2.0\n",
      "ipywidgets                      8.0.2\n",
      "jaraco.classes                  3.2.3\n",
      "jedi                            0.18.1\n",
      "Jinja2                          3.1.2\n",
      "jsonschema                      4.17.0\n",
      "jupyter                         1.0.0\n",
      "jupyter_client                  7.4.4\n",
      "jupyter-console                 6.4.4\n",
      "jupyter_core                    5.0.0\n",
      "jupyter-server                  1.23.2\n",
      "jupyterlab-pygments             0.2.2\n",
      "jupyterlab-widgets              3.0.3\n",
      "keras                           2.11.0\n",
      "keyring                         23.11.0\n",
      "kiwisolver                      1.4.4\n",
      "libclang                        14.0.6\n",
      "lxml                            4.9.1\n",
      "Markdown                        3.4.1\n",
      "MarkupSafe                      2.1.1\n",
      "matplotlib                      3.6.2\n",
      "matplotlib-inline               0.1.6\n",
      "mistune                         2.0.4\n",
      "more-itertools                  9.0.0\n",
      "nbclassic                       0.4.8\n",
      "nbclient                        0.7.0\n",
      "nbconvert                       7.2.5\n",
      "nbformat                        5.7.0\n",
      "nest-asyncio                    1.5.6\n",
      "notebook                        6.5.2\n",
      "notebook_shim                   0.2.2\n",
      "numpy                           1.23.4\n",
      "oauthlib                        3.2.2\n",
      "opencv-python                   4.6.0.66\n",
      "opt-einsum                      3.3.0\n",
      "packaging                       21.3\n",
      "pandocfilters                   1.5.0\n",
      "parso                           0.8.3\n",
      "pexpect                         4.8.0\n",
      "pickleshare                     0.7.5\n",
      "Pillow                          9.3.0\n",
      "pip                             22.3.1\n",
      "pkginfo                         1.8.3\n",
      "platformdirs                    2.5.3\n",
      "prometheus-client               0.15.0\n",
      "prompt-toolkit                  3.0.32\n",
      "protobuf                        3.19.6\n",
      "psutil                          5.9.4\n",
      "ptyprocess                      0.7.0\n",
      "pure-eval                       0.2.2\n",
      "pyasn1                          0.4.8\n",
      "pyasn1-modules                  0.2.8\n",
      "pycparser                       2.21\n",
      "Pygments                        2.13.0\n",
      "pyparsing                       3.0.9\n",
      "PyQt5                           5.15.7\n",
      "PyQt5-Qt5                       5.15.2\n",
      "PyQt5-sip                       12.11.0\n",
      "pyrsistent                      0.19.2\n",
      "python-dateutil                 2.8.2\n",
      "pyzmq                           24.0.1\n",
      "qtconsole                       5.4.0\n",
      "QtPy                            2.3.0\n",
      "readme-renderer                 37.3\n",
      "requests                        2.28.1\n",
      "requests-oauthlib               1.3.1\n",
      "requests-toolbelt               0.10.1\n",
      "rfc3986                         2.0.0\n",
      "rich                            12.6.0\n",
      "rsa                             4.9\n",
      "Send2Trash                      1.8.0\n",
      "setuptools                      58.1.0\n",
      "six                             1.16.0\n",
      "sniffio                         1.3.0\n",
      "soupsieve                       2.3.2.post1\n",
      "stack-data                      0.6.0\n",
      "tensorboard                     2.11.0\n",
      "tensorboard-data-server         0.6.1\n",
      "tensorboard-plugin-wit          1.8.1\n",
      "tensorflow                      2.11.0\n",
      "tensorflow-estimator            2.11.0\n",
      "tensorflow-io-gcs-filesystem    0.27.0\n",
      "tensorflow-object-detection-api 0.1.1\n",
      "termcolor                       2.1.1\n",
      "terminado                       0.17.0\n",
      "tinycss2                        1.2.1\n",
      "tornado                         6.2\n",
      "traitlets                       5.5.0\n",
      "twine                           4.0.1\n",
      "typing_extensions               4.4.0\n",
      "urllib3                         1.26.12\n",
      "wcwidth                         0.2.5\n",
      "webencodings                    0.5.1\n",
      "websocket-client                1.4.2\n",
      "Werkzeug                        2.2.2\n",
      "wheel                           0.38.4\n",
      "widgetsnbextension              4.0.3\n",
      "wrapt                           1.14.1\n",
      "zipp                            3.10.0\n"
     ]
    }
   ],
   "source": [
    "!pip list"
   ]
  },
  {
   "cell_type": "code",
   "execution_count": 9,
   "metadata": {
    "colab": {
     "base_uri": "https://localhost:8080/"
    },
    "id": "csofht2npfDE",
    "outputId": "ff5471b2-bed2-43f2-959c-327a706527b6"
   },
   "outputs": [
    {
     "name": "stdout",
     "output_type": "stream",
     "text": [
      "--2022-11-23 18:27:32--  http://download.tensorflow.org/models/object_detection/tf2/20200711/ssd_mobilenet_v2_fpnlite_320x320_coco17_tpu-8.tar.gz\n",
      "Resolving download.tensorflow.org (download.tensorflow.org)... 142.250.193.48\n",
      "Connecting to download.tensorflow.org (download.tensorflow.org)|142.250.193.48|:80... connected.\n",
      "HTTP request sent, awaiting response... 200 OK\n",
      "Length: 20515344 (20M) [application/x-tar]\n",
      "Saving to: 'ssd_mobilenet_v2_fpnlite_320x320_coco17_tpu-8.tar.gz'\n",
      "\n",
      "ssd_mobilenet_v2_fp 100%[===================>]  19.56M   898KB/s    in 27s     \n",
      "\n",
      "2022-11-23 18:28:00 (745 KB/s) - 'ssd_mobilenet_v2_fpnlite_320x320_coco17_tpu-8.tar.gz' saved [20515344/20515344]\n",
      "\n",
      "x ssd_mobilenet_v2_fpnlite_320x320_coco17_tpu-8/\n",
      "x ssd_mobilenet_v2_fpnlite_320x320_coco17_tpu-8/checkpoint/\n",
      "x ssd_mobilenet_v2_fpnlite_320x320_coco17_tpu-8/checkpoint/ckpt-0.data-00000-of-00001\n",
      "x ssd_mobilenet_v2_fpnlite_320x320_coco17_tpu-8/checkpoint/checkpoint\n",
      "x ssd_mobilenet_v2_fpnlite_320x320_coco17_tpu-8/checkpoint/ckpt-0.index\n",
      "x ssd_mobilenet_v2_fpnlite_320x320_coco17_tpu-8/pipeline.config\n",
      "x ssd_mobilenet_v2_fpnlite_320x320_coco17_tpu-8/saved_model/\n",
      "x ssd_mobilenet_v2_fpnlite_320x320_coco17_tpu-8/saved_model/saved_model.pb\n",
      "x ssd_mobilenet_v2_fpnlite_320x320_coco17_tpu-8/saved_model/variables/\n",
      "x ssd_mobilenet_v2_fpnlite_320x320_coco17_tpu-8/saved_model/variables/variables.data-00000-of-00001\n",
      "x ssd_mobilenet_v2_fpnlite_320x320_coco17_tpu-8/saved_model/variables/variables.index\n"
     ]
    }
   ],
   "source": [
    "if os.name =='posix':\n",
    "    !wget {PRETRAINED_MODEL_URL}\n",
    "    !mv {PRETRAINED_MODEL_NAME+'.tar.gz'} {paths['PRETRAINED_MODEL_PATH']}\n",
    "    !cd {paths['PRETRAINED_MODEL_PATH']} && tar -zxvf {PRETRAINED_MODEL_NAME+'.tar.gz'}\n",
    "if os.name == 'nt':\n",
    "    wget.download(PRETRAINED_MODEL_URL)\n",
    "    !move {PRETRAINED_MODEL_NAME+'.tar.gz'} {paths['PRETRAINED_MODEL_PATH']}\n",
    "    !cd {paths['PRETRAINED_MODEL_PATH']} && tar -zxvf {PRETRAINED_MODEL_NAME+'.tar.gz'}"
   ]
  },
  {
   "cell_type": "markdown",
   "metadata": {
    "id": "M5KJTnkfpfDC"
   },
   "source": [
    "# Label Map"
   ]
  },
  {
   "cell_type": "code",
   "execution_count": 19,
   "metadata": {
    "id": "p1BVDWo7pfDC"
   },
   "outputs": [],
   "source": [
    "labels = [{'name':'thumbsup', 'id':1}, {'name':'thumbsdown', 'id':2}, {'name':'thankyou', 'id':3}, {'name':'livelong', 'id':4},{'name':'0', 'id':5},{'name':'1', 'id':6},{'name':'2', 'id':7},{'name':'3', 'id':8},{'name':'4', 'id':9},{'name':'5', 'id':10},{'name':'6', 'id':11}]\n",
    "\n",
    "with open(files['LABELMAP'], 'w') as f:\n",
    "    for label in labels:\n",
    "        f.write('item { \\n')\n",
    "        f.write('\\tname:\\'{}\\'\\n'.format(label['name']))\n",
    "        f.write('\\tid:{}\\n'.format(label['id']))\n",
    "        f.write('}\\n')"
   ]
  },
  {
   "cell_type": "markdown",
   "metadata": {
    "id": "C88zyVELpfDC"
   },
   "source": [
    "# 3. Create TF records"
   ]
  },
  {
   "cell_type": "code",
   "execution_count": 11,
   "metadata": {
    "colab": {
     "base_uri": "https://localhost:8080/"
    },
    "id": "kvf5WccwrFGq",
    "outputId": "49902aeb-0bd7-4298-e1a0-5b4a64eb2064"
   },
   "outputs": [],
   "source": [
    "# for COLAB\n",
    "ARCHIVE_FILES = os.path.join(paths['IMAGE_PATH'], 'archive.tar.gz')\n",
    "if os.path.exists(ARCHIVE_FILES):\n",
    "  !tar -zxvf {ARCHIVE_FILES}"
   ]
  },
  {
   "cell_type": "code",
   "execution_count": 10,
   "metadata": {
    "colab": {
     "base_uri": "https://localhost:8080/"
    },
    "id": "KWpb_BVUpfDD",
    "outputId": "56ce2a3f-3933-4ee6-8a9d-d5ec65f7d73c"
   },
   "outputs": [],
   "source": [
    "if not os.path.exists(files['TF_RECORD_SCRIPT']):\n",
    "    !git clone https://github.com/nicknochnack/GenerateTFRecord {paths['SCRIPTS_PATH']}"
   ]
  },
  {
   "cell_type": "code",
   "execution_count": 14,
   "metadata": {},
   "outputs": [
    {
     "name": "stdout",
     "output_type": "stream",
     "text": [
      "Collecting pandas\n",
      "  Downloading pandas-1.5.2-cp39-cp39-macosx_10_9_x86_64.whl (12.1 MB)\n",
      "\u001b[2K     \u001b[90m━━━━━━━━━━━━━━━━━━━━━━━━━━━━━━━━━━━━━━━\u001b[0m \u001b[32m12.1/12.1 MB\u001b[0m \u001b[31m145.6 kB/s\u001b[0m eta \u001b[36m0:00:00\u001b[0m00:01\u001b[0m00:03\u001b[0m\n",
      "\u001b[?25hCollecting pytz>=2020.1\n",
      "  Downloading pytz-2022.6-py2.py3-none-any.whl (498 kB)\n",
      "\u001b[2K     \u001b[90m━━━━━━━━━━━━━━━━━━━━━━━━━━━━━━━━━━━━━\u001b[0m \u001b[32m498.1/498.1 kB\u001b[0m \u001b[31m155.9 kB/s\u001b[0m eta \u001b[36m0:00:00\u001b[0ma \u001b[36m0:00:01\u001b[0m\n",
      "\u001b[?25hRequirement already satisfied: numpy>=1.20.3 in ./mlproject/lib/python3.9/site-packages (from pandas) (1.23.4)\n",
      "Requirement already satisfied: python-dateutil>=2.8.1 in ./mlproject/lib/python3.9/site-packages (from pandas) (2.8.2)\n",
      "Requirement already satisfied: six>=1.5 in ./mlproject/lib/python3.9/site-packages (from python-dateutil>=2.8.1->pandas) (1.16.0)\n",
      "Installing collected packages: pytz, pandas\n",
      "Successfully installed pandas-1.5.2 pytz-2022.6\n"
     ]
    }
   ],
   "source": [
    "!pip install pandas"
   ]
  },
  {
   "cell_type": "code",
   "execution_count": 26,
   "metadata": {
    "colab": {
     "base_uri": "https://localhost:8080/"
    },
    "id": "UPFToGZqpfDD",
    "outputId": "0ebb456f-aadc-4a1f-96e6-fbfec1923e1c"
   },
   "outputs": [
    {
     "name": "stdout",
     "output_type": "stream",
     "text": [
      "Successfully created the TFRecord file: Tensorflow/workspace/annotations/train.record\n",
      "Successfully created the TFRecord file: Tensorflow/workspace/annotations/test.record\n"
     ]
    }
   ],
   "source": [
    "!python {files['TF_RECORD_SCRIPT']} -x {os.path.join(paths['IMAGE_PATH'], 'train')} -l {files['LABELMAP']} -o {os.path.join(paths['ANNOTATION_PATH'], 'train.record')} \n",
    "!python {files['TF_RECORD_SCRIPT']} -x {os.path.join(paths['IMAGE_PATH'], 'test')} -l {files['LABELMAP']} -o {os.path.join(paths['ANNOTATION_PATH'], 'test.record')} "
   ]
  },
  {
   "cell_type": "markdown",
   "metadata": {
    "id": "qT4QU7pLpfDE"
   },
   "source": [
    "# 4. Copy Model Config to Training Folder"
   ]
  },
  {
   "cell_type": "code",
   "execution_count": 11,
   "metadata": {
    "id": "cOjuTFbwpfDF"
   },
   "outputs": [],
   "source": [
    "if os.name =='posix':\n",
    "    !cp {os.path.join(paths['PRETRAINED_MODEL_PATH'], PRETRAINED_MODEL_NAME, 'pipeline.config')} {os.path.join(paths['CHECKPOINT_PATH'])}\n",
    "if os.name == 'nt':\n",
    "    !copy {os.path.join(paths['PRETRAINED_MODEL_PATH'], PRETRAINED_MODEL_NAME, 'pipeline.config')} {os.path.join(paths['CHECKPOINT_PATH'])}"
   ]
  },
  {
   "cell_type": "markdown",
   "metadata": {
    "id": "Ga8gpNslpfDF"
   },
   "source": [
    "# 5. Update Config For Transfer Learning"
   ]
  },
  {
   "cell_type": "code",
   "execution_count": 12,
   "metadata": {
    "id": "Z9hRrO_ppfDF"
   },
   "outputs": [
    {
     "name": "stderr",
     "output_type": "stream",
     "text": [
      "2022-11-23 22:21:26.489563: I tensorflow/core/platform/cpu_feature_guard.cc:193] This TensorFlow binary is optimized with oneAPI Deep Neural Network Library (oneDNN) to use the following CPU instructions in performance-critical operations:  AVX2 FMA\n",
      "To enable them in other operations, rebuild TensorFlow with the appropriate compiler flags.\n"
     ]
    }
   ],
   "source": [
    "import tensorflow as tf\n",
    "from object_detection.utils import config_util\n",
    "from object_detection.protos import pipeline_pb2\n",
    "from google.protobuf import text_format"
   ]
  },
  {
   "cell_type": "code",
   "execution_count": 15,
   "metadata": {
    "id": "c2A0mn4ipfDF"
   },
   "outputs": [],
   "source": [
    "config = config_util.get_configs_from_pipeline_file(files['PIPELINE_CONFIG'])"
   ]
  },
  {
   "cell_type": "code",
   "execution_count": 16,
   "metadata": {
    "colab": {
     "base_uri": "https://localhost:8080/"
    },
    "id": "uQA13-afpfDF",
    "outputId": "907496a4-a39d-4b13-8c2c-e5978ecb1f10"
   },
   "outputs": [
    {
     "data": {
      "text/plain": [
       "{'model': ssd {\n",
       "   num_classes: 90\n",
       "   image_resizer {\n",
       "     fixed_shape_resizer {\n",
       "       height: 320\n",
       "       width: 320\n",
       "     }\n",
       "   }\n",
       "   feature_extractor {\n",
       "     type: \"ssd_mobilenet_v2_fpn_keras\"\n",
       "     depth_multiplier: 1.0\n",
       "     min_depth: 16\n",
       "     conv_hyperparams {\n",
       "       regularizer {\n",
       "         l2_regularizer {\n",
       "           weight: 3.9999998989515007e-05\n",
       "         }\n",
       "       }\n",
       "       initializer {\n",
       "         random_normal_initializer {\n",
       "           mean: 0.0\n",
       "           stddev: 0.009999999776482582\n",
       "         }\n",
       "       }\n",
       "       activation: RELU_6\n",
       "       batch_norm {\n",
       "         decay: 0.996999979019165\n",
       "         scale: true\n",
       "         epsilon: 0.0010000000474974513\n",
       "       }\n",
       "     }\n",
       "     use_depthwise: true\n",
       "     override_base_feature_extractor_hyperparams: true\n",
       "     fpn {\n",
       "       min_level: 3\n",
       "       max_level: 7\n",
       "       additional_layer_depth: 128\n",
       "     }\n",
       "   }\n",
       "   box_coder {\n",
       "     faster_rcnn_box_coder {\n",
       "       y_scale: 10.0\n",
       "       x_scale: 10.0\n",
       "       height_scale: 5.0\n",
       "       width_scale: 5.0\n",
       "     }\n",
       "   }\n",
       "   matcher {\n",
       "     argmax_matcher {\n",
       "       matched_threshold: 0.5\n",
       "       unmatched_threshold: 0.5\n",
       "       ignore_thresholds: false\n",
       "       negatives_lower_than_unmatched: true\n",
       "       force_match_for_each_row: true\n",
       "       use_matmul_gather: true\n",
       "     }\n",
       "   }\n",
       "   similarity_calculator {\n",
       "     iou_similarity {\n",
       "     }\n",
       "   }\n",
       "   box_predictor {\n",
       "     weight_shared_convolutional_box_predictor {\n",
       "       conv_hyperparams {\n",
       "         regularizer {\n",
       "           l2_regularizer {\n",
       "             weight: 3.9999998989515007e-05\n",
       "           }\n",
       "         }\n",
       "         initializer {\n",
       "           random_normal_initializer {\n",
       "             mean: 0.0\n",
       "             stddev: 0.009999999776482582\n",
       "           }\n",
       "         }\n",
       "         activation: RELU_6\n",
       "         batch_norm {\n",
       "           decay: 0.996999979019165\n",
       "           scale: true\n",
       "           epsilon: 0.0010000000474974513\n",
       "         }\n",
       "       }\n",
       "       depth: 128\n",
       "       num_layers_before_predictor: 4\n",
       "       kernel_size: 3\n",
       "       class_prediction_bias_init: -4.599999904632568\n",
       "       share_prediction_tower: true\n",
       "       use_depthwise: true\n",
       "     }\n",
       "   }\n",
       "   anchor_generator {\n",
       "     multiscale_anchor_generator {\n",
       "       min_level: 3\n",
       "       max_level: 7\n",
       "       anchor_scale: 4.0\n",
       "       aspect_ratios: 1.0\n",
       "       aspect_ratios: 2.0\n",
       "       aspect_ratios: 0.5\n",
       "       scales_per_octave: 2\n",
       "     }\n",
       "   }\n",
       "   post_processing {\n",
       "     batch_non_max_suppression {\n",
       "       score_threshold: 9.99999993922529e-09\n",
       "       iou_threshold: 0.6000000238418579\n",
       "       max_detections_per_class: 100\n",
       "       max_total_detections: 100\n",
       "       use_static_shapes: false\n",
       "     }\n",
       "     score_converter: SIGMOID\n",
       "   }\n",
       "   normalize_loss_by_num_matches: true\n",
       "   loss {\n",
       "     localization_loss {\n",
       "       weighted_smooth_l1 {\n",
       "       }\n",
       "     }\n",
       "     classification_loss {\n",
       "       weighted_sigmoid_focal {\n",
       "         gamma: 2.0\n",
       "         alpha: 0.25\n",
       "       }\n",
       "     }\n",
       "     classification_weight: 1.0\n",
       "     localization_weight: 1.0\n",
       "   }\n",
       "   encode_background_as_zeros: true\n",
       "   normalize_loc_loss_by_codesize: true\n",
       "   inplace_batchnorm_update: true\n",
       "   freeze_batchnorm: false\n",
       " },\n",
       " 'train_config': batch_size: 128\n",
       " data_augmentation_options {\n",
       "   random_horizontal_flip {\n",
       "   }\n",
       " }\n",
       " data_augmentation_options {\n",
       "   random_crop_image {\n",
       "     min_object_covered: 0.0\n",
       "     min_aspect_ratio: 0.75\n",
       "     max_aspect_ratio: 3.0\n",
       "     min_area: 0.75\n",
       "     max_area: 1.0\n",
       "     overlap_thresh: 0.0\n",
       "   }\n",
       " }\n",
       " sync_replicas: true\n",
       " optimizer {\n",
       "   momentum_optimizer {\n",
       "     learning_rate {\n",
       "       cosine_decay_learning_rate {\n",
       "         learning_rate_base: 0.07999999821186066\n",
       "         total_steps: 50000\n",
       "         warmup_learning_rate: 0.026666000485420227\n",
       "         warmup_steps: 1000\n",
       "       }\n",
       "     }\n",
       "     momentum_optimizer_value: 0.8999999761581421\n",
       "   }\n",
       "   use_moving_average: false\n",
       " }\n",
       " fine_tune_checkpoint: \"PATH_TO_BE_CONFIGURED\"\n",
       " num_steps: 50000\n",
       " startup_delay_steps: 0.0\n",
       " replicas_to_aggregate: 8\n",
       " max_number_of_boxes: 100\n",
       " unpad_groundtruth_tensors: false\n",
       " fine_tune_checkpoint_type: \"classification\",\n",
       " 'train_input_config': label_map_path: \"PATH_TO_BE_CONFIGURED\"\n",
       " tf_record_input_reader {\n",
       "   input_path: \"PATH_TO_BE_CONFIGURED\"\n",
       " },\n",
       " 'eval_config': metrics_set: \"coco_detection_metrics\"\n",
       " use_moving_averages: false,\n",
       " 'eval_input_configs': [label_map_path: \"PATH_TO_BE_CONFIGURED\"\n",
       " shuffle: false\n",
       " num_epochs: 1\n",
       " tf_record_input_reader {\n",
       "   input_path: \"PATH_TO_BE_CONFIGURED\"\n",
       " }\n",
       " ],\n",
       " 'eval_input_config': label_map_path: \"PATH_TO_BE_CONFIGURED\"\n",
       " shuffle: false\n",
       " num_epochs: 1\n",
       " tf_record_input_reader {\n",
       "   input_path: \"PATH_TO_BE_CONFIGURED\"\n",
       " }}"
      ]
     },
     "execution_count": 16,
     "metadata": {},
     "output_type": "execute_result"
    }
   ],
   "source": [
    "config"
   ]
  },
  {
   "cell_type": "code",
   "execution_count": 17,
   "metadata": {
    "id": "9vK5lotDpfDF"
   },
   "outputs": [],
   "source": [
    "pipeline_config = pipeline_pb2.TrainEvalPipelineConfig()\n",
    "with tf.io.gfile.GFile(files['PIPELINE_CONFIG'], \"r\") as f:                                                                                                                                                                                                                     \n",
    "    proto_str = f.read()                                                                                                                                                                                                                                          \n",
    "    text_format.Merge(proto_str, pipeline_config)  "
   ]
  },
  {
   "cell_type": "code",
   "execution_count": 20,
   "metadata": {
    "id": "rP43Ph0JpfDG"
   },
   "outputs": [],
   "source": [
    "pipeline_config.model.ssd.num_classes = len(labels)\n",
    "pipeline_config.train_config.batch_size = 4\n",
    "pipeline_config.train_config.fine_tune_checkpoint = os.path.join(paths['PRETRAINED_MODEL_PATH'], PRETRAINED_MODEL_NAME, 'checkpoint', 'ckpt-0')\n",
    "pipeline_config.train_config.fine_tune_checkpoint_type = \"detection\"\n",
    "pipeline_config.train_input_reader.label_map_path= files['LABELMAP']\n",
    "pipeline_config.train_input_reader.tf_record_input_reader.input_path[:] = [os.path.join(paths['ANNOTATION_PATH'], 'train.record')]\n",
    "pipeline_config.eval_input_reader[0].label_map_path = files['LABELMAP']\n",
    "pipeline_config.eval_input_reader[0].tf_record_input_reader.input_path[:] = [os.path.join(paths['ANNOTATION_PATH'], 'test.record')]"
   ]
  },
  {
   "cell_type": "code",
   "execution_count": 21,
   "metadata": {
    "id": "oJvfgwWqpfDG"
   },
   "outputs": [],
   "source": [
    "config_text = text_format.MessageToString(pipeline_config)                                                                                                                                                                                                        \n",
    "with tf.io.gfile.GFile(files['PIPELINE_CONFIG'], \"wb\") as f:                                                                                                                                                                                                                     \n",
    "    f.write(config_text)   "
   ]
  },
  {
   "cell_type": "markdown",
   "metadata": {
    "id": "Zr3ON7xMpfDG"
   },
   "source": [
    "# 6. Train the model"
   ]
  },
  {
   "cell_type": "code",
   "execution_count": 13,
   "metadata": {
    "id": "B-Y2UQmQpfDG"
   },
   "outputs": [],
   "source": [
    "TRAINING_SCRIPT = os.path.join(paths['APIMODEL_PATH'], 'research', 'object_detection', 'model_main_tf2.py')"
   ]
  },
  {
   "cell_type": "code",
   "execution_count": 22,
   "metadata": {},
   "outputs": [
    {
     "name": "stdout",
     "output_type": "stream",
     "text": [
      "Requirement already satisfied: tf_slim in ./mlproject/lib/python3.9/site-packages (1.1.0)\n",
      "Requirement already satisfied: absl-py>=0.2.2 in ./mlproject/lib/python3.9/site-packages (from tf_slim) (1.3.0)\n"
     ]
    }
   ],
   "source": [
    "!pip install --upgrade tf_slim"
   ]
  },
  {
   "cell_type": "code",
   "execution_count": 14,
   "metadata": {
    "id": "jMP2XDfQpfDH"
   },
   "outputs": [],
   "source": [
    "command = \"python {} --model_dir={} --pipeline_config_path={} --num_train_steps=2000\".format(TRAINING_SCRIPT, paths['CHECKPOINT_PATH'],files['PIPELINE_CONFIG'])"
   ]
  },
  {
   "cell_type": "code",
   "execution_count": 15,
   "metadata": {
    "colab": {
     "base_uri": "https://localhost:8080/"
    },
    "id": "A4OXXi-ApfDH",
    "outputId": "117a0e83-012b-466e-b7a6-ccaa349ac5ab"
   },
   "outputs": [
    {
     "name": "stdout",
     "output_type": "stream",
     "text": [
      "python Tensorflow/models/research/object_detection/model_main_tf2.py --model_dir=Tensorflow/workspace/models/my_ssd_mobnet --pipeline_config_path=Tensorflow/workspace/models/my_ssd_mobnet/pipeline.config --num_train_steps=2000\n"
     ]
    }
   ],
   "source": [
    "print(command)"
   ]
  },
  {
   "cell_type": "code",
   "execution_count": 34,
   "metadata": {
    "colab": {
     "base_uri": "https://localhost:8080/"
    },
    "id": "i3ZsJR-qpfDH",
    "outputId": "cabec5e1-45e6-4f2f-d9cf-297d9c1d0225"
   },
   "outputs": [
    {
     "name": "stdout",
     "output_type": "stream",
     "text": [
      "2022-11-24 03:21:22.957878: I tensorflow/core/platform/cpu_feature_guard.cc:193] This TensorFlow binary is optimized with oneAPI Deep Neural Network Library (oneDNN) to use the following CPU instructions in performance-critical operations:  AVX2 FMA\n",
      "To enable them in other operations, rebuild TensorFlow with the appropriate compiler flags.\n",
      "Traceback (most recent call last):\n",
      "  File \"/Volumes/Study/University/Semester 5/ML LAB/Project/sign_language_detection/Tensorflow/models/research/object_detection/model_main_tf2.py\", line 31, in <module>\n",
      "    import model_lib_v2\n",
      "  File \"/Volumes/Study/University/Semester 5/ML LAB/Project/sign_language_detection/Tensorflow/models/research/object_detection/model_lib_v2.py\", line 30, in <module>\n",
      "    from object_detection import inputs\n",
      "  File \"/Volumes/Study/University/Semester 5/ML LAB/Project/sign_language_detection/mlproject/lib/python3.9/site-packages/object_detection/inputs.py\", line 26, in <module>\n",
      "    from object_detection.builders import model_builder\n",
      "  File \"/Volumes/Study/University/Semester 5/ML LAB/Project/sign_language_detection/mlproject/lib/python3.9/site-packages/object_detection/builders/model_builder.py\", line 26, in <module>\n",
      "    from object_detection.builders import matcher_builder\n",
      "  File \"/Volumes/Study/University/Semester 5/ML LAB/Project/sign_language_detection/mlproject/lib/python3.9/site-packages/object_detection/builders/matcher_builder.py\", line 19, in <module>\n",
      "    from object_detection.matchers import bipartite_matcher\n",
      "  File \"/Volumes/Study/University/Semester 5/ML LAB/Project/sign_language_detection/mlproject/lib/python3.9/site-packages/object_detection/matchers/bipartite_matcher.py\", line 20, in <module>\n",
      "    from tensorflow.contrib.image.python.ops import image_ops\n",
      "ModuleNotFoundError: No module named 'tensorflow.contrib'\n"
     ]
    }
   ],
   "source": [
    "!{command}\n"
   ]
  },
  {
   "cell_type": "code",
   "execution_count": 19,
   "metadata": {
    "collapsed": true
   },
   "outputs": [
    {
     "name": "stdout",
     "output_type": "stream",
     "text": [
      "2022-11-24 02:58:45.859233: I tensorflow/core/platform/cpu_feature_guard.cc:193] This TensorFlow binary is optimized with oneAPI Deep Neural Network Library (oneDNN) to use the following CPU instructions in performance-critical operations:  AVX2 FMA\n",
      "To enable them in other operations, rebuild TensorFlow with the appropriate compiler flags.\n",
      "ERROR line 35:7: Using member tf.contrib.slim in deprecated module tf.contrib. tf.contrib.slim cannot be converted automatically. tf.contrib will not be distributed with TensorFlow 2.0, please consider an alternative in non-contrib TensorFlow, a community-maintained repository such as tensorflow/addons, or fork the required code.\n",
      "INFO line 70:2: Renamed 'tf.logging.info' to 'tf.compat.v1.logging.info'\n",
      "INFO line 71:19: tf.summary.FileWriterCache requires manual check. The TF 1.x summary API cannot be automatically migrated to TF 2.0, so symbols have been converted to tf.compat.v1.summary.* and must be migrated manually. Typical usage will only require changes to the summary writing logic, not to individual calls like scalar(). For examples of the new summary API, see the Effective TF 2.0 migration document or check the TF 2.0 TensorBoard tutorials.\n",
      "INFO line 71:19: Renamed 'tf.summary.FileWriterCache' to 'tf.compat.v1.summary.FileWriterCache'\n",
      "INFO line 73:14: Renamed 'tf.Summary' to 'tf.compat.v1.Summary'\n",
      "INFO line 74:8: Renamed 'tf.Summary' to 'tf.compat.v1.Summary'\n",
      "INFO line 77:4: Renamed 'tf.logging.info' to 'tf.compat.v1.logging.info'\n",
      "INFO line 78:2: Renamed 'tf.logging.info' to 'tf.compat.v1.logging.info'\n",
      "INFO line 158:2: Renamed 'tf.logging.info' to 'tf.compat.v1.logging.info'\n",
      "INFO line 212:12: Renamed 'tf.Summary' to 'tf.compat.v1.Summary'\n",
      "INFO line 213:6: Renamed 'tf.Summary' to 'tf.compat.v1.Summary'\n",
      "INFO line 215:16: Renamed 'tf.Summary' to 'tf.compat.v1.Summary'\n",
      "INFO line 219:19: tf.summary.FileWriterCache requires manual check. The TF 1.x summary API cannot be automatically migrated to TF 2.0, so symbols have been converted to tf.compat.v1.summary.* and must be migrated manually. Typical usage will only require changes to the summary writing logic, not to individual calls like scalar(). For examples of the new summary API, see the Effective TF 2.0 migration document or check the TF 2.0 TensorBoard tutorials.\n",
      "INFO line 219:19: Renamed 'tf.summary.FileWriterCache' to 'tf.compat.v1.summary.FileWriterCache'\n",
      "INFO line 222:2: Renamed 'tf.logging.info' to 'tf.compat.v1.logging.info'\n",
      "INFO line 298:9: Renamed 'tf.Session' to 'tf.compat.v1.Session'\n",
      "INFO line 298:34: Renamed 'tf.get_default_graph' to 'tf.compat.v1.get_default_graph'\n",
      "INFO line 299:11: Renamed 'tf.global_variables_initializer' to 'tf.compat.v1.global_variables_initializer'\n",
      "INFO line 300:11: Renamed 'tf.local_variables_initializer' to 'tf.compat.v1.local_variables_initializer'\n",
      "INFO line 301:11: Renamed 'tf.tables_initializer' to 'tf.compat.v1.tables_initializer'\n",
      "INFO line 309:12: Renamed 'tf.train.Saver' to 'tf.compat.v1.train.Saver'\n",
      "INFO line 313:4: Renamed 'tf.train.write_graph' to 'tf.io.write_graph'\n",
      "ERROR line 317:7: Using member tf.contrib.slim.queues.QueueRunners in deprecated module tf.contrib. tf.contrib.slim.queues.QueueRunners cannot be converted automatically. tf.contrib will not be distributed with TensorFlow 2.0, please consider an alternative in non-contrib TensorFlow, a community-maintained repository such as tensorflow/addons, or fork the required code.\n",
      "INFO line 321:10: Renamed 'tf.logging.info' to 'tf.compat.v1.logging.info'\n",
      "INFO line 331:12: Renamed 'tf.logging.info' to 'tf.compat.v1.logging.info'\n",
      "INFO line 356:6: Renamed 'tf.logging.info' to 'tf.compat.v1.logging.info'\n",
      "INFO line 358:6: Renamed 'tf.logging.info' to 'tf.compat.v1.logging.info'\n",
      "INFO line 361:6: Renamed 'tf.logging.info' to 'tf.compat.v1.logging.info'\n",
      "INFO line 362:6: Renamed 'tf.logging.info' to 'tf.compat.v1.logging.info'\n",
      "INFO line 368:12: Renamed 'tf.logging.info' to 'tf.compat.v1.logging.info'\n",
      "INFO line 371:12: Renamed 'tf.logging.info' to 'tf.compat.v1.logging.info'\n",
      "INFO line 378:20: Renamed 'tf.train.global_step' to 'tf.compat.v1.train.global_step'\n",
      "INFO line 378:47: Renamed 'tf.train.get_global_step' to 'tf.compat.v1.train.get_global_step'\n",
      "INFO line 385:10: Renamed 'tf.logging.error' to 'tf.compat.v1.logging.error'\n",
      "INFO line 485:4: Renamed 'tf.logging.info' to 'tf.compat.v1.logging.info'\n",
      "INFO line 489:6: Renamed 'tf.logging.info' to 'tf.compat.v1.logging.info'\n",
      "INFO line 492:6: Renamed 'tf.logging.info' to 'tf.compat.v1.logging.info'\n",
      "INFO line 513:8: Renamed 'tf.logging.info' to 'tf.compat.v1.logging.info'\n",
      "INFO line 519:6: Renamed 'tf.logging.info' to 'tf.compat.v1.logging.info'\n",
      "INFO line 548:6: Removed argument align_corners for function tf.image.resize_images\n",
      "INFO line 544:9: Renamed 'tf.image.resize_images' to 'tf.image.resize'\n",
      "INFO line 617:19: Added keywords to args of function 'tf.shape'\n",
      "INFO line 746:23: Added keywords to args of function 'tf.shape'\n",
      "INFO line 747:19: Added keywords to args of function 'tf.shape'\n",
      "INFO line 757:23: Added keywords to args of function 'tf.shape'\n",
      "INFO line 758:19: Added keywords to args of function 'tf.shape'\n",
      "INFO line 779:19: Changed tf.to_int32 call to tf.cast(..., dtype=tf.int32).\n",
      "INFO line 785:8: Changed tf.to_int64 call to tf.cast(..., dtype=tf.int64).\n",
      "TensorFlow 2.0 Upgrade Script\n",
      "-----------------------------\n",
      "Converted 1 files\n",
      "Detected 2 issues that require attention\n",
      "--------------------------------------------------------------------------------\n",
      "--------------------------------------------------------------------------------\n",
      "File: mlproject/lib/python3.9/site-packages/object_detection/eval_util.py\n",
      "--------------------------------------------------------------------------------\n",
      "mlproject/lib/python3.9/site-packages/object_detection/eval_util.py:35:7: ERROR: Using member tf.contrib.slim in deprecated module tf.contrib. tf.contrib.slim cannot be converted automatically. tf.contrib will not be distributed with TensorFlow 2.0, please consider an alternative in non-contrib TensorFlow, a community-maintained repository such as tensorflow/addons, or fork the required code.\n",
      "mlproject/lib/python3.9/site-packages/object_detection/eval_util.py:317:7: ERROR: Using member tf.contrib.slim.queues.QueueRunners in deprecated module tf.contrib. tf.contrib.slim.queues.QueueRunners cannot be converted automatically. tf.contrib will not be distributed with TensorFlow 2.0, please consider an alternative in non-contrib TensorFlow, a community-maintained repository such as tensorflow/addons, or fork the required code.\n",
      "\n",
      "\n",
      "Make sure to read the detailed log 'report.txt'\n",
      "\n"
     ]
    }
   ],
   "source": [
    "!tf_upgrade_v2 \\\n",
    "--infile mlproject/lib/python3.9/site-packages/object_detection/eval_util.py \\\n",
    "--outfile v2_files/eval_util.py"
   ]
  },
  {
   "cell_type": "code",
   "execution_count": 21,
   "metadata": {},
   "outputs": [
    {
     "name": "stdout",
     "output_type": "stream",
     "text": [
      "\u001b[31mERROR: Could not find a version that satisfies the requirement tf-nightly-2.0-preview (from versions: none)\u001b[0m\u001b[31m\n",
      "\u001b[0m\u001b[31mERROR: No matching distribution found for tf-nightly-2.0-preview\u001b[0m\u001b[31m\n",
      "\u001b[0m"
     ]
    }
   ],
   "source": []
  },
  {
   "cell_type": "code",
   "execution_count": null,
   "metadata": {},
   "outputs": [],
   "source": []
  }
 ],
 "metadata": {
  "accelerator": "GPU",
  "colab": {
   "name": "3. Training and Detection.ipynb",
   "provenance": []
  },
  "kernelspec": {
   "display_name": "mlproject",
   "language": "python",
   "name": "mlproject"
  },
  "language_info": {
   "codemirror_mode": {
    "name": "ipython",
    "version": 3
   },
   "file_extension": ".py",
   "mimetype": "text/x-python",
   "name": "python",
   "nbconvert_exporter": "python",
   "pygments_lexer": "ipython3",
   "version": "3.9.12"
  }
 },
 "nbformat": 4,
 "nbformat_minor": 1
}
