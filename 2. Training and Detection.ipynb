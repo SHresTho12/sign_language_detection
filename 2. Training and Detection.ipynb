{
 "cells": [
  {
   "cell_type": "markdown",
   "metadata": {
    "id": "QUANWN3rpfC9"
   },
   "source": [
    "# 0. Setup Paths"
   ]
  },
  {
   "cell_type": "code",
   "execution_count": 1,
   "metadata": {
    "id": "146BB11JpfDA"
   },
   "outputs": [],
   "source": [
    "import os"
   ]
  },
  {
   "cell_type": "code",
   "execution_count": 2,
   "metadata": {
    "id": "42hJEdo_pfDB"
   },
   "outputs": [],
   "source": [
    "CUSTOM_MODEL_NAME = 'my_ssd_mobnet' \n",
    "PRETRAINED_MODEL_NAME = 'ssd_mobilenet_v2_fpnlite_320x320_coco17_tpu-8'\n",
    "PRETRAINED_MODEL_URL = 'http://download.tensorflow.org/models/object_detection/tf2/20200711/ssd_mobilenet_v2_fpnlite_320x320_coco17_tpu-8.tar.gz'\n",
    "TF_RECORD_SCRIPT_NAME = 'generate_tfrecord.py'\n",
    "LABEL_MAP_NAME = 'label_map.pbtxt'"
   ]
  },
  {
   "cell_type": "code",
   "execution_count": 3,
   "metadata": {
    "id": "hbPhYVy_pfDB"
   },
   "outputs": [],
   "source": [
    "paths = {\n",
    "    'WORKSPACE_PATH': os.path.join('Tensorflow', 'workspace'),\n",
    "    'SCRIPTS_PATH': os.path.join('Tensorflow','scripts'),\n",
    "    'APIMODEL_PATH': os.path.join('Tensorflow','models'),\n",
    "    'ANNOTATION_PATH': os.path.join('Tensorflow', 'workspace','annotations'),\n",
    "    'IMAGE_PATH': os.path.join('Tensorflow', 'workspace','images'),\n",
    "    'MODEL_PATH': os.path.join('Tensorflow', 'workspace','models'),\n",
    "    'PRETRAINED_MODEL_PATH': os.path.join('Tensorflow', 'workspace','pre-trained-models'),\n",
    "    'CHECKPOINT_PATH': os.path.join('Tensorflow', 'workspace','models',CUSTOM_MODEL_NAME), \n",
    "    'OUTPUT_PATH': os.path.join('Tensorflow', 'workspace','models',CUSTOM_MODEL_NAME, 'export'), \n",
    "    'TFJS_PATH':os.path.join('Tensorflow', 'workspace','models',CUSTOM_MODEL_NAME, 'tfjsexport'), \n",
    "    'TFLITE_PATH':os.path.join('Tensorflow', 'workspace','models',CUSTOM_MODEL_NAME, 'tfliteexport'), \n",
    "    'PROTOC_PATH':os.path.join('Tensorflow','protoc')\n",
    " }"
   ]
  },
  {
   "cell_type": "code",
   "execution_count": 4,
   "metadata": {
    "id": "LwhWZMI0pfDC"
   },
   "outputs": [],
   "source": [
    "files = {\n",
    "    'PIPELINE_CONFIG':os.path.join('Tensorflow', 'workspace','models', CUSTOM_MODEL_NAME, 'pipeline.config'),\n",
    "    'TF_RECORD_SCRIPT': os.path.join(paths['SCRIPTS_PATH'], TF_RECORD_SCRIPT_NAME), \n",
    "    'LABELMAP': os.path.join(paths['ANNOTATION_PATH'], LABEL_MAP_NAME)\n",
    "}"
   ]
  },
  {
   "cell_type": "code",
   "execution_count": 5,
   "metadata": {
    "id": "HR-TfDGrpfDC"
   },
   "outputs": [],
   "source": [
    "for path in paths.values():\n",
    "    if not os.path.exists(path):\n",
    "        if os.name == 'posix':\n",
    "            !mkdir -p {path}\n",
    "        if os.name == 'nt':\n",
    "            !mkdir {path}"
   ]
  },
  {
   "cell_type": "markdown",
   "metadata": {
    "id": "OLU-rs_ipfDE"
   },
   "source": [
    "# 1. Download TF Models Pretrained Models from Tensorflow Model Zoo and Install Tensor flow object detection"
   ]
  },
  {
   "cell_type": "code",
   "execution_count": 6,
   "metadata": {},
   "outputs": [],
   "source": [
    "# https://www.tensorflow.org/install/source_windows"
   ]
  },
  {
   "cell_type": "code",
   "execution_count": 7,
   "metadata": {
    "id": "K-Cmz2edpfDE",
    "scrolled": true
   },
   "outputs": [],
   "source": [
    "if os.name=='nt':\n",
    "    !pip install wget\n",
    "    import wget"
   ]
  },
  {
   "cell_type": "code",
   "execution_count": 8,
   "metadata": {
    "id": "iA1DIq5OpfDE"
   },
   "outputs": [],
   "source": [
    "if not os.path.exists(os.path.join(paths['APIMODEL_PATH'], 'research', 'object_detection')):\n",
    "    !git clone https://github.com/tensorflow/models {paths['APIMODEL_PATH']}"
   ]
  },
  {
   "cell_type": "code",
   "execution_count": 10,
   "metadata": {
    "collapsed": true,
    "id": "rJjMHbnDs3Tv"
   },
   "outputs": [
    {
     "name": "stdout",
     "output_type": "stream",
     "text": [
      "Running `brew update --auto-update`...\n",
      "\u001b[34m==>\u001b[0m \u001b[1mAuto-updated Homebrew!\u001b[0m\n",
      "Updated 1 tap (homebrew/core).\n",
      "\n",
      "You have \u001b[1m12\u001b[0m outdated formulae installed.\n",
      "You can upgrade them with \u001b[1mbrew upgrade\u001b[0m\n",
      "or list them with \u001b[1mbrew outdated\u001b[0m.\n",
      "\n",
      "\u001b[33mWarning:\u001b[0m No available formula with the name \"protobuf-compiler\". Did you mean protobuf-c?\n",
      "\u001b[34m==>\u001b[0m \u001b[1mSearching for similarly named formulae...\u001b[0m\n",
      "This similarly named formula was found:\n",
      "protobuf-c\n",
      "To install it, run:\n",
      "  brew install protobuf-c\n",
      "\u001b[34m==>\u001b[0m \u001b[1mSearching for a previously deleted formula (in the last month)...\u001b[0m\n",
      "\u001b[31mError:\u001b[0m No previously deleted formula found.\n",
      "\u001b[34m==>\u001b[0m \u001b[1mSearching taps on GitHub...\u001b[0m\n",
      "\u001b[31mError:\u001b[0m No formulae found in taps.\n",
      "Processing /Volumes/Study/University/Semester 5/ML LAB/Project/sign_language_detection/Tensorflow/models/research\n",
      "  Preparing metadata (setup.py) ... \u001b[?25ldone\n",
      "\u001b[?25hRequirement already satisfied: avro-python3 in /Users/shrestho12/opt/anaconda3/lib/python3.9/site-packages (from object-detection==0.1) (1.10.2)\n",
      "Requirement already satisfied: apache-beam in /Users/shrestho12/opt/anaconda3/lib/python3.9/site-packages (from object-detection==0.1) (2.43.0)\n",
      "Requirement already satisfied: pillow in /Users/shrestho12/opt/anaconda3/lib/python3.9/site-packages (from object-detection==0.1) (9.0.1)\n",
      "Requirement already satisfied: lxml in /Users/shrestho12/opt/anaconda3/lib/python3.9/site-packages (from object-detection==0.1) (4.9.1)\n",
      "Requirement already satisfied: matplotlib in /Users/shrestho12/opt/anaconda3/lib/python3.9/site-packages (from object-detection==0.1) (3.2.0)\n",
      "Requirement already satisfied: Cython in /Users/shrestho12/opt/anaconda3/lib/python3.9/site-packages (from object-detection==0.1) (0.29.28)\n",
      "Requirement already satisfied: contextlib2 in /Users/shrestho12/opt/anaconda3/lib/python3.9/site-packages (from object-detection==0.1) (21.6.0)\n",
      "Requirement already satisfied: tf-slim in /Users/shrestho12/opt/anaconda3/lib/python3.9/site-packages (from object-detection==0.1) (1.1.0)\n",
      "Requirement already satisfied: six in /Users/shrestho12/opt/anaconda3/lib/python3.9/site-packages (from object-detection==0.1) (1.16.0)\n",
      "Requirement already satisfied: pycocotools in /Users/shrestho12/opt/anaconda3/lib/python3.9/site-packages (from object-detection==0.1) (2.0.6)\n",
      "Requirement already satisfied: lvis in /Users/shrestho12/opt/anaconda3/lib/python3.9/site-packages (from object-detection==0.1) (0.5.3)\n",
      "Requirement already satisfied: scipy in /Users/shrestho12/opt/anaconda3/lib/python3.9/site-packages (from object-detection==0.1) (1.7.3)\n",
      "Requirement already satisfied: pandas in /Users/shrestho12/opt/anaconda3/lib/python3.9/site-packages (from object-detection==0.1) (1.4.2)\n",
      "Requirement already satisfied: tf-models-official>=2.5.1 in /Users/shrestho12/opt/anaconda3/lib/python3.9/site-packages (from object-detection==0.1) (2.10.1)\n",
      "Requirement already satisfied: tensorflow_io in /Users/shrestho12/opt/anaconda3/lib/python3.9/site-packages (from object-detection==0.1) (0.27.0)\n",
      "Requirement already satisfied: keras in /Users/shrestho12/opt/anaconda3/lib/python3.9/site-packages (from object-detection==0.1) (2.10.0)\n",
      "Requirement already satisfied: pyparsing==2.4.7 in /Users/shrestho12/opt/anaconda3/lib/python3.9/site-packages (from object-detection==0.1) (2.4.7)\n",
      "Requirement already satisfied: sacrebleu<=2.2.0 in /Users/shrestho12/opt/anaconda3/lib/python3.9/site-packages (from object-detection==0.1) (2.2.0)\n",
      "Requirement already satisfied: regex in /Users/shrestho12/opt/anaconda3/lib/python3.9/site-packages (from sacrebleu<=2.2.0->object-detection==0.1) (2022.3.15)\n",
      "Requirement already satisfied: colorama in /Users/shrestho12/opt/anaconda3/lib/python3.9/site-packages (from sacrebleu<=2.2.0->object-detection==0.1) (0.4.4)\n",
      "Requirement already satisfied: portalocker in /Users/shrestho12/opt/anaconda3/lib/python3.9/site-packages (from sacrebleu<=2.2.0->object-detection==0.1) (2.6.0)\n",
      "Requirement already satisfied: numpy>=1.17 in /Users/shrestho12/opt/anaconda3/lib/python3.9/site-packages (from sacrebleu<=2.2.0->object-detection==0.1) (1.21.5)\n",
      "Requirement already satisfied: tabulate>=0.8.9 in /Users/shrestho12/opt/anaconda3/lib/python3.9/site-packages (from sacrebleu<=2.2.0->object-detection==0.1) (0.8.9)\n",
      "Requirement already satisfied: seqeval in /Users/shrestho12/opt/anaconda3/lib/python3.9/site-packages (from tf-models-official>=2.5.1->object-detection==0.1) (1.2.2)\n",
      "Requirement already satisfied: tensorflow~=2.10.0 in /Users/shrestho12/opt/anaconda3/lib/python3.9/site-packages (from tf-models-official>=2.5.1->object-detection==0.1) (2.10.1)\n",
      "Requirement already satisfied: tensorflow-addons in /Users/shrestho12/opt/anaconda3/lib/python3.9/site-packages (from tf-models-official>=2.5.1->object-detection==0.1) (0.18.0)\n",
      "Requirement already satisfied: immutabledict in /Users/shrestho12/opt/anaconda3/lib/python3.9/site-packages (from tf-models-official>=2.5.1->object-detection==0.1) (2.2.3)\n",
      "Requirement already satisfied: tensorflow-model-optimization>=0.4.1 in /Users/shrestho12/opt/anaconda3/lib/python3.9/site-packages (from tf-models-official>=2.5.1->object-detection==0.1) (0.7.3)\n",
      "Requirement already satisfied: tensorflow-text~=2.10.0 in /Users/shrestho12/opt/anaconda3/lib/python3.9/site-packages (from tf-models-official>=2.5.1->object-detection==0.1) (2.10.0)\n",
      "Requirement already satisfied: kaggle>=1.3.9 in /Users/shrestho12/opt/anaconda3/lib/python3.9/site-packages (from tf-models-official>=2.5.1->object-detection==0.1) (1.5.12)\n",
      "Requirement already satisfied: google-api-python-client>=1.6.7 in /Users/shrestho12/opt/anaconda3/lib/python3.9/site-packages (from tf-models-official>=2.5.1->object-detection==0.1) (2.66.0)\n",
      "Requirement already satisfied: gin-config in /Users/shrestho12/opt/anaconda3/lib/python3.9/site-packages (from tf-models-official>=2.5.1->object-detection==0.1) (0.5.0)\n",
      "Requirement already satisfied: tensorflow-datasets in /Users/shrestho12/opt/anaconda3/lib/python3.9/site-packages (from tf-models-official>=2.5.1->object-detection==0.1) (4.7.0)\n",
      "Requirement already satisfied: sentencepiece in /Users/shrestho12/opt/anaconda3/lib/python3.9/site-packages (from tf-models-official>=2.5.1->object-detection==0.1) (0.1.97)\n",
      "Requirement already satisfied: psutil>=5.4.3 in /Users/shrestho12/opt/anaconda3/lib/python3.9/site-packages (from tf-models-official>=2.5.1->object-detection==0.1) (5.8.0)\n",
      "Requirement already satisfied: py-cpuinfo>=3.3.0 in /Users/shrestho12/opt/anaconda3/lib/python3.9/site-packages (from tf-models-official>=2.5.1->object-detection==0.1) (9.0.0)\n",
      "Requirement already satisfied: pyyaml<6.0,>=5.1 in /Users/shrestho12/opt/anaconda3/lib/python3.9/site-packages (from tf-models-official>=2.5.1->object-detection==0.1) (5.4.1)\n",
      "Requirement already satisfied: tensorflow-hub>=0.6.0 in /Users/shrestho12/opt/anaconda3/lib/python3.9/site-packages (from tf-models-official>=2.5.1->object-detection==0.1) (0.12.0)\n",
      "Requirement already satisfied: opencv-python-headless in /Users/shrestho12/opt/anaconda3/lib/python3.9/site-packages (from tf-models-official>=2.5.1->object-detection==0.1) (4.6.0.66)\n",
      "Requirement already satisfied: oauth2client in /Users/shrestho12/opt/anaconda3/lib/python3.9/site-packages (from tf-models-official>=2.5.1->object-detection==0.1) (4.1.3)\n",
      "Requirement already satisfied: python-dateutil>=2.8.1 in /Users/shrestho12/opt/anaconda3/lib/python3.9/site-packages (from pandas->object-detection==0.1) (2.8.2)\n",
      "Requirement already satisfied: pytz>=2020.1 in /Users/shrestho12/opt/anaconda3/lib/python3.9/site-packages (from pandas->object-detection==0.1) (2021.3)\n",
      "Requirement already satisfied: absl-py>=0.2.2 in /Users/shrestho12/opt/anaconda3/lib/python3.9/site-packages (from tf-slim->object-detection==0.1) (1.3.0)\n",
      "Requirement already satisfied: orjson<4.0 in /Users/shrestho12/opt/anaconda3/lib/python3.9/site-packages (from apache-beam->object-detection==0.1) (3.8.1)\n",
      "Requirement already satisfied: crcmod<2.0,>=1.7 in /Users/shrestho12/opt/anaconda3/lib/python3.9/site-packages (from apache-beam->object-detection==0.1) (1.7)\n",
      "Requirement already satisfied: fastavro<2,>=0.23.6 in /Users/shrestho12/opt/anaconda3/lib/python3.9/site-packages (from apache-beam->object-detection==0.1) (1.7.0)\n",
      "Requirement already satisfied: zstandard<1,>=0.18.0 in /Users/shrestho12/opt/anaconda3/lib/python3.9/site-packages (from apache-beam->object-detection==0.1) (0.19.0)\n",
      "Requirement already satisfied: fasteners<1.0,>=0.3 in /Users/shrestho12/opt/anaconda3/lib/python3.9/site-packages (from apache-beam->object-detection==0.1) (0.18)\n",
      "Requirement already satisfied: grpcio!=1.48.0,<2,>=1.33.1 in /Users/shrestho12/opt/anaconda3/lib/python3.9/site-packages (from apache-beam->object-detection==0.1) (1.42.0)\n",
      "Requirement already satisfied: protobuf<4,>3.12.2 in /Users/shrestho12/opt/anaconda3/lib/python3.9/site-packages (from apache-beam->object-detection==0.1) (3.19.6)\n",
      "Requirement already satisfied: httplib2<0.21.0,>=0.8 in /Users/shrestho12/opt/anaconda3/lib/python3.9/site-packages (from apache-beam->object-detection==0.1) (0.20.4)\n",
      "Requirement already satisfied: objsize<0.6.0,>=0.5.2 in /Users/shrestho12/opt/anaconda3/lib/python3.9/site-packages (from apache-beam->object-detection==0.1) (0.5.2)\n",
      "Requirement already satisfied: proto-plus<2,>=1.7.1 in /Users/shrestho12/opt/anaconda3/lib/python3.9/site-packages (from apache-beam->object-detection==0.1) (1.22.1)\n",
      "Requirement already satisfied: hdfs<3.0.0,>=2.1.0 in /Users/shrestho12/opt/anaconda3/lib/python3.9/site-packages (from apache-beam->object-detection==0.1) (2.7.0)\n",
      "Requirement already satisfied: pyarrow<10.0.0,>=0.15.1 in /Users/shrestho12/opt/anaconda3/lib/python3.9/site-packages (from apache-beam->object-detection==0.1) (9.0.0)\n",
      "Requirement already satisfied: pymongo<4.0.0,>=3.8.0 in /Users/shrestho12/opt/anaconda3/lib/python3.9/site-packages (from apache-beam->object-detection==0.1) (3.13.0)\n",
      "Requirement already satisfied: dill<0.3.2,>=0.3.1.1 in /Users/shrestho12/opt/anaconda3/lib/python3.9/site-packages (from apache-beam->object-detection==0.1) (0.3.1.1)\n",
      "Requirement already satisfied: cloudpickle~=2.2.0 in /Users/shrestho12/opt/anaconda3/lib/python3.9/site-packages (from apache-beam->object-detection==0.1) (2.2.0)\n",
      "Requirement already satisfied: requests<3.0.0,>=2.24.0 in /Users/shrestho12/opt/anaconda3/lib/python3.9/site-packages (from apache-beam->object-detection==0.1) (2.27.1)\n",
      "Requirement already satisfied: typing-extensions>=3.7.0 in /Users/shrestho12/opt/anaconda3/lib/python3.9/site-packages (from apache-beam->object-detection==0.1) (4.1.1)\n",
      "Requirement already satisfied: pydot<2,>=1.2.0 in /Users/shrestho12/opt/anaconda3/lib/python3.9/site-packages (from apache-beam->object-detection==0.1) (1.4.2)\n"
     ]
    },
    {
     "name": "stdout",
     "output_type": "stream",
     "text": [
      "Requirement already satisfied: opencv-python>=4.1.0.25 in /Users/shrestho12/opt/anaconda3/lib/python3.9/site-packages (from lvis->object-detection==0.1) (4.6.0.66)\n",
      "Requirement already satisfied: kiwisolver>=1.1.0 in /Users/shrestho12/opt/anaconda3/lib/python3.9/site-packages (from lvis->object-detection==0.1) (1.3.2)\n",
      "Requirement already satisfied: cycler>=0.10.0 in /Users/shrestho12/opt/anaconda3/lib/python3.9/site-packages (from lvis->object-detection==0.1) (0.11.0)\n",
      "Requirement already satisfied: tensorflow-io-gcs-filesystem==0.27.0 in /Users/shrestho12/opt/anaconda3/lib/python3.9/site-packages (from tensorflow_io->object-detection==0.1) (0.27.0)\n",
      "Requirement already satisfied: google-api-core!=2.0.*,!=2.1.*,!=2.2.*,!=2.3.0,<3.0.0dev,>=1.31.5 in /Users/shrestho12/opt/anaconda3/lib/python3.9/site-packages (from google-api-python-client>=1.6.7->tf-models-official>=2.5.1->object-detection==0.1) (2.10.2)\n",
      "Requirement already satisfied: google-auth-httplib2>=0.1.0 in /Users/shrestho12/opt/anaconda3/lib/python3.9/site-packages (from google-api-python-client>=1.6.7->tf-models-official>=2.5.1->object-detection==0.1) (0.1.0)\n",
      "Requirement already satisfied: google-auth<3.0.0dev,>=1.19.0 in /Users/shrestho12/opt/anaconda3/lib/python3.9/site-packages (from google-api-python-client>=1.6.7->tf-models-official>=2.5.1->object-detection==0.1) (1.33.0)\n",
      "Requirement already satisfied: uritemplate<5,>=3.0.1 in /Users/shrestho12/opt/anaconda3/lib/python3.9/site-packages (from google-api-python-client>=1.6.7->tf-models-official>=2.5.1->object-detection==0.1) (4.1.1)\n",
      "Requirement already satisfied: docopt in /Users/shrestho12/opt/anaconda3/lib/python3.9/site-packages (from hdfs<3.0.0,>=2.1.0->apache-beam->object-detection==0.1) (0.6.2)\n",
      "Requirement already satisfied: tqdm in /Users/shrestho12/opt/anaconda3/lib/python3.9/site-packages (from kaggle>=1.3.9->tf-models-official>=2.5.1->object-detection==0.1) (4.64.0)\n",
      "Requirement already satisfied: python-slugify in /Users/shrestho12/opt/anaconda3/lib/python3.9/site-packages (from kaggle>=1.3.9->tf-models-official>=2.5.1->object-detection==0.1) (5.0.2)\n",
      "Requirement already satisfied: urllib3 in /Users/shrestho12/opt/anaconda3/lib/python3.9/site-packages (from kaggle>=1.3.9->tf-models-official>=2.5.1->object-detection==0.1) (1.26.9)\n",
      "Requirement already satisfied: certifi in /Users/shrestho12/opt/anaconda3/lib/python3.9/site-packages (from kaggle>=1.3.9->tf-models-official>=2.5.1->object-detection==0.1) (2022.9.24)\n",
      "Requirement already satisfied: charset-normalizer~=2.0.0 in /Users/shrestho12/opt/anaconda3/lib/python3.9/site-packages (from requests<3.0.0,>=2.24.0->apache-beam->object-detection==0.1) (2.0.4)\n",
      "Requirement already satisfied: idna<4,>=2.5 in /Users/shrestho12/opt/anaconda3/lib/python3.9/site-packages (from requests<3.0.0,>=2.24.0->apache-beam->object-detection==0.1) (3.3)\n",
      "Requirement already satisfied: h5py>=2.9.0 in /Users/shrestho12/opt/anaconda3/lib/python3.9/site-packages (from tensorflow~=2.10.0->tf-models-official>=2.5.1->object-detection==0.1) (3.6.0)\n",
      "Requirement already satisfied: packaging in /Users/shrestho12/opt/anaconda3/lib/python3.9/site-packages (from tensorflow~=2.10.0->tf-models-official>=2.5.1->object-detection==0.1) (21.3)\n",
      "Requirement already satisfied: tensorboard<2.11,>=2.10 in /Users/shrestho12/opt/anaconda3/lib/python3.9/site-packages (from tensorflow~=2.10.0->tf-models-official>=2.5.1->object-detection==0.1) (2.10.1)\n",
      "Requirement already satisfied: gast<=0.4.0,>=0.2.1 in /Users/shrestho12/opt/anaconda3/lib/python3.9/site-packages (from tensorflow~=2.10.0->tf-models-official>=2.5.1->object-detection==0.1) (0.4.0)\n",
      "Requirement already satisfied: wrapt>=1.11.0 in /Users/shrestho12/opt/anaconda3/lib/python3.9/site-packages (from tensorflow~=2.10.0->tf-models-official>=2.5.1->object-detection==0.1) (1.12.1)\n",
      "Requirement already satisfied: astunparse>=1.6.0 in /Users/shrestho12/opt/anaconda3/lib/python3.9/site-packages (from tensorflow~=2.10.0->tf-models-official>=2.5.1->object-detection==0.1) (1.6.3)\n",
      "Requirement already satisfied: flatbuffers>=2.0 in /Users/shrestho12/opt/anaconda3/lib/python3.9/site-packages (from tensorflow~=2.10.0->tf-models-official>=2.5.1->object-detection==0.1) (22.10.26)\n",
      "Requirement already satisfied: libclang>=13.0.0 in /Users/shrestho12/opt/anaconda3/lib/python3.9/site-packages (from tensorflow~=2.10.0->tf-models-official>=2.5.1->object-detection==0.1) (14.0.6)\n",
      "Requirement already satisfied: opt-einsum>=2.3.2 in /Users/shrestho12/opt/anaconda3/lib/python3.9/site-packages (from tensorflow~=2.10.0->tf-models-official>=2.5.1->object-detection==0.1) (3.3.0)\n",
      "Requirement already satisfied: keras-preprocessing>=1.1.1 in /Users/shrestho12/opt/anaconda3/lib/python3.9/site-packages (from tensorflow~=2.10.0->tf-models-official>=2.5.1->object-detection==0.1) (1.1.2)\n",
      "Requirement already satisfied: termcolor>=1.1.0 in /Users/shrestho12/opt/anaconda3/lib/python3.9/site-packages (from tensorflow~=2.10.0->tf-models-official>=2.5.1->object-detection==0.1) (2.1.1)\n",
      "Requirement already satisfied: setuptools in /Users/shrestho12/opt/anaconda3/lib/python3.9/site-packages (from tensorflow~=2.10.0->tf-models-official>=2.5.1->object-detection==0.1) (61.2.0)\n",
      "Requirement already satisfied: tensorflow-estimator<2.11,>=2.10.0 in /Users/shrestho12/opt/anaconda3/lib/python3.9/site-packages (from tensorflow~=2.10.0->tf-models-official>=2.5.1->object-detection==0.1) (2.10.0)\n",
      "Requirement already satisfied: google-pasta>=0.1.1 in /Users/shrestho12/opt/anaconda3/lib/python3.9/site-packages (from tensorflow~=2.10.0->tf-models-official>=2.5.1->object-detection==0.1) (0.2.0)\n",
      "Requirement already satisfied: dm-tree~=0.1.1 in /Users/shrestho12/opt/anaconda3/lib/python3.9/site-packages (from tensorflow-model-optimization>=0.4.1->tf-models-official>=2.5.1->object-detection==0.1) (0.1.7)\n",
      "Requirement already satisfied: pyasn1-modules>=0.0.5 in /Users/shrestho12/opt/anaconda3/lib/python3.9/site-packages (from oauth2client->tf-models-official>=2.5.1->object-detection==0.1) (0.2.8)\n",
      "Requirement already satisfied: rsa>=3.1.4 in /Users/shrestho12/opt/anaconda3/lib/python3.9/site-packages (from oauth2client->tf-models-official>=2.5.1->object-detection==0.1) (4.7.2)\n",
      "Requirement already satisfied: pyasn1>=0.1.7 in /Users/shrestho12/opt/anaconda3/lib/python3.9/site-packages (from oauth2client->tf-models-official>=2.5.1->object-detection==0.1) (0.4.8)\n",
      "Requirement already satisfied: scikit-learn>=0.21.3 in /Users/shrestho12/opt/anaconda3/lib/python3.9/site-packages (from seqeval->tf-models-official>=2.5.1->object-detection==0.1) (1.0.2)\n",
      "Requirement already satisfied: typeguard>=2.7 in /Users/shrestho12/opt/anaconda3/lib/python3.9/site-packages (from tensorflow-addons->tf-models-official>=2.5.1->object-detection==0.1) (2.13.3)\n",
      "Requirement already satisfied: promise in /Users/shrestho12/opt/anaconda3/lib/python3.9/site-packages (from tensorflow-datasets->tf-models-official>=2.5.1->object-detection==0.1) (2.3)\n",
      "Requirement already satisfied: toml in /Users/shrestho12/opt/anaconda3/lib/python3.9/site-packages (from tensorflow-datasets->tf-models-official>=2.5.1->object-detection==0.1) (0.10.2)\n",
      "Requirement already satisfied: tensorflow-metadata in /Users/shrestho12/opt/anaconda3/lib/python3.9/site-packages (from tensorflow-datasets->tf-models-official>=2.5.1->object-detection==0.1) (1.11.0)\n",
      "Requirement already satisfied: etils[epath] in /Users/shrestho12/opt/anaconda3/lib/python3.9/site-packages (from tensorflow-datasets->tf-models-official>=2.5.1->object-detection==0.1) (0.9.0)\n",
      "Requirement already satisfied: wheel<1.0,>=0.23.0 in /Users/shrestho12/opt/anaconda3/lib/python3.9/site-packages (from astunparse>=1.6.0->tensorflow~=2.10.0->tf-models-official>=2.5.1->object-detection==0.1) (0.37.1)\n",
      "Requirement already satisfied: googleapis-common-protos<2.0dev,>=1.56.2 in /Users/shrestho12/opt/anaconda3/lib/python3.9/site-packages (from google-api-core!=2.0.*,!=2.1.*,!=2.2.*,!=2.3.0,<3.0.0dev,>=1.31.5->google-api-python-client>=1.6.7->tf-models-official>=2.5.1->object-detection==0.1) (1.57.0)\n",
      "Requirement already satisfied: cachetools<5.0,>=2.0.0 in /Users/shrestho12/opt/anaconda3/lib/python3.9/site-packages (from google-auth<3.0.0dev,>=1.19.0->google-api-python-client>=1.6.7->tf-models-official>=2.5.1->object-detection==0.1) (4.2.2)\n"
     ]
    },
    {
     "name": "stdout",
     "output_type": "stream",
     "text": [
      "Requirement already satisfied: threadpoolctl>=2.0.0 in /Users/shrestho12/opt/anaconda3/lib/python3.9/site-packages (from scikit-learn>=0.21.3->seqeval->tf-models-official>=2.5.1->object-detection==0.1) (2.2.0)\n",
      "Requirement already satisfied: joblib>=0.11 in /Users/shrestho12/opt/anaconda3/lib/python3.9/site-packages (from scikit-learn>=0.21.3->seqeval->tf-models-official>=2.5.1->object-detection==0.1) (1.1.0)\n",
      "Requirement already satisfied: markdown>=2.6.8 in /Users/shrestho12/opt/anaconda3/lib/python3.9/site-packages (from tensorboard<2.11,>=2.10->tensorflow~=2.10.0->tf-models-official>=2.5.1->object-detection==0.1) (3.3.4)\n",
      "Requirement already satisfied: google-auth-oauthlib<0.5,>=0.4.1 in /Users/shrestho12/opt/anaconda3/lib/python3.9/site-packages (from tensorboard<2.11,>=2.10->tensorflow~=2.10.0->tf-models-official>=2.5.1->object-detection==0.1) (0.4.6)\n",
      "Requirement already satisfied: werkzeug>=1.0.1 in /Users/shrestho12/opt/anaconda3/lib/python3.9/site-packages (from tensorboard<2.11,>=2.10->tensorflow~=2.10.0->tf-models-official>=2.5.1->object-detection==0.1) (2.0.3)\n",
      "Requirement already satisfied: tensorboard-data-server<0.7.0,>=0.6.0 in /Users/shrestho12/opt/anaconda3/lib/python3.9/site-packages (from tensorboard<2.11,>=2.10->tensorflow~=2.10.0->tf-models-official>=2.5.1->object-detection==0.1) (0.6.1)\n",
      "Requirement already satisfied: tensorboard-plugin-wit>=1.6.0 in /Users/shrestho12/opt/anaconda3/lib/python3.9/site-packages (from tensorboard<2.11,>=2.10->tensorflow~=2.10.0->tf-models-official>=2.5.1->object-detection==0.1) (1.8.1)\n",
      "Requirement already satisfied: zipp in /Users/shrestho12/opt/anaconda3/lib/python3.9/site-packages (from etils[epath]->tensorflow-datasets->tf-models-official>=2.5.1->object-detection==0.1) (3.7.0)\n",
      "Requirement already satisfied: importlib_resources in /Users/shrestho12/opt/anaconda3/lib/python3.9/site-packages (from etils[epath]->tensorflow-datasets->tf-models-official>=2.5.1->object-detection==0.1) (5.10.0)\n",
      "Requirement already satisfied: text-unidecode>=1.3 in /Users/shrestho12/opt/anaconda3/lib/python3.9/site-packages (from python-slugify->kaggle>=1.3.9->tf-models-official>=2.5.1->object-detection==0.1) (1.3)\n",
      "Requirement already satisfied: requests-oauthlib>=0.7.0 in /Users/shrestho12/opt/anaconda3/lib/python3.9/site-packages (from google-auth-oauthlib<0.5,>=0.4.1->tensorboard<2.11,>=2.10->tensorflow~=2.10.0->tf-models-official>=2.5.1->object-detection==0.1) (1.3.1)\n",
      "Requirement already satisfied: oauthlib>=3.0.0 in /Users/shrestho12/opt/anaconda3/lib/python3.9/site-packages (from requests-oauthlib>=0.7.0->google-auth-oauthlib<0.5,>=0.4.1->tensorboard<2.11,>=2.10->tensorflow~=2.10.0->tf-models-official>=2.5.1->object-detection==0.1) (3.2.2)\n",
      "Building wheels for collected packages: object-detection\n",
      "  Building wheel for object-detection (setup.py) ... \u001b[?25ldone\n",
      "\u001b[?25h  Created wheel for object-detection: filename=object_detection-0.1-py3-none-any.whl size=1662969 sha256=0d17799290a4fe05daea1f5167b977e8813319591b61badb7068203ceb986493\n",
      "  Stored in directory: /private/var/folders/m6/c267rt092gl6wlb9f6509r_h0000gn/T/pip-ephem-wheel-cache-fbp9fpuc/wheels/3e/9d/1e/063aaf83377e272309010e1ea8e701b1a58d11dda04a121069\n",
      "Successfully built object-detection\n",
      "Installing collected packages: object-detection\n",
      "  Attempting uninstall: object-detection\n",
      "    Found existing installation: object-detection 0.1\n",
      "    Uninstalling object-detection-0.1:\n",
      "      Successfully uninstalled object-detection-0.1\n",
      "Successfully installed object-detection-0.1\n"
     ]
    }
   ],
   "source": [
    "# Install Tensorflow Object Detection \n",
    "if os.name=='posix':  \n",
    "    !brew install protobuf-compiler\n",
    "    !cd Tensorflow/models/research && protoc object_detection/protos/*.proto --python_out=. && cp object_detection/packages/tf2/setup.py . && python -m pip install . \n",
    "    \n",
    "if os.name=='nt':\n",
    "    url=\"https://github.com/protocolbuffers/protobuf/releases/download/v3.15.6/protoc-3.15.6-win64.zip\"\n",
    "    wget.download(url)\n",
    "    !move protoc-3.15.6-win64.zip {paths['PROTOC_PATH']}\n",
    "    !cd {paths['PROTOC_PATH']} && tar -xf protoc-3.15.6-win64.zip\n",
    "    os.environ['PATH'] += os.pathsep + os.path.abspath(os.path.join(paths['PROTOC_PATH'], 'bin'))   \n",
    "    !cd Tensorflow/models/research && protoc object_detection/protos/*.proto --python_out=. && copy object_detection\\\\packages\\\\tf2\\\\setup.py setup.py && python setup.py build && python setup.py install\n",
    "    !cd Tensorflow/models/research/slim && pip install -e . "
   ]
  },
  {
   "cell_type": "code",
   "execution_count": 10,
   "metadata": {
    "collapsed": true
   },
   "outputs": [
    {
     "name": "stdout",
     "output_type": "stream",
     "text": [
      "2022-11-21 03:09:31.288432: I tensorflow/core/platform/cpu_feature_guard.cc:193] This TensorFlow binary is optimized with oneAPI Deep Neural Network Library (oneDNN) to use the following CPU instructions in performance-critical operations:  AVX2 FMA\n",
      "To enable them in other operations, rebuild TensorFlow with the appropriate compiler flags.\n",
      "Running tests under Python 3.9.12: /Users/shrestho12/opt/anaconda3/bin/python\n",
      "[ RUN      ] ModelBuilderTF2Test.test_create_center_net_deepmac\n",
      "2022-11-21 03:09:56.384403: I tensorflow/core/platform/cpu_feature_guard.cc:193] This TensorFlow binary is optimized with oneAPI Deep Neural Network Library (oneDNN) to use the following CPU instructions in performance-critical operations:  AVX2 FMA\n",
      "To enable them in other operations, rebuild TensorFlow with the appropriate compiler flags.\n",
      "/Users/shrestho12/opt/anaconda3/lib/python3.9/site-packages/object_detection/builders/model_builder.py:1109: DeprecationWarning: The 'warn' function is deprecated, use 'warning' instead\n",
      "  logging.warn(('Building experimental DeepMAC meta-arch.'\n",
      "W1121 03:09:56.604559 4686046720 model_builder.py:1109] Building experimental DeepMAC meta-arch. Some features may be omitted.\n",
      "INFO:tensorflow:time(__main__.ModelBuilderTF2Test.test_create_center_net_deepmac): 0.45s\n",
      "I1121 03:09:56.833317 4686046720 test_util.py:2460] time(__main__.ModelBuilderTF2Test.test_create_center_net_deepmac): 0.45s\n",
      "[       OK ] ModelBuilderTF2Test.test_create_center_net_deepmac\n",
      "[ RUN      ] ModelBuilderTF2Test.test_create_center_net_model0 (customize_head_params=True)\n",
      "INFO:tensorflow:time(__main__.ModelBuilderTF2Test.test_create_center_net_model0 (customize_head_params=True)): 0.71s\n",
      "I1121 03:09:57.547924 4686046720 test_util.py:2460] time(__main__.ModelBuilderTF2Test.test_create_center_net_model0 (customize_head_params=True)): 0.71s\n",
      "[       OK ] ModelBuilderTF2Test.test_create_center_net_model0 (customize_head_params=True)\n",
      "[ RUN      ] ModelBuilderTF2Test.test_create_center_net_model1 (customize_head_params=False)\n",
      "INFO:tensorflow:time(__main__.ModelBuilderTF2Test.test_create_center_net_model1 (customize_head_params=False)): 0.22s\n",
      "I1121 03:09:57.770745 4686046720 test_util.py:2460] time(__main__.ModelBuilderTF2Test.test_create_center_net_model1 (customize_head_params=False)): 0.22s\n",
      "[       OK ] ModelBuilderTF2Test.test_create_center_net_model1 (customize_head_params=False)\n",
      "[ RUN      ] ModelBuilderTF2Test.test_create_center_net_model_from_keypoints\n",
      "INFO:tensorflow:time(__main__.ModelBuilderTF2Test.test_create_center_net_model_from_keypoints): 0.2s\n",
      "I1121 03:09:57.975991 4686046720 test_util.py:2460] time(__main__.ModelBuilderTF2Test.test_create_center_net_model_from_keypoints): 0.2s\n",
      "[       OK ] ModelBuilderTF2Test.test_create_center_net_model_from_keypoints\n",
      "[ RUN      ] ModelBuilderTF2Test.test_create_center_net_model_mobilenet\n",
      "INFO:tensorflow:time(__main__.ModelBuilderTF2Test.test_create_center_net_model_mobilenet): 1.7s\n",
      "I1121 03:09:59.676313 4686046720 test_util.py:2460] time(__main__.ModelBuilderTF2Test.test_create_center_net_model_mobilenet): 1.7s\n",
      "[       OK ] ModelBuilderTF2Test.test_create_center_net_model_mobilenet\n",
      "[ RUN      ] ModelBuilderTF2Test.test_create_experimental_model\n",
      "INFO:tensorflow:time(__main__.ModelBuilderTF2Test.test_create_experimental_model): 0.0s\n",
      "I1121 03:09:59.680876 4686046720 test_util.py:2460] time(__main__.ModelBuilderTF2Test.test_create_experimental_model): 0.0s\n",
      "[       OK ] ModelBuilderTF2Test.test_create_experimental_model\n",
      "[ RUN      ] ModelBuilderTF2Test.test_create_faster_rcnn_from_config_with_crop_feature0 (True)\n",
      "INFO:tensorflow:time(__main__.ModelBuilderTF2Test.test_create_faster_rcnn_from_config_with_crop_feature0 (True)): 0.03s\n",
      "I1121 03:09:59.708085 4686046720 test_util.py:2460] time(__main__.ModelBuilderTF2Test.test_create_faster_rcnn_from_config_with_crop_feature0 (True)): 0.03s\n",
      "[       OK ] ModelBuilderTF2Test.test_create_faster_rcnn_from_config_with_crop_feature0 (True)\n",
      "[ RUN      ] ModelBuilderTF2Test.test_create_faster_rcnn_from_config_with_crop_feature1 (False)\n",
      "INFO:tensorflow:time(__main__.ModelBuilderTF2Test.test_create_faster_rcnn_from_config_with_crop_feature1 (False)): 0.02s\n",
      "I1121 03:09:59.724583 4686046720 test_util.py:2460] time(__main__.ModelBuilderTF2Test.test_create_faster_rcnn_from_config_with_crop_feature1 (False)): 0.02s\n",
      "[       OK ] ModelBuilderTF2Test.test_create_faster_rcnn_from_config_with_crop_feature1 (False)\n",
      "[ RUN      ] ModelBuilderTF2Test.test_create_faster_rcnn_model_from_config_with_example_miner\n",
      "INFO:tensorflow:time(__main__.ModelBuilderTF2Test.test_create_faster_rcnn_model_from_config_with_example_miner): 0.02s\n",
      "I1121 03:09:59.741488 4686046720 test_util.py:2460] time(__main__.ModelBuilderTF2Test.test_create_faster_rcnn_model_from_config_with_example_miner): 0.02s\n",
      "[       OK ] ModelBuilderTF2Test.test_create_faster_rcnn_model_from_config_with_example_miner\n",
      "[ RUN      ] ModelBuilderTF2Test.test_create_faster_rcnn_models_from_config_faster_rcnn_with_matmul\n",
      "INFO:tensorflow:time(__main__.ModelBuilderTF2Test.test_create_faster_rcnn_models_from_config_faster_rcnn_with_matmul): 0.09s\n",
      "I1121 03:09:59.827064 4686046720 test_util.py:2460] time(__main__.ModelBuilderTF2Test.test_create_faster_rcnn_models_from_config_faster_rcnn_with_matmul): 0.09s\n",
      "[       OK ] ModelBuilderTF2Test.test_create_faster_rcnn_models_from_config_faster_rcnn_with_matmul\n",
      "[ RUN      ] ModelBuilderTF2Test.test_create_faster_rcnn_models_from_config_faster_rcnn_without_matmul\n",
      "INFO:tensorflow:time(__main__.ModelBuilderTF2Test.test_create_faster_rcnn_models_from_config_faster_rcnn_without_matmul): 0.08s\n",
      "I1121 03:09:59.907552 4686046720 test_util.py:2460] time(__main__.ModelBuilderTF2Test.test_create_faster_rcnn_models_from_config_faster_rcnn_without_matmul): 0.08s\n",
      "[       OK ] ModelBuilderTF2Test.test_create_faster_rcnn_models_from_config_faster_rcnn_without_matmul\n",
      "[ RUN      ] ModelBuilderTF2Test.test_create_faster_rcnn_models_from_config_mask_rcnn_with_matmul\n",
      "INFO:tensorflow:time(__main__.ModelBuilderTF2Test.test_create_faster_rcnn_models_from_config_mask_rcnn_with_matmul): 0.22s\n",
      "I1121 03:10:00.128725 4686046720 test_util.py:2460] time(__main__.ModelBuilderTF2Test.test_create_faster_rcnn_models_from_config_mask_rcnn_with_matmul): 0.22s\n",
      "[       OK ] ModelBuilderTF2Test.test_create_faster_rcnn_models_from_config_mask_rcnn_with_matmul\n",
      "[ RUN      ] ModelBuilderTF2Test.test_create_faster_rcnn_models_from_config_mask_rcnn_without_matmul\n",
      "INFO:tensorflow:time(__main__.ModelBuilderTF2Test.test_create_faster_rcnn_models_from_config_mask_rcnn_without_matmul): 0.08s\n",
      "I1121 03:10:00.211488 4686046720 test_util.py:2460] time(__main__.ModelBuilderTF2Test.test_create_faster_rcnn_models_from_config_mask_rcnn_without_matmul): 0.08s\n",
      "[       OK ] ModelBuilderTF2Test.test_create_faster_rcnn_models_from_config_mask_rcnn_without_matmul\n",
      "[ RUN      ] ModelBuilderTF2Test.test_create_rfcn_model_from_config\n",
      "INFO:tensorflow:time(__main__.ModelBuilderTF2Test.test_create_rfcn_model_from_config): 0.08s\n",
      "I1121 03:10:00.294533 4686046720 test_util.py:2460] time(__main__.ModelBuilderTF2Test.test_create_rfcn_model_from_config): 0.08s\n",
      "[       OK ] ModelBuilderTF2Test.test_create_rfcn_model_from_config\n",
      "[ RUN      ] ModelBuilderTF2Test.test_create_ssd_fpn_model_from_config\n",
      "INFO:tensorflow:time(__main__.ModelBuilderTF2Test.test_create_ssd_fpn_model_from_config): 0.02s\n",
      "I1121 03:10:00.318650 4686046720 test_util.py:2460] time(__main__.ModelBuilderTF2Test.test_create_ssd_fpn_model_from_config): 0.02s\n",
      "[       OK ] ModelBuilderTF2Test.test_create_ssd_fpn_model_from_config\n",
      "[ RUN      ] ModelBuilderTF2Test.test_create_ssd_models_from_config\n",
      "I1121 03:10:00.467520 4686046720 ssd_efficientnet_bifpn_feature_extractor.py:150] EfficientDet EfficientNet backbone version: efficientnet-b0\n",
      "I1121 03:10:00.467640 4686046720 ssd_efficientnet_bifpn_feature_extractor.py:152] EfficientDet BiFPN num filters: 64\n",
      "I1121 03:10:00.467692 4686046720 ssd_efficientnet_bifpn_feature_extractor.py:153] EfficientDet BiFPN num iterations: 3\n",
      "I1121 03:10:00.469542 4686046720 efficientnet_model.py:143] round_filter input=32 output=32\n",
      "I1121 03:10:00.491893 4686046720 efficientnet_model.py:143] round_filter input=32 output=32\n",
      "I1121 03:10:00.492004 4686046720 efficientnet_model.py:143] round_filter input=16 output=16\n"
     ]
    },
    {
     "name": "stdout",
     "output_type": "stream",
     "text": [
      "I1121 03:10:00.553055 4686046720 efficientnet_model.py:143] round_filter input=16 output=16\n",
      "I1121 03:10:00.553167 4686046720 efficientnet_model.py:143] round_filter input=24 output=24\n",
      "I1121 03:10:00.705615 4686046720 efficientnet_model.py:143] round_filter input=24 output=24\n",
      "I1121 03:10:00.705732 4686046720 efficientnet_model.py:143] round_filter input=40 output=40\n",
      "I1121 03:10:00.853741 4686046720 efficientnet_model.py:143] round_filter input=40 output=40\n",
      "I1121 03:10:00.853850 4686046720 efficientnet_model.py:143] round_filter input=80 output=80\n",
      "I1121 03:10:01.069924 4686046720 efficientnet_model.py:143] round_filter input=80 output=80\n",
      "I1121 03:10:01.070034 4686046720 efficientnet_model.py:143] round_filter input=112 output=112\n",
      "I1121 03:10:01.290595 4686046720 efficientnet_model.py:143] round_filter input=112 output=112\n",
      "I1121 03:10:01.290715 4686046720 efficientnet_model.py:143] round_filter input=192 output=192\n",
      "I1121 03:10:01.601541 4686046720 efficientnet_model.py:143] round_filter input=192 output=192\n",
      "I1121 03:10:01.601658 4686046720 efficientnet_model.py:143] round_filter input=320 output=320\n",
      "I1121 03:10:01.680528 4686046720 efficientnet_model.py:143] round_filter input=1280 output=1280\n",
      "I1121 03:10:01.725541 4686046720 efficientnet_model.py:453] Building model efficientnet with params ModelConfig(width_coefficient=1.0, depth_coefficient=1.0, resolution=224, dropout_rate=0.2, blocks=(BlockConfig(input_filters=32, output_filters=16, kernel_size=3, num_repeat=1, expand_ratio=1, strides=(1, 1), se_ratio=0.25, id_skip=True, fused_conv=False, conv_type='depthwise'), BlockConfig(input_filters=16, output_filters=24, kernel_size=3, num_repeat=2, expand_ratio=6, strides=(2, 2), se_ratio=0.25, id_skip=True, fused_conv=False, conv_type='depthwise'), BlockConfig(input_filters=24, output_filters=40, kernel_size=5, num_repeat=2, expand_ratio=6, strides=(2, 2), se_ratio=0.25, id_skip=True, fused_conv=False, conv_type='depthwise'), BlockConfig(input_filters=40, output_filters=80, kernel_size=3, num_repeat=3, expand_ratio=6, strides=(2, 2), se_ratio=0.25, id_skip=True, fused_conv=False, conv_type='depthwise'), BlockConfig(input_filters=80, output_filters=112, kernel_size=5, num_repeat=3, expand_ratio=6, strides=(1, 1), se_ratio=0.25, id_skip=True, fused_conv=False, conv_type='depthwise'), BlockConfig(input_filters=112, output_filters=192, kernel_size=5, num_repeat=4, expand_ratio=6, strides=(2, 2), se_ratio=0.25, id_skip=True, fused_conv=False, conv_type='depthwise'), BlockConfig(input_filters=192, output_filters=320, kernel_size=3, num_repeat=1, expand_ratio=6, strides=(1, 1), se_ratio=0.25, id_skip=True, fused_conv=False, conv_type='depthwise')), stem_base_filters=32, top_base_filters=1280, activation='simple_swish', batch_norm='default', bn_momentum=0.99, bn_epsilon=0.001, weight_decay=5e-06, drop_connect_rate=0.2, depth_divisor=8, min_depth=None, use_se=True, input_channels=3, num_classes=1000, model_name='efficientnet', rescale_input=False, data_format='channels_last', dtype='float32')\n",
      "I1121 03:10:01.772688 4686046720 ssd_efficientnet_bifpn_feature_extractor.py:150] EfficientDet EfficientNet backbone version: efficientnet-b1\n",
      "I1121 03:10:01.772800 4686046720 ssd_efficientnet_bifpn_feature_extractor.py:152] EfficientDet BiFPN num filters: 88\n",
      "I1121 03:10:01.772852 4686046720 ssd_efficientnet_bifpn_feature_extractor.py:153] EfficientDet BiFPN num iterations: 4\n",
      "I1121 03:10:01.774211 4686046720 efficientnet_model.py:143] round_filter input=32 output=32\n",
      "I1121 03:10:01.790164 4686046720 efficientnet_model.py:143] round_filter input=32 output=32\n",
      "I1121 03:10:01.790267 4686046720 efficientnet_model.py:143] round_filter input=16 output=16\n",
      "I1121 03:10:01.914352 4686046720 efficientnet_model.py:143] round_filter input=16 output=16\n",
      "I1121 03:10:01.914463 4686046720 efficientnet_model.py:143] round_filter input=24 output=24\n",
      "I1121 03:10:02.119590 4686046720 efficientnet_model.py:143] round_filter input=24 output=24\n",
      "I1121 03:10:02.119702 4686046720 efficientnet_model.py:143] round_filter input=40 output=40\n",
      "I1121 03:10:02.323487 4686046720 efficientnet_model.py:143] round_filter input=40 output=40\n",
      "I1121 03:10:02.323603 4686046720 efficientnet_model.py:143] round_filter input=80 output=80\n",
      "I1121 03:10:02.602532 4686046720 efficientnet_model.py:143] round_filter input=80 output=80\n",
      "I1121 03:10:02.602641 4686046720 efficientnet_model.py:143] round_filter input=112 output=112\n",
      "I1121 03:10:02.885056 4686046720 efficientnet_model.py:143] round_filter input=112 output=112\n",
      "I1121 03:10:02.885166 4686046720 efficientnet_model.py:143] round_filter input=192 output=192\n",
      "I1121 03:10:03.246325 4686046720 efficientnet_model.py:143] round_filter input=192 output=192\n",
      "I1121 03:10:03.246438 4686046720 efficientnet_model.py:143] round_filter input=320 output=320\n",
      "I1121 03:10:03.408399 4686046720 efficientnet_model.py:143] round_filter input=1280 output=1280\n",
      "I1121 03:10:03.441985 4686046720 efficientnet_model.py:453] Building model efficientnet with params ModelConfig(width_coefficient=1.0, depth_coefficient=1.1, resolution=240, dropout_rate=0.2, blocks=(BlockConfig(input_filters=32, output_filters=16, kernel_size=3, num_repeat=1, expand_ratio=1, strides=(1, 1), se_ratio=0.25, id_skip=True, fused_conv=False, conv_type='depthwise'), BlockConfig(input_filters=16, output_filters=24, kernel_size=3, num_repeat=2, expand_ratio=6, strides=(2, 2), se_ratio=0.25, id_skip=True, fused_conv=False, conv_type='depthwise'), BlockConfig(input_filters=24, output_filters=40, kernel_size=5, num_repeat=2, expand_ratio=6, strides=(2, 2), se_ratio=0.25, id_skip=True, fused_conv=False, conv_type='depthwise'), BlockConfig(input_filters=40, output_filters=80, kernel_size=3, num_repeat=3, expand_ratio=6, strides=(2, 2), se_ratio=0.25, id_skip=True, fused_conv=False, conv_type='depthwise'), BlockConfig(input_filters=80, output_filters=112, kernel_size=5, num_repeat=3, expand_ratio=6, strides=(1, 1), se_ratio=0.25, id_skip=True, fused_conv=False, conv_type='depthwise'), BlockConfig(input_filters=112, output_filters=192, kernel_size=5, num_repeat=4, expand_ratio=6, strides=(2, 2), se_ratio=0.25, id_skip=True, fused_conv=False, conv_type='depthwise'), BlockConfig(input_filters=192, output_filters=320, kernel_size=3, num_repeat=1, expand_ratio=6, strides=(1, 1), se_ratio=0.25, id_skip=True, fused_conv=False, conv_type='depthwise')), stem_base_filters=32, top_base_filters=1280, activation='simple_swish', batch_norm='default', bn_momentum=0.99, bn_epsilon=0.001, weight_decay=5e-06, drop_connect_rate=0.2, depth_divisor=8, min_depth=None, use_se=True, input_channels=3, num_classes=1000, model_name='efficientnet', rescale_input=False, data_format='channels_last', dtype='float32')\n",
      "I1121 03:10:03.496725 4686046720 ssd_efficientnet_bifpn_feature_extractor.py:150] EfficientDet EfficientNet backbone version: efficientnet-b2\n",
      "I1121 03:10:03.496840 4686046720 ssd_efficientnet_bifpn_feature_extractor.py:152] EfficientDet BiFPN num filters: 112\n",
      "I1121 03:10:03.496890 4686046720 ssd_efficientnet_bifpn_feature_extractor.py:153] EfficientDet BiFPN num iterations: 5\n",
      "I1121 03:10:03.498232 4686046720 efficientnet_model.py:143] round_filter input=32 output=32\n",
      "I1121 03:10:03.512257 4686046720 efficientnet_model.py:143] round_filter input=32 output=32\n",
      "I1121 03:10:03.512357 4686046720 efficientnet_model.py:143] round_filter input=16 output=16\n",
      "I1121 03:10:03.618120 4686046720 efficientnet_model.py:143] round_filter input=16 output=16\n",
      "I1121 03:10:03.618232 4686046720 efficientnet_model.py:143] round_filter input=24 output=24\n",
      "I1121 03:10:03.822432 4686046720 efficientnet_model.py:143] round_filter input=24 output=24\n",
      "I1121 03:10:03.822563 4686046720 efficientnet_model.py:143] round_filter input=40 output=48\n",
      "I1121 03:10:04.180807 4686046720 efficientnet_model.py:143] round_filter input=40 output=48\n",
      "I1121 03:10:04.180924 4686046720 efficientnet_model.py:143] round_filter input=80 output=88\n",
      "I1121 03:10:04.469072 4686046720 efficientnet_model.py:143] round_filter input=80 output=88\n",
      "I1121 03:10:04.469186 4686046720 efficientnet_model.py:143] round_filter input=112 output=120\n",
      "I1121 03:10:04.762477 4686046720 efficientnet_model.py:143] round_filter input=112 output=120\n",
      "I1121 03:10:04.762595 4686046720 efficientnet_model.py:143] round_filter input=192 output=208\n"
     ]
    },
    {
     "name": "stdout",
     "output_type": "stream",
     "text": [
      "I1121 03:10:05.138906 4686046720 efficientnet_model.py:143] round_filter input=192 output=208\n",
      "I1121 03:10:05.139025 4686046720 efficientnet_model.py:143] round_filter input=320 output=352\n",
      "I1121 03:10:05.310640 4686046720 efficientnet_model.py:143] round_filter input=1280 output=1408\n",
      "I1121 03:10:05.353854 4686046720 efficientnet_model.py:453] Building model efficientnet with params ModelConfig(width_coefficient=1.1, depth_coefficient=1.2, resolution=260, dropout_rate=0.3, blocks=(BlockConfig(input_filters=32, output_filters=16, kernel_size=3, num_repeat=1, expand_ratio=1, strides=(1, 1), se_ratio=0.25, id_skip=True, fused_conv=False, conv_type='depthwise'), BlockConfig(input_filters=16, output_filters=24, kernel_size=3, num_repeat=2, expand_ratio=6, strides=(2, 2), se_ratio=0.25, id_skip=True, fused_conv=False, conv_type='depthwise'), BlockConfig(input_filters=24, output_filters=40, kernel_size=5, num_repeat=2, expand_ratio=6, strides=(2, 2), se_ratio=0.25, id_skip=True, fused_conv=False, conv_type='depthwise'), BlockConfig(input_filters=40, output_filters=80, kernel_size=3, num_repeat=3, expand_ratio=6, strides=(2, 2), se_ratio=0.25, id_skip=True, fused_conv=False, conv_type='depthwise'), BlockConfig(input_filters=80, output_filters=112, kernel_size=5, num_repeat=3, expand_ratio=6, strides=(1, 1), se_ratio=0.25, id_skip=True, fused_conv=False, conv_type='depthwise'), BlockConfig(input_filters=112, output_filters=192, kernel_size=5, num_repeat=4, expand_ratio=6, strides=(2, 2), se_ratio=0.25, id_skip=True, fused_conv=False, conv_type='depthwise'), BlockConfig(input_filters=192, output_filters=320, kernel_size=3, num_repeat=1, expand_ratio=6, strides=(1, 1), se_ratio=0.25, id_skip=True, fused_conv=False, conv_type='depthwise')), stem_base_filters=32, top_base_filters=1280, activation='simple_swish', batch_norm='default', bn_momentum=0.99, bn_epsilon=0.001, weight_decay=5e-06, drop_connect_rate=0.2, depth_divisor=8, min_depth=None, use_se=True, input_channels=3, num_classes=1000, model_name='efficientnet', rescale_input=False, data_format='channels_last', dtype='float32')\n",
      "I1121 03:10:05.408075 4686046720 ssd_efficientnet_bifpn_feature_extractor.py:150] EfficientDet EfficientNet backbone version: efficientnet-b3\n",
      "I1121 03:10:05.408187 4686046720 ssd_efficientnet_bifpn_feature_extractor.py:152] EfficientDet BiFPN num filters: 160\n",
      "I1121 03:10:05.408238 4686046720 ssd_efficientnet_bifpn_feature_extractor.py:153] EfficientDet BiFPN num iterations: 6\n",
      "I1121 03:10:05.409533 4686046720 efficientnet_model.py:143] round_filter input=32 output=40\n",
      "I1121 03:10:05.425101 4686046720 efficientnet_model.py:143] round_filter input=32 output=40\n",
      "I1121 03:10:05.425197 4686046720 efficientnet_model.py:143] round_filter input=16 output=24\n",
      "I1121 03:10:05.542805 4686046720 efficientnet_model.py:143] round_filter input=16 output=24\n",
      "I1121 03:10:05.542917 4686046720 efficientnet_model.py:143] round_filter input=24 output=32\n",
      "I1121 03:10:05.754899 4686046720 efficientnet_model.py:143] round_filter input=24 output=32\n",
      "I1121 03:10:05.755017 4686046720 efficientnet_model.py:143] round_filter input=40 output=48\n",
      "I1121 03:10:05.964375 4686046720 efficientnet_model.py:143] round_filter input=40 output=48\n",
      "I1121 03:10:05.964485 4686046720 efficientnet_model.py:143] round_filter input=80 output=96\n",
      "I1121 03:10:06.324908 4686046720 efficientnet_model.py:143] round_filter input=80 output=96\n",
      "I1121 03:10:06.325018 4686046720 efficientnet_model.py:143] round_filter input=112 output=136\n",
      "I1121 03:10:06.692401 4686046720 efficientnet_model.py:143] round_filter input=112 output=136\n",
      "I1121 03:10:06.692518 4686046720 efficientnet_model.py:143] round_filter input=192 output=232\n",
      "I1121 03:10:07.151478 4686046720 efficientnet_model.py:143] round_filter input=192 output=232\n",
      "I1121 03:10:07.151589 4686046720 efficientnet_model.py:143] round_filter input=320 output=384\n",
      "I1121 03:10:07.388471 4686046720 efficientnet_model.py:143] round_filter input=1280 output=1536\n",
      "I1121 03:10:07.475838 4686046720 efficientnet_model.py:453] Building model efficientnet with params ModelConfig(width_coefficient=1.2, depth_coefficient=1.4, resolution=300, dropout_rate=0.3, blocks=(BlockConfig(input_filters=32, output_filters=16, kernel_size=3, num_repeat=1, expand_ratio=1, strides=(1, 1), se_ratio=0.25, id_skip=True, fused_conv=False, conv_type='depthwise'), BlockConfig(input_filters=16, output_filters=24, kernel_size=3, num_repeat=2, expand_ratio=6, strides=(2, 2), se_ratio=0.25, id_skip=True, fused_conv=False, conv_type='depthwise'), BlockConfig(input_filters=24, output_filters=40, kernel_size=5, num_repeat=2, expand_ratio=6, strides=(2, 2), se_ratio=0.25, id_skip=True, fused_conv=False, conv_type='depthwise'), BlockConfig(input_filters=40, output_filters=80, kernel_size=3, num_repeat=3, expand_ratio=6, strides=(2, 2), se_ratio=0.25, id_skip=True, fused_conv=False, conv_type='depthwise'), BlockConfig(input_filters=80, output_filters=112, kernel_size=5, num_repeat=3, expand_ratio=6, strides=(1, 1), se_ratio=0.25, id_skip=True, fused_conv=False, conv_type='depthwise'), BlockConfig(input_filters=112, output_filters=192, kernel_size=5, num_repeat=4, expand_ratio=6, strides=(2, 2), se_ratio=0.25, id_skip=True, fused_conv=False, conv_type='depthwise'), BlockConfig(input_filters=192, output_filters=320, kernel_size=3, num_repeat=1, expand_ratio=6, strides=(1, 1), se_ratio=0.25, id_skip=True, fused_conv=False, conv_type='depthwise')), stem_base_filters=32, top_base_filters=1280, activation='simple_swish', batch_norm='default', bn_momentum=0.99, bn_epsilon=0.001, weight_decay=5e-06, drop_connect_rate=0.2, depth_divisor=8, min_depth=None, use_se=True, input_channels=3, num_classes=1000, model_name='efficientnet', rescale_input=False, data_format='channels_last', dtype='float32')\n",
      "I1121 03:10:07.537652 4686046720 ssd_efficientnet_bifpn_feature_extractor.py:150] EfficientDet EfficientNet backbone version: efficientnet-b4\n",
      "I1121 03:10:07.537791 4686046720 ssd_efficientnet_bifpn_feature_extractor.py:152] EfficientDet BiFPN num filters: 224\n",
      "I1121 03:10:07.537850 4686046720 ssd_efficientnet_bifpn_feature_extractor.py:153] EfficientDet BiFPN num iterations: 7\n",
      "I1121 03:10:07.539469 4686046720 efficientnet_model.py:143] round_filter input=32 output=48\n",
      "I1121 03:10:07.554147 4686046720 efficientnet_model.py:143] round_filter input=32 output=48\n",
      "I1121 03:10:07.554246 4686046720 efficientnet_model.py:143] round_filter input=16 output=24\n",
      "I1121 03:10:07.665930 4686046720 efficientnet_model.py:143] round_filter input=16 output=24\n",
      "I1121 03:10:07.666037 4686046720 efficientnet_model.py:143] round_filter input=24 output=32\n",
      "I1121 03:10:07.942775 4686046720 efficientnet_model.py:143] round_filter input=24 output=32\n",
      "I1121 03:10:07.942891 4686046720 efficientnet_model.py:143] round_filter input=40 output=56\n",
      "I1121 03:10:08.231570 4686046720 efficientnet_model.py:143] round_filter input=40 output=56\n",
      "I1121 03:10:08.231693 4686046720 efficientnet_model.py:143] round_filter input=80 output=112\n",
      "I1121 03:10:08.660050 4686046720 efficientnet_model.py:143] round_filter input=80 output=112\n",
      "I1121 03:10:08.660166 4686046720 efficientnet_model.py:143] round_filter input=112 output=160\n",
      "I1121 03:10:09.100405 4686046720 efficientnet_model.py:143] round_filter input=112 output=160\n",
      "I1121 03:10:09.100527 4686046720 efficientnet_model.py:143] round_filter input=192 output=272\n",
      "I1121 03:10:09.925447 4686046720 efficientnet_model.py:143] round_filter input=192 output=272\n",
      "I1121 03:10:09.925582 4686046720 efficientnet_model.py:143] round_filter input=320 output=448\n",
      "I1121 03:10:10.103795 4686046720 efficientnet_model.py:143] round_filter input=1280 output=1792\n",
      "I1121 03:10:10.152138 4686046720 efficientnet_model.py:453] Building model efficientnet with params ModelConfig(width_coefficient=1.4, depth_coefficient=1.8, resolution=380, dropout_rate=0.4, blocks=(BlockConfig(input_filters=32, output_filters=16, kernel_size=3, num_repeat=1, expand_ratio=1, strides=(1, 1), se_ratio=0.25, id_skip=True, fused_conv=False, conv_type='depthwise'), BlockConfig(input_filters=16, output_filters=24, kernel_size=3, num_repeat=2, expand_ratio=6, strides=(2, 2), se_ratio=0.25, id_skip=True, fused_conv=False, conv_type='depthwise'), BlockConfig(input_filters=24, output_filters=40, kernel_size=5, num_repeat=2, expand_ratio=6, strides=(2, 2), se_ratio=0.25, id_skip=True, fused_conv=False, conv_type='depthwise'), BlockConfig(input_filters=40, output_filters=80, kernel_size=3, num_repeat=3, expand_ratio=6, strides=(2, 2), se_ratio=0.25, id_skip=True, fused_conv=False, conv_type='depthwise'), BlockConfig(input_filters=80, output_filters=112, kernel_size=5, num_repeat=3, expand_ratio=6, strides=(1, 1), se_ratio=0.25, id_skip=True, fused_conv=False, conv_type='depthwise'), BlockConfig(input_filters=112, output_filters=192, kernel_size=5, num_repeat=4, expand_ratio=6, strides=(2, 2), se_ratio=0.25, id_skip=True, fused_conv=False, conv_type='depthwise'), BlockConfig(input_filters=192, output_filters=320, kernel_size=3, num_repeat=1, expand_ratio=6, strides=(1, 1), se_ratio=0.25, id_skip=True, fused_conv=False, conv_type='depthwise')), stem_base_filters=32, top_base_filters=1280, activation='simple_swish', batch_norm='default', bn_momentum=0.99, bn_epsilon=0.001, weight_decay=5e-06, drop_connect_rate=0.2, depth_divisor=8, min_depth=None, use_se=True, input_channels=3, num_classes=1000, model_name='efficientnet', rescale_input=False, data_format='channels_last', dtype='float32')\n"
     ]
    },
    {
     "name": "stdout",
     "output_type": "stream",
     "text": [
      "I1121 03:10:10.220065 4686046720 ssd_efficientnet_bifpn_feature_extractor.py:150] EfficientDet EfficientNet backbone version: efficientnet-b5\n",
      "I1121 03:10:10.220175 4686046720 ssd_efficientnet_bifpn_feature_extractor.py:152] EfficientDet BiFPN num filters: 288\n",
      "I1121 03:10:10.220222 4686046720 ssd_efficientnet_bifpn_feature_extractor.py:153] EfficientDet BiFPN num iterations: 7\n",
      "I1121 03:10:10.221669 4686046720 efficientnet_model.py:143] round_filter input=32 output=48\n",
      "I1121 03:10:10.236129 4686046720 efficientnet_model.py:143] round_filter input=32 output=48\n",
      "I1121 03:10:10.236229 4686046720 efficientnet_model.py:143] round_filter input=16 output=24\n",
      "I1121 03:10:10.397978 4686046720 efficientnet_model.py:143] round_filter input=16 output=24\n",
      "I1121 03:10:10.398087 4686046720 efficientnet_model.py:143] round_filter input=24 output=40\n",
      "I1121 03:10:10.740417 4686046720 efficientnet_model.py:143] round_filter input=24 output=40\n",
      "I1121 03:10:10.740530 4686046720 efficientnet_model.py:143] round_filter input=40 output=64\n",
      "I1121 03:10:11.097352 4686046720 efficientnet_model.py:143] round_filter input=40 output=64\n",
      "I1121 03:10:11.097468 4686046720 efficientnet_model.py:143] round_filter input=80 output=128\n",
      "I1121 03:10:11.610827 4686046720 efficientnet_model.py:143] round_filter input=80 output=128\n",
      "I1121 03:10:11.610997 4686046720 efficientnet_model.py:143] round_filter input=112 output=176\n",
      "I1121 03:10:12.133725 4686046720 efficientnet_model.py:143] round_filter input=112 output=176\n",
      "I1121 03:10:12.133845 4686046720 efficientnet_model.py:143] round_filter input=192 output=304\n",
      "I1121 03:10:12.863119 4686046720 efficientnet_model.py:143] round_filter input=192 output=304\n",
      "I1121 03:10:12.863237 4686046720 efficientnet_model.py:143] round_filter input=320 output=512\n",
      "I1121 03:10:13.165903 4686046720 efficientnet_model.py:143] round_filter input=1280 output=2048\n",
      "I1121 03:10:13.216658 4686046720 efficientnet_model.py:453] Building model efficientnet with params ModelConfig(width_coefficient=1.6, depth_coefficient=2.2, resolution=456, dropout_rate=0.4, blocks=(BlockConfig(input_filters=32, output_filters=16, kernel_size=3, num_repeat=1, expand_ratio=1, strides=(1, 1), se_ratio=0.25, id_skip=True, fused_conv=False, conv_type='depthwise'), BlockConfig(input_filters=16, output_filters=24, kernel_size=3, num_repeat=2, expand_ratio=6, strides=(2, 2), se_ratio=0.25, id_skip=True, fused_conv=False, conv_type='depthwise'), BlockConfig(input_filters=24, output_filters=40, kernel_size=5, num_repeat=2, expand_ratio=6, strides=(2, 2), se_ratio=0.25, id_skip=True, fused_conv=False, conv_type='depthwise'), BlockConfig(input_filters=40, output_filters=80, kernel_size=3, num_repeat=3, expand_ratio=6, strides=(2, 2), se_ratio=0.25, id_skip=True, fused_conv=False, conv_type='depthwise'), BlockConfig(input_filters=80, output_filters=112, kernel_size=5, num_repeat=3, expand_ratio=6, strides=(1, 1), se_ratio=0.25, id_skip=True, fused_conv=False, conv_type='depthwise'), BlockConfig(input_filters=112, output_filters=192, kernel_size=5, num_repeat=4, expand_ratio=6, strides=(2, 2), se_ratio=0.25, id_skip=True, fused_conv=False, conv_type='depthwise'), BlockConfig(input_filters=192, output_filters=320, kernel_size=3, num_repeat=1, expand_ratio=6, strides=(1, 1), se_ratio=0.25, id_skip=True, fused_conv=False, conv_type='depthwise')), stem_base_filters=32, top_base_filters=1280, activation='simple_swish', batch_norm='default', bn_momentum=0.99, bn_epsilon=0.001, weight_decay=5e-06, drop_connect_rate=0.2, depth_divisor=8, min_depth=None, use_se=True, input_channels=3, num_classes=1000, model_name='efficientnet', rescale_input=False, data_format='channels_last', dtype='float32')\n",
      "I1121 03:10:13.301259 4686046720 ssd_efficientnet_bifpn_feature_extractor.py:150] EfficientDet EfficientNet backbone version: efficientnet-b6\n",
      "I1121 03:10:13.301374 4686046720 ssd_efficientnet_bifpn_feature_extractor.py:152] EfficientDet BiFPN num filters: 384\n",
      "I1121 03:10:13.301424 4686046720 ssd_efficientnet_bifpn_feature_extractor.py:153] EfficientDet BiFPN num iterations: 8\n",
      "I1121 03:10:13.302749 4686046720 efficientnet_model.py:143] round_filter input=32 output=56\n",
      "I1121 03:10:13.318274 4686046720 efficientnet_model.py:143] round_filter input=32 output=56\n",
      "I1121 03:10:13.318373 4686046720 efficientnet_model.py:143] round_filter input=16 output=32\n",
      "I1121 03:10:13.488001 4686046720 efficientnet_model.py:143] round_filter input=16 output=32\n",
      "I1121 03:10:13.488112 4686046720 efficientnet_model.py:143] round_filter input=24 output=40\n",
      "I1121 03:10:13.902778 4686046720 efficientnet_model.py:143] round_filter input=24 output=40\n",
      "I1121 03:10:13.902900 4686046720 efficientnet_model.py:143] round_filter input=40 output=72\n",
      "I1121 03:10:14.335354 4686046720 efficientnet_model.py:143] round_filter input=40 output=72\n",
      "I1121 03:10:14.335469 4686046720 efficientnet_model.py:143] round_filter input=80 output=144\n",
      "I1121 03:10:15.150614 4686046720 efficientnet_model.py:143] round_filter input=80 output=144\n",
      "I1121 03:10:15.150734 4686046720 efficientnet_model.py:143] round_filter input=112 output=200\n",
      "I1121 03:10:15.741424 4686046720 efficientnet_model.py:143] round_filter input=112 output=200\n",
      "I1121 03:10:15.741565 4686046720 efficientnet_model.py:143] round_filter input=192 output=344\n",
      "I1121 03:10:16.651592 4686046720 efficientnet_model.py:143] round_filter input=192 output=344\n",
      "I1121 03:10:16.651715 4686046720 efficientnet_model.py:143] round_filter input=320 output=576\n",
      "I1121 03:10:16.968395 4686046720 efficientnet_model.py:143] round_filter input=1280 output=2304\n",
      "I1121 03:10:17.020961 4686046720 efficientnet_model.py:453] Building model efficientnet with params ModelConfig(width_coefficient=1.8, depth_coefficient=2.6, resolution=528, dropout_rate=0.5, blocks=(BlockConfig(input_filters=32, output_filters=16, kernel_size=3, num_repeat=1, expand_ratio=1, strides=(1, 1), se_ratio=0.25, id_skip=True, fused_conv=False, conv_type='depthwise'), BlockConfig(input_filters=16, output_filters=24, kernel_size=3, num_repeat=2, expand_ratio=6, strides=(2, 2), se_ratio=0.25, id_skip=True, fused_conv=False, conv_type='depthwise'), BlockConfig(input_filters=24, output_filters=40, kernel_size=5, num_repeat=2, expand_ratio=6, strides=(2, 2), se_ratio=0.25, id_skip=True, fused_conv=False, conv_type='depthwise'), BlockConfig(input_filters=40, output_filters=80, kernel_size=3, num_repeat=3, expand_ratio=6, strides=(2, 2), se_ratio=0.25, id_skip=True, fused_conv=False, conv_type='depthwise'), BlockConfig(input_filters=80, output_filters=112, kernel_size=5, num_repeat=3, expand_ratio=6, strides=(1, 1), se_ratio=0.25, id_skip=True, fused_conv=False, conv_type='depthwise'), BlockConfig(input_filters=112, output_filters=192, kernel_size=5, num_repeat=4, expand_ratio=6, strides=(2, 2), se_ratio=0.25, id_skip=True, fused_conv=False, conv_type='depthwise'), BlockConfig(input_filters=192, output_filters=320, kernel_size=3, num_repeat=1, expand_ratio=6, strides=(1, 1), se_ratio=0.25, id_skip=True, fused_conv=False, conv_type='depthwise')), stem_base_filters=32, top_base_filters=1280, activation='simple_swish', batch_norm='default', bn_momentum=0.99, bn_epsilon=0.001, weight_decay=5e-06, drop_connect_rate=0.2, depth_divisor=8, min_depth=None, use_se=True, input_channels=3, num_classes=1000, model_name='efficientnet', rescale_input=False, data_format='channels_last', dtype='float32')\n",
      "I1121 03:10:17.112898 4686046720 ssd_efficientnet_bifpn_feature_extractor.py:150] EfficientDet EfficientNet backbone version: efficientnet-b7\n",
      "I1121 03:10:17.113010 4686046720 ssd_efficientnet_bifpn_feature_extractor.py:152] EfficientDet BiFPN num filters: 384\n",
      "I1121 03:10:17.113061 4686046720 ssd_efficientnet_bifpn_feature_extractor.py:153] EfficientDet BiFPN num iterations: 8\n",
      "I1121 03:10:17.114395 4686046720 efficientnet_model.py:143] round_filter input=32 output=64\n",
      "I1121 03:10:17.129537 4686046720 efficientnet_model.py:143] round_filter input=32 output=64\n",
      "I1121 03:10:17.129636 4686046720 efficientnet_model.py:143] round_filter input=16 output=32\n",
      "I1121 03:10:17.358022 4686046720 efficientnet_model.py:143] round_filter input=16 output=32\n",
      "I1121 03:10:17.358139 4686046720 efficientnet_model.py:143] round_filter input=24 output=48\n"
     ]
    },
    {
     "name": "stdout",
     "output_type": "stream",
     "text": [
      "I1121 03:10:17.848979 4686046720 efficientnet_model.py:143] round_filter input=24 output=48\n",
      "I1121 03:10:17.849103 4686046720 efficientnet_model.py:143] round_filter input=40 output=80\n",
      "I1121 03:10:18.341575 4686046720 efficientnet_model.py:143] round_filter input=40 output=80\n",
      "I1121 03:10:18.341695 4686046720 efficientnet_model.py:143] round_filter input=80 output=160\n",
      "I1121 03:10:19.068972 4686046720 efficientnet_model.py:143] round_filter input=80 output=160\n",
      "I1121 03:10:19.069087 4686046720 efficientnet_model.py:143] round_filter input=112 output=224\n",
      "I1121 03:10:19.836343 4686046720 efficientnet_model.py:143] round_filter input=112 output=224\n",
      "I1121 03:10:19.836462 4686046720 efficientnet_model.py:143] round_filter input=192 output=384\n",
      "I1121 03:10:21.218050 4686046720 efficientnet_model.py:143] round_filter input=192 output=384\n",
      "I1121 03:10:21.218202 4686046720 efficientnet_model.py:143] round_filter input=320 output=640\n",
      "I1121 03:10:21.638929 4686046720 efficientnet_model.py:143] round_filter input=1280 output=2560\n",
      "I1121 03:10:21.700559 4686046720 efficientnet_model.py:453] Building model efficientnet with params ModelConfig(width_coefficient=2.0, depth_coefficient=3.1, resolution=600, dropout_rate=0.5, blocks=(BlockConfig(input_filters=32, output_filters=16, kernel_size=3, num_repeat=1, expand_ratio=1, strides=(1, 1), se_ratio=0.25, id_skip=True, fused_conv=False, conv_type='depthwise'), BlockConfig(input_filters=16, output_filters=24, kernel_size=3, num_repeat=2, expand_ratio=6, strides=(2, 2), se_ratio=0.25, id_skip=True, fused_conv=False, conv_type='depthwise'), BlockConfig(input_filters=24, output_filters=40, kernel_size=5, num_repeat=2, expand_ratio=6, strides=(2, 2), se_ratio=0.25, id_skip=True, fused_conv=False, conv_type='depthwise'), BlockConfig(input_filters=40, output_filters=80, kernel_size=3, num_repeat=3, expand_ratio=6, strides=(2, 2), se_ratio=0.25, id_skip=True, fused_conv=False, conv_type='depthwise'), BlockConfig(input_filters=80, output_filters=112, kernel_size=5, num_repeat=3, expand_ratio=6, strides=(1, 1), se_ratio=0.25, id_skip=True, fused_conv=False, conv_type='depthwise'), BlockConfig(input_filters=112, output_filters=192, kernel_size=5, num_repeat=4, expand_ratio=6, strides=(2, 2), se_ratio=0.25, id_skip=True, fused_conv=False, conv_type='depthwise'), BlockConfig(input_filters=192, output_filters=320, kernel_size=3, num_repeat=1, expand_ratio=6, strides=(1, 1), se_ratio=0.25, id_skip=True, fused_conv=False, conv_type='depthwise')), stem_base_filters=32, top_base_filters=1280, activation='simple_swish', batch_norm='default', bn_momentum=0.99, bn_epsilon=0.001, weight_decay=5e-06, drop_connect_rate=0.2, depth_divisor=8, min_depth=None, use_se=True, input_channels=3, num_classes=1000, model_name='efficientnet', rescale_input=False, data_format='channels_last', dtype='float32')\n",
      "INFO:tensorflow:time(__main__.ModelBuilderTF2Test.test_create_ssd_models_from_config): 21.5s\n",
      "I1121 03:10:21.817062 4686046720 test_util.py:2460] time(__main__.ModelBuilderTF2Test.test_create_ssd_models_from_config): 21.5s\n",
      "[       OK ] ModelBuilderTF2Test.test_create_ssd_models_from_config\n",
      "[ RUN      ] ModelBuilderTF2Test.test_invalid_faster_rcnn_batchnorm_update\n",
      "INFO:tensorflow:time(__main__.ModelBuilderTF2Test.test_invalid_faster_rcnn_batchnorm_update): 0.0s\n",
      "I1121 03:10:21.840818 4686046720 test_util.py:2460] time(__main__.ModelBuilderTF2Test.test_invalid_faster_rcnn_batchnorm_update): 0.0s\n",
      "[       OK ] ModelBuilderTF2Test.test_invalid_faster_rcnn_batchnorm_update\n",
      "[ RUN      ] ModelBuilderTF2Test.test_invalid_first_stage_nms_iou_threshold\n",
      "INFO:tensorflow:time(__main__.ModelBuilderTF2Test.test_invalid_first_stage_nms_iou_threshold): 0.0s\n",
      "I1121 03:10:21.842439 4686046720 test_util.py:2460] time(__main__.ModelBuilderTF2Test.test_invalid_first_stage_nms_iou_threshold): 0.0s\n",
      "[       OK ] ModelBuilderTF2Test.test_invalid_first_stage_nms_iou_threshold\n",
      "[ RUN      ] ModelBuilderTF2Test.test_invalid_model_config_proto\n",
      "INFO:tensorflow:time(__main__.ModelBuilderTF2Test.test_invalid_model_config_proto): 0.0s\n",
      "I1121 03:10:21.842823 4686046720 test_util.py:2460] time(__main__.ModelBuilderTF2Test.test_invalid_model_config_proto): 0.0s\n",
      "[       OK ] ModelBuilderTF2Test.test_invalid_model_config_proto\n",
      "[ RUN      ] ModelBuilderTF2Test.test_invalid_second_stage_batch_size\n",
      "INFO:tensorflow:time(__main__.ModelBuilderTF2Test.test_invalid_second_stage_batch_size): 0.0s\n",
      "I1121 03:10:21.844182 4686046720 test_util.py:2460] time(__main__.ModelBuilderTF2Test.test_invalid_second_stage_batch_size): 0.0s\n",
      "[       OK ] ModelBuilderTF2Test.test_invalid_second_stage_batch_size\n",
      "[ RUN      ] ModelBuilderTF2Test.test_session\n",
      "[  SKIPPED ] ModelBuilderTF2Test.test_session\n",
      "[ RUN      ] ModelBuilderTF2Test.test_unknown_faster_rcnn_feature_extractor\n",
      "INFO:tensorflow:time(__main__.ModelBuilderTF2Test.test_unknown_faster_rcnn_feature_extractor): 0.0s\n",
      "I1121 03:10:21.845391 4686046720 test_util.py:2460] time(__main__.ModelBuilderTF2Test.test_unknown_faster_rcnn_feature_extractor): 0.0s\n",
      "[       OK ] ModelBuilderTF2Test.test_unknown_faster_rcnn_feature_extractor\n",
      "[ RUN      ] ModelBuilderTF2Test.test_unknown_meta_architecture\n",
      "INFO:tensorflow:time(__main__.ModelBuilderTF2Test.test_unknown_meta_architecture): 0.0s\n",
      "I1121 03:10:21.845702 4686046720 test_util.py:2460] time(__main__.ModelBuilderTF2Test.test_unknown_meta_architecture): 0.0s\n",
      "[       OK ] ModelBuilderTF2Test.test_unknown_meta_architecture\n",
      "[ RUN      ] ModelBuilderTF2Test.test_unknown_ssd_feature_extractor\n",
      "INFO:tensorflow:time(__main__.ModelBuilderTF2Test.test_unknown_ssd_feature_extractor): 0.0s\n",
      "I1121 03:10:21.846650 4686046720 test_util.py:2460] time(__main__.ModelBuilderTF2Test.test_unknown_ssd_feature_extractor): 0.0s\n",
      "[       OK ] ModelBuilderTF2Test.test_unknown_ssd_feature_extractor\n",
      "----------------------------------------------------------------------\n",
      "Ran 24 tests in 25.466s\n",
      "\n",
      "OK (skipped=1)\n"
     ]
    }
   ],
   "source": [
    "VERIFICATION_SCRIPT = os.path.join(paths['APIMODEL_PATH'], 'research', 'object_detection', 'builders', 'model_builder_tf2_test.py')\n",
    "# Verify Installation\n",
    "!python {VERIFICATION_SCRIPT}"
   ]
  },
  {
   "cell_type": "code",
   "execution_count": 11,
   "metadata": {
    "collapsed": true
   },
   "outputs": [
    {
     "name": "stdout",
     "output_type": "stream",
     "text": [
      "Requirement already satisfied: tensorflow in /Users/shrestho12/opt/anaconda3/lib/python3.9/site-packages (2.10.1)\n",
      "Collecting tensorflow\n",
      "  Using cached tensorflow-2.11.0-cp39-cp39-macosx_10_14_x86_64.whl (244.3 MB)\n",
      "Requirement already satisfied: absl-py>=1.0.0 in /Users/shrestho12/opt/anaconda3/lib/python3.9/site-packages (from tensorflow) (1.3.0)\n",
      "Requirement already satisfied: numpy>=1.20 in /Users/shrestho12/opt/anaconda3/lib/python3.9/site-packages (from tensorflow) (1.21.5)\n",
      "Requirement already satisfied: typing-extensions>=3.6.6 in /Users/shrestho12/opt/anaconda3/lib/python3.9/site-packages (from tensorflow) (4.1.1)\n",
      "Requirement already satisfied: h5py>=2.9.0 in /Users/shrestho12/opt/anaconda3/lib/python3.9/site-packages (from tensorflow) (3.6.0)\n",
      "Requirement already satisfied: tensorflow-io-gcs-filesystem>=0.23.1 in /Users/shrestho12/opt/anaconda3/lib/python3.9/site-packages (from tensorflow) (0.27.0)\n",
      "Requirement already satisfied: google-pasta>=0.1.1 in /Users/shrestho12/opt/anaconda3/lib/python3.9/site-packages (from tensorflow) (0.2.0)\n",
      "Requirement already satisfied: gast<=0.4.0,>=0.2.1 in /Users/shrestho12/opt/anaconda3/lib/python3.9/site-packages (from tensorflow) (0.4.0)\n",
      "Requirement already satisfied: opt-einsum>=2.3.2 in /Users/shrestho12/opt/anaconda3/lib/python3.9/site-packages (from tensorflow) (3.3.0)\n",
      "Requirement already satisfied: setuptools in /Users/shrestho12/opt/anaconda3/lib/python3.9/site-packages (from tensorflow) (61.2.0)\n",
      "Requirement already satisfied: grpcio<2.0,>=1.24.3 in /Users/shrestho12/opt/anaconda3/lib/python3.9/site-packages (from tensorflow) (1.42.0)\n",
      "Collecting tensorboard<2.12,>=2.11\n",
      "  Using cached tensorboard-2.11.0-py3-none-any.whl (6.0 MB)\n",
      "Requirement already satisfied: libclang>=13.0.0 in /Users/shrestho12/opt/anaconda3/lib/python3.9/site-packages (from tensorflow) (14.0.6)\n",
      "Requirement already satisfied: astunparse>=1.6.0 in /Users/shrestho12/opt/anaconda3/lib/python3.9/site-packages (from tensorflow) (1.6.3)\n",
      "Collecting tensorflow-estimator<2.12,>=2.11.0\n",
      "  Using cached tensorflow_estimator-2.11.0-py2.py3-none-any.whl (439 kB)\n",
      "Requirement already satisfied: six>=1.12.0 in /Users/shrestho12/opt/anaconda3/lib/python3.9/site-packages (from tensorflow) (1.16.0)\n",
      "Requirement already satisfied: flatbuffers>=2.0 in /Users/shrestho12/opt/anaconda3/lib/python3.9/site-packages (from tensorflow) (22.10.26)\n",
      "Requirement already satisfied: protobuf<3.20,>=3.9.2 in /Users/shrestho12/opt/anaconda3/lib/python3.9/site-packages (from tensorflow) (3.19.6)\n",
      "Requirement already satisfied: wrapt>=1.11.0 in /Users/shrestho12/opt/anaconda3/lib/python3.9/site-packages (from tensorflow) (1.12.1)\n",
      "Requirement already satisfied: packaging in /Users/shrestho12/opt/anaconda3/lib/python3.9/site-packages (from tensorflow) (21.3)\n",
      "Collecting keras<2.12,>=2.11.0\n",
      "  Using cached keras-2.11.0-py2.py3-none-any.whl (1.7 MB)\n",
      "Requirement already satisfied: termcolor>=1.1.0 in /Users/shrestho12/opt/anaconda3/lib/python3.9/site-packages (from tensorflow) (2.1.1)\n",
      "Requirement already satisfied: wheel<1.0,>=0.23.0 in /Users/shrestho12/opt/anaconda3/lib/python3.9/site-packages (from astunparse>=1.6.0->tensorflow) (0.37.1)\n",
      "Requirement already satisfied: tensorboard-plugin-wit>=1.6.0 in /Users/shrestho12/opt/anaconda3/lib/python3.9/site-packages (from tensorboard<2.12,>=2.11->tensorflow) (1.8.1)\n",
      "Requirement already satisfied: google-auth-oauthlib<0.5,>=0.4.1 in /Users/shrestho12/opt/anaconda3/lib/python3.9/site-packages (from tensorboard<2.12,>=2.11->tensorflow) (0.4.6)\n",
      "Requirement already satisfied: google-auth<3,>=1.6.3 in /Users/shrestho12/opt/anaconda3/lib/python3.9/site-packages (from tensorboard<2.12,>=2.11->tensorflow) (1.33.0)\n",
      "Requirement already satisfied: tensorboard-data-server<0.7.0,>=0.6.0 in /Users/shrestho12/opt/anaconda3/lib/python3.9/site-packages (from tensorboard<2.12,>=2.11->tensorflow) (0.6.1)\n",
      "Requirement already satisfied: requests<3,>=2.21.0 in /Users/shrestho12/opt/anaconda3/lib/python3.9/site-packages (from tensorboard<2.12,>=2.11->tensorflow) (2.27.1)\n",
      "Requirement already satisfied: markdown>=2.6.8 in /Users/shrestho12/opt/anaconda3/lib/python3.9/site-packages (from tensorboard<2.12,>=2.11->tensorflow) (3.3.4)\n",
      "Requirement already satisfied: werkzeug>=1.0.1 in /Users/shrestho12/opt/anaconda3/lib/python3.9/site-packages (from tensorboard<2.12,>=2.11->tensorflow) (2.0.3)\n",
      "Requirement already satisfied: pyparsing!=3.0.5,>=2.0.2 in /Users/shrestho12/opt/anaconda3/lib/python3.9/site-packages (from packaging->tensorflow) (2.4.7)\n",
      "Requirement already satisfied: cachetools<5.0,>=2.0.0 in /Users/shrestho12/opt/anaconda3/lib/python3.9/site-packages (from google-auth<3,>=1.6.3->tensorboard<2.12,>=2.11->tensorflow) (4.2.2)\n",
      "Requirement already satisfied: pyasn1-modules>=0.2.1 in /Users/shrestho12/opt/anaconda3/lib/python3.9/site-packages (from google-auth<3,>=1.6.3->tensorboard<2.12,>=2.11->tensorflow) (0.2.8)\n",
      "Requirement already satisfied: rsa<5,>=3.1.4 in /Users/shrestho12/opt/anaconda3/lib/python3.9/site-packages (from google-auth<3,>=1.6.3->tensorboard<2.12,>=2.11->tensorflow) (4.7.2)\n",
      "Requirement already satisfied: requests-oauthlib>=0.7.0 in /Users/shrestho12/opt/anaconda3/lib/python3.9/site-packages (from google-auth-oauthlib<0.5,>=0.4.1->tensorboard<2.12,>=2.11->tensorflow) (1.3.1)\n",
      "Requirement already satisfied: urllib3<1.27,>=1.21.1 in /Users/shrestho12/opt/anaconda3/lib/python3.9/site-packages (from requests<3,>=2.21.0->tensorboard<2.12,>=2.11->tensorflow) (1.26.9)\n",
      "Requirement already satisfied: idna<4,>=2.5 in /Users/shrestho12/opt/anaconda3/lib/python3.9/site-packages (from requests<3,>=2.21.0->tensorboard<2.12,>=2.11->tensorflow) (3.3)\n",
      "Requirement already satisfied: certifi>=2017.4.17 in /Users/shrestho12/opt/anaconda3/lib/python3.9/site-packages (from requests<3,>=2.21.0->tensorboard<2.12,>=2.11->tensorflow) (2022.9.24)\n",
      "Requirement already satisfied: charset-normalizer~=2.0.0 in /Users/shrestho12/opt/anaconda3/lib/python3.9/site-packages (from requests<3,>=2.21.0->tensorboard<2.12,>=2.11->tensorflow) (2.0.4)\n",
      "Requirement already satisfied: pyasn1<0.5.0,>=0.4.6 in /Users/shrestho12/opt/anaconda3/lib/python3.9/site-packages (from pyasn1-modules>=0.2.1->google-auth<3,>=1.6.3->tensorboard<2.12,>=2.11->tensorflow) (0.4.8)\n",
      "Requirement already satisfied: oauthlib>=3.0.0 in /Users/shrestho12/opt/anaconda3/lib/python3.9/site-packages (from requests-oauthlib>=0.7.0->google-auth-oauthlib<0.5,>=0.4.1->tensorboard<2.12,>=2.11->tensorflow) (3.2.2)\n",
      "Installing collected packages: tensorflow-estimator, keras, tensorboard, tensorflow\n",
      "  Attempting uninstall: tensorflow-estimator\n",
      "    Found existing installation: tensorflow-estimator 2.10.0\n",
      "    Uninstalling tensorflow-estimator-2.10.0:\n",
      "      Successfully uninstalled tensorflow-estimator-2.10.0\n",
      "  Attempting uninstall: keras\n",
      "    Found existing installation: keras 2.10.0\n",
      "    Uninstalling keras-2.10.0:\n",
      "      Successfully uninstalled keras-2.10.0\n",
      "  Attempting uninstall: tensorboard\n",
      "    Found existing installation: tensorboard 2.10.1\n",
      "    Uninstalling tensorboard-2.10.1:\n",
      "      Successfully uninstalled tensorboard-2.10.1\n",
      "  Attempting uninstall: tensorflow\n",
      "    Found existing installation: tensorflow 2.10.1\n",
      "    Uninstalling tensorflow-2.10.1:\n",
      "      Successfully uninstalled tensorflow-2.10.1\n",
      "\u001b[31mERROR: pip's dependency resolver does not currently take into account all the packages that are installed. This behaviour is the source of the following dependency conflicts.\n",
      "tf-models-official 2.10.1 requires tensorflow~=2.10.0, but you have tensorflow 2.11.0 which is incompatible.\n",
      "tensorflow-text 2.10.0 requires tensorflow<2.11,>=2.10.0; platform_machine != \"arm64\" or platform_system != \"Darwin\", but you have tensorflow 2.11.0 which is incompatible.\u001b[0m\u001b[31m\n",
      "\u001b[0mSuccessfully installed keras-2.11.0 tensorboard-2.11.0 tensorflow-2.11.0 tensorflow-estimator-2.11.0\n"
     ]
    }
   ],
   "source": [
    "!pip install tensorflow --upgrade"
   ]
  },
  {
   "cell_type": "code",
   "execution_count": 26,
   "metadata": {},
   "outputs": [
    {
     "name": "stdout",
     "output_type": "stream",
     "text": [
      "Requirement already satisfied: tf-models-official in /Users/shrestho12/opt/anaconda3/lib/python3.9/site-packages (2.10.1)\n",
      "Requirement already satisfied: tensorflow-hub>=0.6.0 in /Users/shrestho12/opt/anaconda3/lib/python3.9/site-packages (from tf-models-official) (0.12.0)\n",
      "Requirement already satisfied: numpy>=1.20 in /Users/shrestho12/opt/anaconda3/lib/python3.9/site-packages (from tf-models-official) (1.21.5)\n",
      "Requirement already satisfied: pyyaml<6.0,>=5.1 in /Users/shrestho12/opt/anaconda3/lib/python3.9/site-packages (from tf-models-official) (5.4.1)\n",
      "Requirement already satisfied: Cython in /Users/shrestho12/opt/anaconda3/lib/python3.9/site-packages (from tf-models-official) (0.29.28)\n",
      "Requirement already satisfied: sentencepiece in /Users/shrestho12/opt/anaconda3/lib/python3.9/site-packages (from tf-models-official) (0.1.97)\n",
      "Requirement already satisfied: pycocotools in /Users/shrestho12/opt/anaconda3/lib/python3.9/site-packages (from tf-models-official) (2.0.6)\n",
      "Requirement already satisfied: Pillow in /Users/shrestho12/opt/anaconda3/lib/python3.9/site-packages (from tf-models-official) (9.0.1)\n",
      "Requirement already satisfied: oauth2client in /Users/shrestho12/opt/anaconda3/lib/python3.9/site-packages (from tf-models-official) (4.1.3)\n",
      "Requirement already satisfied: psutil>=5.4.3 in /Users/shrestho12/opt/anaconda3/lib/python3.9/site-packages (from tf-models-official) (5.8.0)\n",
      "Requirement already satisfied: seqeval in /Users/shrestho12/opt/anaconda3/lib/python3.9/site-packages (from tf-models-official) (1.2.2)\n",
      "Requirement already satisfied: scipy>=0.19.1 in /Users/shrestho12/opt/anaconda3/lib/python3.9/site-packages (from tf-models-official) (1.7.3)\n",
      "Requirement already satisfied: py-cpuinfo>=3.3.0 in /Users/shrestho12/opt/anaconda3/lib/python3.9/site-packages (from tf-models-official) (9.0.0)\n",
      "Requirement already satisfied: six in /Users/shrestho12/opt/anaconda3/lib/python3.9/site-packages (from tf-models-official) (1.16.0)\n",
      "Requirement already satisfied: sacrebleu==2.2.0 in /Users/shrestho12/opt/anaconda3/lib/python3.9/site-packages (from tf-models-official) (2.2.0)\n",
      "Collecting tensorflow~=2.10.0\n",
      "  Using cached tensorflow-2.10.1-cp39-cp39-macosx_10_14_x86_64.whl (241.2 MB)\n",
      "Requirement already satisfied: tf-slim>=1.1.0 in /Users/shrestho12/opt/anaconda3/lib/python3.9/site-packages (from tf-models-official) (1.1.0)\n",
      "Requirement already satisfied: tensorflow-addons in /Users/shrestho12/opt/anaconda3/lib/python3.9/site-packages (from tf-models-official) (0.18.0)\n",
      "Requirement already satisfied: kaggle>=1.3.9 in /Users/shrestho12/opt/anaconda3/lib/python3.9/site-packages (from tf-models-official) (1.5.12)\n",
      "Requirement already satisfied: tensorflow-datasets in /Users/shrestho12/opt/anaconda3/lib/python3.9/site-packages (from tf-models-official) (4.7.0)\n",
      "Requirement already satisfied: pandas>=0.22.0 in /Users/shrestho12/opt/anaconda3/lib/python3.9/site-packages (from tf-models-official) (1.4.2)\n",
      "Requirement already satisfied: opencv-python-headless in /Users/shrestho12/opt/anaconda3/lib/python3.9/site-packages (from tf-models-official) (4.6.0.66)\n",
      "Requirement already satisfied: gin-config in /Users/shrestho12/opt/anaconda3/lib/python3.9/site-packages (from tf-models-official) (0.5.0)\n",
      "Requirement already satisfied: matplotlib in /Users/shrestho12/opt/anaconda3/lib/python3.9/site-packages (from tf-models-official) (3.2.0)\n",
      "Requirement already satisfied: tensorflow-model-optimization>=0.4.1 in /Users/shrestho12/opt/anaconda3/lib/python3.9/site-packages (from tf-models-official) (0.7.3)\n",
      "Collecting tensorflow-text~=2.10.0\n",
      "  Using cached tensorflow_text-2.10.0-cp39-cp39-macosx_10_9_x86_64.whl (5.6 MB)\n",
      "Requirement already satisfied: google-api-python-client>=1.6.7 in /Users/shrestho12/opt/anaconda3/lib/python3.9/site-packages (from tf-models-official) (2.66.0)\n",
      "Requirement already satisfied: immutabledict in /Users/shrestho12/opt/anaconda3/lib/python3.9/site-packages (from tf-models-official) (2.2.3)\n",
      "Requirement already satisfied: tabulate>=0.8.9 in /Users/shrestho12/opt/anaconda3/lib/python3.9/site-packages (from sacrebleu==2.2.0->tf-models-official) (0.8.9)\n",
      "Requirement already satisfied: regex in /Users/shrestho12/opt/anaconda3/lib/python3.9/site-packages (from sacrebleu==2.2.0->tf-models-official) (2022.3.15)\n",
      "Requirement already satisfied: colorama in /Users/shrestho12/opt/anaconda3/lib/python3.9/site-packages (from sacrebleu==2.2.0->tf-models-official) (0.4.4)\n",
      "Requirement already satisfied: lxml in /Users/shrestho12/opt/anaconda3/lib/python3.9/site-packages (from sacrebleu==2.2.0->tf-models-official) (4.9.1)\n",
      "Requirement already satisfied: portalocker in /Users/shrestho12/opt/anaconda3/lib/python3.9/site-packages (from sacrebleu==2.2.0->tf-models-official) (2.6.0)\n",
      "Requirement already satisfied: google-api-core!=2.0.*,!=2.1.*,!=2.2.*,!=2.3.0,<3.0.0dev,>=1.31.5 in /Users/shrestho12/opt/anaconda3/lib/python3.9/site-packages (from google-api-python-client>=1.6.7->tf-models-official) (2.10.2)\n",
      "Requirement already satisfied: httplib2<1dev,>=0.15.0 in /Users/shrestho12/opt/anaconda3/lib/python3.9/site-packages (from google-api-python-client>=1.6.7->tf-models-official) (0.20.4)\n",
      "Requirement already satisfied: google-auth<3.0.0dev,>=1.19.0 in /Users/shrestho12/opt/anaconda3/lib/python3.9/site-packages (from google-api-python-client>=1.6.7->tf-models-official) (1.33.0)\n",
      "Requirement already satisfied: google-auth-httplib2>=0.1.0 in /Users/shrestho12/opt/anaconda3/lib/python3.9/site-packages (from google-api-python-client>=1.6.7->tf-models-official) (0.1.0)\n",
      "Requirement already satisfied: uritemplate<5,>=3.0.1 in /Users/shrestho12/opt/anaconda3/lib/python3.9/site-packages (from google-api-python-client>=1.6.7->tf-models-official) (4.1.1)\n",
      "Requirement already satisfied: certifi in /Users/shrestho12/opt/anaconda3/lib/python3.9/site-packages (from kaggle>=1.3.9->tf-models-official) (2022.9.24)\n",
      "Requirement already satisfied: requests in /Users/shrestho12/opt/anaconda3/lib/python3.9/site-packages (from kaggle>=1.3.9->tf-models-official) (2.27.1)\n",
      "Requirement already satisfied: python-dateutil in /Users/shrestho12/opt/anaconda3/lib/python3.9/site-packages (from kaggle>=1.3.9->tf-models-official) (2.8.2)\n",
      "Requirement already satisfied: tqdm in /Users/shrestho12/opt/anaconda3/lib/python3.9/site-packages (from kaggle>=1.3.9->tf-models-official) (4.64.0)\n",
      "Requirement already satisfied: urllib3 in /Users/shrestho12/opt/anaconda3/lib/python3.9/site-packages (from kaggle>=1.3.9->tf-models-official) (1.26.9)\n",
      "Requirement already satisfied: python-slugify in /Users/shrestho12/opt/anaconda3/lib/python3.9/site-packages (from kaggle>=1.3.9->tf-models-official) (5.0.2)\n",
      "Requirement already satisfied: pytz>=2020.1 in /Users/shrestho12/opt/anaconda3/lib/python3.9/site-packages (from pandas>=0.22.0->tf-models-official) (2021.3)\n",
      "Requirement already satisfied: protobuf<3.20,>=3.9.2 in /Users/shrestho12/opt/anaconda3/lib/python3.9/site-packages (from tensorflow~=2.10.0->tf-models-official) (3.19.6)\n",
      "Requirement already satisfied: wrapt>=1.11.0 in /Users/shrestho12/opt/anaconda3/lib/python3.9/site-packages (from tensorflow~=2.10.0->tf-models-official) (1.12.1)\n",
      "Requirement already satisfied: packaging in /Users/shrestho12/opt/anaconda3/lib/python3.9/site-packages (from tensorflow~=2.10.0->tf-models-official) (21.3)\n",
      "Requirement already satisfied: libclang>=13.0.0 in /Users/shrestho12/opt/anaconda3/lib/python3.9/site-packages (from tensorflow~=2.10.0->tf-models-official) (14.0.6)\n",
      "Requirement already satisfied: absl-py>=1.0.0 in /Users/shrestho12/opt/anaconda3/lib/python3.9/site-packages (from tensorflow~=2.10.0->tf-models-official) (1.3.0)\n",
      "Requirement already satisfied: gast<=0.4.0,>=0.2.1 in /Users/shrestho12/opt/anaconda3/lib/python3.9/site-packages (from tensorflow~=2.10.0->tf-models-official) (0.4.0)\n",
      "Requirement already satisfied: grpcio<2.0,>=1.24.3 in /Users/shrestho12/opt/anaconda3/lib/python3.9/site-packages (from tensorflow~=2.10.0->tf-models-official) (1.42.0)\n",
      "Collecting tensorflow-estimator<2.11,>=2.10.0\n",
      "  Using cached tensorflow_estimator-2.10.0-py2.py3-none-any.whl (438 kB)\n",
      "Requirement already satisfied: termcolor>=1.1.0 in /Users/shrestho12/opt/anaconda3/lib/python3.9/site-packages (from tensorflow~=2.10.0->tf-models-official) (2.1.1)\n",
      "Requirement already satisfied: setuptools in /Users/shrestho12/opt/anaconda3/lib/python3.9/site-packages (from tensorflow~=2.10.0->tf-models-official) (61.2.0)\n",
      "Requirement already satisfied: typing-extensions>=3.6.6 in /Users/shrestho12/opt/anaconda3/lib/python3.9/site-packages (from tensorflow~=2.10.0->tf-models-official) (4.1.1)\n",
      "Requirement already satisfied: flatbuffers>=2.0 in /Users/shrestho12/opt/anaconda3/lib/python3.9/site-packages (from tensorflow~=2.10.0->tf-models-official) (22.10.26)\n",
      "Requirement already satisfied: tensorflow-io-gcs-filesystem>=0.23.1 in /Users/shrestho12/opt/anaconda3/lib/python3.9/site-packages (from tensorflow~=2.10.0->tf-models-official) (0.27.0)\n",
      "Requirement already satisfied: h5py>=2.9.0 in /Users/shrestho12/opt/anaconda3/lib/python3.9/site-packages (from tensorflow~=2.10.0->tf-models-official) (3.6.0)\n",
      "Requirement already satisfied: google-pasta>=0.1.1 in /Users/shrestho12/opt/anaconda3/lib/python3.9/site-packages (from tensorflow~=2.10.0->tf-models-official) (0.2.0)\n",
      "Requirement already satisfied: astunparse>=1.6.0 in /Users/shrestho12/opt/anaconda3/lib/python3.9/site-packages (from tensorflow~=2.10.0->tf-models-official) (1.6.3)\n",
      "Requirement already satisfied: opt-einsum>=2.3.2 in /Users/shrestho12/opt/anaconda3/lib/python3.9/site-packages (from tensorflow~=2.10.0->tf-models-official) (3.3.0)\n",
      "Requirement already satisfied: keras-preprocessing>=1.1.1 in /Users/shrestho12/opt/anaconda3/lib/python3.9/site-packages (from tensorflow~=2.10.0->tf-models-official) (1.1.2)\n"
     ]
    },
    {
     "name": "stdout",
     "output_type": "stream",
     "text": [
      "Collecting tensorboard<2.11,>=2.10\n",
      "  Using cached tensorboard-2.10.1-py3-none-any.whl (5.9 MB)\n",
      "Collecting keras<2.11,>=2.10.0\n",
      "  Using cached keras-2.10.0-py2.py3-none-any.whl (1.7 MB)\n",
      "Requirement already satisfied: dm-tree~=0.1.1 in /Users/shrestho12/opt/anaconda3/lib/python3.9/site-packages (from tensorflow-model-optimization>=0.4.1->tf-models-official) (0.1.7)\n",
      "Requirement already satisfied: cycler>=0.10 in /Users/shrestho12/opt/anaconda3/lib/python3.9/site-packages (from matplotlib->tf-models-official) (0.11.0)\n",
      "Requirement already satisfied: kiwisolver>=1.0.1 in /Users/shrestho12/opt/anaconda3/lib/python3.9/site-packages (from matplotlib->tf-models-official) (1.3.2)\n",
      "Requirement already satisfied: pyparsing!=2.0.4,!=2.1.2,!=2.1.6,>=2.0.1 in /Users/shrestho12/opt/anaconda3/lib/python3.9/site-packages (from matplotlib->tf-models-official) (2.4.7)\n",
      "Requirement already satisfied: pyasn1-modules>=0.0.5 in /Users/shrestho12/opt/anaconda3/lib/python3.9/site-packages (from oauth2client->tf-models-official) (0.2.8)\n",
      "Requirement already satisfied: pyasn1>=0.1.7 in /Users/shrestho12/opt/anaconda3/lib/python3.9/site-packages (from oauth2client->tf-models-official) (0.4.8)\n",
      "Requirement already satisfied: rsa>=3.1.4 in /Users/shrestho12/opt/anaconda3/lib/python3.9/site-packages (from oauth2client->tf-models-official) (4.7.2)\n",
      "Requirement already satisfied: scikit-learn>=0.21.3 in /Users/shrestho12/opt/anaconda3/lib/python3.9/site-packages (from seqeval->tf-models-official) (1.0.2)\n",
      "Requirement already satisfied: typeguard>=2.7 in /Users/shrestho12/opt/anaconda3/lib/python3.9/site-packages (from tensorflow-addons->tf-models-official) (2.13.3)\n",
      "Requirement already satisfied: dill in /Users/shrestho12/opt/anaconda3/lib/python3.9/site-packages (from tensorflow-datasets->tf-models-official) (0.3.1.1)\n",
      "Requirement already satisfied: toml in /Users/shrestho12/opt/anaconda3/lib/python3.9/site-packages (from tensorflow-datasets->tf-models-official) (0.10.2)\n",
      "Requirement already satisfied: tensorflow-metadata in /Users/shrestho12/opt/anaconda3/lib/python3.9/site-packages (from tensorflow-datasets->tf-models-official) (1.11.0)\n",
      "Requirement already satisfied: promise in /Users/shrestho12/opt/anaconda3/lib/python3.9/site-packages (from tensorflow-datasets->tf-models-official) (2.3)\n",
      "Requirement already satisfied: etils[epath] in /Users/shrestho12/opt/anaconda3/lib/python3.9/site-packages (from tensorflow-datasets->tf-models-official) (0.9.0)\n",
      "Requirement already satisfied: wheel<1.0,>=0.23.0 in /Users/shrestho12/opt/anaconda3/lib/python3.9/site-packages (from astunparse>=1.6.0->tensorflow~=2.10.0->tf-models-official) (0.37.1)\n",
      "Requirement already satisfied: googleapis-common-protos<2.0dev,>=1.56.2 in /Users/shrestho12/opt/anaconda3/lib/python3.9/site-packages (from google-api-core!=2.0.*,!=2.1.*,!=2.2.*,!=2.3.0,<3.0.0dev,>=1.31.5->google-api-python-client>=1.6.7->tf-models-official) (1.57.0)\n",
      "Requirement already satisfied: cachetools<5.0,>=2.0.0 in /Users/shrestho12/opt/anaconda3/lib/python3.9/site-packages (from google-auth<3.0.0dev,>=1.19.0->google-api-python-client>=1.6.7->tf-models-official) (4.2.2)\n",
      "Requirement already satisfied: charset-normalizer~=2.0.0 in /Users/shrestho12/opt/anaconda3/lib/python3.9/site-packages (from requests->kaggle>=1.3.9->tf-models-official) (2.0.4)\n",
      "Requirement already satisfied: idna<4,>=2.5 in /Users/shrestho12/opt/anaconda3/lib/python3.9/site-packages (from requests->kaggle>=1.3.9->tf-models-official) (3.3)\n",
      "Requirement already satisfied: joblib>=0.11 in /Users/shrestho12/opt/anaconda3/lib/python3.9/site-packages (from scikit-learn>=0.21.3->seqeval->tf-models-official) (1.1.0)\n",
      "Requirement already satisfied: threadpoolctl>=2.0.0 in /Users/shrestho12/opt/anaconda3/lib/python3.9/site-packages (from scikit-learn>=0.21.3->seqeval->tf-models-official) (2.2.0)\n",
      "Requirement already satisfied: tensorboard-data-server<0.7.0,>=0.6.0 in /Users/shrestho12/opt/anaconda3/lib/python3.9/site-packages (from tensorboard<2.11,>=2.10->tensorflow~=2.10.0->tf-models-official) (0.6.1)\n",
      "Requirement already satisfied: werkzeug>=1.0.1 in /Users/shrestho12/opt/anaconda3/lib/python3.9/site-packages (from tensorboard<2.11,>=2.10->tensorflow~=2.10.0->tf-models-official) (2.0.3)\n",
      "Requirement already satisfied: tensorboard-plugin-wit>=1.6.0 in /Users/shrestho12/opt/anaconda3/lib/python3.9/site-packages (from tensorboard<2.11,>=2.10->tensorflow~=2.10.0->tf-models-official) (1.8.1)\n",
      "Requirement already satisfied: markdown>=2.6.8 in /Users/shrestho12/opt/anaconda3/lib/python3.9/site-packages (from tensorboard<2.11,>=2.10->tensorflow~=2.10.0->tf-models-official) (3.3.4)\n",
      "Requirement already satisfied: google-auth-oauthlib<0.5,>=0.4.1 in /Users/shrestho12/opt/anaconda3/lib/python3.9/site-packages (from tensorboard<2.11,>=2.10->tensorflow~=2.10.0->tf-models-official) (0.4.6)\n",
      "Requirement already satisfied: zipp in /Users/shrestho12/opt/anaconda3/lib/python3.9/site-packages (from etils[epath]->tensorflow-datasets->tf-models-official) (3.7.0)\n",
      "Requirement already satisfied: importlib_resources in /Users/shrestho12/opt/anaconda3/lib/python3.9/site-packages (from etils[epath]->tensorflow-datasets->tf-models-official) (5.10.0)\n",
      "Requirement already satisfied: text-unidecode>=1.3 in /Users/shrestho12/opt/anaconda3/lib/python3.9/site-packages (from python-slugify->kaggle>=1.3.9->tf-models-official) (1.3)\n",
      "Requirement already satisfied: requests-oauthlib>=0.7.0 in /Users/shrestho12/opt/anaconda3/lib/python3.9/site-packages (from google-auth-oauthlib<0.5,>=0.4.1->tensorboard<2.11,>=2.10->tensorflow~=2.10.0->tf-models-official) (1.3.1)\n",
      "Requirement already satisfied: oauthlib>=3.0.0 in /Users/shrestho12/opt/anaconda3/lib/python3.9/site-packages (from requests-oauthlib>=0.7.0->google-auth-oauthlib<0.5,>=0.4.1->tensorboard<2.11,>=2.10->tensorflow~=2.10.0->tf-models-official) (3.2.2)\n",
      "Installing collected packages: keras, tensorflow-estimator, tensorboard, tensorflow, tensorflow-text\n",
      "  Attempting uninstall: keras\n",
      "    Found existing installation: keras 2.11.0\n",
      "    Uninstalling keras-2.11.0:\n",
      "      Successfully uninstalled keras-2.11.0\n",
      "  Attempting uninstall: tensorflow-estimator\n",
      "    Found existing installation: tensorflow-estimator 2.11.0\n",
      "    Uninstalling tensorflow-estimator-2.11.0:\n",
      "      Successfully uninstalled tensorflow-estimator-2.11.0\n",
      "  Attempting uninstall: tensorboard\n",
      "    Found existing installation: tensorboard 2.11.0\n",
      "    Uninstalling tensorboard-2.11.0:\n",
      "      Successfully uninstalled tensorboard-2.11.0\n",
      "  Attempting uninstall: tensorflow\n",
      "    Found existing installation: tensorflow 2.11.0\n",
      "    Uninstalling tensorflow-2.11.0:\n",
      "      Successfully uninstalled tensorflow-2.11.0\n",
      "  Attempting uninstall: tensorflow-text\n",
      "    Found existing installation: tensorflow-text 2.11.0\n",
      "    Uninstalling tensorflow-text-2.11.0:\n",
      "      Successfully uninstalled tensorflow-text-2.11.0\n",
      "Successfully installed keras-2.10.0 tensorboard-2.10.1 tensorflow-2.10.1 tensorflow-estimator-2.10.0 tensorflow-text-2.10.0\n"
     ]
    }
   ],
   "source": [
    "!pip install tf-models-official --upgrade"
   ]
  },
  {
   "cell_type": "code",
   "execution_count": 12,
   "metadata": {
    "collapsed": true
   },
   "outputs": [
    {
     "name": "stdout",
     "output_type": "stream",
     "text": [
      "Found existing installation: protobuf 3.19.6\n",
      "Uninstalling protobuf-3.19.6:\n",
      "  Successfully uninstalled protobuf-3.19.6\n",
      "Found existing installation: matplotlib 3.2.0\n",
      "Uninstalling matplotlib-3.2.0:\n",
      "  Successfully uninstalled matplotlib-3.2.0\n",
      "Collecting protobuf\n",
      "  Using cached protobuf-4.21.9-cp37-abi3-macosx_10_9_universal2.whl (483 kB)\n",
      "Collecting matplotlib==3.2\n",
      "  Using cached matplotlib-3.2.0-cp39-cp39-macosx_10_9_x86_64.whl\n",
      "Requirement already satisfied: kiwisolver>=1.0.1 in /Users/shrestho12/opt/anaconda3/lib/python3.9/site-packages (from matplotlib==3.2) (1.3.2)\n",
      "Requirement already satisfied: python-dateutil>=2.1 in /Users/shrestho12/opt/anaconda3/lib/python3.9/site-packages (from matplotlib==3.2) (2.8.2)\n",
      "Requirement already satisfied: cycler>=0.10 in /Users/shrestho12/opt/anaconda3/lib/python3.9/site-packages (from matplotlib==3.2) (0.11.0)\n",
      "Requirement already satisfied: pyparsing!=2.0.4,!=2.1.2,!=2.1.6,>=2.0.1 in /Users/shrestho12/opt/anaconda3/lib/python3.9/site-packages (from matplotlib==3.2) (2.4.7)\n",
      "Requirement already satisfied: numpy>=1.11 in /Users/shrestho12/opt/anaconda3/lib/python3.9/site-packages (from matplotlib==3.2) (1.21.5)\n",
      "Requirement already satisfied: six>=1.5 in /Users/shrestho12/opt/anaconda3/lib/python3.9/site-packages (from python-dateutil>=2.1->matplotlib==3.2) (1.16.0)\n",
      "Installing collected packages: protobuf, matplotlib\n",
      "\u001b[31mERROR: pip's dependency resolver does not currently take into account all the packages that are installed. This behaviour is the source of the following dependency conflicts.\n",
      "tf-models-official 2.10.1 requires tensorflow~=2.10.0, but you have tensorflow 2.11.0 which is incompatible.\n",
      "tensorflow 2.11.0 requires protobuf<3.20,>=3.9.2, but you have protobuf 4.21.9 which is incompatible.\n",
      "tensorflow-text 2.10.0 requires tensorflow<2.11,>=2.10.0; platform_machine != \"arm64\" or platform_system != \"Darwin\", but you have tensorflow 2.11.0 which is incompatible.\n",
      "tensorflow-metadata 1.11.0 requires protobuf<4,>=3.13, but you have protobuf 4.21.9 which is incompatible.\n",
      "tensorboard 2.11.0 requires protobuf<4,>=3.9.2, but you have protobuf 4.21.9 which is incompatible.\n",
      "apache-beam 2.43.0 requires protobuf<4,>3.12.2, but you have protobuf 4.21.9 which is incompatible.\u001b[0m\u001b[31m\n",
      "\u001b[0mSuccessfully installed matplotlib-3.2.0 protobuf-4.21.9\n"
     ]
    }
   ],
   "source": [
    "!pip uninstall protobuf matplotlib -y\n",
    "!pip install protobuf matplotlib==3.2"
   ]
  },
  {
   "cell_type": "code",
   "execution_count": 9,
   "metadata": {},
   "outputs": [
    {
     "name": "stdout",
     "output_type": "stream",
     "text": [
      "Collecting tensorflow-object-detection-api\n",
      "  Using cached tensorflow_object_detection_api-0.1.1-py3-none-any.whl\n",
      "Collecting wheel\n",
      "  Using cached wheel-0.38.4-py3-none-any.whl (36 kB)\n",
      "Collecting Cython>=0.28.1\n",
      "  Using cached Cython-0.29.32-py2.py3-none-any.whl (986 kB)\n",
      "Collecting twine\n",
      "  Using cached twine-4.0.1-py3-none-any.whl (36 kB)\n",
      "Collecting Protobuf\n",
      "  Using cached protobuf-4.21.9-cp37-abi3-macosx_10_9_universal2.whl (483 kB)\n",
      "Collecting matplotlib\n",
      "  Downloading matplotlib-3.6.2-cp39-cp39-macosx_10_12_x86_64.whl (7.3 MB)\n",
      "\u001b[2K     \u001b[90m━━━━━━━━━━━━━━━━━━━━━━━━━━━━━━━━━━━━━━━━\u001b[0m \u001b[32m7.3/7.3 MB\u001b[0m \u001b[31m2.1 MB/s\u001b[0m eta \u001b[36m0:00:00\u001b[0m00:01\u001b[0m00:01\u001b[0m\n",
      "\u001b[?25hRequirement already satisfied: lxml in ./mlproject/lib/python3.9/site-packages (from tensorflow-object-detection-api) (4.9.1)\n",
      "Collecting tensorflow\n",
      "  Using cached tensorflow-2.11.0-cp39-cp39-macosx_10_14_x86_64.whl (244.3 MB)\n",
      "Collecting contextlib2\n",
      "  Using cached contextlib2-21.6.0-py2.py3-none-any.whl (13 kB)\n",
      "Collecting jupyter\n",
      "  Downloading jupyter-1.0.0-py2.py3-none-any.whl (2.7 kB)\n",
      "Collecting Pillow>=1.0\n",
      "  Downloading Pillow-9.3.0-cp39-cp39-macosx_10_10_x86_64.whl (3.3 MB)\n",
      "\u001b[2K     \u001b[90m━━━━━━━━━━━━━━━━━━━━━━━━━━━━━━━━━━━━━━━━\u001b[0m \u001b[32m3.3/3.3 MB\u001b[0m \u001b[31m2.4 MB/s\u001b[0m eta \u001b[36m0:00:00\u001b[0m00:01\u001b[0m00:01\u001b[0m\n",
      "\u001b[?25hCollecting contourpy>=1.0.1\n",
      "  Downloading contourpy-1.0.6-cp39-cp39-macosx_10_9_x86_64.whl (240 kB)\n",
      "\u001b[2K     \u001b[90m━━━━━━━━━━━━━━━━━━━━━━━━━━━━━━━━━━━━━\u001b[0m \u001b[32m240.8/240.8 kB\u001b[0m \u001b[31m734.3 kB/s\u001b[0m eta \u001b[36m0:00:00\u001b[0ma \u001b[36m0:00:01\u001b[0m\n",
      "\u001b[?25hCollecting kiwisolver>=1.0.1\n",
      "  Downloading kiwisolver-1.4.4-cp39-cp39-macosx_10_9_x86_64.whl (65 kB)\n",
      "\u001b[2K     \u001b[90m━━━━━━━━━━━━━━━━━━━━━━━━━━━━━━━━━━━━━━━\u001b[0m \u001b[32m65.5/65.5 kB\u001b[0m \u001b[31m884.5 kB/s\u001b[0m eta \u001b[36m0:00:00\u001b[0m \u001b[36m0:00:01\u001b[0m\n",
      "\u001b[?25hRequirement already satisfied: numpy>=1.19 in ./mlproject/lib/python3.9/site-packages (from matplotlib->tensorflow-object-detection-api) (1.23.4)\n",
      "Requirement already satisfied: pyparsing>=2.2.1 in ./mlproject/lib/python3.9/site-packages (from matplotlib->tensorflow-object-detection-api) (3.0.9)\n",
      "Collecting fonttools>=4.22.0\n",
      "  Downloading fonttools-4.38.0-py3-none-any.whl (965 kB)\n",
      "\u001b[2K     \u001b[90m━━━━━━━━━━━━━━━━━━━━━━━━━━━━━━━━━━━━━━━\u001b[0m \u001b[32m965.4/965.4 kB\u001b[0m \u001b[31m2.0 MB/s\u001b[0m eta \u001b[36m0:00:00\u001b[0m00:01\u001b[0m00:01\u001b[0m\n",
      "\u001b[?25hRequirement already satisfied: python-dateutil>=2.7 in ./mlproject/lib/python3.9/site-packages (from matplotlib->tensorflow-object-detection-api) (2.8.2)\n",
      "Requirement already satisfied: packaging>=20.0 in ./mlproject/lib/python3.9/site-packages (from matplotlib->tensorflow-object-detection-api) (21.3)\n",
      "Collecting cycler>=0.10\n",
      "  Downloading cycler-0.11.0-py3-none-any.whl (6.4 kB)\n",
      "Collecting jupyter-console\n",
      "  Downloading jupyter_console-6.4.4-py3-none-any.whl (22 kB)\n",
      "Requirement already satisfied: ipykernel in ./mlproject/lib/python3.9/site-packages (from jupyter->tensorflow-object-detection-api) (6.17.1)\n",
      "Collecting nbconvert\n",
      "  Downloading nbconvert-7.2.5-py3-none-any.whl (273 kB)\n",
      "\u001b[2K     \u001b[90m━━━━━━━━━━━━━━━━━━━━━━━━━━━━━━━━━━━━━━━\u001b[0m \u001b[32m273.3/273.3 kB\u001b[0m \u001b[31m2.5 MB/s\u001b[0m eta \u001b[36m0:00:00\u001b[0ma \u001b[36m0:00:01\u001b[0m\n",
      "\u001b[?25hCollecting notebook\n",
      "  Downloading notebook-6.5.2-py3-none-any.whl (439 kB)\n",
      "\u001b[2K     \u001b[90m━━━━━━━━━━━━━━━━━━━━━━━━━━━━━━━━━━━━━━━\u001b[0m \u001b[32m439.1/439.1 kB\u001b[0m \u001b[31m2.1 MB/s\u001b[0m eta \u001b[36m0:00:00\u001b[0m00:01\u001b[0m00:01\u001b[0m\n",
      "\u001b[?25hCollecting ipywidgets\n",
      "  Downloading ipywidgets-8.0.2-py3-none-any.whl (134 kB)\n",
      "\u001b[2K     \u001b[90m━━━━━━━━━━━━━━━━━━━━━━━━━━━━━━━━━━━━━━━\u001b[0m \u001b[32m134.4/134.4 kB\u001b[0m \u001b[31m1.7 MB/s\u001b[0m eta \u001b[36m0:00:00\u001b[0m00:01\u001b[0m00:01\u001b[0m\n",
      "\u001b[?25hCollecting qtconsole\n",
      "  Downloading qtconsole-5.4.0-py3-none-any.whl (121 kB)\n",
      "\u001b[2K     \u001b[90m━━━━━━━━━━━━━━━━━━━━━━━━━━━━━━━━━━━━━━━\u001b[0m \u001b[32m121.0/121.0 kB\u001b[0m \u001b[31m1.9 MB/s\u001b[0m eta \u001b[36m0:00:00\u001b[0ma \u001b[36m0:00:01\u001b[0m\n",
      "\u001b[?25hCollecting gast<=0.4.0,>=0.2.1\n",
      "  Using cached gast-0.4.0-py3-none-any.whl (9.8 kB)\n",
      "Collecting h5py>=2.9.0\n",
      "  Downloading h5py-3.7.0-cp39-cp39-macosx_10_9_x86_64.whl (3.2 MB)\n",
      "\u001b[2K     \u001b[90m━━━━━━━━━━━━━━━━━━━━━━━━━━━━━━━━━━━━━━━━\u001b[0m \u001b[32m3.2/3.2 MB\u001b[0m \u001b[31m2.3 MB/s\u001b[0m eta \u001b[36m0:00:00\u001b[0m00:01\u001b[0m00:01\u001b[0m\n",
      "\u001b[?25hCollecting flatbuffers>=2.0\n",
      "  Using cached flatbuffers-22.10.26-py2.py3-none-any.whl (26 kB)\n",
      "Collecting opt-einsum>=2.3.2\n",
      "  Using cached opt_einsum-3.3.0-py3-none-any.whl (65 kB)\n",
      "Collecting tensorboard<2.12,>=2.11\n",
      "  Using cached tensorboard-2.11.0-py3-none-any.whl (6.0 MB)\n",
      "Collecting Protobuf\n",
      "  Using cached protobuf-3.19.6-cp39-cp39-macosx_10_9_x86_64.whl (980 kB)\n",
      "Collecting absl-py>=1.0.0\n",
      "  Using cached absl_py-1.3.0-py3-none-any.whl (124 kB)\n",
      "Collecting tensorflow-io-gcs-filesystem>=0.23.1\n",
      "  Using cached tensorflow_io_gcs_filesystem-0.27.0-cp39-cp39-macosx_10_14_x86_64.whl (1.6 MB)\n",
      "Collecting libclang>=13.0.0\n",
      "  Using cached libclang-14.0.6-py2.py3-none-macosx_10_9_x86_64.whl (13.2 MB)\n",
      "Collecting wrapt>=1.11.0\n",
      "  Downloading wrapt-1.14.1-cp39-cp39-macosx_10_9_x86_64.whl (35 kB)\n",
      "Collecting keras<2.12,>=2.11.0\n",
      "  Using cached keras-2.11.0-py2.py3-none-any.whl (1.7 MB)\n",
      "Collecting termcolor>=1.1.0\n",
      "  Using cached termcolor-2.1.1-py3-none-any.whl (6.2 kB)\n",
      "Requirement already satisfied: setuptools in ./mlproject/lib/python3.9/site-packages (from tensorflow->tensorflow-object-detection-api) (58.1.0)\n",
      "Collecting astunparse>=1.6.0\n",
      "  Using cached astunparse-1.6.3-py2.py3-none-any.whl (12 kB)\n",
      "Collecting tensorflow-estimator<2.12,>=2.11.0\n",
      "  Using cached tensorflow_estimator-2.11.0-py2.py3-none-any.whl (439 kB)\n",
      "Collecting google-pasta>=0.1.1\n",
      "  Using cached google_pasta-0.2.0-py3-none-any.whl (57 kB)\n",
      "Requirement already satisfied: six>=1.12.0 in ./mlproject/lib/python3.9/site-packages (from tensorflow->tensorflow-object-detection-api) (1.16.0)\n",
      "Collecting grpcio<2.0,>=1.24.3\n",
      "  Downloading grpcio-1.50.0-cp39-cp39-macosx_10_10_x86_64.whl (4.5 MB)\n",
      "\u001b[2K     \u001b[90m━━━━━━━━━━━━━━━━━━━━━━━━━━━━━━━━━━━━━━━━\u001b[0m \u001b[32m4.5/4.5 MB\u001b[0m \u001b[31m2.3 MB/s\u001b[0m eta \u001b[36m0:00:00\u001b[0m00:01\u001b[0m00:01\u001b[0m\n",
      "\u001b[?25hCollecting typing-extensions>=3.6.6\n",
      "  Downloading typing_extensions-4.4.0-py3-none-any.whl (26 kB)\n",
      "Collecting readme-renderer>=35.0\n",
      "  Using cached readme_renderer-37.3-py3-none-any.whl (14 kB)\n",
      "Collecting rfc3986>=1.4.0\n",
      "  Using cached rfc3986-2.0.0-py2.py3-none-any.whl (31 kB)\n",
      "Collecting keyring>=15.1\n",
      "  Downloading keyring-23.11.0-py3-none-any.whl (36 kB)\n",
      "Collecting urllib3>=1.26.0\n",
      "  Downloading urllib3-1.26.12-py2.py3-none-any.whl (140 kB)\n",
      "\u001b[2K     \u001b[90m━━━━━━━━━━━━━━━━━━━━━━━━━━━━━━━━━━━━━━━\u001b[0m \u001b[32m140.4/140.4 kB\u001b[0m \u001b[31m1.7 MB/s\u001b[0m eta \u001b[36m0:00:00\u001b[0ma \u001b[36m0:00:01\u001b[0m\n",
      "\u001b[?25hCollecting pkginfo>=1.8.1\n",
      "  Downloading pkginfo-1.8.3-py2.py3-none-any.whl (26 kB)\n",
      "Collecting importlib-metadata>=3.6\n",
      "  Downloading importlib_metadata-5.0.0-py3-none-any.whl (21 kB)\n",
      "Collecting rich>=12.0.0\n",
      "  Using cached rich-12.6.0-py3-none-any.whl (237 kB)\n",
      "Collecting requests-toolbelt!=0.9.0,>=0.8.0\n",
      "  Using cached requests_toolbelt-0.10.1-py2.py3-none-any.whl (54 kB)\n",
      "Collecting requests>=2.20\n",
      "  Downloading requests-2.28.1-py3-none-any.whl (62 kB)\n",
      "\u001b[2K     \u001b[90m━━━━━━━━━━━━━━━━━━━━━━━━━━━━━━━━━━━━━━━━\u001b[0m \u001b[32m62.8/62.8 kB\u001b[0m \u001b[31m1.5 MB/s\u001b[0m eta \u001b[36m0:00:00\u001b[0m00:01\u001b[0m\n",
      "\u001b[?25hCollecting zipp>=0.5\n",
      "  Downloading zipp-3.10.0-py3-none-any.whl (6.2 kB)\n",
      "Collecting jaraco.classes\n",
      "  Downloading jaraco.classes-3.2.3-py3-none-any.whl (6.0 kB)\n",
      "Collecting bleach>=2.1.0\n",
      "  Downloading bleach-5.0.1-py3-none-any.whl (160 kB)\n",
      "\u001b[2K     \u001b[90m━━━━━━━━━━━━━━━━━━━━━━━━━━━━━━━━━━━━━━━\u001b[0m \u001b[32m160.9/160.9 kB\u001b[0m \u001b[31m2.2 MB/s\u001b[0m eta \u001b[36m0:00:00\u001b[0ma \u001b[36m0:00:01\u001b[0m\n",
      "\u001b[?25hRequirement already satisfied: Pygments>=2.5.1 in ./mlproject/lib/python3.9/site-packages (from readme-renderer>=35.0->twine->tensorflow-object-detection-api) (2.13.0)\n",
      "Collecting docutils>=0.13.1\n",
      "  Downloading docutils-0.19-py3-none-any.whl (570 kB)\n",
      "\u001b[2K     \u001b[90m━━━━━━━━━━━━━━━━━━━━━━━━━━━━━━━━━━━━━━━\u001b[0m \u001b[32m570.5/570.5 kB\u001b[0m \u001b[31m2.2 MB/s\u001b[0m eta \u001b[36m0:00:00\u001b[0ma \u001b[36m0:00:01\u001b[0m\n",
      "\u001b[?25hCollecting certifi>=2017.4.17\n",
      "  Downloading certifi-2022.9.24-py3-none-any.whl (161 kB)\n",
      "\u001b[2K     \u001b[90m━━━━━━━━━━━━━━━━━━━━━━━━━━━━━━━━━━━━━\u001b[0m \u001b[32m161.1/161.1 kB\u001b[0m \u001b[31m480.8 kB/s\u001b[0m eta \u001b[36m0:00:00\u001b[0ma \u001b[36m0:00:01\u001b[0m\n",
      "\u001b[?25hCollecting charset-normalizer<3,>=2\n",
      "  Downloading charset_normalizer-2.1.1-py3-none-any.whl (39 kB)\n"
     ]
    },
    {
     "name": "stdout",
     "output_type": "stream",
     "text": [
      "Collecting idna<4,>=2.5\n",
      "  Downloading idna-3.4-py3-none-any.whl (61 kB)\n",
      "\u001b[2K     \u001b[90m━━━━━━━━━━━━━━━━━━━━━━━━━━━━━━━━━━━━━━━━\u001b[0m \u001b[32m61.5/61.5 kB\u001b[0m \u001b[31m1.5 MB/s\u001b[0m eta \u001b[36m0:00:00\u001b[0m\n",
      "\u001b[?25hCollecting commonmark<0.10.0,>=0.9.0\n",
      "  Using cached commonmark-0.9.1-py2.py3-none-any.whl (51 kB)\n",
      "Collecting markdown>=2.6.8\n",
      "  Downloading Markdown-3.4.1-py3-none-any.whl (93 kB)\n",
      "\u001b[2K     \u001b[90m━━━━━━━━━━━━━━━━━━━━━━━━━━━━━━━━━━━━━━━━\u001b[0m \u001b[32m93.3/93.3 kB\u001b[0m \u001b[31m1.9 MB/s\u001b[0m eta \u001b[36m0:00:00\u001b[0m00:01\u001b[0m\n",
      "\u001b[?25hCollecting tensorboard-data-server<0.7.0,>=0.6.0\n",
      "  Using cached tensorboard_data_server-0.6.1-py3-none-macosx_10_9_x86_64.whl (3.5 MB)\n",
      "Collecting google-auth<3,>=1.6.3\n",
      "  Downloading google_auth-2.14.1-py2.py3-none-any.whl (175 kB)\n",
      "\u001b[2K     \u001b[90m━━━━━━━━━━━━━━━━━━━━━━━━━━━━━━━━━━━━━━━\u001b[0m \u001b[32m175.4/175.4 kB\u001b[0m \u001b[31m1.9 MB/s\u001b[0m eta \u001b[36m0:00:00\u001b[0m00:01\u001b[0m00:01\u001b[0m\n",
      "\u001b[?25hCollecting google-auth-oauthlib<0.5,>=0.4.1\n",
      "  Using cached google_auth_oauthlib-0.4.6-py2.py3-none-any.whl (18 kB)\n",
      "Collecting tensorboard-plugin-wit>=1.6.0\n",
      "  Using cached tensorboard_plugin_wit-1.8.1-py3-none-any.whl (781 kB)\n",
      "Collecting werkzeug>=1.0.1\n",
      "  Downloading Werkzeug-2.2.2-py3-none-any.whl (232 kB)\n",
      "\u001b[2K     \u001b[90m━━━━━━━━━━━━━━━━━━━━━━━━━━━━━━━━━━━━━━━\u001b[0m \u001b[32m232.7/232.7 kB\u001b[0m \u001b[31m1.9 MB/s\u001b[0m eta \u001b[36m0:00:00\u001b[0ma \u001b[36m0:00:01\u001b[0m\n",
      "\u001b[?25hRequirement already satisfied: appnope in ./mlproject/lib/python3.9/site-packages (from ipykernel->jupyter->tensorflow-object-detection-api) (0.1.3)\n",
      "Requirement already satisfied: psutil in ./mlproject/lib/python3.9/site-packages (from ipykernel->jupyter->tensorflow-object-detection-api) (5.9.4)\n",
      "Requirement already satisfied: nest-asyncio in ./mlproject/lib/python3.9/site-packages (from ipykernel->jupyter->tensorflow-object-detection-api) (1.5.6)\n",
      "Requirement already satisfied: ipython>=7.23.1 in ./mlproject/lib/python3.9/site-packages (from ipykernel->jupyter->tensorflow-object-detection-api) (8.6.0)\n",
      "Requirement already satisfied: matplotlib-inline>=0.1 in ./mlproject/lib/python3.9/site-packages (from ipykernel->jupyter->tensorflow-object-detection-api) (0.1.6)\n",
      "Requirement already satisfied: tornado>=6.1 in ./mlproject/lib/python3.9/site-packages (from ipykernel->jupyter->tensorflow-object-detection-api) (6.2)\n",
      "Requirement already satisfied: pyzmq>=17 in ./mlproject/lib/python3.9/site-packages (from ipykernel->jupyter->tensorflow-object-detection-api) (24.0.1)\n",
      "Requirement already satisfied: jupyter-client>=6.1.12 in ./mlproject/lib/python3.9/site-packages (from ipykernel->jupyter->tensorflow-object-detection-api) (7.4.4)\n",
      "Requirement already satisfied: traitlets>=5.1.0 in ./mlproject/lib/python3.9/site-packages (from ipykernel->jupyter->tensorflow-object-detection-api) (5.5.0)\n",
      "Requirement already satisfied: debugpy>=1.0 in ./mlproject/lib/python3.9/site-packages (from ipykernel->jupyter->tensorflow-object-detection-api) (1.6.3)\n",
      "Collecting widgetsnbextension~=4.0\n",
      "  Downloading widgetsnbextension-4.0.3-py3-none-any.whl (2.0 MB)\n",
      "\u001b[2K     \u001b[90m━━━━━━━━━━━━━━━━━━━━━━━━━━━━━━━━━━━━━━━━\u001b[0m \u001b[32m2.0/2.0 MB\u001b[0m \u001b[31m1.9 MB/s\u001b[0m eta \u001b[36m0:00:00\u001b[0m00:01\u001b[0m00:01\u001b[0m\n",
      "\u001b[?25hCollecting jupyterlab-widgets~=3.0\n",
      "  Downloading jupyterlab_widgets-3.0.3-py3-none-any.whl (384 kB)\n",
      "\u001b[2K     \u001b[90m━━━━━━━━━━━━━━━━━━━━━━━━━━━━━━━━━━━━━\u001b[0m \u001b[32m384.1/384.1 kB\u001b[0m \u001b[31m903.7 kB/s\u001b[0m eta \u001b[36m0:00:00\u001b[0m00:01\u001b[0m00:01\u001b[0m\n",
      "\u001b[?25hRequirement already satisfied: prompt-toolkit!=3.0.0,!=3.0.1,<3.1.0,>=2.0.0 in ./mlproject/lib/python3.9/site-packages (from jupyter-console->jupyter->tensorflow-object-detection-api) (3.0.32)\n",
      "Collecting nbformat>=5.1\n",
      "  Downloading nbformat-5.7.0-py3-none-any.whl (77 kB)\n",
      "\u001b[2K     \u001b[90m━━━━━━━━━━━━━━━━━━━━━━━━━━━━━━━━━━━━━━━━\u001b[0m \u001b[32m77.1/77.1 kB\u001b[0m \u001b[31m1.3 MB/s\u001b[0m eta \u001b[36m0:00:00\u001b[0ma \u001b[36m0:00:01\u001b[0m\n",
      "\u001b[?25hCollecting pandocfilters>=1.4.1\n",
      "  Downloading pandocfilters-1.5.0-py2.py3-none-any.whl (8.7 kB)\n",
      "Collecting jupyterlab-pygments\n",
      "  Downloading jupyterlab_pygments-0.2.2-py2.py3-none-any.whl (21 kB)\n",
      "Collecting nbclient>=0.5.0\n",
      "  Downloading nbclient-0.7.0-py3-none-any.whl (71 kB)\n",
      "\u001b[2K     \u001b[90m━━━━━━━━━━━━━━━━━━━━━━━━━━━━━━━━━━━━━━━━\u001b[0m \u001b[32m71.9/71.9 kB\u001b[0m \u001b[31m2.1 MB/s\u001b[0m eta \u001b[36m0:00:00\u001b[0m\n",
      "\u001b[?25hCollecting jinja2>=3.0\n",
      "  Downloading Jinja2-3.1.2-py3-none-any.whl (133 kB)\n",
      "\u001b[2K     \u001b[90m━━━━━━━━━━━━━━━━━━━━━━━━━━━━━━━━━━━━━━━\u001b[0m \u001b[32m133.1/133.1 kB\u001b[0m \u001b[31m1.7 MB/s\u001b[0m eta \u001b[36m0:00:00\u001b[0ma \u001b[36m0:00:01\u001b[0m\n",
      "\u001b[?25hRequirement already satisfied: jupyter-core>=4.7 in ./mlproject/lib/python3.9/site-packages (from nbconvert->jupyter->tensorflow-object-detection-api) (5.0.0)\n",
      "Collecting markupsafe>=2.0\n",
      "  Downloading MarkupSafe-2.1.1-cp39-cp39-macosx_10_9_x86_64.whl (13 kB)\n",
      "Collecting tinycss2\n",
      "  Downloading tinycss2-1.2.1-py3-none-any.whl (21 kB)\n",
      "Collecting mistune<3,>=2.0.3\n",
      "  Downloading mistune-2.0.4-py2.py3-none-any.whl (24 kB)\n",
      "Collecting defusedxml\n",
      "  Downloading defusedxml-0.7.1-py2.py3-none-any.whl (25 kB)\n",
      "Collecting beautifulsoup4\n",
      "  Downloading beautifulsoup4-4.11.1-py3-none-any.whl (128 kB)\n",
      "\u001b[2K     \u001b[90m━━━━━━━━━━━━━━━━━━━━━━━━━━━━━━━━━━━━━━━\u001b[0m \u001b[32m128.2/128.2 kB\u001b[0m \u001b[31m1.7 MB/s\u001b[0m eta \u001b[36m0:00:00\u001b[0ma \u001b[36m0:00:01\u001b[0m\n",
      "\u001b[?25hCollecting argon2-cffi\n",
      "  Downloading argon2_cffi-21.3.0-py3-none-any.whl (14 kB)\n",
      "Collecting ipython-genutils\n",
      "  Downloading ipython_genutils-0.2.0-py2.py3-none-any.whl (26 kB)\n",
      "Collecting terminado>=0.8.3\n",
      "  Downloading terminado-0.17.0-py3-none-any.whl (16 kB)\n",
      "Collecting Send2Trash>=1.8.0\n",
      "  Downloading Send2Trash-1.8.0-py3-none-any.whl (18 kB)\n",
      "Collecting nbclassic>=0.4.7\n",
      "  Downloading nbclassic-0.4.8-py3-none-any.whl (9.8 MB)\n",
      "\u001b[2K     \u001b[90m━━━━━━━━━━━━━━━━━━━━━━━━━━━━━━━━━━━━━━━━\u001b[0m \u001b[32m9.8/9.8 MB\u001b[0m \u001b[31m2.4 MB/s\u001b[0m eta \u001b[36m0:00:00\u001b[0m00:01\u001b[0m00:01\u001b[0m\n",
      "\u001b[?25hCollecting prometheus-client\n",
      "  Downloading prometheus_client-0.15.0-py3-none-any.whl (60 kB)\n",
      "\u001b[2K     \u001b[90m━━━━━━━━━━━━━━━━━━━━━━━━━━━━━━━━━━━━━━━━\u001b[0m \u001b[32m60.1/60.1 kB\u001b[0m \u001b[31m1.4 MB/s\u001b[0m eta \u001b[36m0:00:00\u001b[0ma \u001b[36m0:00:01\u001b[0m\n",
      "\u001b[?25hCollecting qtpy>=2.0.1\n",
      "  Downloading QtPy-2.3.0-py3-none-any.whl (83 kB)\n",
      "\u001b[2K     \u001b[90m━━━━━━━━━━━━━━━━━━━━━━━━━━━━━━━━━━━━━━━━\u001b[0m \u001b[32m83.6/83.6 kB\u001b[0m \u001b[31m1.6 MB/s\u001b[0m eta \u001b[36m0:00:00\u001b[0m\n",
      "\u001b[?25hCollecting webencodings\n",
      "  Downloading webencodings-0.5.1-py2.py3-none-any.whl (11 kB)\n",
      "Collecting rsa<5,>=3.1.4\n",
      "  Downloading rsa-4.9-py3-none-any.whl (34 kB)\n",
      "Collecting pyasn1-modules>=0.2.1\n",
      "  Downloading pyasn1_modules-0.2.8-py2.py3-none-any.whl (155 kB)\n",
      "\u001b[2K     \u001b[90m━━━━━━━━━━━━━━━━━━━━━━━━━━━━━━━━━━━━━━━\u001b[0m \u001b[32m155.3/155.3 kB\u001b[0m \u001b[31m1.7 MB/s\u001b[0m eta \u001b[36m0:00:00\u001b[0m00:01\u001b[0m00:01\u001b[0m\n",
      "\u001b[?25hCollecting cachetools<6.0,>=2.0.0\n",
      "  Downloading cachetools-5.2.0-py3-none-any.whl (9.3 kB)\n",
      "Collecting requests-oauthlib>=0.7.0\n",
      "  Using cached requests_oauthlib-1.3.1-py2.py3-none-any.whl (23 kB)\n",
      "Requirement already satisfied: backcall in ./mlproject/lib/python3.9/site-packages (from ipython>=7.23.1->ipykernel->jupyter->tensorflow-object-detection-api) (0.2.0)\n",
      "Requirement already satisfied: stack-data in ./mlproject/lib/python3.9/site-packages (from ipython>=7.23.1->ipykernel->jupyter->tensorflow-object-detection-api) (0.6.0)\n",
      "Requirement already satisfied: jedi>=0.16 in ./mlproject/lib/python3.9/site-packages (from ipython>=7.23.1->ipykernel->jupyter->tensorflow-object-detection-api) (0.18.1)\n",
      "Requirement already satisfied: decorator in ./mlproject/lib/python3.9/site-packages (from ipython>=7.23.1->ipykernel->jupyter->tensorflow-object-detection-api) (5.1.1)\n",
      "Requirement already satisfied: pickleshare in ./mlproject/lib/python3.9/site-packages (from ipython>=7.23.1->ipykernel->jupyter->tensorflow-object-detection-api) (0.7.5)\n",
      "Requirement already satisfied: pexpect>4.3 in ./mlproject/lib/python3.9/site-packages (from ipython>=7.23.1->ipykernel->jupyter->tensorflow-object-detection-api) (4.8.0)\n",
      "Requirement already satisfied: entrypoints in ./mlproject/lib/python3.9/site-packages (from jupyter-client>=6.1.12->ipykernel->jupyter->tensorflow-object-detection-api) (0.4)\n",
      "Requirement already satisfied: platformdirs in ./mlproject/lib/python3.9/site-packages (from jupyter-core>=4.7->nbconvert->jupyter->tensorflow-object-detection-api) (2.5.3)\n",
      "Collecting jupyter-server>=1.8\n",
      "  Downloading jupyter_server-1.23.2-py3-none-any.whl (346 kB)\n"
     ]
    },
    {
     "name": "stdout",
     "output_type": "stream",
     "text": [
      "\u001b[2K     \u001b[90m━━━━━━━━━━━━━━━━━━━━━━━━━━━━━━━━━━━━━━━\u001b[0m \u001b[32m346.4/346.4 kB\u001b[0m \u001b[31m2.2 MB/s\u001b[0m eta \u001b[36m0:00:00\u001b[0ma \u001b[36m0:00:01\u001b[0m\n",
      "\u001b[?25hCollecting notebook-shim>=0.1.0\n",
      "  Downloading notebook_shim-0.2.2-py3-none-any.whl (13 kB)\n",
      "Collecting fastjsonschema\n",
      "  Downloading fastjsonschema-2.16.2-py3-none-any.whl (22 kB)\n",
      "Collecting jsonschema>=2.6\n",
      "  Downloading jsonschema-4.17.0-py3-none-any.whl (83 kB)\n",
      "\u001b[2K     \u001b[90m━━━━━━━━━━━━━━━━━━━━━━━━━━━━━━━━━━━━━━━━\u001b[0m \u001b[32m83.8/83.8 kB\u001b[0m \u001b[31m1.5 MB/s\u001b[0m eta \u001b[36m0:00:00\u001b[0m00:01\u001b[0m\n",
      "\u001b[?25hRequirement already satisfied: wcwidth in ./mlproject/lib/python3.9/site-packages (from prompt-toolkit!=3.0.0,!=3.0.1,<3.1.0,>=2.0.0->jupyter-console->jupyter->tensorflow-object-detection-api) (0.2.5)\n",
      "Requirement already satisfied: ptyprocess in ./mlproject/lib/python3.9/site-packages (from terminado>=0.8.3->notebook->jupyter->tensorflow-object-detection-api) (0.7.0)\n",
      "Collecting argon2-cffi-bindings\n",
      "  Downloading argon2_cffi_bindings-21.2.0-cp38-abi3-macosx_10_9_universal2.whl (53 kB)\n",
      "\u001b[2K     \u001b[90m━━━━━━━━━━━━━━━━━━━━━━━━━━━━━━━━━━━━━━━━\u001b[0m \u001b[32m53.1/53.1 kB\u001b[0m \u001b[31m1.4 MB/s\u001b[0m eta \u001b[36m0:00:00\u001b[0m\n",
      "\u001b[?25hCollecting soupsieve>1.2\n",
      "  Downloading soupsieve-2.3.2.post1-py3-none-any.whl (37 kB)\n",
      "Collecting more-itertools\n",
      "  Downloading more_itertools-9.0.0-py3-none-any.whl (52 kB)\n",
      "\u001b[2K     \u001b[90m━━━━━━━━━━━━━━━━━━━━━━━━━━━━━━━━━━━━━━━━\u001b[0m \u001b[32m52.8/52.8 kB\u001b[0m \u001b[31m1.2 MB/s\u001b[0m eta \u001b[36m0:00:00\u001b[0m\n",
      "\u001b[?25hRequirement already satisfied: parso<0.9.0,>=0.8.0 in ./mlproject/lib/python3.9/site-packages (from jedi>=0.16->ipython>=7.23.1->ipykernel->jupyter->tensorflow-object-detection-api) (0.8.3)\n",
      "Collecting attrs>=17.4.0\n",
      "  Downloading attrs-22.1.0-py2.py3-none-any.whl (58 kB)\n",
      "\u001b[2K     \u001b[90m━━━━━━━━━━━━━━━━━━━━━━━━━━━━━━━━━━━━━━━━\u001b[0m \u001b[32m58.8/58.8 kB\u001b[0m \u001b[31m1.1 MB/s\u001b[0m eta \u001b[36m0:00:00\u001b[0ma \u001b[36m0:00:01\u001b[0m\n",
      "\u001b[?25hCollecting pyrsistent!=0.17.0,!=0.17.1,!=0.17.2,>=0.14.0\n",
      "  Downloading pyrsistent-0.19.2-cp39-cp39-macosx_10_9_universal2.whl (82 kB)\n",
      "\u001b[2K     \u001b[90m━━━━━━━━━━━━━━━━━━━━━━━━━━━━━━━━━━━━━━━━\u001b[0m \u001b[32m82.5/82.5 kB\u001b[0m \u001b[31m1.3 MB/s\u001b[0m eta \u001b[36m0:00:00\u001b[0m00:01\u001b[0m\n",
      "\u001b[?25hCollecting websocket-client\n",
      "  Downloading websocket_client-1.4.2-py3-none-any.whl (55 kB)\n",
      "\u001b[2K     \u001b[90m━━━━━━━━━━━━━━━━━━━━━━━━━━━━━━━━━━━━━━━━\u001b[0m \u001b[32m55.3/55.3 kB\u001b[0m \u001b[31m1.5 MB/s\u001b[0m eta \u001b[36m0:00:00\u001b[0m\n",
      "\u001b[?25hCollecting anyio<4,>=3.1.0\n",
      "  Downloading anyio-3.6.2-py3-none-any.whl (80 kB)\n",
      "\u001b[2K     \u001b[90m━━━━━━━━━━━━━━━━━━━━━━━━━━━━━━━━━━━━━━━━\u001b[0m \u001b[32m80.6/80.6 kB\u001b[0m \u001b[31m2.7 MB/s\u001b[0m eta \u001b[36m0:00:00\u001b[0m\n",
      "\u001b[?25hCollecting pyasn1<0.5.0,>=0.4.6\n",
      "  Downloading pyasn1-0.4.8-py2.py3-none-any.whl (77 kB)\n",
      "\u001b[2K     \u001b[90m━━━━━━━━━━━━━━━━━━━━━━━━━━━━━━━━━━━━━━━━\u001b[0m \u001b[32m77.1/77.1 kB\u001b[0m \u001b[31m2.6 MB/s\u001b[0m eta \u001b[36m0:00:00\u001b[0m\n",
      "\u001b[?25hCollecting oauthlib>=3.0.0\n",
      "  Using cached oauthlib-3.2.2-py3-none-any.whl (151 kB)\n",
      "Collecting cffi>=1.0.1\n",
      "  Downloading cffi-1.15.1-cp39-cp39-macosx_10_9_x86_64.whl (179 kB)\n",
      "\u001b[2K     \u001b[90m━━━━━━━━━━━━━━━━━━━━━━━━━━━━━━━━━━━━━━━\u001b[0m \u001b[32m179.2/179.2 kB\u001b[0m \u001b[31m2.3 MB/s\u001b[0m eta \u001b[36m0:00:00\u001b[0ma \u001b[36m0:00:01\u001b[0m\n",
      "\u001b[?25hRequirement already satisfied: executing>=1.2.0 in ./mlproject/lib/python3.9/site-packages (from stack-data->ipython>=7.23.1->ipykernel->jupyter->tensorflow-object-detection-api) (1.2.0)\n",
      "Requirement already satisfied: asttokens>=2.1.0 in ./mlproject/lib/python3.9/site-packages (from stack-data->ipython>=7.23.1->ipykernel->jupyter->tensorflow-object-detection-api) (2.1.0)\n",
      "Requirement already satisfied: pure-eval in ./mlproject/lib/python3.9/site-packages (from stack-data->ipython>=7.23.1->ipykernel->jupyter->tensorflow-object-detection-api) (0.2.2)\n",
      "Collecting sniffio>=1.1\n",
      "  Downloading sniffio-1.3.0-py3-none-any.whl (10 kB)\n",
      "Collecting pycparser\n",
      "  Downloading pycparser-2.21-py2.py3-none-any.whl (118 kB)\n",
      "\u001b[2K     \u001b[90m━━━━━━━━━━━━━━━━━━━━━━━━━━━━━━━━━━━━━━━\u001b[0m \u001b[32m118.7/118.7 kB\u001b[0m \u001b[31m1.8 MB/s\u001b[0m eta \u001b[36m0:00:00\u001b[0ma \u001b[36m0:00:01\u001b[0m\n",
      "\u001b[?25hInstalling collected packages: webencodings, tensorboard-plugin-wit, Send2Trash, pyasn1, mistune, libclang, ipython-genutils, flatbuffers, fastjsonschema, commonmark, zipp, wrapt, widgetsnbextension, wheel, websocket-client, urllib3, typing-extensions, tinycss2, terminado, termcolor, tensorflow-io-gcs-filesystem, tensorflow-estimator, tensorboard-data-server, soupsieve, sniffio, rsa, rich, rfc3986, pyrsistent, pycparser, pyasn1-modules, Protobuf, prometheus-client, pkginfo, Pillow, pandocfilters, opt-einsum, oauthlib, more-itertools, markupsafe, kiwisolver, keras, jupyterlab-widgets, jupyterlab-pygments, idna, h5py, grpcio, google-pasta, gast, fonttools, docutils, defusedxml, Cython, cycler, contourpy, contextlib2, charset-normalizer, certifi, cachetools, bleach, attrs, absl-py, werkzeug, requests, readme-renderer, qtpy, matplotlib, jsonschema, jinja2, jaraco.classes, importlib-metadata, google-auth, cffi, beautifulsoup4, astunparse, anyio, requests-toolbelt, requests-oauthlib, nbformat, markdown, keyring, argon2-cffi-bindings, twine, nbclient, google-auth-oauthlib, argon2-cffi, tensorboard, qtconsole, nbconvert, jupyter-console, ipywidgets, tensorflow, jupyter-server, notebook-shim, nbclassic, notebook, jupyter, tensorflow-object-detection-api\n",
      "Successfully installed Cython-0.29.32 Pillow-9.3.0 Protobuf-3.19.6 Send2Trash-1.8.0 absl-py-1.3.0 anyio-3.6.2 argon2-cffi-21.3.0 argon2-cffi-bindings-21.2.0 astunparse-1.6.3 attrs-22.1.0 beautifulsoup4-4.11.1 bleach-5.0.1 cachetools-5.2.0 certifi-2022.9.24 cffi-1.15.1 charset-normalizer-2.1.1 commonmark-0.9.1 contextlib2-21.6.0 contourpy-1.0.6 cycler-0.11.0 defusedxml-0.7.1 docutils-0.19 fastjsonschema-2.16.2 flatbuffers-22.10.26 fonttools-4.38.0 gast-0.4.0 google-auth-2.14.1 google-auth-oauthlib-0.4.6 google-pasta-0.2.0 grpcio-1.50.0 h5py-3.7.0 idna-3.4 importlib-metadata-5.0.0 ipython-genutils-0.2.0 ipywidgets-8.0.2 jaraco.classes-3.2.3 jinja2-3.1.2 jsonschema-4.17.0 jupyter-1.0.0 jupyter-console-6.4.4 jupyter-server-1.23.2 jupyterlab-pygments-0.2.2 jupyterlab-widgets-3.0.3 keras-2.11.0 keyring-23.11.0 kiwisolver-1.4.4 libclang-14.0.6 markdown-3.4.1 markupsafe-2.1.1 matplotlib-3.6.2 mistune-2.0.4 more-itertools-9.0.0 nbclassic-0.4.8 nbclient-0.7.0 nbconvert-7.2.5 nbformat-5.7.0 notebook-6.5.2 notebook-shim-0.2.2 oauthlib-3.2.2 opt-einsum-3.3.0 pandocfilters-1.5.0 pkginfo-1.8.3 prometheus-client-0.15.0 pyasn1-0.4.8 pyasn1-modules-0.2.8 pycparser-2.21 pyrsistent-0.19.2 qtconsole-5.4.0 qtpy-2.3.0 readme-renderer-37.3 requests-2.28.1 requests-oauthlib-1.3.1 requests-toolbelt-0.10.1 rfc3986-2.0.0 rich-12.6.0 rsa-4.9 sniffio-1.3.0 soupsieve-2.3.2.post1 tensorboard-2.11.0 tensorboard-data-server-0.6.1 tensorboard-plugin-wit-1.8.1 tensorflow-2.11.0 tensorflow-estimator-2.11.0 tensorflow-io-gcs-filesystem-0.27.0 tensorflow-object-detection-api-0.1.1 termcolor-2.1.1 terminado-0.17.0 tinycss2-1.2.1 twine-4.0.1 typing-extensions-4.4.0 urllib3-1.26.12 webencodings-0.5.1 websocket-client-1.4.2 werkzeug-2.2.2 wheel-0.38.4 widgetsnbextension-4.0.3 wrapt-1.14.1 zipp-3.10.0\n"
     ]
    }
   ],
   "source": [
    "!pip install tensorflow-object-detection-api"
   ]
  },
  {
   "cell_type": "code",
   "execution_count": 11,
   "metadata": {},
   "outputs": [],
   "source": [
    "import object_detection\n"
   ]
  },
  {
   "cell_type": "code",
   "execution_count": 12,
   "metadata": {
    "scrolled": true
   },
   "outputs": [
    {
     "name": "stdout",
     "output_type": "stream",
     "text": [
      "Package                         Version\n",
      "------------------------------- -----------\n",
      "absl-py                         1.3.0\n",
      "anyio                           3.6.2\n",
      "appnope                         0.1.3\n",
      "argon2-cffi                     21.3.0\n",
      "argon2-cffi-bindings            21.2.0\n",
      "asttokens                       2.1.0\n",
      "astunparse                      1.6.3\n",
      "attrs                           22.1.0\n",
      "backcall                        0.2.0\n",
      "beautifulsoup4                  4.11.1\n",
      "bleach                          5.0.1\n",
      "cachetools                      5.2.0\n",
      "certifi                         2022.9.24\n",
      "cffi                            1.15.1\n",
      "charset-normalizer              2.1.1\n",
      "commonmark                      0.9.1\n",
      "contextlib2                     21.6.0\n",
      "contourpy                       1.0.6\n",
      "cycler                          0.11.0\n",
      "Cython                          0.29.32\n",
      "debugpy                         1.6.3\n",
      "decorator                       5.1.1\n",
      "defusedxml                      0.7.1\n",
      "docutils                        0.19\n",
      "entrypoints                     0.4\n",
      "executing                       1.2.0\n",
      "fastjsonschema                  2.16.2\n",
      "flatbuffers                     22.10.26\n",
      "fonttools                       4.38.0\n",
      "gast                            0.4.0\n",
      "google-auth                     2.14.1\n",
      "google-auth-oauthlib            0.4.6\n",
      "google-pasta                    0.2.0\n",
      "grpcio                          1.50.0\n",
      "h5py                            3.7.0\n",
      "idna                            3.4\n",
      "importlib-metadata              5.0.0\n",
      "ipykernel                       6.17.1\n",
      "ipython                         8.6.0\n",
      "ipython-genutils                0.2.0\n",
      "ipywidgets                      8.0.2\n",
      "jaraco.classes                  3.2.3\n",
      "jedi                            0.18.1\n",
      "Jinja2                          3.1.2\n",
      "jsonschema                      4.17.0\n",
      "jupyter                         1.0.0\n",
      "jupyter_client                  7.4.4\n",
      "jupyter-console                 6.4.4\n",
      "jupyter_core                    5.0.0\n",
      "jupyter-server                  1.23.2\n",
      "jupyterlab-pygments             0.2.2\n",
      "jupyterlab-widgets              3.0.3\n",
      "keras                           2.11.0\n",
      "keyring                         23.11.0\n",
      "kiwisolver                      1.4.4\n",
      "libclang                        14.0.6\n",
      "lxml                            4.9.1\n",
      "Markdown                        3.4.1\n",
      "MarkupSafe                      2.1.1\n",
      "matplotlib                      3.6.2\n",
      "matplotlib-inline               0.1.6\n",
      "mistune                         2.0.4\n",
      "more-itertools                  9.0.0\n",
      "nbclassic                       0.4.8\n",
      "nbclient                        0.7.0\n",
      "nbconvert                       7.2.5\n",
      "nbformat                        5.7.0\n",
      "nest-asyncio                    1.5.6\n",
      "notebook                        6.5.2\n",
      "notebook_shim                   0.2.2\n",
      "numpy                           1.23.4\n",
      "oauthlib                        3.2.2\n",
      "opencv-python                   4.6.0.66\n",
      "opt-einsum                      3.3.0\n",
      "packaging                       21.3\n",
      "pandocfilters                   1.5.0\n",
      "parso                           0.8.3\n",
      "pexpect                         4.8.0\n",
      "pickleshare                     0.7.5\n",
      "Pillow                          9.3.0\n",
      "pip                             22.3.1\n",
      "pkginfo                         1.8.3\n",
      "platformdirs                    2.5.3\n",
      "prometheus-client               0.15.0\n",
      "prompt-toolkit                  3.0.32\n",
      "protobuf                        3.19.6\n",
      "psutil                          5.9.4\n",
      "ptyprocess                      0.7.0\n",
      "pure-eval                       0.2.2\n",
      "pyasn1                          0.4.8\n",
      "pyasn1-modules                  0.2.8\n",
      "pycparser                       2.21\n",
      "Pygments                        2.13.0\n",
      "pyparsing                       3.0.9\n",
      "PyQt5                           5.15.7\n",
      "PyQt5-Qt5                       5.15.2\n",
      "PyQt5-sip                       12.11.0\n",
      "pyrsistent                      0.19.2\n",
      "python-dateutil                 2.8.2\n",
      "pyzmq                           24.0.1\n",
      "qtconsole                       5.4.0\n",
      "QtPy                            2.3.0\n",
      "readme-renderer                 37.3\n",
      "requests                        2.28.1\n",
      "requests-oauthlib               1.3.1\n",
      "requests-toolbelt               0.10.1\n",
      "rfc3986                         2.0.0\n",
      "rich                            12.6.0\n",
      "rsa                             4.9\n",
      "Send2Trash                      1.8.0\n",
      "setuptools                      58.1.0\n",
      "six                             1.16.0\n",
      "sniffio                         1.3.0\n",
      "soupsieve                       2.3.2.post1\n",
      "stack-data                      0.6.0\n",
      "tensorboard                     2.11.0\n",
      "tensorboard-data-server         0.6.1\n",
      "tensorboard-plugin-wit          1.8.1\n",
      "tensorflow                      2.11.0\n",
      "tensorflow-estimator            2.11.0\n",
      "tensorflow-io-gcs-filesystem    0.27.0\n",
      "tensorflow-object-detection-api 0.1.1\n",
      "termcolor                       2.1.1\n",
      "terminado                       0.17.0\n",
      "tinycss2                        1.2.1\n",
      "tornado                         6.2\n",
      "traitlets                       5.5.0\n",
      "twine                           4.0.1\n",
      "typing_extensions               4.4.0\n",
      "urllib3                         1.26.12\n",
      "wcwidth                         0.2.5\n",
      "webencodings                    0.5.1\n",
      "websocket-client                1.4.2\n",
      "Werkzeug                        2.2.2\n",
      "wheel                           0.38.4\n",
      "widgetsnbextension              4.0.3\n",
      "wrapt                           1.14.1\n",
      "zipp                            3.10.0\n"
     ]
    }
   ],
   "source": [
    "!pip list"
   ]
  },
  {
   "cell_type": "code",
   "execution_count": 9,
   "metadata": {
    "colab": {
     "base_uri": "https://localhost:8080/"
    },
    "id": "csofht2npfDE",
    "outputId": "ff5471b2-bed2-43f2-959c-327a706527b6"
   },
   "outputs": [
    {
     "name": "stdout",
     "output_type": "stream",
     "text": [
      "--2022-11-23 18:27:32--  http://download.tensorflow.org/models/object_detection/tf2/20200711/ssd_mobilenet_v2_fpnlite_320x320_coco17_tpu-8.tar.gz\n",
      "Resolving download.tensorflow.org (download.tensorflow.org)... 142.250.193.48\n",
      "Connecting to download.tensorflow.org (download.tensorflow.org)|142.250.193.48|:80... connected.\n",
      "HTTP request sent, awaiting response... 200 OK\n",
      "Length: 20515344 (20M) [application/x-tar]\n",
      "Saving to: 'ssd_mobilenet_v2_fpnlite_320x320_coco17_tpu-8.tar.gz'\n",
      "\n",
      "ssd_mobilenet_v2_fp 100%[===================>]  19.56M   898KB/s    in 27s     \n",
      "\n",
      "2022-11-23 18:28:00 (745 KB/s) - 'ssd_mobilenet_v2_fpnlite_320x320_coco17_tpu-8.tar.gz' saved [20515344/20515344]\n",
      "\n",
      "x ssd_mobilenet_v2_fpnlite_320x320_coco17_tpu-8/\n",
      "x ssd_mobilenet_v2_fpnlite_320x320_coco17_tpu-8/checkpoint/\n",
      "x ssd_mobilenet_v2_fpnlite_320x320_coco17_tpu-8/checkpoint/ckpt-0.data-00000-of-00001\n",
      "x ssd_mobilenet_v2_fpnlite_320x320_coco17_tpu-8/checkpoint/checkpoint\n",
      "x ssd_mobilenet_v2_fpnlite_320x320_coco17_tpu-8/checkpoint/ckpt-0.index\n",
      "x ssd_mobilenet_v2_fpnlite_320x320_coco17_tpu-8/pipeline.config\n",
      "x ssd_mobilenet_v2_fpnlite_320x320_coco17_tpu-8/saved_model/\n",
      "x ssd_mobilenet_v2_fpnlite_320x320_coco17_tpu-8/saved_model/saved_model.pb\n",
      "x ssd_mobilenet_v2_fpnlite_320x320_coco17_tpu-8/saved_model/variables/\n",
      "x ssd_mobilenet_v2_fpnlite_320x320_coco17_tpu-8/saved_model/variables/variables.data-00000-of-00001\n",
      "x ssd_mobilenet_v2_fpnlite_320x320_coco17_tpu-8/saved_model/variables/variables.index\n"
     ]
    }
   ],
   "source": [
    "if os.name =='posix':\n",
    "    !wget {PRETRAINED_MODEL_URL}\n",
    "    !mv {PRETRAINED_MODEL_NAME+'.tar.gz'} {paths['PRETRAINED_MODEL_PATH']}\n",
    "    !cd {paths['PRETRAINED_MODEL_PATH']} && tar -zxvf {PRETRAINED_MODEL_NAME+'.tar.gz'}\n",
    "if os.name == 'nt':\n",
    "    wget.download(PRETRAINED_MODEL_URL)\n",
    "    !move {PRETRAINED_MODEL_NAME+'.tar.gz'} {paths['PRETRAINED_MODEL_PATH']}\n",
    "    !cd {paths['PRETRAINED_MODEL_PATH']} && tar -zxvf {PRETRAINED_MODEL_NAME+'.tar.gz'}"
   ]
  },
  {
   "cell_type": "markdown",
   "metadata": {
    "id": "M5KJTnkfpfDC"
   },
   "source": [
    "# 2. Create Label Map"
   ]
  },
  {
   "cell_type": "code",
   "execution_count": null,
   "metadata": {
    "id": "p1BVDWo7pfDC"
   },
   "outputs": [],
   "source": [
    "labels = [{'name':'ThumbsUp', 'id':1}, {'name':'ThumbsDown', 'id':2}, {'name':'ThankYou', 'id':3}, {'name':'LiveLong', 'id':4}]\n",
    "\n",
    "with open(files['LABELMAP'], 'w') as f:\n",
    "    for label in labels:\n",
    "        f.write('item { \\n')\n",
    "        f.write('\\tname:\\'{}\\'\\n'.format(label['name']))\n",
    "        f.write('\\tid:{}\\n'.format(label['id']))\n",
    "        f.write('}\\n')"
   ]
  },
  {
   "cell_type": "markdown",
   "metadata": {
    "id": "C88zyVELpfDC"
   },
   "source": [
    "# 3. Create TF records"
   ]
  },
  {
   "cell_type": "code",
   "execution_count": null,
   "metadata": {
    "colab": {
     "base_uri": "https://localhost:8080/"
    },
    "id": "kvf5WccwrFGq",
    "outputId": "49902aeb-0bd7-4298-e1a0-5b4a64eb2064"
   },
   "outputs": [],
   "source": [
    "# OPTIONAL IF RUNNING ON COLAB\n",
    "ARCHIVE_FILES = os.path.join(paths['IMAGE_PATH'], 'archive.tar.gz')\n",
    "if os.path.exists(ARCHIVE_FILES):\n",
    "  !tar -zxvf {ARCHIVE_FILES}"
   ]
  },
  {
   "cell_type": "code",
   "execution_count": null,
   "metadata": {
    "colab": {
     "base_uri": "https://localhost:8080/"
    },
    "id": "KWpb_BVUpfDD",
    "outputId": "56ce2a3f-3933-4ee6-8a9d-d5ec65f7d73c"
   },
   "outputs": [],
   "source": [
    "if not os.path.exists(files['TF_RECORD_SCRIPT']):\n",
    "    !git clone https://github.com/nicknochnack/GenerateTFRecord {paths['SCRIPTS_PATH']}"
   ]
  },
  {
   "cell_type": "code",
   "execution_count": null,
   "metadata": {
    "colab": {
     "base_uri": "https://localhost:8080/"
    },
    "id": "UPFToGZqpfDD",
    "outputId": "0ebb456f-aadc-4a1f-96e6-fbfec1923e1c"
   },
   "outputs": [],
   "source": [
    "!python {files['TF_RECORD_SCRIPT']} -x {os.path.join(paths['IMAGE_PATH'], 'train')} -l {files['LABELMAP']} -o {os.path.join(paths['ANNOTATION_PATH'], 'train.record')} \n",
    "!python {files['TF_RECORD_SCRIPT']} -x {os.path.join(paths['IMAGE_PATH'], 'test')} -l {files['LABELMAP']} -o {os.path.join(paths['ANNOTATION_PATH'], 'test.record')} "
   ]
  },
  {
   "cell_type": "markdown",
   "metadata": {
    "id": "qT4QU7pLpfDE"
   },
   "source": [
    "# 4. Copy Model Config to Training Folder"
   ]
  },
  {
   "cell_type": "code",
   "execution_count": null,
   "metadata": {
    "id": "cOjuTFbwpfDF"
   },
   "outputs": [],
   "source": [
    "if os.name =='posix':\n",
    "    !cp {os.path.join(paths['PRETRAINED_MODEL_PATH'], PRETRAINED_MODEL_NAME, 'pipeline.config')} {os.path.join(paths['CHECKPOINT_PATH'])}\n",
    "if os.name == 'nt':\n",
    "    !copy {os.path.join(paths['PRETRAINED_MODEL_PATH'], PRETRAINED_MODEL_NAME, 'pipeline.config')} {os.path.join(paths['CHECKPOINT_PATH'])}"
   ]
  },
  {
   "cell_type": "markdown",
   "metadata": {
    "id": "Ga8gpNslpfDF"
   },
   "source": [
    "# 5. Update Config For Transfer Learning"
   ]
  },
  {
   "cell_type": "code",
   "execution_count": null,
   "metadata": {
    "id": "Z9hRrO_ppfDF"
   },
   "outputs": [],
   "source": [
    "import tensorflow as tf\n",
    "from object_detection.utils import config_util\n",
    "from object_detection.protos import pipeline_pb2\n",
    "from google.protobuf import text_format"
   ]
  },
  {
   "cell_type": "code",
   "execution_count": null,
   "metadata": {
    "id": "c2A0mn4ipfDF"
   },
   "outputs": [],
   "source": [
    "config = config_util.get_configs_from_pipeline_file(files['PIPELINE_CONFIG'])"
   ]
  },
  {
   "cell_type": "code",
   "execution_count": null,
   "metadata": {
    "colab": {
     "base_uri": "https://localhost:8080/"
    },
    "id": "uQA13-afpfDF",
    "outputId": "907496a4-a39d-4b13-8c2c-e5978ecb1f10"
   },
   "outputs": [],
   "source": [
    "config"
   ]
  },
  {
   "cell_type": "code",
   "execution_count": null,
   "metadata": {
    "id": "9vK5lotDpfDF"
   },
   "outputs": [],
   "source": [
    "pipeline_config = pipeline_pb2.TrainEvalPipelineConfig()\n",
    "with tf.io.gfile.GFile(files['PIPELINE_CONFIG'], \"r\") as f:                                                                                                                                                                                                                     \n",
    "    proto_str = f.read()                                                                                                                                                                                                                                          \n",
    "    text_format.Merge(proto_str, pipeline_config)  "
   ]
  },
  {
   "cell_type": "code",
   "execution_count": null,
   "metadata": {
    "id": "rP43Ph0JpfDG"
   },
   "outputs": [],
   "source": [
    "pipeline_config.model.ssd.num_classes = len(labels)\n",
    "pipeline_config.train_config.batch_size = 4\n",
    "pipeline_config.train_config.fine_tune_checkpoint = os.path.join(paths['PRETRAINED_MODEL_PATH'], PRETRAINED_MODEL_NAME, 'checkpoint', 'ckpt-0')\n",
    "pipeline_config.train_config.fine_tune_checkpoint_type = \"detection\"\n",
    "pipeline_config.train_input_reader.label_map_path= files['LABELMAP']\n",
    "pipeline_config.train_input_reader.tf_record_input_reader.input_path[:] = [os.path.join(paths['ANNOTATION_PATH'], 'train.record')]\n",
    "pipeline_config.eval_input_reader[0].label_map_path = files['LABELMAP']\n",
    "pipeline_config.eval_input_reader[0].tf_record_input_reader.input_path[:] = [os.path.join(paths['ANNOTATION_PATH'], 'test.record')]"
   ]
  },
  {
   "cell_type": "code",
   "execution_count": null,
   "metadata": {
    "id": "oJvfgwWqpfDG"
   },
   "outputs": [],
   "source": [
    "config_text = text_format.MessageToString(pipeline_config)                                                                                                                                                                                                        \n",
    "with tf.io.gfile.GFile(files['PIPELINE_CONFIG'], \"wb\") as f:                                                                                                                                                                                                                     \n",
    "    f.write(config_text)   "
   ]
  },
  {
   "cell_type": "markdown",
   "metadata": {
    "id": "Zr3ON7xMpfDG"
   },
   "source": [
    "# 6. Train the model"
   ]
  },
  {
   "cell_type": "code",
   "execution_count": null,
   "metadata": {
    "id": "B-Y2UQmQpfDG"
   },
   "outputs": [],
   "source": [
    "TRAINING_SCRIPT = os.path.join(paths['APIMODEL_PATH'], 'research', 'object_detection', 'model_main_tf2.py')"
   ]
  },
  {
   "cell_type": "code",
   "execution_count": null,
   "metadata": {
    "id": "jMP2XDfQpfDH"
   },
   "outputs": [],
   "source": [
    "command = \"python {} --model_dir={} --pipeline_config_path={} --num_train_steps=2000\".format(TRAINING_SCRIPT, paths['CHECKPOINT_PATH'],files['PIPELINE_CONFIG'])"
   ]
  },
  {
   "cell_type": "code",
   "execution_count": null,
   "metadata": {
    "colab": {
     "base_uri": "https://localhost:8080/"
    },
    "id": "A4OXXi-ApfDH",
    "outputId": "117a0e83-012b-466e-b7a6-ccaa349ac5ab"
   },
   "outputs": [],
   "source": [
    "print(command)"
   ]
  },
  {
   "cell_type": "code",
   "execution_count": null,
   "metadata": {
    "colab": {
     "base_uri": "https://localhost:8080/"
    },
    "id": "i3ZsJR-qpfDH",
    "outputId": "cabec5e1-45e6-4f2f-d9cf-297d9c1d0225"
   },
   "outputs": [],
   "source": [
    "!{command}"
   ]
  },
  {
   "cell_type": "markdown",
   "metadata": {
    "id": "4_YRZu7npfDH"
   },
   "source": [
    "# 7. Evaluate the Model"
   ]
  },
  {
   "cell_type": "code",
   "execution_count": null,
   "metadata": {
    "id": "80L7-fdPpfDH"
   },
   "outputs": [],
   "source": [
    "command = \"python {} --model_dir={} --pipeline_config_path={} --checkpoint_dir={}\".format(TRAINING_SCRIPT, paths['CHECKPOINT_PATH'],files['PIPELINE_CONFIG'], paths['CHECKPOINT_PATH'])"
   ]
  },
  {
   "cell_type": "code",
   "execution_count": null,
   "metadata": {
    "colab": {
     "base_uri": "https://localhost:8080/"
    },
    "id": "lYsgEPx9pfDH",
    "outputId": "8632d48b-91d2-45d9-bcb8-c1b172bf6eed"
   },
   "outputs": [],
   "source": [
    "print(command)"
   ]
  },
  {
   "cell_type": "code",
   "execution_count": null,
   "metadata": {
    "id": "lqTV2jGBpfDH"
   },
   "outputs": [],
   "source": [
    "!{command}"
   ]
  },
  {
   "cell_type": "markdown",
   "metadata": {
    "id": "orvRk02UpfDI"
   },
   "source": [
    "# 8. Load Train Model From Checkpoint"
   ]
  },
  {
   "cell_type": "code",
   "execution_count": null,
   "metadata": {
    "id": "8TYk4_oIpfDI"
   },
   "outputs": [],
   "source": [
    "import os\n",
    "import tensorflow as tf\n",
    "from object_detection.utils import label_map_util\n",
    "from object_detection.utils import visualization_utils as viz_utils\n",
    "from object_detection.builders import model_builder\n",
    "from object_detection.utils import config_util"
   ]
  },
  {
   "cell_type": "code",
   "execution_count": null,
   "metadata": {
    "id": "tDnQg-cYpfDI"
   },
   "outputs": [],
   "source": [
    "# Load pipeline config and build a detection model\n",
    "configs = config_util.get_configs_from_pipeline_file(files['PIPELINE_CONFIG'])\n",
    "detection_model = model_builder.build(model_config=configs['model'], is_training=False)\n",
    "\n",
    "# Restore checkpoint\n",
    "ckpt = tf.compat.v2.train.Checkpoint(model=detection_model)\n",
    "ckpt.restore(os.path.join(paths['CHECKPOINT_PATH'], 'ckpt-5')).expect_partial()\n",
    "\n",
    "@tf.function\n",
    "def detect_fn(image):\n",
    "    image, shapes = detection_model.preprocess(image)\n",
    "    prediction_dict = detection_model.predict(image, shapes)\n",
    "    detections = detection_model.postprocess(prediction_dict, shapes)\n",
    "    return detections"
   ]
  },
  {
   "cell_type": "markdown",
   "metadata": {
    "id": "0EmsmbBZpfDI"
   },
   "source": [
    "# 9. Detect from an Image"
   ]
  },
  {
   "cell_type": "code",
   "execution_count": null,
   "metadata": {
    "id": "Y_MKiuZ4pfDI"
   },
   "outputs": [],
   "source": [
    "import cv2 \n",
    "import numpy as np\n",
    "from matplotlib import pyplot as plt\n",
    "%matplotlib inline"
   ]
  },
  {
   "cell_type": "code",
   "execution_count": null,
   "metadata": {
    "id": "cBDbIhNapfDI"
   },
   "outputs": [],
   "source": [
    "category_index = label_map_util.create_category_index_from_labelmap(files['LABELMAP'])"
   ]
  },
  {
   "cell_type": "code",
   "execution_count": null,
   "metadata": {
    "id": "Lx3crOhOzITB"
   },
   "outputs": [],
   "source": [
    "IMAGE_PATH = os.path.join(paths['IMAGE_PATH'], 'test', 'livelong.02533422-940e-11eb-9dbd-5cf3709bbcc6.jpg')"
   ]
  },
  {
   "cell_type": "code",
   "execution_count": null,
   "metadata": {
    "colab": {
     "base_uri": "https://localhost:8080/",
     "height": 269
    },
    "id": "Tpzn1SMry1yK",
    "outputId": "c392a2c5-10fe-4fc4-9998-a1d4c7db2bd3"
   },
   "outputs": [],
   "source": [
    "img = cv2.imread(IMAGE_PATH)\n",
    "image_np = np.array(img)\n",
    "\n",
    "input_tensor = tf.convert_to_tensor(np.expand_dims(image_np, 0), dtype=tf.float32)\n",
    "detections = detect_fn(input_tensor)\n",
    "\n",
    "num_detections = int(detections.pop('num_detections'))\n",
    "detections = {key: value[0, :num_detections].numpy()\n",
    "              for key, value in detections.items()}\n",
    "detections['num_detections'] = num_detections\n",
    "\n",
    "# detection_classes should be ints.\n",
    "detections['detection_classes'] = detections['detection_classes'].astype(np.int64)\n",
    "\n",
    "label_id_offset = 1\n",
    "image_np_with_detections = image_np.copy()\n",
    "\n",
    "viz_utils.visualize_boxes_and_labels_on_image_array(\n",
    "            image_np_with_detections,\n",
    "            detections['detection_boxes'],\n",
    "            detections['detection_classes']+label_id_offset,\n",
    "            detections['detection_scores'],\n",
    "            category_index,\n",
    "            use_normalized_coordinates=True,\n",
    "            max_boxes_to_draw=5,\n",
    "            min_score_thresh=.8,\n",
    "            agnostic_mode=False)\n",
    "\n",
    "plt.imshow(cv2.cvtColor(image_np_with_detections, cv2.COLOR_BGR2RGB))\n",
    "plt.show()"
   ]
  },
  {
   "cell_type": "markdown",
   "metadata": {
    "id": "IsNAaYAo0WVL"
   },
   "source": [
    "# 10. Real Time Detections from your Webcam"
   ]
  },
  {
   "cell_type": "code",
   "execution_count": null,
   "metadata": {},
   "outputs": [],
   "source": [
    "!pip uninstall opencv-python-headless -y"
   ]
  },
  {
   "cell_type": "code",
   "execution_count": null,
   "metadata": {
    "id": "o_grs6OGpfDJ"
   },
   "outputs": [],
   "source": [
    "cap = cv2.VideoCapture(0)\n",
    "width = int(cap.get(cv2.CAP_PROP_FRAME_WIDTH))\n",
    "height = int(cap.get(cv2.CAP_PROP_FRAME_HEIGHT))\n",
    "\n",
    "while cap.isOpened(): \n",
    "    ret, frame = cap.read()\n",
    "    image_np = np.array(frame)\n",
    "    \n",
    "    input_tensor = tf.convert_to_tensor(np.expand_dims(image_np, 0), dtype=tf.float32)\n",
    "    detections = detect_fn(input_tensor)\n",
    "    \n",
    "    num_detections = int(detections.pop('num_detections'))\n",
    "    detections = {key: value[0, :num_detections].numpy()\n",
    "                  for key, value in detections.items()}\n",
    "    detections['num_detections'] = num_detections\n",
    "\n",
    "    # detection_classes should be ints.\n",
    "    detections['detection_classes'] = detections['detection_classes'].astype(np.int64)\n",
    "\n",
    "    label_id_offset = 1\n",
    "    image_np_with_detections = image_np.copy()\n",
    "\n",
    "    viz_utils.visualize_boxes_and_labels_on_image_array(\n",
    "                image_np_with_detections,\n",
    "                detections['detection_boxes'],\n",
    "                detections['detection_classes']+label_id_offset,\n",
    "                detections['detection_scores'],\n",
    "                category_index,\n",
    "                use_normalized_coordinates=True,\n",
    "                max_boxes_to_draw=5,\n",
    "                min_score_thresh=.8,\n",
    "                agnostic_mode=False)\n",
    "\n",
    "    cv2.imshow('object detection',  cv2.resize(image_np_with_detections, (800, 600)))\n",
    "    \n",
    "    if cv2.waitKey(10) & 0xFF == ord('q'):\n",
    "        cap.release()\n",
    "        cv2.destroyAllWindows()\n",
    "        break"
   ]
  },
  {
   "cell_type": "markdown",
   "metadata": {
    "id": "rzlM4jt0pfDJ"
   },
   "source": [
    "# 10. Freezing the Graph"
   ]
  },
  {
   "cell_type": "code",
   "execution_count": null,
   "metadata": {
    "id": "n4olHB2npfDJ"
   },
   "outputs": [],
   "source": [
    "FREEZE_SCRIPT = os.path.join(paths['APIMODEL_PATH'], 'research', 'object_detection', 'exporter_main_v2.py ')"
   ]
  },
  {
   "cell_type": "code",
   "execution_count": null,
   "metadata": {
    "id": "0AjO93QDpfDJ"
   },
   "outputs": [],
   "source": [
    "command = \"python {} --input_type=image_tensor --pipeline_config_path={} --trained_checkpoint_dir={} --output_directory={}\".format(FREEZE_SCRIPT ,files['PIPELINE_CONFIG'], paths['CHECKPOINT_PATH'], paths['OUTPUT_PATH'])"
   ]
  },
  {
   "cell_type": "code",
   "execution_count": null,
   "metadata": {
    "colab": {
     "base_uri": "https://localhost:8080/"
    },
    "id": "F6Lsp3tCpfDJ",
    "outputId": "c3828529-bf06-4df5-d7f3-145890ec3edd"
   },
   "outputs": [],
   "source": [
    "print(command)"
   ]
  },
  {
   "cell_type": "code",
   "execution_count": null,
   "metadata": {
    "colab": {
     "base_uri": "https://localhost:8080/"
    },
    "id": "1Sw1ULgHpfDJ",
    "outputId": "6fd441e1-9fc9-4889-d072-3395c21e40b6"
   },
   "outputs": [],
   "source": [
    "!{command}"
   ]
  },
  {
   "cell_type": "markdown",
   "metadata": {
    "id": "wTPmdqaXpfDK"
   },
   "source": [
    "# 11. Conversion to TFJS"
   ]
  },
  {
   "cell_type": "code",
   "execution_count": null,
   "metadata": {
    "colab": {
     "base_uri": "https://localhost:8080/"
    },
    "id": "gZ6UzY_fpfDK",
    "outputId": "0c84722e-1c2b-4002-d857-80827ade828a",
    "scrolled": true
   },
   "outputs": [],
   "source": [
    "!pip install tensorflowjs"
   ]
  },
  {
   "cell_type": "code",
   "execution_count": null,
   "metadata": {
    "id": "0oxbVynHpfDK"
   },
   "outputs": [],
   "source": [
    "command = \"tensorflowjs_converter --input_format=tf_saved_model --output_node_names='detection_boxes,detection_classes,detection_features,detection_multiclass_scores,detection_scores,num_detections,raw_detection_boxes,raw_detection_scores' --output_format=tfjs_graph_model --signature_name=serving_default {} {}\".format(os.path.join(paths['OUTPUT_PATH'], 'saved_model'), paths['TFJS_PATH'])"
   ]
  },
  {
   "cell_type": "code",
   "execution_count": null,
   "metadata": {
    "colab": {
     "base_uri": "https://localhost:8080/"
    },
    "id": "DB2AGNmJpfDK",
    "outputId": "fbc9f747-f511-47e8-df8f-5ea65cef0374"
   },
   "outputs": [],
   "source": [
    "print(command)"
   ]
  },
  {
   "cell_type": "code",
   "execution_count": null,
   "metadata": {
    "colab": {
     "base_uri": "https://localhost:8080/"
    },
    "id": "K7rfT4-hpfDK",
    "outputId": "532707fd-6feb-4bc6-84a3-325b5d16303c"
   },
   "outputs": [],
   "source": [
    "!{command}"
   ]
  },
  {
   "cell_type": "code",
   "execution_count": null,
   "metadata": {
    "id": "o8_hm-itpfDK"
   },
   "outputs": [],
   "source": [
    "# Test Code: https://github.com/nicknochnack/RealTimeSignLanguageDetectionwithTFJS"
   ]
  },
  {
   "cell_type": "markdown",
   "metadata": {
    "id": "VtUw73FHpfDK"
   },
   "source": [
    "# 12. Conversion to TFLite"
   ]
  },
  {
   "cell_type": "code",
   "execution_count": null,
   "metadata": {
    "id": "XviMtewLpfDK"
   },
   "outputs": [],
   "source": [
    "TFLITE_SCRIPT = os.path.join(paths['APIMODEL_PATH'], 'research', 'object_detection', 'export_tflite_graph_tf2.py ')"
   ]
  },
  {
   "cell_type": "code",
   "execution_count": null,
   "metadata": {
    "id": "us86cjC4pfDL"
   },
   "outputs": [],
   "source": [
    "command = \"python {} --pipeline_config_path={} --trained_checkpoint_dir={} --output_directory={}\".format(TFLITE_SCRIPT ,files['PIPELINE_CONFIG'], paths['CHECKPOINT_PATH'], paths['TFLITE_PATH'])"
   ]
  },
  {
   "cell_type": "code",
   "execution_count": null,
   "metadata": {
    "colab": {
     "base_uri": "https://localhost:8080/"
    },
    "id": "n1r5YO3rpfDL",
    "outputId": "5fcdf7a4-eee2-4365-f1ca-1751968379ea"
   },
   "outputs": [],
   "source": [
    "print(command)"
   ]
  },
  {
   "cell_type": "code",
   "execution_count": null,
   "metadata": {
    "colab": {
     "base_uri": "https://localhost:8080/"
    },
    "id": "I-xWpHN8pfDL",
    "outputId": "7f6bacd8-d077-43b5-c131-5b081fba24a4"
   },
   "outputs": [],
   "source": [
    "!{command}"
   ]
  },
  {
   "cell_type": "code",
   "execution_count": null,
   "metadata": {
    "id": "iJfYMbN6pfDL"
   },
   "outputs": [],
   "source": [
    "FROZEN_TFLITE_PATH = os.path.join(paths['TFLITE_PATH'], 'saved_model')\n",
    "TFLITE_MODEL = os.path.join(paths['TFLITE_PATH'], 'saved_model', 'detect.tflite')"
   ]
  },
  {
   "cell_type": "code",
   "execution_count": null,
   "metadata": {},
   "outputs": [],
   "source": [
    "command = \"tflite_convert \\\n",
    "--saved_model_dir={} \\\n",
    "--output_file={} \\\n",
    "--input_shapes=1,300,300,3 \\\n",
    "--input_arrays=normalized_input_image_tensor \\\n",
    "--output_arrays='TFLite_Detection_PostProcess','TFLite_Detection_PostProcess:1','TFLite_Detection_PostProcess:2','TFLite_Detection_PostProcess:3' \\\n",
    "--inference_type=FLOAT \\\n",
    "--allow_custom_ops\".format(FROZEN_TFLITE_PATH, TFLITE_MODEL, )"
   ]
  },
  {
   "cell_type": "code",
   "execution_count": null,
   "metadata": {
    "colab": {
     "base_uri": "https://localhost:8080/"
    },
    "id": "E8GwUeoFpfDL",
    "outputId": "fac43ea4-cc85-471b-a362-e994b06fd583"
   },
   "outputs": [],
   "source": [
    "print(command)"
   ]
  },
  {
   "cell_type": "code",
   "execution_count": null,
   "metadata": {
    "colab": {
     "base_uri": "https://localhost:8080/"
    },
    "id": "Nbd7gqHMpfDL",
    "outputId": "7c8fe6d5-2415-4641-8548-39d425c202f7"
   },
   "outputs": [],
   "source": [
    "!{command}"
   ]
  },
  {
   "cell_type": "markdown",
   "metadata": {
    "id": "5NQqZRdA21Uc"
   },
   "source": [
    "# 13. Zip and Export Models "
   ]
  },
  {
   "cell_type": "code",
   "execution_count": null,
   "metadata": {
    "id": "tTVTGCQp2ZJJ"
   },
   "outputs": [],
   "source": [
    "!tar -czf models.tar.gz {paths['CHECKPOINT_PATH']}"
   ]
  },
  {
   "cell_type": "code",
   "execution_count": null,
   "metadata": {
    "colab": {
     "base_uri": "https://localhost:8080/"
    },
    "id": "whShhB0x3PYJ",
    "outputId": "b773201d-35c9-46a8-b893-4a76bd4d5d97"
   },
   "outputs": [],
   "source": [
    "from google.colab import drive\n",
    "drive.mount('/content/drive')"
   ]
  }
 ],
 "metadata": {
  "accelerator": "GPU",
  "colab": {
   "name": "3. Training and Detection.ipynb",
   "provenance": []
  },
  "kernelspec": {
   "display_name": "mlproject",
   "language": "python",
   "name": "mlproject"
  },
  "language_info": {
   "codemirror_mode": {
    "name": "ipython",
    "version": 3
   },
   "file_extension": ".py",
   "mimetype": "text/x-python",
   "name": "python",
   "nbconvert_exporter": "python",
   "pygments_lexer": "ipython3",
   "version": "3.9.12"
  }
 },
 "nbformat": 4,
 "nbformat_minor": 1
}
